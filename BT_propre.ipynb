{
 "cells": [
  {
   "cell_type": "code",
   "execution_count": 2,
   "metadata": {},
   "outputs": [],
   "source": [
    "import os \n",
    "from ctypes import * # read the functions from the cdb\n",
    "from sofistik_daten import * ##importer les classes sofistik\n",
    "import numpy as np\n",
    "import pandas as pd\n",
    "import plotly.graph_objects as go\n",
    "from shapely.geometry import *\n"
   ]
  },
  {
   "cell_type": "markdown",
   "metadata": {},
   "source": [
    "# Strut and Tie generation using Sofistik"
   ]
  },
  {
   "cell_type": "markdown",
   "metadata": {},
   "source": [
    "## I. Connection to the CDB"
   ]
  },
  {
   "cell_type": "markdown",
   "metadata": {},
   "source": [
    "Use Sofistik library : https://docs.sofistik.com/2024/en/cdb_interfaces/python/examples/python_example1.html"
   ]
  },
  {
   "cell_type": "code",
   "execution_count": 3,
   "metadata": {},
   "outputs": [
    {
     "name": "stdout",
     "output_type": "stream",
     "text": [
      "CDB opened successfully, CDB Status = 3\n",
      "CDB closed successfully, CDB Status = 0\n"
     ]
    }
   ],
   "source": [
    "# Set DLL dir path\n",
    "# os.add_dll_directory(r\"C:\\Program Files\\SOFiSTiK\\2024\\SOFiSTiK 2024\\interfaces\\64bit\")\n",
    "os.add_dll_directory(r\"C:\\Program Files\\SOFiSTiK\\2024\\SOFiSTiK 2024\")\n",
    "\n",
    "# Get the DLL functions\n",
    "myDLL = cdll.LoadLibrary(\"sof_cdb_w-2024.dll\")\n",
    "py_sof_cdb_get = cdll.LoadLibrary(\"sof_cdb_w-2024.dll\").sof_cdb_get\n",
    "py_sof_cdb_get.restype = c_int\n",
    "py_sof_cdb_kenq = cdll.LoadLibrary(\"sof_cdb_w-2024.dll\").sof_cdb_kenq_ex\n",
    "\n",
    "def open_cdb(fileName):\n",
    "\n",
    "    # Connect to CDB\n",
    "    Index = c_int()\n",
    "    cdbIndex = 99\n",
    "\n",
    "    # important: Unicode call!\n",
    "    Index.value = myDLL.sof_cdb_init(fileName.encode('utf8'), cdbIndex)\n",
    "\n",
    "    # get the CDB status\n",
    "    cdbStat = c_int()\n",
    "    cdbStat.value = myDLL.sof_cdb_status(Index.value)\n",
    "\n",
    "    # Print the Status of the CDB\n",
    "    print (\"CDB opened successfully, CDB Status =\", cdbStat.value)\n",
    "\n",
    "    return cdbStat, Index\n",
    "\n",
    "def close_cdb(cdbStat, Index):\n",
    "\n",
    "    myDLL = cdll.LoadLibrary(\"sof_cdb_w-2024.dll\")\n",
    "    # Close the CDB, 0 - will close all the files\n",
    "    myDLL.sof_cdb_close(0)\n",
    "    \n",
    "    # Print again the status of the CDB, if status = 0 -> CDB Closed successfully\n",
    "    cdbStat.value = myDLL.sof_cdb_status(Index.value)\n",
    "    if cdbStat.value == 0:\n",
    "        print (\"CDB closed successfully, CDB Status = 0\")\n",
    "\n",
    "fileName=r\"sofistik_cdb\\b.cdb\"\n",
    "\n",
    "cdbStat, Index=open_cdb(fileName) \n",
    "close_cdb(cdbStat, Index)\n",
    "    "
   ]
  },
  {
   "cell_type": "markdown",
   "metadata": {},
   "source": [
    "<span style=\"background-color: darkred; font-size:24px;\">cdbStat</span> : C'est une variable qui sert à vérifier le statut de chaque opération sur la base de données. Elle est utile pour s'assurer que chaque étape (ouverture, fermeture, lecture) s'est déroulée correctement, et elle permet de diagnostiquer les erreurs éventuelles.\n",
    "\n",
    "<span style=\"background-color: darkred;font-size:24px;\">Index</span> : C'est un identifiant unique qui permet de manipuler la base de données CDB tout au long du programme. Il est utilisé pour garder une trace de la connexion à la CDB et est nécessaire pour les opérations de lecture et d'écriture."
   ]
  },
  {
   "cell_type": "markdown",
   "metadata": {},
   "source": [
    "## II. Accéder aux forces dans les éléments du maillage"
   ]
  },
  {
   "cell_type": "code",
   "execution_count": 18,
   "metadata": {},
   "outputs": [
    {
     "name": "stdout",
     "output_type": "stream",
     "text": [
      "CDB opened successfully, CDB Status = 3\n",
      "CDB closed successfully, CDB Status = 0\n"
     ]
    }
   ],
   "source": [
    "# Function to read nodal forces using CN_DISP structure and store in a list\n",
    "def quad_forces(fileName):\n",
    "    cdbStat,Index=open_cdb(fileName)\n",
    "    ie = c_int(0)\n",
    "    RecLen = c_int(sizeof(CQUAD_FOR))  # Size of the displacement and forces structure\n",
    "    forces = CQUAD_FOR()  # Instance of the displacement and forces structure\n",
    "    forces_data = []  # List to store forces for each \n",
    "\n",
    "    while ie.value < 2:\n",
    "        ie.value = py_sof_cdb_get(Index, 210, 1, byref(forces), byref(RecLen), 1)\n",
    "\n",
    "        if ie.value == 0:  # No error, data was read\n",
    "            forces_data.append({\n",
    "                \"quad_number\": forces.m_nr,   # Quad number\n",
    "                \"mxx\": forces.m_mxx,          # Bending moment mxx\n",
    "                \"myy\": forces.m_myy,          # Bending moment myy\n",
    "                \"mxy\": forces.m_mxy,          # Bending moment mxy\n",
    "                \"vx\": forces.m_vx,            # Shear force vx\n",
    "                \"vy\": forces.m_vy,            # Shear force vy\n",
    "                \"nx\": forces.m_nx,            # Membrane force nx\n",
    "                \"ny\": forces.m_ny,            # Membrane force ny\n",
    "                \"nxy\": forces.m_nxy           # Membrane force nxy\n",
    "            })\n",
    "        \n",
    "        # Always reset RecLen before the next sof_cdb_get call\n",
    "        RecLen = c_int(sizeof(CQUAD_FOR))\n",
    "    close_cdb(cdbStat, Index)\n",
    "    return forces_data  # Return the list with all the forces data\n",
    "\n",
    "def forces_to_pd(forces_list):\n",
    "    return pd.DataFrame(forces_list)\n",
    "\n",
    "def membran_forces(df_forces):\n",
    "    df_membran_forces=df_forces[['quad_number','nx','ny','nxy']]\n",
    "    df_membran_forces = df_membran_forces.iloc[2:].reset_index(drop=True) ##Supprimer les deux premières lignes qui ne donnent pas la bonne information\n",
    "    return df_membran_forces\n",
    "\n",
    "# Example of usage\n",
    "fileName = r\"sofistik_cdb\\b.cdb\"\n",
    "df_membran_forces = membran_forces(forces_to_pd(quad_forces(fileName)))"
   ]
  },
  {
   "cell_type": "code",
   "execution_count": 10,
   "metadata": {},
   "outputs": [
    {
     "data": {
      "text/html": [
       "<div>\n",
       "<style scoped>\n",
       "    .dataframe tbody tr th:only-of-type {\n",
       "        vertical-align: middle;\n",
       "    }\n",
       "\n",
       "    .dataframe tbody tr th {\n",
       "        vertical-align: top;\n",
       "    }\n",
       "\n",
       "    .dataframe thead th {\n",
       "        text-align: right;\n",
       "    }\n",
       "</style>\n",
       "<table border=\"1\" class=\"dataframe\">\n",
       "  <thead>\n",
       "    <tr style=\"text-align: right;\">\n",
       "      <th></th>\n",
       "      <th>quad_number</th>\n",
       "      <th>nx</th>\n",
       "      <th>ny</th>\n",
       "      <th>nxy</th>\n",
       "    </tr>\n",
       "  </thead>\n",
       "  <tbody>\n",
       "    <tr>\n",
       "      <th>0</th>\n",
       "      <td>20001</td>\n",
       "      <td>-5.888048</td>\n",
       "      <td>-19.540747</td>\n",
       "      <td>-22.777464</td>\n",
       "    </tr>\n",
       "    <tr>\n",
       "      <th>1</th>\n",
       "      <td>20002</td>\n",
       "      <td>-2.871248</td>\n",
       "      <td>-31.321043</td>\n",
       "      <td>-23.620758</td>\n",
       "    </tr>\n",
       "    <tr>\n",
       "      <th>2</th>\n",
       "      <td>20003</td>\n",
       "      <td>-1.245961</td>\n",
       "      <td>-32.178619</td>\n",
       "      <td>-17.236378</td>\n",
       "    </tr>\n",
       "    <tr>\n",
       "      <th>3</th>\n",
       "      <td>20004</td>\n",
       "      <td>-3.722728</td>\n",
       "      <td>-22.488720</td>\n",
       "      <td>-19.172930</td>\n",
       "    </tr>\n",
       "    <tr>\n",
       "      <th>4</th>\n",
       "      <td>20005</td>\n",
       "      <td>33.643772</td>\n",
       "      <td>0.065014</td>\n",
       "      <td>1.881605</td>\n",
       "    </tr>\n",
       "    <tr>\n",
       "      <th>...</th>\n",
       "      <td>...</td>\n",
       "      <td>...</td>\n",
       "      <td>...</td>\n",
       "      <td>...</td>\n",
       "    </tr>\n",
       "    <tr>\n",
       "      <th>285</th>\n",
       "      <td>20286</td>\n",
       "      <td>-3.715370</td>\n",
       "      <td>-7.800370</td>\n",
       "      <td>7.062850</td>\n",
       "    </tr>\n",
       "    <tr>\n",
       "      <th>286</th>\n",
       "      <td>20287</td>\n",
       "      <td>-6.273705</td>\n",
       "      <td>-5.901103</td>\n",
       "      <td>7.507652</td>\n",
       "    </tr>\n",
       "    <tr>\n",
       "      <th>287</th>\n",
       "      <td>20288</td>\n",
       "      <td>-2.582406</td>\n",
       "      <td>-26.801802</td>\n",
       "      <td>19.760466</td>\n",
       "    </tr>\n",
       "    <tr>\n",
       "      <th>288</th>\n",
       "      <td>20289</td>\n",
       "      <td>-2.137352</td>\n",
       "      <td>-23.699650</td>\n",
       "      <td>15.294311</td>\n",
       "    </tr>\n",
       "    <tr>\n",
       "      <th>289</th>\n",
       "      <td>20290</td>\n",
       "      <td>-1.026587</td>\n",
       "      <td>-30.672516</td>\n",
       "      <td>14.742538</td>\n",
       "    </tr>\n",
       "  </tbody>\n",
       "</table>\n",
       "<p>290 rows × 4 columns</p>\n",
       "</div>"
      ],
      "text/plain": [
       "     quad_number         nx         ny        nxy\n",
       "0          20001  -5.888048 -19.540747 -22.777464\n",
       "1          20002  -2.871248 -31.321043 -23.620758\n",
       "2          20003  -1.245961 -32.178619 -17.236378\n",
       "3          20004  -3.722728 -22.488720 -19.172930\n",
       "4          20005  33.643772   0.065014   1.881605\n",
       "..           ...        ...        ...        ...\n",
       "285        20286  -3.715370  -7.800370   7.062850\n",
       "286        20287  -6.273705  -5.901103   7.507652\n",
       "287        20288  -2.582406 -26.801802  19.760466\n",
       "288        20289  -2.137352 -23.699650  15.294311\n",
       "289        20290  -1.026587 -30.672516  14.742538\n",
       "\n",
       "[290 rows x 4 columns]"
      ]
     },
     "execution_count": 10,
     "metadata": {},
     "output_type": "execute_result"
    }
   ],
   "source": [
    "df_membran_forces"
   ]
  },
  {
   "cell_type": "markdown",
   "metadata": {},
   "source": [
    "## III. Maillage"
   ]
  },
  {
   "cell_type": "markdown",
   "metadata": {},
   "source": [
    "On désire visualiser le maillage qu'on obtient sur Sofistik, puis visualiser les forces dans chaque maille."
   ]
  },
  {
   "cell_type": "code",
   "execution_count": 21,
   "metadata": {},
   "outputs": [
    {
     "name": "stdout",
     "output_type": "stream",
     "text": [
      "CDB opened successfully, CDB Status = 3\n",
      "CDB closed successfully, CDB Status = 0\n"
     ]
    },
    {
     "data": {
      "application/vnd.plotly.v1+json": {
       "config": {
        "plotlyServerURL": "https://plot.ly"
       },
       "data": [
        {
         "line": {
          "color": "blue",
          "width": 2
         },
         "mode": "lines",
         "showlegend": false,
         "type": "scatter",
         "x": [
          4.184881210327148,
          4.380903720855713,
          4.484766006469727,
          4.35438346862793,
          4.184881210327148
         ],
         "y": [
          0.8321652412414551,
          0.665602445602417,
          0.7816742062568665,
          0.93611079454422,
          0.8321652412414551
         ]
        },
        {
         "line": {
          "color": "blue",
          "width": 2
         },
         "mode": "lines",
         "showlegend": false,
         "type": "scatter",
         "x": [
          4.380903720855713,
          4.529269695281982,
          4.605403900146484,
          4.484766006469727,
          4.380903720855713
         ],
         "y": [
          0.665602445602417,
          0.5404736399650574,
          0.6484557390213013,
          0.7816742062568665,
          0.665602445602417
         ]
        },
        {
         "line": {
          "color": "blue",
          "width": 2
         },
         "mode": "lines",
         "showlegend": false,
         "type": "scatter",
         "x": [
          4.605403900146484,
          4.72461462020874,
          4.598024845123291,
          4.484766006469727,
          4.605403900146484
         ],
         "y": [
          0.6484557390213013,
          0.7577979564666748,
          0.8661877512931824,
          0.7816742062568665,
          0.6484557390213013
         ]
        },
        {
         "line": {
          "color": "blue",
          "width": 2
         },
         "mode": "lines",
         "showlegend": false,
         "type": "scatter",
         "x": [
          4.598024845123291,
          4.499637603759766,
          4.35438346862793,
          4.484766006469727,
          4.598024845123291
         ],
         "y": [
          0.8661877512931824,
          1.0052365064620972,
          0.93611079454422,
          0.7816742062568665,
          0.8661877512931824
         ]
        },
        {
         "line": {
          "color": "blue",
          "width": 2
         },
         "mode": "lines",
         "showlegend": false,
         "type": "scatter",
         "x": [
          1.9366068840026855,
          2.219147205352783,
          2.2291526794433594,
          1.9901713132858276,
          1.9366068840026855
         ],
         "y": [
          0.00018855412781704217,
          0.00021923126769252121,
          0.28612998127937317,
          0.276121586561203,
          0.00018855412781704217
         ]
        },
        {
         "line": {
          "color": "blue",
          "width": 2
         },
         "mode": "lines",
         "showlegend": false,
         "type": "scatter",
         "x": [
          2.219147205352783,
          2.5016872882843018,
          2.495232343673706,
          2.2291526794433594,
          2.219147205352783
         ],
         "y": [
          0.00021923126769252121,
          0.00024990839301608503,
          0.30192285776138306,
          0.28612998127937317,
          0.00021923126769252121
         ]
        },
        {
         "line": {
          "color": "blue",
          "width": 2
         },
         "mode": "lines",
         "showlegend": false,
         "type": "scatter",
         "x": [
          2.495232343673706,
          2.4818246364593506,
          2.2037031650543213,
          2.2291526794433594,
          2.495232343673706
         ],
         "y": [
          0.30192285776138306,
          0.6158626079559326,
          0.5564764738082886,
          0.28612998127937317,
          0.30192285776138306
         ]
        },
        {
         "line": {
          "color": "blue",
          "width": 2
         },
         "mode": "lines",
         "showlegend": false,
         "type": "scatter",
         "x": [
          2.2037031650543213,
          1.9581654071807861,
          1.9901713132858276,
          2.2291526794433594,
          2.2037031650543213
         ],
         "y": [
          0.5564764738082886,
          0.480968713760376,
          0.276121586561203,
          0.28612998127937317,
          0.5564764738082886
         ]
        },
        {
         "line": {
          "color": "blue",
          "width": 2
         },
         "mode": "lines",
         "showlegend": false,
         "type": "scatter",
         "x": [
          0.627141535282135,
          0.5283551812171936,
          0.5565705299377441,
          0.6754037737846375,
          0.627141535282135
         ],
         "y": [
          0.36488497257232666,
          0.25586000084877014,
          0.13838030397891998,
          0.17441172897815704,
          0.36488497257232666
         ]
        },
        {
         "line": {
          "color": "blue",
          "width": 2
         },
         "mode": "lines",
         "showlegend": false,
         "type": "scatter",
         "x": [
          0.5283551812171936,
          0.44784802198410034,
          0.4447828233242035,
          0.5565705299377441,
          0.5283551812171936
         ],
         "y": [
          0.25586000084877014,
          0.17369678616523743,
          0.10014267265796661,
          0.13838030397891998,
          0.25586000084877014
         ]
        },
        {
         "line": {
          "color": "blue",
          "width": 2
         },
         "mode": "lines",
         "showlegend": false,
         "type": "scatter",
         "x": [
          0.4447828233242035,
          0.4152797758579254,
          0.5458481907844543,
          0.5565705299377441,
          0.4447828233242035
         ],
         "y": [
          0.10014267265796661,
          0.000023374253942165524,
          0.00003755087163881399,
          0.13838030397891998,
          0.10014267265796661
         ]
        },
        {
         "line": {
          "color": "blue",
          "width": 2
         },
         "mode": "lines",
         "showlegend": false,
         "type": "scatter",
         "x": [
          0.5458481907844543,
          0.6764165759086609,
          0.6754037737846375,
          0.5565705299377441,
          0.5458481907844543
         ],
         "y": [
          0.00003755087163881399,
          0.00005172748933546245,
          0.17441172897815704,
          0.13838030397891998,
          0.00003755087163881399
         ]
        },
        {
         "line": {
          "color": "blue",
          "width": 2
         },
         "mode": "lines",
         "showlegend": false,
         "type": "scatter",
         "x": [
          0.627141535282135,
          0.6754037737846375,
          0.8145043849945068,
          0.7956831455230713,
          0.627141535282135
         ],
         "y": [
          0.36488497257232666,
          0.17441172897815704,
          0.17493510246276855,
          0.3563489615917206,
          0.36488497257232666
         ]
        },
        {
         "line": {
          "color": "blue",
          "width": 2
         },
         "mode": "lines",
         "showlegend": false,
         "type": "scatter",
         "x": [
          0.6754037737846375,
          0.6764165759086609,
          0.8390675187110901,
          0.8145043849945068,
          0.6754037737846375
         ],
         "y": [
          0.17441172897815704,
          0.00005172748933546245,
          0.0000693875044817105,
          0.17493510246276855,
          0.17441172897815704
         ]
        },
        {
         "line": {
          "color": "blue",
          "width": 2
         },
         "mode": "lines",
         "showlegend": false,
         "type": "scatter",
         "x": [
          0.8390675187110901,
          1.001718521118164,
          0.9756912589073181,
          0.8145043849945068,
          0.8390675187110901
         ],
         "y": [
          0.0000693875044817105,
          0.00008704751962795854,
          0.16414402425289154,
          0.17493510246276855,
          0.0000693875044817105
         ]
        },
        {
         "line": {
          "color": "blue",
          "width": 2
         },
         "mode": "lines",
         "showlegend": false,
         "type": "scatter",
         "x": [
          0.9756912589073181,
          0.9562130570411682,
          0.7956831455230713,
          0.8145043849945068,
          0.9756912589073181
         ],
         "y": [
          0.16414402425289154,
          0.33940842747688293,
          0.3563489615917206,
          0.17493510246276855,
          0.16414402425289154
         ]
        },
        {
         "line": {
          "color": "blue",
          "width": 2
         },
         "mode": "lines",
         "showlegend": false,
         "type": "scatter",
         "x": [
          3.940859079360962,
          3.8619019985198975,
          3.6335062980651855,
          3.6525046825408936,
          3.940859079360962
         ],
         "y": [
          1.4175339937210083,
          1.73337984085083,
          1.7517982721328735,
          1.5292885303497314,
          1.4175339937210083
         ]
        },
        {
         "line": {
          "color": "blue",
          "width": 2
         },
         "mode": "lines",
         "showlegend": false,
         "type": "scatter",
         "x": [
          3.8619019985198975,
          3.8241896629333496,
          3.5748698711395264,
          3.6335062980651855,
          3.8619019985198975
         ],
         "y": [
          1.73337984085083,
          2,
          2,
          1.7517982721328735,
          1.73337984085083
         ]
        },
        {
         "line": {
          "color": "blue",
          "width": 2
         },
         "mode": "lines",
         "showlegend": false,
         "type": "scatter",
         "x": [
          3.5748698711395264,
          3.325550079345703,
          3.378969192504883,
          3.6335062980651855,
          3.5748698711395264
         ],
         "y": [
          2,
          2,
          1.7909590005874634,
          1.7517982721328735,
          2
         ]
        },
        {
         "line": {
          "color": "blue",
          "width": 2
         },
         "mode": "lines",
         "showlegend": false,
         "type": "scatter",
         "x": [
          3.378969192504883,
          3.413848876953125,
          3.6525046825408936,
          3.6335062980651855,
          3.378969192504883
         ],
         "y": [
          1.7909590005874634,
          1.5906689167022705,
          1.5292885303497314,
          1.7517982721328735,
          1.7909590005874634
         ]
        },
        {
         "line": {
          "color": "blue",
          "width": 2
         },
         "mode": "lines",
         "showlegend": false,
         "type": "scatter",
         "x": [
          3.940859079360962,
          4.126584529876709,
          4.0474724769592285,
          3.8619019985198975,
          3.940859079360962
         ],
         "y": [
          1.4175339937210083,
          1.5954294204711914,
          1.7833279371261597,
          1.73337984085083,
          1.4175339937210083
         ]
        },
        {
         "line": {
          "color": "blue",
          "width": 2
         },
         "mode": "lines",
         "showlegend": false,
         "type": "scatter",
         "x": [
          4.126584529876709,
          4.247294902801514,
          4.224693298339844,
          4.0474724769592285,
          4.126584529876709
         ],
         "y": [
          1.5954294204711914,
          1.7250137329101562,
          1.845983624458313,
          1.7833279371261597,
          1.5954294204711914
         ]
        },
        {
         "line": {
          "color": "blue",
          "width": 2
         },
         "mode": "lines",
         "showlegend": false,
         "type": "scatter",
         "x": [
          4.224693298339844,
          4.216902256011963,
          4.020545959472656,
          4.0474724769592285,
          4.224693298339844
         ],
         "y": [
          1.845983624458313,
          2,
          2,
          1.7833279371261597,
          1.845983624458313
         ]
        },
        {
         "line": {
          "color": "blue",
          "width": 2
         },
         "mode": "lines",
         "showlegend": false,
         "type": "scatter",
         "x": [
          4.020545959472656,
          3.8241896629333496,
          3.8619019985198975,
          4.0474724769592285,
          4.020545959472656
         ],
         "y": [
          2,
          2,
          1.73337984085083,
          1.7833279371261597,
          2
         ]
        },
        {
         "line": {
          "color": "blue",
          "width": 2
         },
         "mode": "lines",
         "showlegend": false,
         "type": "scatter",
         "x": [
          1.551755666732788,
          1.8069356679916382,
          2.0429975986480713,
          1.8455408811569214,
          1.551755666732788
         ],
         "y": [
          0.7565462589263916,
          0.6288296580314636,
          0.7485314011573792,
          0.9179932475090027,
          0.7565462589263916
         ]
        },
        {
         "line": {
          "color": "blue",
          "width": 2
         },
         "mode": "lines",
         "showlegend": false,
         "type": "scatter",
         "x": [
          1.8069356679916382,
          1.9581654071807861,
          2.2037031650543213,
          2.0429975986480713,
          1.8069356679916382
         ],
         "y": [
          0.6288296580314636,
          0.480968713760376,
          0.5564764738082886,
          0.7485314011573792,
          0.6288296580314636
         ]
        },
        {
         "line": {
          "color": "blue",
          "width": 2
         },
         "mode": "lines",
         "showlegend": false,
         "type": "scatter",
         "x": [
          2.2037031650543213,
          2.4818246364593506,
          2.29817271232605,
          2.0429975986480713,
          2.2037031650543213
         ],
         "y": [
          0.5564764738082886,
          0.6158626079559326,
          0.8649904727935791,
          0.7485314011573792,
          0.5564764738082886
         ]
        },
        {
         "line": {
          "color": "blue",
          "width": 2
         },
         "mode": "lines",
         "showlegend": false,
         "type": "scatter",
         "x": [
          2.29817271232605,
          2.1369597911834717,
          1.8455408811569214,
          2.0429975986480713,
          2.29817271232605
         ],
         "y": [
          0.8649904727935791,
          1.0944474935531616,
          0.9179932475090027,
          0.7485314011573792,
          0.8649904727935791
         ]
        },
        {
         "line": {
          "color": "blue",
          "width": 2
         },
         "mode": "lines",
         "showlegend": false,
         "type": "scatter",
         "x": [
          2.1369597911834717,
          1.881170392036438,
          1.6543995141983032,
          1.8455408811569214,
          2.1369597911834717
         ],
         "y": [
          1.0944474935531616,
          1.2007673978805542,
          1.0701322555541992,
          0.9179932475090027,
          1.0944474935531616
         ]
        },
        {
         "line": {
          "color": "blue",
          "width": 2
         },
         "mode": "lines",
         "showlegend": false,
         "type": "scatter",
         "x": [
          1.881170392036438,
          1.6893349885940552,
          1.4776769876480103,
          1.6543995141983032,
          1.881170392036438
         ],
         "y": [
          1.2007673978805542,
          1.329845905303955,
          1.2268623113632202,
          1.0701322555541992,
          1.2007673978805542
         ]
        },
        {
         "line": {
          "color": "blue",
          "width": 2
         },
         "mode": "lines",
         "showlegend": false,
         "type": "scatter",
         "x": [
          1.4776769876480103,
          1.2487528324127197,
          1.39943528175354,
          1.6543995141983032,
          1.4776769876480103
         ],
         "y": [
          1.2268623113632202,
          1.1753369569778442,
          0.9716702103614807,
          1.0701322555541992,
          1.2268623113632202
         ]
        },
        {
         "line": {
          "color": "blue",
          "width": 2
         },
         "mode": "lines",
         "showlegend": false,
         "type": "scatter",
         "x": [
          1.39943528175354,
          1.551755666732788,
          1.8455408811569214,
          1.6543995141983032,
          1.39943528175354
         ],
         "y": [
          0.9716702103614807,
          0.7565462589263916,
          0.9179932475090027,
          1.0701322555541992,
          0.9716702103614807
         ]
        },
        {
         "line": {
          "color": "blue",
          "width": 2
         },
         "mode": "lines",
         "showlegend": false,
         "type": "scatter",
         "x": [
          1.551755666732788,
          1.2197847366333008,
          1.1891976594924927,
          1.4259897470474243,
          1.551755666732788
         ],
         "y": [
          0.7565462589263916,
          0.7356423735618591,
          0.5400145649909973,
          0.535866379737854,
          0.7565462589263916
         ]
        },
        {
         "line": {
          "color": "blue",
          "width": 2
         },
         "mode": "lines",
         "showlegend": false,
         "type": "scatter",
         "x": [
          1.2197847366333008,
          0.9549516439437866,
          0.9622323513031006,
          1.1891976594924927,
          1.2197847366333008
         ],
         "y": [
          0.7356423735618591,
          0.7246973514556885,
          0.5287277102470398,
          0.5400145649909973,
          0.7356423735618591
         ]
        },
        {
         "line": {
          "color": "blue",
          "width": 2
         },
         "mode": "lines",
         "showlegend": false,
         "type": "scatter",
         "x": [
          0.9622323513031006,
          0.9562130570411682,
          1.137257695198059,
          1.1891976594924927,
          0.9622323513031006
         ],
         "y": [
          0.5287277102470398,
          0.33940842747688293,
          0.34151342511177063,
          0.5400145649909973,
          0.5287277102470398
         ]
        },
        {
         "line": {
          "color": "blue",
          "width": 2
         },
         "mode": "lines",
         "showlegend": false,
         "type": "scatter",
         "x": [
          1.137257695198059,
          1.3543840646743774,
          1.4259897470474243,
          1.1891976594924927,
          1.137257695198059
         ],
         "y": [
          0.34151342511177063,
          0.3446437418460846,
          0.535866379737854,
          0.5400145649909973,
          0.34151342511177063
         ]
        },
        {
         "line": {
          "color": "blue",
          "width": 2
         },
         "mode": "lines",
         "showlegend": false,
         "type": "scatter",
         "x": [
          1.551755666732788,
          1.39943528175354,
          1.1353398561477661,
          1.2197847366333008,
          1.551755666732788
         ],
         "y": [
          0.7565462589263916,
          0.9716702103614807,
          0.9431365728378296,
          0.7356423735618591,
          0.7565462589263916
         ]
        },
        {
         "line": {
          "color": "blue",
          "width": 2
         },
         "mode": "lines",
         "showlegend": false,
         "type": "scatter",
         "x": [
          1.39943528175354,
          1.2487528324127197,
          1.0133227109909058,
          1.1353398561477661,
          1.39943528175354
         ],
         "y": [
          0.9716702103614807,
          1.1753369569778442,
          1.1578656435012817,
          0.9431365728378296,
          0.9716702103614807
         ]
        },
        {
         "line": {
          "color": "blue",
          "width": 2
         },
         "mode": "lines",
         "showlegend": false,
         "type": "scatter",
         "x": [
          1.0133227109909058,
          0.7919260263442993,
          0.8842635750770569,
          1.1353398561477661,
          1.0133227109909058
         ],
         "y": [
          1.1578656435012817,
          1.1481053829193115,
          0.9308021068572998,
          0.9431365728378296,
          1.1578656435012817
         ]
        },
        {
         "line": {
          "color": "blue",
          "width": 2
         },
         "mode": "lines",
         "showlegend": false,
         "type": "scatter",
         "x": [
          0.8842635750770569,
          0.9549516439437866,
          1.2197847366333008,
          1.1353398561477661,
          0.8842635750770569
         ],
         "y": [
          0.9308021068572998,
          0.7246973514556885,
          0.7356423735618591,
          0.9431365728378296,
          0.9308021068572998
         ]
        },
        {
         "line": {
          "color": "blue",
          "width": 2
         },
         "mode": "lines",
         "showlegend": false,
         "type": "scatter",
         "x": [
          4.43840217590332,
          4.602313995361328,
          4.631857872009277,
          4.483864784240723,
          4.43840217590332
         ],
         "y": [
          1.355120062828064,
          1.392114281654358,
          1.5589481592178345,
          1.5376546382904053,
          1.355120062828064
         ]
        },
        {
         "line": {
          "color": "blue",
          "width": 2
         },
         "mode": "lines",
         "showlegend": false,
         "type": "scatter",
         "x": [
          4.602313995361328,
          4.75515079498291,
          4.76946496963501,
          4.631857872009277,
          4.602313995361328
         ],
         "y": [
          1.392114281654358,
          1.441074013710022,
          1.5914140939712524,
          1.5589481592178345,
          1.392114281654358
         ]
        },
        {
         "line": {
          "color": "blue",
          "width": 2
         },
         "mode": "lines",
         "showlegend": false,
         "type": "scatter",
         "x": [
          4.76946496963501,
          4.782020568847656,
          4.666162967681885,
          4.631857872009277,
          4.76946496963501
         ],
         "y": [
          1.5914140939712524,
          1.734816312789917,
          1.720773696899414,
          1.5589481592178345,
          1.5914140939712524
         ]
        },
        {
         "line": {
          "color": "blue",
          "width": 2
         },
         "mode": "lines",
         "showlegend": false,
         "type": "scatter",
         "x": [
          4.666162967681885,
          4.535280227661133,
          4.483864784240723,
          4.631857872009277,
          4.666162967681885
         ],
         "y": [
          1.720773696899414,
          1.7101585865020752,
          1.5376546382904053,
          1.5589481592178345,
          1.720773696899414
         ]
        },
        {
         "line": {
          "color": "blue",
          "width": 2
         },
         "mode": "lines",
         "showlegend": false,
         "type": "scatter",
         "x": [
          4.535280227661133,
          4.386842727661133,
          4.300418376922607,
          4.483864784240723,
          4.535280227661133
         ],
         "y": [
          1.7101585865020752,
          1.711348533630371,
          1.5402913093566895,
          1.5376546382904053,
          1.7101585865020752
         ]
        },
        {
         "line": {
          "color": "blue",
          "width": 2
         },
         "mode": "lines",
         "showlegend": false,
         "type": "scatter",
         "x": [
          4.386842727661133,
          4.247294902801514,
          4.126584529876709,
          4.300418376922607,
          4.386842727661133
         ],
         "y": [
          1.711348533630371,
          1.7250137329101562,
          1.5954294204711914,
          1.5402913093566895,
          1.711348533630371
         ]
        },
        {
         "line": {
          "color": "blue",
          "width": 2
         },
         "mode": "lines",
         "showlegend": false,
         "type": "scatter",
         "x": [
          4.126584529876709,
          3.940859079360962,
          4.225057601928711,
          4.300418376922607,
          4.126584529876709
         ],
         "y": [
          1.5954294204711914,
          1.4175339937210083,
          1.3516608476638794,
          1.5402913093566895,
          1.5954294204711914
         ]
        },
        {
         "line": {
          "color": "blue",
          "width": 2
         },
         "mode": "lines",
         "showlegend": false,
         "type": "scatter",
         "x": [
          4.225057601928711,
          4.43840217590332,
          4.483864784240723,
          4.300418376922607,
          4.225057601928711
         ],
         "y": [
          1.3516608476638794,
          1.355120062828064,
          1.5376546382904053,
          1.5402913093566895,
          1.3516608476638794
         ]
        },
        {
         "line": {
          "color": "blue",
          "width": 2
         },
         "mode": "lines",
         "showlegend": false,
         "type": "scatter",
         "x": [
          2.1369597911834717,
          2.4489808082580566,
          2.5336923599243164,
          2.271019458770752,
          2.1369597911834717
         ],
         "y": [
          1.0944474935531616,
          1.1492185592651367,
          1.3594499826431274,
          1.352016568183899,
          1.0944474935531616
         ]
        },
        {
         "line": {
          "color": "blue",
          "width": 2
         },
         "mode": "lines",
         "showlegend": false,
         "type": "scatter",
         "x": [
          2.4489808082580566,
          2.6594648361206055,
          2.7669410705566406,
          2.5336923599243164,
          2.4489808082580566
         ],
         "y": [
          1.1492185592651367,
          1.1856552362442017,
          1.3507217168807983,
          1.3594499826431274,
          1.1492185592651367
         ]
        },
        {
         "line": {
          "color": "blue",
          "width": 2
         },
         "mode": "lines",
         "showlegend": false,
         "type": "scatter",
         "x": [
          2.7669410705566406,
          2.911543130874634,
          2.6302239894866943,
          2.5336923599243164,
          2.7669410705566406
         ],
         "y": [
          1.3507217168807983,
          1.556293249130249,
          1.5787913799285889,
          1.3594499826431274,
          1.3507217168807983
         ]
        },
        {
         "line": {
          "color": "blue",
          "width": 2
         },
         "mode": "lines",
         "showlegend": false,
         "type": "scatter",
         "x": [
          2.6302239894866943,
          2.360090732574463,
          2.271019458770752,
          2.5336923599243164,
          2.6302239894866943
         ],
         "y": [
          1.5787913799285889,
          1.5773155689239502,
          1.352016568183899,
          1.3594499826431274,
          1.5787913799285889
         ]
        },
        {
         "line": {
          "color": "blue",
          "width": 2
         },
         "mode": "lines",
         "showlegend": false,
         "type": "scatter",
         "x": [
          2.360090732574463,
          2.1305150985717773,
          2.038115978240967,
          2.271019458770752,
          2.360090732574463
         ],
         "y": [
          1.5773155689239502,
          1.583219289779663,
          1.3851202726364136,
          1.352016568183899,
          1.5773155689239502
         ]
        },
        {
         "line": {
          "color": "blue",
          "width": 2
         },
         "mode": "lines",
         "showlegend": false,
         "type": "scatter",
         "x": [
          2.1305150985717773,
          1.936989188194275,
          1.8386987447738647,
          2.038115978240967,
          2.1305150985717773
         ],
         "y": [
          1.583219289779663,
          1.5932351350784302,
          1.4585894346237183,
          1.3851202726364136,
          1.583219289779663
         ]
        },
        {
         "line": {
          "color": "blue",
          "width": 2
         },
         "mode": "lines",
         "showlegend": false,
         "type": "scatter",
         "x": [
          1.8386987447738647,
          1.6893349885940552,
          1.881170392036438,
          2.038115978240967,
          1.8386987447738647
         ],
         "y": [
          1.4585894346237183,
          1.329845905303955,
          1.2007673978805542,
          1.3851202726364136,
          1.4585894346237183
         ]
        },
        {
         "line": {
          "color": "blue",
          "width": 2
         },
         "mode": "lines",
         "showlegend": false,
         "type": "scatter",
         "x": [
          1.881170392036438,
          2.1369597911834717,
          2.271019458770752,
          2.038115978240967,
          1.881170392036438
         ],
         "y": [
          1.2007673978805542,
          1.0944474935531616,
          1.352016568183899,
          1.3851202726364136,
          1.2007673978805542
         ]
        },
        {
         "line": {
          "color": "blue",
          "width": 2
         },
         "mode": "lines",
         "showlegend": false,
         "type": "scatter",
         "x": [
          5,
          4.893603324890137,
          4.893519878387451,
          5,
          5
         ],
         "y": [
          2,
          2,
          1.8816883563995361,
          1.891655683517456,
          2
         ]
        },
        {
         "line": {
          "color": "blue",
          "width": 2
         },
         "mode": "lines",
         "showlegend": false,
         "type": "scatter",
         "x": [
          4.893603324890137,
          4.787206172943115,
          4.7866692543029785,
          4.893519878387451,
          4.893603324890137
         ],
         "y": [
          2,
          2,
          1.8726979494094849,
          1.8816883563995361,
          2
         ]
        },
        {
         "line": {
          "color": "blue",
          "width": 2
         },
         "mode": "lines",
         "showlegend": false,
         "type": "scatter",
         "x": [
          4.7866692543029785,
          4.782020568847656,
          4.895113468170166,
          4.893519878387451,
          4.7866692543029785
         ],
         "y": [
          1.8726979494094849,
          1.734816312789917,
          1.7575656175613403,
          1.8816883563995361,
          1.8726979494094849
         ]
        },
        {
         "line": {
          "color": "blue",
          "width": 2
         },
         "mode": "lines",
         "showlegend": false,
         "type": "scatter",
         "x": [
          4.895113468170166,
          5,
          5,
          4.893519878387451,
          4.895113468170166
         ],
         "y": [
          1.7575656175613403,
          1.7833114862442017,
          1.891655683517456,
          1.8816883563995361,
          1.7575656175613403
         ]
        },
        {
         "line": {
          "color": "blue",
          "width": 2
         },
         "mode": "lines",
         "showlegend": false,
         "type": "scatter",
         "x": [
          4.782020568847656,
          4.7866692543029785,
          4.666573524475098,
          4.666162967681885,
          4.782020568847656
         ],
         "y": [
          1.734816312789917,
          1.8726979494094849,
          1.864461898803711,
          1.720773696899414,
          1.734816312789917
         ]
        },
        {
         "line": {
          "color": "blue",
          "width": 2
         },
         "mode": "lines",
         "showlegend": false,
         "type": "scatter",
         "x": [
          4.7866692543029785,
          4.787206172943115,
          4.66032075881958,
          4.666573524475098,
          4.7866692543029785
         ],
         "y": [
          1.8726979494094849,
          2,
          2,
          1.864461898803711,
          1.8726979494094849
         ]
        },
        {
         "line": {
          "color": "blue",
          "width": 2
         },
         "mode": "lines",
         "showlegend": false,
         "type": "scatter",
         "x": [
          4.66032075881958,
          4.533434867858887,
          4.543323993682861,
          4.666573524475098,
          4.66032075881958
         ],
         "y": [
          2,
          2,
          1.8604501485824585,
          1.864461898803711,
          2
         ]
        },
        {
         "line": {
          "color": "blue",
          "width": 2
         },
         "mode": "lines",
         "showlegend": false,
         "type": "scatter",
         "x": [
          4.543323993682861,
          4.535280227661133,
          4.666162967681885,
          4.666573524475098,
          4.543323993682861
         ],
         "y": [
          1.8604501485824585,
          1.7101585865020752,
          1.720773696899414,
          1.864461898803711,
          1.8604501485824585
         ]
        },
        {
         "line": {
          "color": "blue",
          "width": 2
         },
         "mode": "lines",
         "showlegend": false,
         "type": "scatter",
         "x": [
          4.805062294006348,
          4.902531147003174,
          4.8997273445129395,
          4.793791770935059,
          4.805062294006348
         ],
         "y": [
          0.0005000000237487257,
          0.0002500000118743628,
          0.09949824213981628,
          0.09455347061157227,
          0.0005000000237487257
         ]
        },
        {
         "line": {
          "color": "blue",
          "width": 2
         },
         "mode": "lines",
         "showlegend": false,
         "type": "scatter",
         "x": [
          4.902531147003174,
          5,
          5,
          4.8997273445129395,
          4.902531147003174
         ],
         "y": [
          0.0002500000118743628,
          0,
          0.1072549894452095,
          0.09949824213981628,
          0.0002500000118743628
         ]
        },
        {
         "line": {
          "color": "blue",
          "width": 2
         },
         "mode": "lines",
         "showlegend": false,
         "type": "scatter",
         "x": [
          5,
          5,
          4.896488189697266,
          4.8997273445129395,
          5
         ],
         "y": [
          0.1072549894452095,
          0.214509978890419,
          0.2028699666261673,
          0.09949824213981628,
          0.1072549894452095
         ]
        },
        {
         "line": {
          "color": "blue",
          "width": 2
         },
         "mode": "lines",
         "showlegend": false,
         "type": "scatter",
         "x": [
          4.896488189697266,
          4.786237716674805,
          4.793791770935059,
          4.8997273445129395,
          4.896488189697266
         ],
         "y": [
          0.2028699666261673,
          0.19695256650447845,
          0.09455347061157227,
          0.09949824213981628,
          0.2028699666261673
         ]
        },
        {
         "line": {
          "color": "blue",
          "width": 2
         },
         "mode": "lines",
         "showlegend": false,
         "type": "scatter",
         "x": [
          0.20000000298023224,
          0.2164989858865738,
          0.10654068738222122,
          0.10000000149011612,
          0.20000000298023224
         ],
         "y": [
          0,
          0.08124599605798721,
          0.09491124004125595,
          0,
          0
         ]
        },
        {
         "line": {
          "color": "blue",
          "width": 2
         },
         "mode": "lines",
         "showlegend": false,
         "type": "scatter",
         "x": [
          0.2164989858865738,
          0.2351664900779724,
          0.11642993986606598,
          0.10654068738222122,
          0.2164989858865738
         ],
         "y": [
          0.08124599605798721,
          0.16964052617549896,
          0.19296982884407043,
          0.09491124004125595,
          0.08124599605798721
         ]
        },
        {
         "line": {
          "color": "blue",
          "width": 2
         },
         "mode": "lines",
         "showlegend": false,
         "type": "scatter",
         "x": [
          0.11642993986606598,
          0,
          0,
          0.10654068738222122,
          0.11642993986606598
         ],
         "y": [
          0.19296982884407043,
          0.22043734788894653,
          0.11021867394447327,
          0.09491124004125595,
          0.19296982884407043
         ]
        },
        {
         "line": {
          "color": "blue",
          "width": 2
         },
         "mode": "lines",
         "showlegend": false,
         "type": "scatter",
         "x": [
          0,
          0,
          0.10000000149011612,
          0.10654068738222122,
          0
         ],
         "y": [
          0.11021867394447327,
          0,
          0,
          0.09491124004125595,
          0.11021867394447327
         ]
        },
        {
         "line": {
          "color": "blue",
          "width": 2
         },
         "mode": "lines",
         "showlegend": false,
         "type": "scatter",
         "x": [
          0,
          0,
          0.12069414556026459,
          0.1063968613743782,
          0
         ],
         "y": [
          2,
          1.8927652835845947,
          1.8765873908996582,
          2,
          2
         ]
        },
        {
         "line": {
          "color": "blue",
          "width": 2
         },
         "mode": "lines",
         "showlegend": false,
         "type": "scatter",
         "x": [
          0,
          0,
          0.13206499814987183,
          0.12069414556026459,
          0
         ],
         "y": [
          1.8927652835845947,
          1.785530686378479,
          1.7527475357055664,
          1.8765873908996582,
          1.8927652835845947
         ]
        },
        {
         "line": {
          "color": "blue",
          "width": 2
         },
         "mode": "lines",
         "showlegend": false,
         "type": "scatter",
         "x": [
          0.13206499814987183,
          0.26228660345077515,
          0.24429811537265778,
          0.12069414556026459,
          0.13206499814987183
         ],
         "y": [
          1.7527475357055664,
          1.7314345836639404,
          1.8628920316696167,
          1.8765873908996582,
          1.7527475357055664
         ]
        },
        {
         "line": {
          "color": "blue",
          "width": 2
         },
         "mode": "lines",
         "showlegend": false,
         "type": "scatter",
         "x": [
          0.24429811537265778,
          0.2127937227487564,
          0.1063968613743782,
          0.12069414556026459,
          0.24429811537265778
         ],
         "y": [
          1.8628920316696167,
          2,
          2,
          1.8765873908996582,
          1.8628920316696167
         ]
        },
        {
         "line": {
          "color": "blue",
          "width": 2
         },
         "mode": "lines",
         "showlegend": false,
         "type": "scatter",
         "x": [
          4.535280227661133,
          4.543323993682861,
          4.391932487487793,
          4.386842727661133,
          4.535280227661133
         ],
         "y": [
          1.7101585865020752,
          1.8604501485824585,
          1.8600409030914307,
          1.711348533630371,
          1.7101585865020752
         ]
        },
        {
         "line": {
          "color": "blue",
          "width": 2
         },
         "mode": "lines",
         "showlegend": false,
         "type": "scatter",
         "x": [
          4.543323993682861,
          4.533434867858887,
          4.375168800354004,
          4.391932487487793,
          4.543323993682861
         ],
         "y": [
          1.8604501485824585,
          2,
          2,
          1.8600409030914307,
          1.8604501485824585
         ]
        },
        {
         "line": {
          "color": "blue",
          "width": 2
         },
         "mode": "lines",
         "showlegend": false,
         "type": "scatter",
         "x": [
          4.375168800354004,
          4.216902256011963,
          4.224693298339844,
          4.391932487487793,
          4.375168800354004
         ],
         "y": [
          2,
          2,
          1.845983624458313,
          1.8600409030914307,
          2
         ]
        },
        {
         "line": {
          "color": "blue",
          "width": 2
         },
         "mode": "lines",
         "showlegend": false,
         "type": "scatter",
         "x": [
          4.224693298339844,
          4.247294902801514,
          4.386842727661133,
          4.391932487487793,
          4.224693298339844
         ],
         "y": [
          1.845983624458313,
          1.7250137329101562,
          1.711348533630371,
          1.8600409030914307,
          1.845983624458313
         ]
        },
        {
         "line": {
          "color": "blue",
          "width": 2
         },
         "mode": "lines",
         "showlegend": false,
         "type": "scatter",
         "x": [
          0,
          0,
          0.12952397763729095,
          0.13992531597614288,
          0
         ],
         "y": [
          0.49287670850753784,
          0.3566570281982422,
          0.3153744339942932,
          0.45070919394493103,
          0.49287670850753784
         ]
        },
        {
         "line": {
          "color": "blue",
          "width": 2
         },
         "mode": "lines",
         "showlegend": false,
         "type": "scatter",
         "x": [
          0,
          0,
          0.11642993986606598,
          0.12952397763729095,
          0
         ],
         "y": [
          0.3566570281982422,
          0.22043734788894653,
          0.19296982884407043,
          0.3153744339942932,
          0.3566570281982422
         ]
        },
        {
         "line": {
          "color": "blue",
          "width": 2
         },
         "mode": "lines",
         "showlegend": false,
         "type": "scatter",
         "x": [
          0.11642993986606598,
          0.2351664900779724,
          0.26024454832077026,
          0.12952397763729095,
          0.11642993986606598
         ],
         "y": [
          0.19296982884407043,
          0.16964052617549896,
          0.2798923850059509,
          0.3153744339942932,
          0.19296982884407043
         ]
        },
        {
         "line": {
          "color": "blue",
          "width": 2
         },
         "mode": "lines",
         "showlegend": false,
         "type": "scatter",
         "x": [
          0.26024454832077026,
          0.2805204391479492,
          0.13992531597614288,
          0.12952397763729095,
          0.26024454832077026
         ],
         "y": [
          0.2798923850059509,
          0.41729649901390076,
          0.45070919394493103,
          0.3153744339942932,
          0.2798923850059509
         ]
        },
        {
         "line": {
          "color": "blue",
          "width": 2
         },
         "mode": "lines",
         "showlegend": false,
         "type": "scatter",
         "x": [
          4.786237716674805,
          4.896488189697266,
          4.892703056335449,
          4.781370639801025,
          4.786237716674805
         ],
         "y": [
          0.19695256650447845,
          0.2028699666261673,
          0.32461246848106384,
          0.310759961605072,
          0.19695256650447845
         ]
        },
        {
         "line": {
          "color": "blue",
          "width": 2
         },
         "mode": "lines",
         "showlegend": false,
         "type": "scatter",
         "x": [
          4.896488189697266,
          5,
          5,
          4.892703056335449,
          4.896488189697266
         ],
         "y": [
          0.2028699666261673,
          0.214509978890419,
          0.34727853536605835,
          0.32461246848106384,
          0.2028699666261673
         ]
        },
        {
         "line": {
          "color": "blue",
          "width": 2
         },
         "mode": "lines",
         "showlegend": false,
         "type": "scatter",
         "x": [
          5,
          5,
          4.888524055480957,
          4.892703056335449,
          5
         ],
         "y": [
          0.34727853536605835,
          0.4800470769405365,
          0.4602194130420685,
          0.32461246848106384,
          0.34727853536605835
         ]
        },
        {
         "line": {
          "color": "blue",
          "width": 2
         },
         "mode": "lines",
         "showlegend": false,
         "type": "scatter",
         "x": [
          4.888524055480957,
          4.777948379516602,
          4.781370639801025,
          4.892703056335449,
          4.888524055480957
         ],
         "y": [
          0.4602194130420685,
          0.44183599948883057,
          0.310759961605072,
          0.32461246848106384,
          0.4602194130420685
         ]
        },
        {
         "line": {
          "color": "blue",
          "width": 2
         },
         "mode": "lines",
         "showlegend": false,
         "type": "scatter",
         "x": [
          4.777948379516602,
          4.888524055480957,
          4.87899112701416,
          4.763580322265625,
          4.777948379516602
         ],
         "y": [
          0.44183599948883057,
          0.4602194130420685,
          0.6187060475349426,
          0.5851188898086548,
          0.44183599948883057
         ]
        },
        {
         "line": {
          "color": "blue",
          "width": 2
         },
         "mode": "lines",
         "showlegend": false,
         "type": "scatter",
         "x": [
          4.888524055480957,
          5,
          5,
          4.87899112701416,
          4.888524055480957
         ],
         "y": [
          0.4602194130420685,
          0.4800470769405365,
          0.6501006484031677,
          0.6187060475349426,
          0.4602194130420685
         ]
        },
        {
         "line": {
          "color": "blue",
          "width": 2
         },
         "mode": "lines",
         "showlegend": false,
         "type": "scatter",
         "x": [
          5,
          5,
          4.8720526695251465,
          4.87899112701416,
          5
         ],
         "y": [
          0.6501006484031677,
          0.8201542496681213,
          0.7867902517318726,
          0.6187060475349426,
          0.6501006484031677
         ]
        },
        {
         "line": {
          "color": "blue",
          "width": 2
         },
         "mode": "lines",
         "showlegend": false,
         "type": "scatter",
         "x": [
          4.8720526695251465,
          4.72461462020874,
          4.763580322265625,
          4.87899112701416,
          4.8720526695251465
         ],
         "y": [
          0.7867902517318726,
          0.7577979564666748,
          0.5851188898086548,
          0.6187060475349426,
          0.7867902517318726
         ]
        },
        {
         "line": {
          "color": "blue",
          "width": 2
         },
         "mode": "lines",
         "showlegend": false,
         "type": "scatter",
         "x": [
          0.2587893605232239,
          0.3024592697620392,
          0.15516038239002228,
          0.1318792849779129,
          0.2587893605232239
         ],
         "y": [
          0.7632734775543213,
          0.9197574257850647,
          0.9785031080245972,
          0.8028203248977661,
          0.7632734775543213
         ]
        },
        {
         "line": {
          "color": "blue",
          "width": 2
         },
         "mode": "lines",
         "showlegend": false,
         "type": "scatter",
         "x": [
          0.3024592697620392,
          0.39051392674446106,
          0.18049459159374237,
          0.15516038239002228,
          0.3024592697620392
         ],
         "y": [
          0.9197574257850647,
          1.07501220703125,
          1.1455439329147339,
          0.9785031080245972,
          0.9197574257850647
         ]
        },
        {
         "line": {
          "color": "blue",
          "width": 2
         },
         "mode": "lines",
         "showlegend": false,
         "type": "scatter",
         "x": [
          0.18049459159374237,
          0,
          0,
          0.15516038239002228,
          0.18049459159374237
         ],
         "y": [
          1.1455439329147339,
          1.2081365585327148,
          1.0209157466888428,
          0.9785031080245972,
          1.1455439329147339
         ]
        },
        {
         "line": {
          "color": "blue",
          "width": 2
         },
         "mode": "lines",
         "showlegend": false,
         "type": "scatter",
         "x": [
          0,
          0,
          0.1318792849779129,
          0.15516038239002228,
          0
         ],
         "y": [
          1.0209157466888428,
          0.8336949348449707,
          0.8028203248977661,
          0.9785031080245972,
          1.0209157466888428
         ]
        },
        {
         "line": {
          "color": "blue",
          "width": 2
         },
         "mode": "lines",
         "showlegend": false,
         "type": "scatter",
         "x": [
          4.805062294006348,
          4.793791770935059,
          4.678751468658447,
          4.697822570800781,
          4.805062294006348
         ],
         "y": [
          0.0005000000237487257,
          0.09455347061157227,
          0.10983683168888092,
          0.0004883563378825784,
          0.0005000000237487257
         ]
        },
        {
         "line": {
          "color": "blue",
          "width": 2
         },
         "mode": "lines",
         "showlegend": false,
         "type": "scatter",
         "x": [
          4.793791770935059,
          4.786237716674805,
          4.664474964141846,
          4.678751468658447,
          4.793791770935059
         ],
         "y": [
          0.09455347061157227,
          0.19695256650447845,
          0.21988070011138916,
          0.10983683168888092,
          0.09455347061157227
         ]
        },
        {
         "line": {
          "color": "blue",
          "width": 2
         },
         "mode": "lines",
         "showlegend": false,
         "type": "scatter",
         "x": [
          4.664474964141846,
          4.532685279846191,
          4.556674003601074,
          4.678751468658447,
          4.664474964141846
         ],
         "y": [
          0.21988070011138916,
          0.26613542437553406,
          0.12956446409225464,
          0.10983683168888092,
          0.21988070011138916
         ]
        },
        {
         "line": {
          "color": "blue",
          "width": 2
         },
         "mode": "lines",
         "showlegend": false,
         "type": "scatter",
         "x": [
          4.556674003601074,
          4.590582847595215,
          4.697822570800781,
          4.678751468658447,
          4.556674003601074
         ],
         "y": [
          0.12956446409225464,
          0.00047671268112026155,
          0.0004883563378825784,
          0.10983683168888092,
          0.12956446409225464
         ]
        },
        {
         "line": {
          "color": "blue",
          "width": 2
         },
         "mode": "lines",
         "showlegend": false,
         "type": "scatter",
         "x": [
          1.419364094734192,
          1.3669102191925049,
          1.164842963218689,
          1.2105412483215332,
          1.419364094734192
         ],
         "y": [
          0.0001323938777204603,
          0.16960975527763367,
          0.16704367101192474,
          0.00010972069867420942,
          0.0001323938777204603
         ]
        },
        {
         "line": {
          "color": "blue",
          "width": 2
         },
         "mode": "lines",
         "showlegend": false,
         "type": "scatter",
         "x": [
          1.3669102191925049,
          1.3543840646743774,
          1.137257695198059,
          1.164842963218689,
          1.3669102191925049
         ],
         "y": [
          0.16960975527763367,
          0.3446437418460846,
          0.34151342511177063,
          0.16704367101192474,
          0.16960975527763367
         ]
        },
        {
         "line": {
          "color": "blue",
          "width": 2
         },
         "mode": "lines",
         "showlegend": false,
         "type": "scatter",
         "x": [
          1.137257695198059,
          0.9562130570411682,
          0.9756912589073181,
          1.164842963218689,
          1.137257695198059
         ],
         "y": [
          0.34151342511177063,
          0.33940842747688293,
          0.16414402425289154,
          0.16704367101192474,
          0.34151342511177063
         ]
        },
        {
         "line": {
          "color": "blue",
          "width": 2
         },
         "mode": "lines",
         "showlegend": false,
         "type": "scatter",
         "x": [
          0.9756912589073181,
          1.001718521118164,
          1.2105412483215332,
          1.164842963218689,
          0.9756912589073181
         ],
         "y": [
          0.16414402425289154,
          0.00008704751962795854,
          0.00010972069867420942,
          0.16704367101192474,
          0.16414402425289154
         ]
        },
        {
         "line": {
          "color": "blue",
          "width": 2
         },
         "mode": "lines",
         "showlegend": false,
         "type": "scatter",
         "x": [
          5,
          4.895113468170166,
          4.887653350830078,
          5,
          5
         ],
         "y": [
          1.7833114862442017,
          1.7575656175613403,
          1.6224778890609741,
          1.653494119644165,
          1.7833114862442017
         ]
        },
        {
         "line": {
          "color": "blue",
          "width": 2
         },
         "mode": "lines",
         "showlegend": false,
         "type": "scatter",
         "x": [
          4.895113468170166,
          4.782020568847656,
          4.76946496963501,
          4.887653350830078,
          4.895113468170166
         ],
         "y": [
          1.7575656175613403,
          1.734816312789917,
          1.5914140939712524,
          1.6224778890609741,
          1.7575656175613403
         ]
        },
        {
         "line": {
          "color": "blue",
          "width": 2
         },
         "mode": "lines",
         "showlegend": false,
         "type": "scatter",
         "x": [
          4.76946496963501,
          4.75515079498291,
          4.881381988525391,
          4.887653350830078,
          4.76946496963501
         ],
         "y": [
          1.5914140939712524,
          1.441074013710022,
          1.479799509048462,
          1.6224778890609741,
          1.5914140939712524
         ]
        },
        {
         "line": {
          "color": "blue",
          "width": 2
         },
         "mode": "lines",
         "showlegend": false,
         "type": "scatter",
         "x": [
          4.881381988525391,
          5,
          5,
          4.887653350830078,
          4.881381988525391
         ],
         "y": [
          1.479799509048462,
          1.5236767530441284,
          1.653494119644165,
          1.6224778890609741,
          1.479799509048462
         ]
        },
        {
         "line": {
          "color": "blue",
          "width": 2
         },
         "mode": "lines",
         "showlegend": false,
         "type": "scatter",
         "x": [
          0.2587893605232239,
          0.26792219281196594,
          0.43533703684806824,
          0.415022075176239,
          0.2587893605232239
         ],
         "y": [
          0.7632734775543213,
          0.5868734121322632,
          0.5669081807136536,
          0.730919361114502,
          0.7632734775543213
         ]
        },
        {
         "line": {
          "color": "blue",
          "width": 2
         },
         "mode": "lines",
         "showlegend": false,
         "type": "scatter",
         "x": [
          0.26792219281196594,
          0.2805204391479492,
          0.4450821578502655,
          0.43533703684806824,
          0.26792219281196594
         ],
         "y": [
          0.5868734121322632,
          0.41729649901390076,
          0.4019414782524109,
          0.5669081807136536,
          0.5868734121322632
         ]
        },
        {
         "line": {
          "color": "blue",
          "width": 2
         },
         "mode": "lines",
         "showlegend": false,
         "type": "scatter",
         "x": [
          0.4450821578502655,
          0.627141535282135,
          0.6105673909187317,
          0.43533703684806824,
          0.4450821578502655
         ],
         "y": [
          0.4019414782524109,
          0.36488497257232666,
          0.5541684627532959,
          0.5669081807136536,
          0.4019414782524109
         ]
        },
        {
         "line": {
          "color": "blue",
          "width": 2
         },
         "mode": "lines",
         "showlegend": false,
         "type": "scatter",
         "x": [
          0.6105673909187317,
          0.578811764717102,
          0.415022075176239,
          0.43533703684806824,
          0.6105673909187317
         ],
         "y": [
          0.5541684627532959,
          0.7186275720596313,
          0.730919361114502,
          0.5669081807136536,
          0.5541684627532959
         ]
        },
        {
         "line": {
          "color": "blue",
          "width": 2
         },
         "mode": "lines",
         "showlegend": false,
         "type": "scatter",
         "x": [
          4.499637603759766,
          4.450838565826416,
          4.259291648864746,
          4.35438346862793,
          4.499637603759766
         ],
         "y": [
          1.0052365064620972,
          1.1682435274124146,
          1.141577124595642,
          0.93611079454422,
          1.0052365064620972
         ]
        },
        {
         "line": {
          "color": "blue",
          "width": 2
         },
         "mode": "lines",
         "showlegend": false,
         "type": "scatter",
         "x": [
          4.450838565826416,
          4.43840217590332,
          4.225057601928711,
          4.259291648864746,
          4.450838565826416
         ],
         "y": [
          1.1682435274124146,
          1.355120062828064,
          1.3516608476638794,
          1.141577124595642,
          1.1682435274124146
         ]
        },
        {
         "line": {
          "color": "blue",
          "width": 2
         },
         "mode": "lines",
         "showlegend": false,
         "type": "scatter",
         "x": [
          4.225057601928711,
          3.940859079360962,
          4.054696559906006,
          4.259291648864746,
          4.225057601928711
         ],
         "y": [
          1.3516608476638794,
          1.4175339937210083,
          1.1092333793640137,
          1.141577124595642,
          1.3516608476638794
         ]
        },
        {
         "line": {
          "color": "blue",
          "width": 2
         },
         "mode": "lines",
         "showlegend": false,
         "type": "scatter",
         "x": [
          4.054696559906006,
          4.184881210327148,
          4.35438346862793,
          4.259291648864746,
          4.054696559906006
         ],
         "y": [
          1.1092333793640137,
          0.8321652412414551,
          0.93611079454422,
          1.141577124595642,
          1.1092333793640137
         ]
        },
        {
         "line": {
          "color": "blue",
          "width": 2
         },
         "mode": "lines",
         "showlegend": false,
         "type": "scatter",
         "x": [
          3.066767930984497,
          3.0018398761749268,
          2.7488088607788086,
          2.7842276096343994,
          3.066767930984497
         ],
         "y": [
          0.0003112626727670431,
          0.23839102685451508,
          0.27300557494163513,
          0.0002805855474434793,
          0.0003112626727670431
         ]
        },
        {
         "line": {
          "color": "blue",
          "width": 2
         },
         "mode": "lines",
         "showlegend": false,
         "type": "scatter",
         "x": [
          3.0018398761749268,
          2.963808298110962,
          2.7423744201660156,
          2.7488088607788086,
          3.0018398761749268
         ],
         "y": [
          0.23839102685451508,
          0.4604211151599884,
          0.5232980847358704,
          0.27300557494163513,
          0.23839102685451508
         ]
        },
        {
         "line": {
          "color": "blue",
          "width": 2
         },
         "mode": "lines",
         "showlegend": false,
         "type": "scatter",
         "x": [
          2.7423744201660156,
          2.4818246364593506,
          2.495232343673706,
          2.7488088607788086,
          2.7423744201660156
         ],
         "y": [
          0.5232980847358704,
          0.6158626079559326,
          0.30192285776138306,
          0.27300557494163513,
          0.5232980847358704
         ]
        },
        {
         "line": {
          "color": "blue",
          "width": 2
         },
         "mode": "lines",
         "showlegend": false,
         "type": "scatter",
         "x": [
          2.495232343673706,
          2.5016872882843018,
          2.7842276096343994,
          2.7488088607788086,
          2.495232343673706
         ],
         "y": [
          0.30192285776138306,
          0.00024990839301608503,
          0.0002805855474434793,
          0.27300557494163513,
          0.30192285776138306
         ]
        },
        {
         "line": {
          "color": "blue",
          "width": 2
         },
         "mode": "lines",
         "showlegend": false,
         "type": "scatter",
         "x": [
          0.39051392674446106,
          0.5910466909408569,
          0.5295422077178955,
          0.35635045170783997,
          0.39051392674446106
         ],
         "y": [
          1.07501220703125,
          1.1176680326461792,
          1.321131706237793,
          1.27205491065979,
          1.07501220703125
         ]
        },
        {
         "line": {
          "color": "blue",
          "width": 2
         },
         "mode": "lines",
         "showlegend": false,
         "type": "scatter",
         "x": [
          0.5910466909408569,
          0.7919260263442993,
          0.7032692432403564,
          0.5295422077178955,
          0.5910466909408569
         ],
         "y": [
          1.1176680326461792,
          1.1481053829193115,
          1.3785207271575928,
          1.321131706237793,
          1.1176680326461792
         ]
        },
        {
         "line": {
          "color": "blue",
          "width": 2
         },
         "mode": "lines",
         "showlegend": false,
         "type": "scatter",
         "x": [
          0.7032692432403564,
          0.6195558905601501,
          0.4631172716617584,
          0.5295422077178955,
          0.7032692432403564
         ],
         "y": [
          1.3785207271575928,
          1.6367623805999756,
          1.502655029296875,
          1.321131706237793,
          1.3785207271575928
         ]
        },
        {
         "line": {
          "color": "blue",
          "width": 2
         },
         "mode": "lines",
         "showlegend": false,
         "type": "scatter",
         "x": [
          0.4631172716617584,
          0.31884118914604187,
          0.35635045170783997,
          0.5295422077178955,
          0.4631172716617584
         ],
         "y": [
          1.502655029296875,
          1.4385032653808594,
          1.27205491065979,
          1.321131706237793,
          1.502655029296875
         ]
        },
        {
         "line": {
          "color": "blue",
          "width": 2
         },
         "mode": "lines",
         "showlegend": false,
         "type": "scatter",
         "x": [
          0.20000000298023224,
          0.3076398968696594,
          0.3285810053348541,
          0.2164989858865738,
          0.20000000298023224
         ],
         "y": [
          0,
          0.000011687126971082762,
          0.08444027602672577,
          0.08124599605798721,
          0
         ]
        },
        {
         "line": {
          "color": "blue",
          "width": 2
         },
         "mode": "lines",
         "showlegend": false,
         "type": "scatter",
         "x": [
          0.3076398968696594,
          0.4152797758579254,
          0.4447828233242035,
          0.3285810053348541,
          0.3076398968696594
         ],
         "y": [
          0.000011687126971082762,
          0.000023374253942165524,
          0.10014267265796661,
          0.08444027602672577,
          0.000011687126971082762
         ]
        },
        {
         "line": {
          "color": "blue",
          "width": 2
         },
         "mode": "lines",
         "showlegend": false,
         "type": "scatter",
         "x": [
          0.4447828233242035,
          0.44784802198410034,
          0.3566628694534302,
          0.3285810053348541,
          0.4447828233242035
         ],
         "y": [
          0.10014267265796661,
          0.17369678616523743,
          0.17079336941242218,
          0.08444027602672577,
          0.10014267265796661
         ]
        },
        {
         "line": {
          "color": "blue",
          "width": 2
         },
         "mode": "lines",
         "showlegend": false,
         "type": "scatter",
         "x": [
          0.3566628694534302,
          0.2351664900779724,
          0.2164989858865738,
          0.3285810053348541,
          0.3566628694534302
         ],
         "y": [
          0.17079336941242218,
          0.16964052617549896,
          0.08124599605798721,
          0.08444027602672577,
          0.17079336941242218
         ]
        },
        {
         "line": {
          "color": "blue",
          "width": 2
         },
         "mode": "lines",
         "showlegend": false,
         "type": "scatter",
         "x": [
          5,
          4.881381988525391,
          4.877037048339844,
          5,
          5
         ],
         "y": [
          1.5236767530441284,
          1.479799509048462,
          1.3179378509521484,
          1.361332654953003,
          1.5236767530441284
         ]
        },
        {
         "line": {
          "color": "blue",
          "width": 2
         },
         "mode": "lines",
         "showlegend": false,
         "type": "scatter",
         "x": [
          4.881381988525391,
          4.75515079498291,
          4.750809192657471,
          4.877037048339844,
          4.881381988525391
         ],
         "y": [
          1.479799509048462,
          1.441074013710022,
          1.2754547595977783,
          1.3179378509521484,
          1.479799509048462
         ]
        },
        {
         "line": {
          "color": "blue",
          "width": 2
         },
         "mode": "lines",
         "showlegend": false,
         "type": "scatter",
         "x": [
          4.750809192657471,
          4.751469135284424,
          4.875009536743164,
          4.877037048339844,
          4.750809192657471
         ],
         "y": [
          1.2754547595977783,
          1.1083425283432007,
          1.147203803062439,
          1.3179378509521484,
          1.2754547595977783
         ]
        },
        {
         "line": {
          "color": "blue",
          "width": 2
         },
         "mode": "lines",
         "showlegend": false,
         "type": "scatter",
         "x": [
          4.875009536743164,
          5,
          5,
          4.877037048339844,
          4.875009536743164
         ],
         "y": [
          1.147203803062439,
          1.198988437652588,
          1.361332654953003,
          1.3179378509521484,
          1.147203803062439
         ]
        },
        {
         "line": {
          "color": "blue",
          "width": 2
         },
         "mode": "lines",
         "showlegend": false,
         "type": "scatter",
         "x": [
          4.72461462020874,
          4.8720526695251465,
          4.872234344482422,
          4.750705718994141,
          4.72461462020874
         ],
         "y": [
          0.7577979564666748,
          0.7867902517318726,
          0.9658098816871643,
          0.9411253333091736,
          0.7577979564666748
         ]
        },
        {
         "line": {
          "color": "blue",
          "width": 2
         },
         "mode": "lines",
         "showlegend": false,
         "type": "scatter",
         "x": [
          4.8720526695251465,
          5,
          5,
          4.872234344482422,
          4.8720526695251465
         ],
         "y": [
          0.7867902517318726,
          0.8201542496681213,
          1.0095713138580322,
          0.9658098816871643,
          0.7867902517318726
         ]
        },
        {
         "line": {
          "color": "blue",
          "width": 2
         },
         "mode": "lines",
         "showlegend": false,
         "type": "scatter",
         "x": [
          5,
          5,
          4.875009536743164,
          4.872234344482422,
          5
         ],
         "y": [
          1.0095713138580322,
          1.198988437652588,
          1.147203803062439,
          0.9658098816871643,
          1.0095713138580322
         ]
        },
        {
         "line": {
          "color": "blue",
          "width": 2
         },
         "mode": "lines",
         "showlegend": false,
         "type": "scatter",
         "x": [
          4.875009536743164,
          4.751469135284424,
          4.750705718994141,
          4.872234344482422,
          4.875009536743164
         ],
         "y": [
          1.147203803062439,
          1.1083425283432007,
          0.9411253333091736,
          0.9658098816871643,
          1.147203803062439
         ]
        },
        {
         "line": {
          "color": "blue",
          "width": 2
         },
         "mode": "lines",
         "showlegend": false,
         "type": "scatter",
         "x": [
          3.5861027240753174,
          3.4880003929138184,
          3.2483572959899902,
          3.3264353275299072,
          3.5861027240753174
         ],
         "y": [
          0.00036765006370842457,
          0.2196473479270935,
          0.22581638395786285,
          0.00033945636823773384,
          0.00036765006370842457
         ]
        },
        {
         "line": {
          "color": "blue",
          "width": 2
         },
         "mode": "lines",
         "showlegend": false,
         "type": "scatter",
         "x": [
          3.4880003929138184,
          3.407712697982788,
          3.1774516105651855,
          3.2483572959899902,
          3.4880003929138184
         ],
         "y": [
          0.2196473479270935,
          0.43622931838035583,
          0.4505905508995056,
          0.22581638395786285,
          0.2196473479270935
         ]
        },
        {
         "line": {
          "color": "blue",
          "width": 2
         },
         "mode": "lines",
         "showlegend": false,
         "type": "scatter",
         "x": [
          3.1774516105651855,
          2.963808298110962,
          3.0018398761749268,
          3.2483572959899902,
          3.1774516105651855
         ],
         "y": [
          0.4505905508995056,
          0.4604211151599884,
          0.23839102685451508,
          0.22581638395786285,
          0.4505905508995056
         ]
        },
        {
         "line": {
          "color": "blue",
          "width": 2
         },
         "mode": "lines",
         "showlegend": false,
         "type": "scatter",
         "x": [
          3.0018398761749268,
          3.066767930984497,
          3.3264353275299072,
          3.2483572959899902,
          3.0018398761749268
         ],
         "y": [
          0.23839102685451508,
          0.0003112626727670431,
          0.00033945636823773384,
          0.22581638395786285,
          0.23839102685451508
         ]
        },
        {
         "line": {
          "color": "blue",
          "width": 2
         },
         "mode": "lines",
         "showlegend": false,
         "type": "scatter",
         "x": [
          4.590582847595215,
          4.556674003601074,
          4.420439720153809,
          4.460107326507568,
          4.590582847595215
         ],
         "y": [
          0.00047671268112026155,
          0.12956446409225464,
          0.15340827405452728,
          0.00046254610060714185,
          0.00047671268112026155
         ]
        },
        {
         "line": {
          "color": "blue",
          "width": 2
         },
         "mode": "lines",
         "showlegend": false,
         "type": "scatter",
         "x": [
          4.556674003601074,
          4.532685279846191,
          4.388168811798096,
          4.420439720153809,
          4.556674003601074
         ],
         "y": [
          0.12956446409225464,
          0.26613542437553406,
          0.312896192073822,
          0.15340827405452728,
          0.12956446409225464
         ]
        },
        {
         "line": {
          "color": "blue",
          "width": 2
         },
         "mode": "lines",
         "showlegend": false,
         "type": "scatter",
         "x": [
          4.388168811798096,
          4.227769374847412,
          4.27320671081543,
          4.420439720153809,
          4.388168811798096
         ],
         "y": [
          0.312896192073822,
          0.36207443475723267,
          0.17595736682415009,
          0.15340827405452728,
          0.312896192073822
         ]
        },
        {
         "line": {
          "color": "blue",
          "width": 2
         },
         "mode": "lines",
         "showlegend": false,
         "type": "scatter",
         "x": [
          4.27320671081543,
          4.329631328582764,
          4.460107326507568,
          4.420439720153809,
          4.27320671081543
         ],
         "y": [
          0.17595736682415009,
          0.0004483795491978526,
          0.00046254610060714185,
          0.15340827405452728,
          0.17595736682415009
         ]
        },
        {
         "line": {
          "color": "blue",
          "width": 2
         },
         "mode": "lines",
         "showlegend": false,
         "type": "scatter",
         "x": [
          0.9562130570411682,
          0.9622323513031006,
          0.7805319428443909,
          0.7956831455230713,
          0.9562130570411682
         ],
         "y": [
          0.33940842747688293,
          0.5287277102470398,
          0.5390773415565491,
          0.3563489615917206,
          0.33940842747688293
         ]
        },
        {
         "line": {
          "color": "blue",
          "width": 2
         },
         "mode": "lines",
         "showlegend": false,
         "type": "scatter",
         "x": [
          0.9622323513031006,
          0.9549516439437866,
          0.7557174563407898,
          0.7805319428443909,
          0.9622323513031006
         ],
         "y": [
          0.5287277102470398,
          0.7246973514556885,
          0.7230015993118286,
          0.5390773415565491,
          0.5287277102470398
         ]
        },
        {
         "line": {
          "color": "blue",
          "width": 2
         },
         "mode": "lines",
         "showlegend": false,
         "type": "scatter",
         "x": [
          0.7557174563407898,
          0.578811764717102,
          0.6105673909187317,
          0.7805319428443909,
          0.7557174563407898
         ],
         "y": [
          0.7230015993118286,
          0.7186275720596313,
          0.5541684627532959,
          0.5390773415565491,
          0.7230015993118286
         ]
        },
        {
         "line": {
          "color": "blue",
          "width": 2
         },
         "mode": "lines",
         "showlegend": false,
         "type": "scatter",
         "x": [
          0.6105673909187317,
          0.627141535282135,
          0.7956831455230713,
          0.7805319428443909,
          0.6105673909187317
         ],
         "y": [
          0.5541684627532959,
          0.36488497257232666,
          0.3563489615917206,
          0.5390773415565491,
          0.5541684627532959
         ]
        },
        {
         "line": {
          "color": "blue",
          "width": 2
         },
         "mode": "lines",
         "showlegend": false,
         "type": "scatter",
         "x": [
          4.329631328582764,
          4.27320671081543,
          4.10380220413208,
          4.167333602905273,
          4.329631328582764
         ],
         "y": [
          0.0004483795491978526,
          0.17595736682415009,
          0.1932363510131836,
          0.0004307578783482313,
          0.0004483795491978526
         ]
        },
        {
         "line": {
          "color": "blue",
          "width": 2
         },
         "mode": "lines",
         "showlegend": false,
         "type": "scatter",
         "x": [
          4.27320671081543,
          4.227769374847412,
          4.046414375305176,
          4.10380220413208,
          4.27320671081543
         ],
         "y": [
          0.17595736682415009,
          0.36207443475723267,
          0.39278480410575867,
          0.1932363510131836,
          0.17595736682415009
         ]
        },
        {
         "line": {
          "color": "blue",
          "width": 2
         },
         "mode": "lines",
         "showlegend": false,
         "type": "scatter",
         "x": [
          4.046414375305176,
          3.8486406803131104,
          3.920787811279297,
          4.10380220413208,
          4.046414375305176
         ],
         "y": [
          0.39278480410575867,
          0.41667866706848145,
          0.20669518411159515,
          0.1932363510131836,
          0.39278480410575867
         ]
        },
        {
         "line": {
          "color": "blue",
          "width": 2
         },
         "mode": "lines",
         "showlegend": false,
         "type": "scatter",
         "x": [
          3.920787811279297,
          4.005035877227783,
          4.167333602905273,
          4.10380220413208,
          3.920787811279297
         ],
         "y": [
          0.20669518411159515,
          0.00041313620749861,
          0.0004307578783482313,
          0.1932363510131836,
          0.20669518411159515
         ]
        },
        {
         "line": {
          "color": "blue",
          "width": 2
         },
         "mode": "lines",
         "showlegend": false,
         "type": "scatter",
         "x": [
          1.1758103370666504,
          0.9794540405273438,
          0.9051526188850403,
          1.1089775562286377,
          1.1758103370666504
         ],
         "y": [
          2,
          2,
          1.8077863454818726,
          1.7997767925262451,
          2
         ]
        },
        {
         "line": {
          "color": "blue",
          "width": 2
         },
         "mode": "lines",
         "showlegend": false,
         "type": "scatter",
         "x": [
          0.9794540405273438,
          0.7830976843833923,
          0.7255236506462097,
          0.9051526188850403,
          0.9794540405273438
         ],
         "y": [
          2,
          2,
          1.8332324028015137,
          1.8077863454818726,
          2
         ]
        },
        {
         "line": {
          "color": "blue",
          "width": 2
         },
         "mode": "lines",
         "showlegend": false,
         "type": "scatter",
         "x": [
          0.7255236506462097,
          0.6195558905601501,
          0.8549940586090088,
          0.9051526188850403,
          0.7255236506462097
         ],
         "y": [
          1.8332324028015137,
          1.6367623805999756,
          1.6071720123291016,
          1.8077863454818726,
          1.8332324028015137
         ]
        },
        {
         "line": {
          "color": "blue",
          "width": 2
         },
         "mode": "lines",
         "showlegend": false,
         "type": "scatter",
         "x": [
          0.8549940586090088,
          1.0725041627883911,
          1.1089775562286377,
          0.9051526188850403,
          0.8549940586090088
         ],
         "y": [
          1.6071720123291016,
          1.5951138734817505,
          1.7997767925262451,
          1.8077863454818726,
          1.6071720123291016
         ]
        },
        {
         "line": {
          "color": "blue",
          "width": 2
         },
         "mode": "lines",
         "showlegend": false,
         "type": "scatter",
         "x": [
          2.776355504989624,
          2.859443426132202,
          3.118924379348755,
          3.050952672958374,
          2.776355504989624
         ],
         "y": [
          2,
          1.7934101819992065,
          1.7944393157958984,
          2,
          2
         ]
        },
        {
         "line": {
          "color": "blue",
          "width": 2
         },
         "mode": "lines",
         "showlegend": false,
         "type": "scatter",
         "x": [
          2.859443426132202,
          2.911543130874634,
          3.189321994781494,
          3.118924379348755,
          2.859443426132202
         ],
         "y": [
          1.7934101819992065,
          1.556293249130249,
          1.5956833362579346,
          1.7944393157958984,
          1.7934101819992065
         ]
        },
        {
         "line": {
          "color": "blue",
          "width": 2
         },
         "mode": "lines",
         "showlegend": false,
         "type": "scatter",
         "x": [
          3.189321994781494,
          3.413848876953125,
          3.378969192504883,
          3.118924379348755,
          3.189321994781494
         ],
         "y": [
          1.5956833362579346,
          1.5906689167022705,
          1.7909590005874634,
          1.7944393157958984,
          1.5956833362579346
         ]
        },
        {
         "line": {
          "color": "blue",
          "width": 2
         },
         "mode": "lines",
         "showlegend": false,
         "type": "scatter",
         "x": [
          3.378969192504883,
          3.325550079345703,
          3.050952672958374,
          3.118924379348755,
          3.378969192504883
         ],
         "y": [
          1.7909590005874634,
          2,
          2,
          1.7944393157958984,
          1.7909590005874634
         ]
        },
        {
         "line": {
          "color": "blue",
          "width": 2
         },
         "mode": "lines",
         "showlegend": false,
         "type": "scatter",
         "x": [
          2.8966269493103027,
          2.7521591186523438,
          2.536189079284668,
          2.6743946075439453,
          2.8966269493103027
         ],
         "y": [
          0.9135451912879944,
          1.0736907720565796,
          0.9604537487030029,
          0.7902913093566895,
          0.9135451912879944
         ]
        },
        {
         "line": {
          "color": "blue",
          "width": 2
         },
         "mode": "lines",
         "showlegend": false,
         "type": "scatter",
         "x": [
          2.7521591186523438,
          2.6594648361206055,
          2.4489808082580566,
          2.536189079284668,
          2.7521591186523438
         ],
         "y": [
          1.0736907720565796,
          1.1856552362442017,
          1.1492185592651367,
          0.9604537487030029,
          1.0736907720565796
         ]
        },
        {
         "line": {
          "color": "blue",
          "width": 2
         },
         "mode": "lines",
         "showlegend": false,
         "type": "scatter",
         "x": [
          2.4489808082580566,
          2.1369597911834717,
          2.29817271232605,
          2.536189079284668,
          2.4489808082580566
         ],
         "y": [
          1.1492185592651367,
          1.0944474935531616,
          0.8649904727935791,
          0.9604537487030029,
          1.1492185592651367
         ]
        },
        {
         "line": {
          "color": "blue",
          "width": 2
         },
         "mode": "lines",
         "showlegend": false,
         "type": "scatter",
         "x": [
          2.29817271232605,
          2.4818246364593506,
          2.6743946075439453,
          2.536189079284668,
          2.29817271232605
         ],
         "y": [
          0.8649904727935791,
          0.6158626079559326,
          0.7902913093566895,
          0.9604537487030029,
          0.8649904727935791
         ]
        },
        {
         "line": {
          "color": "blue",
          "width": 2
         },
         "mode": "lines",
         "showlegend": false,
         "type": "scatter",
         "x": [
          0,
          0,
          0.1461910754442215,
          0.13206499814987183,
          0
         ],
         "y": [
          1.785530686378479,
          1.657117486000061,
          1.6145169734954834,
          1.7527475357055664,
          1.785530686378479
         ]
        },
        {
         "line": {
          "color": "blue",
          "width": 2
         },
         "mode": "lines",
         "showlegend": false,
         "type": "scatter",
         "x": [
          0,
          0,
          0.16260744631290436,
          0.1461910754442215,
          0
         ],
         "y": [
          1.657117486000061,
          1.528704285621643,
          1.4665180444717407,
          1.6145169734954834,
          1.657117486000061
         ]
        },
        {
         "line": {
          "color": "blue",
          "width": 2
         },
         "mode": "lines",
         "showlegend": false,
         "type": "scatter",
         "x": [
          0.16260744631290436,
          0.31884118914604187,
          0.2859349250793457,
          0.1461910754442215,
          0.16260744631290436
         ],
         "y": [
          1.4665180444717407,
          1.4385032653808594,
          1.5875043869018555,
          1.6145169734954834,
          1.4665180444717407
         ]
        },
        {
         "line": {
          "color": "blue",
          "width": 2
         },
         "mode": "lines",
         "showlegend": false,
         "type": "scatter",
         "x": [
          0.2859349250793457,
          0.26228660345077515,
          0.13206499814987183,
          0.1461910754442215,
          0.2859349250793457
         ],
         "y": [
          1.5875043869018555,
          1.7314345836639404,
          1.7527475357055664,
          1.6145169734954834,
          1.5875043869018555
         ]
        },
        {
         "line": {
          "color": "blue",
          "width": 2
         },
         "mode": "lines",
         "showlegend": false,
         "type": "scatter",
         "x": [
          0,
          0,
          0.13378916680812836,
          0.1318792849779129,
          0
         ],
         "y": [
          0.8336949348449707,
          0.6632858514785767,
          0.6220121383666992,
          0.8028203248977661,
          0.8336949348449707
         ]
        },
        {
         "line": {
          "color": "blue",
          "width": 2
         },
         "mode": "lines",
         "showlegend": false,
         "type": "scatter",
         "x": [
          0,
          0,
          0.13992531597614288,
          0.13378916680812836,
          0
         ],
         "y": [
          0.6632858514785767,
          0.49287670850753784,
          0.45070919394493103,
          0.6220121383666992,
          0.6632858514785767
         ]
        },
        {
         "line": {
          "color": "blue",
          "width": 2
         },
         "mode": "lines",
         "showlegend": false,
         "type": "scatter",
         "x": [
          0.13992531597614288,
          0.2805204391479492,
          0.26792219281196594,
          0.13378916680812836,
          0.13992531597614288
         ],
         "y": [
          0.45070919394493103,
          0.41729649901390076,
          0.5868734121322632,
          0.6220121383666992,
          0.45070919394493103
         ]
        },
        {
         "line": {
          "color": "blue",
          "width": 2
         },
         "mode": "lines",
         "showlegend": false,
         "type": "scatter",
         "x": [
          0.26792219281196594,
          0.2587893605232239,
          0.1318792849779129,
          0.13378916680812836,
          0.26792219281196594
         ],
         "y": [
          0.5868734121322632,
          0.7632734775543213,
          0.8028203248977661,
          0.6220121383666992,
          0.5868734121322632
         ]
        },
        {
         "line": {
          "color": "blue",
          "width": 2
         },
         "mode": "lines",
         "showlegend": false,
         "type": "scatter",
         "x": [
          0.2127937227487564,
          0.24429811537265778,
          0.38766226172447205,
          0.33967939019203186,
          0.2127937227487564
         ],
         "y": [
          2,
          1.8628920316696167,
          1.84397554397583,
          2,
          2
         ]
        },
        {
         "line": {
          "color": "blue",
          "width": 2
         },
         "mode": "lines",
         "showlegend": false,
         "type": "scatter",
         "x": [
          0.24429811537265778,
          0.26228660345077515,
          0.4134669601917267,
          0.38766226172447205,
          0.24429811537265778
         ],
         "y": [
          1.8628920316696167,
          1.7314345836639404,
          1.6992977857589722,
          1.84397554397583,
          1.8628920316696167
         ]
        },
        {
         "line": {
          "color": "blue",
          "width": 2
         },
         "mode": "lines",
         "showlegend": false,
         "type": "scatter",
         "x": [
          0.4134669601917267,
          0.6195558905601501,
          0.5224918127059937,
          0.38766226172447205,
          0.4134669601917267
         ],
         "y": [
          1.6992977857589722,
          1.6367623805999756,
          1.8436788320541382,
          1.84397554397583,
          1.6992977857589722
         ]
        },
        {
         "line": {
          "color": "blue",
          "width": 2
         },
         "mode": "lines",
         "showlegend": false,
         "type": "scatter",
         "x": [
          0.5224918127059937,
          0.4665650427341461,
          0.33967939019203186,
          0.38766226172447205,
          0.5224918127059937
         ],
         "y": [
          1.8436788320541382,
          2,
          2,
          1.84397554397583,
          1.8436788320541382
         ]
        },
        {
         "line": {
          "color": "blue",
          "width": 2
         },
         "mode": "lines",
         "showlegend": false,
         "type": "scatter",
         "x": [
          4.005035877227783,
          3.920787811279297,
          3.7116761207580566,
          3.7955691814422607,
          4.005035877227783
         ],
         "y": [
          0.00041313620749861,
          0.20669518411159515,
          0.21364304423332214,
          0.0003903931356035173,
          0.00041313620749861
         ]
        },
        {
         "line": {
          "color": "blue",
          "width": 2
         },
         "mode": "lines",
         "showlegend": false,
         "type": "scatter",
         "x": [
          3.920787811279297,
          3.8486406803131104,
          3.6313064098358154,
          3.7116761207580566,
          3.920787811279297
         ],
         "y": [
          0.20669518411159515,
          0.41667866706848145,
          0.42857542634010315,
          0.21364304423332214,
          0.20669518411159515
         ]
        },
        {
         "line": {
          "color": "blue",
          "width": 2
         },
         "mode": "lines",
         "showlegend": false,
         "type": "scatter",
         "x": [
          3.6313064098358154,
          3.407712697982788,
          3.4880003929138184,
          3.7116761207580566,
          3.6313064098358154
         ],
         "y": [
          0.42857542634010315,
          0.43622931838035583,
          0.2196473479270935,
          0.21364304423332214,
          0.42857542634010315
         ]
        },
        {
         "line": {
          "color": "blue",
          "width": 2
         },
         "mode": "lines",
         "showlegend": false,
         "type": "scatter",
         "x": [
          3.4880003929138184,
          3.5861027240753174,
          3.7955691814422607,
          3.7116761207580566,
          3.4880003929138184
         ],
         "y": [
          0.2196473479270935,
          0.00036765006370842457,
          0.0003903931356035173,
          0.21364304423332214,
          0.2196473479270935
         ]
        },
        {
         "line": {
          "color": "blue",
          "width": 2
         },
         "mode": "lines",
         "showlegend": false,
         "type": "scatter",
         "x": [
          4.499637603759766,
          4.627870559692383,
          4.6072678565979,
          4.450838565826416,
          4.499637603759766
         ],
         "y": [
          1.0052365064620972,
          1.0579159259796143,
          1.2212865352630615,
          1.1682435274124146,
          1.0052365064620972
         ]
        },
        {
         "line": {
          "color": "blue",
          "width": 2
         },
         "mode": "lines",
         "showlegend": false,
         "type": "scatter",
         "x": [
          4.627870559692383,
          4.751469135284424,
          4.750809192657471,
          4.6072678565979,
          4.627870559692383
         ],
         "y": [
          1.0579159259796143,
          1.1083425283432007,
          1.2754547595977783,
          1.2212865352630615,
          1.0579159259796143
         ]
        },
        {
         "line": {
          "color": "blue",
          "width": 2
         },
         "mode": "lines",
         "showlegend": false,
         "type": "scatter",
         "x": [
          4.750809192657471,
          4.75515079498291,
          4.602313995361328,
          4.6072678565979,
          4.750809192657471
         ],
         "y": [
          1.2754547595977783,
          1.441074013710022,
          1.392114281654358,
          1.2212865352630615,
          1.2754547595977783
         ]
        },
        {
         "line": {
          "color": "blue",
          "width": 2
         },
         "mode": "lines",
         "showlegend": false,
         "type": "scatter",
         "x": [
          4.602313995361328,
          4.43840217590332,
          4.450838565826416,
          4.6072678565979,
          4.602313995361328
         ],
         "y": [
          1.392114281654358,
          1.355120062828064,
          1.1682435274124146,
          1.2212865352630615,
          1.392114281654358
         ]
        },
        {
         "line": {
          "color": "blue",
          "width": 2
         },
         "mode": "lines",
         "showlegend": false,
         "type": "scatter",
         "x": [
          0.39051392674446106,
          0.5067894458770752,
          0.6792685985565186,
          0.5910466909408569,
          0.39051392674446106
         ],
         "y": [
          1.07501220703125,
          0.8900513648986816,
          0.916845440864563,
          1.1176680326461792,
          1.07501220703125
         ]
        },
        {
         "line": {
          "color": "blue",
          "width": 2
         },
         "mode": "lines",
         "showlegend": false,
         "type": "scatter",
         "x": [
          0.5067894458770752,
          0.578811764717102,
          0.7557174563407898,
          0.6792685985565186,
          0.5067894458770752
         ],
         "y": [
          0.8900513648986816,
          0.7186275720596313,
          0.7230015993118286,
          0.916845440864563,
          0.8900513648986816
         ]
        },
        {
         "line": {
          "color": "blue",
          "width": 2
         },
         "mode": "lines",
         "showlegend": false,
         "type": "scatter",
         "x": [
          0.7557174563407898,
          0.9549516439437866,
          0.8842635750770569,
          0.6792685985565186,
          0.7557174563407898
         ],
         "y": [
          0.7230015993118286,
          0.7246973514556885,
          0.9308021068572998,
          0.916845440864563,
          0.7230015993118286
         ]
        },
        {
         "line": {
          "color": "blue",
          "width": 2
         },
         "mode": "lines",
         "showlegend": false,
         "type": "scatter",
         "x": [
          0.8842635750770569,
          0.7919260263442993,
          0.5910466909408569,
          0.6792685985565186,
          0.8842635750770569
         ],
         "y": [
          0.9308021068572998,
          1.1481053829193115,
          1.1176680326461792,
          0.916845440864563,
          0.9308021068572998
         ]
        },
        {
         "line": {
          "color": "blue",
          "width": 2
         },
         "mode": "lines",
         "showlegend": false,
         "type": "scatter",
         "x": [
          3.713677167892456,
          3.7805893421173096,
          3.994795083999634,
          3.934750556945801,
          3.713677167892456
         ],
         "y": [
          0.8393602967262268,
          0.6332447528839111,
          0.6170737147331238,
          0.844081699848175,
          0.8393602967262268
         ]
        },
        {
         "line": {
          "color": "blue",
          "width": 2
         },
         "mode": "lines",
         "showlegend": false,
         "type": "scatter",
         "x": [
          3.7805893421173096,
          3.8486406803131104,
          4.046414375305176,
          3.994795083999634,
          3.7805893421173096
         ],
         "y": [
          0.6332447528839111,
          0.41667866706848145,
          0.39278480410575867,
          0.6170737147331238,
          0.6332447528839111
         ]
        },
        {
         "line": {
          "color": "blue",
          "width": 2
         },
         "mode": "lines",
         "showlegend": false,
         "type": "scatter",
         "x": [
          4.046414375305176,
          4.227769374847412,
          4.198951244354248,
          3.994795083999634,
          4.046414375305176
         ],
         "y": [
          0.39278480410575867,
          0.36207443475723267,
          0.578764796257019,
          0.6170737147331238,
          0.39278480410575867
         ]
        },
        {
         "line": {
          "color": "blue",
          "width": 2
         },
         "mode": "lines",
         "showlegend": false,
         "type": "scatter",
         "x": [
          4.198951244354248,
          4.184881210327148,
          3.934750556945801,
          3.994795083999634,
          4.198951244354248
         ],
         "y": [
          0.578764796257019,
          0.8321652412414551,
          0.844081699848175,
          0.6170737147331238,
          0.578764796257019
         ]
        },
        {
         "line": {
          "color": "blue",
          "width": 2
         },
         "mode": "lines",
         "showlegend": false,
         "type": "scatter",
         "x": [
          0,
          0,
          0.1769266277551651,
          0.16260744631290436,
          0
         ],
         "y": [
          1.528704285621643,
          1.3684204816818237,
          1.3075621128082275,
          1.4665180444717407,
          1.528704285621643
         ]
        },
        {
         "line": {
          "color": "blue",
          "width": 2
         },
         "mode": "lines",
         "showlegend": false,
         "type": "scatter",
         "x": [
          0,
          0,
          0.18049459159374237,
          0.1769266277551651,
          0
         ],
         "y": [
          1.3684204816818237,
          1.2081365585327148,
          1.1455439329147339,
          1.3075621128082275,
          1.3684204816818237
         ]
        },
        {
         "line": {
          "color": "blue",
          "width": 2
         },
         "mode": "lines",
         "showlegend": false,
         "type": "scatter",
         "x": [
          0.18049459159374237,
          0.39051392674446106,
          0.35635045170783997,
          0.1769266277551651,
          0.18049459159374237
         ],
         "y": [
          1.1455439329147339,
          1.07501220703125,
          1.27205491065979,
          1.3075621128082275,
          1.1455439329147339
         ]
        },
        {
         "line": {
          "color": "blue",
          "width": 2
         },
         "mode": "lines",
         "showlegend": false,
         "type": "scatter",
         "x": [
          0.35635045170783997,
          0.31884118914604187,
          0.16260744631290436,
          0.1769266277551651,
          0.35635045170783997
         ],
         "y": [
          1.27205491065979,
          1.4385032653808594,
          1.4665180444717407,
          1.3075621128082275,
          1.27205491065979
         ]
        },
        {
         "line": {
          "color": "blue",
          "width": 2
         },
         "mode": "lines",
         "showlegend": false,
         "type": "scatter",
         "x": [
          3.8486406803131104,
          3.7805893421173096,
          3.5577285289764404,
          3.6313064098358154,
          3.8486406803131104
         ],
         "y": [
          0.41667866706848145,
          0.6332447528839111,
          0.6376153230667114,
          0.42857542634010315,
          0.41667866706848145
         ]
        },
        {
         "line": {
          "color": "blue",
          "width": 2
         },
         "mode": "lines",
         "showlegend": false,
         "type": "scatter",
         "x": [
          3.7805893421173096,
          3.713677167892456,
          3.4975550174713135,
          3.5577285289764404,
          3.7805893421173096
         ],
         "y": [
          0.6332447528839111,
          0.8393602967262268,
          0.8307721614837646,
          0.6376153230667114,
          0.6332447528839111
         ]
        },
        {
         "line": {
          "color": "blue",
          "width": 2
         },
         "mode": "lines",
         "showlegend": false,
         "type": "scatter",
         "x": [
          3.4975550174713135,
          3.2980592250823975,
          3.335306406021118,
          3.5577285289764404,
          3.4975550174713135
         ],
         "y": [
          0.8307721614837646,
          0.8300948143005371,
          0.6434970498085022,
          0.6376153230667114,
          0.8307721614837646
         ]
        },
        {
         "line": {
          "color": "blue",
          "width": 2
         },
         "mode": "lines",
         "showlegend": false,
         "type": "scatter",
         "x": [
          3.335306406021118,
          3.407712697982788,
          3.6313064098358154,
          3.5577285289764404,
          3.335306406021118
         ],
         "y": [
          0.6434970498085022,
          0.43622931838035583,
          0.42857542634010315,
          0.6376153230667114,
          0.6434970498085022
         ]
        },
        {
         "line": {
          "color": "blue",
          "width": 2
         },
         "mode": "lines",
         "showlegend": false,
         "type": "scatter",
         "x": [
          2.911543130874634,
          2.859443426132202,
          2.5879738330841064,
          2.6302239894866943,
          2.911543130874634
         ],
         "y": [
          1.556293249130249,
          1.7934101819992065,
          1.7887424230575562,
          1.5787913799285889,
          1.556293249130249
         ]
        },
        {
         "line": {
          "color": "blue",
          "width": 2
         },
         "mode": "lines",
         "showlegend": false,
         "type": "scatter",
         "x": [
          2.859443426132202,
          2.776355504989624,
          2.5,
          2.5879738330841064,
          2.859443426132202
         ],
         "y": [
          1.7934101819992065,
          2,
          2,
          1.7887424230575562,
          1.7934101819992065
         ]
        },
        {
         "line": {
          "color": "blue",
          "width": 2
         },
         "mode": "lines",
         "showlegend": false,
         "type": "scatter",
         "x": [
          2.5,
          2.223644495010376,
          2.3211584091186523,
          2.5879738330841064,
          2.5
         ],
         "y": [
          2,
          2,
          1.7899101972579956,
          1.7887424230575562,
          2
         ]
        },
        {
         "line": {
          "color": "blue",
          "width": 2
         },
         "mode": "lines",
         "showlegend": false,
         "type": "scatter",
         "x": [
          2.3211584091186523,
          2.360090732574463,
          2.6302239894866943,
          2.5879738330841064,
          2.3211584091186523
         ],
         "y": [
          1.7899101972579956,
          1.5773155689239502,
          1.5787913799285889,
          1.7887424230575562,
          1.7899101972579956
         ]
        },
        {
         "line": {
          "color": "blue",
          "width": 2
         },
         "mode": "lines",
         "showlegend": false,
         "type": "scatter",
         "x": [
          3.473403215408325,
          3.4483723640441895,
          3.2448580265045166,
          3.2691640853881836,
          3.473403215408325
         ],
         "y": [
          1.1742188930511475,
          1.3876214027404785,
          1.4029635190963745,
          1.21808922290802,
          1.1742188930511475
         ]
        },
        {
         "line": {
          "color": "blue",
          "width": 2
         },
         "mode": "lines",
         "showlegend": false,
         "type": "scatter",
         "x": [
          3.4483723640441895,
          3.413848876953125,
          3.189321994781494,
          3.2448580265045166,
          3.4483723640441895
         ],
         "y": [
          1.3876214027404785,
          1.5906689167022705,
          1.5956833362579346,
          1.4029635190963745,
          1.3876214027404785
         ]
        },
        {
         "line": {
          "color": "blue",
          "width": 2
         },
         "mode": "lines",
         "showlegend": false,
         "type": "scatter",
         "x": [
          3.189321994781494,
          2.911543130874634,
          3.0534119606018066,
          3.2448580265045166,
          3.189321994781494
         ],
         "y": [
          1.5956833362579346,
          1.556293249130249,
          1.3834482431411743,
          1.4029635190963745,
          1.5956833362579346
         ]
        },
        {
         "line": {
          "color": "blue",
          "width": 2
         },
         "mode": "lines",
         "showlegend": false,
         "type": "scatter",
         "x": [
          3.0534119606018066,
          3.1177587509155273,
          3.2691640853881836,
          3.2448580265045166,
          3.0534119606018066
         ],
         "y": [
          1.3834482431411743,
          1.2380715608596802,
          1.21808922290802,
          1.4029635190963745,
          1.3834482431411743
         ]
        },
        {
         "line": {
          "color": "blue",
          "width": 2
         },
         "mode": "lines",
         "showlegend": false,
         "type": "scatter",
         "x": [
          4.184881210327148,
          4.054696559906006,
          3.830310821533203,
          3.934750556945801,
          4.184881210327148
         ],
         "y": [
          0.8321652412414551,
          1.1092333793640137,
          1.0677576065063477,
          0.844081699848175,
          0.8321652412414551
         ]
        },
        {
         "line": {
          "color": "blue",
          "width": 2
         },
         "mode": "lines",
         "showlegend": false,
         "type": "scatter",
         "x": [
          4.054696559906006,
          3.940859079360962,
          3.7114505767822266,
          3.830310821533203,
          4.054696559906006
         ],
         "y": [
          1.1092333793640137,
          1.4175339937210083,
          1.2611958980560303,
          1.0677576065063477,
          1.1092333793640137
         ]
        },
        {
         "line": {
          "color": "blue",
          "width": 2
         },
         "mode": "lines",
         "showlegend": false,
         "type": "scatter",
         "x": [
          3.7114505767822266,
          3.473403215408325,
          3.613842725753784,
          3.830310821533203,
          3.7114505767822266
         ],
         "y": [
          1.2611958980560303,
          1.1742188930511475,
          1.0139297246932983,
          1.0677576065063477,
          1.2611958980560303
         ]
        },
        {
         "line": {
          "color": "blue",
          "width": 2
         },
         "mode": "lines",
         "showlegend": false,
         "type": "scatter",
         "x": [
          3.613842725753784,
          3.713677167892456,
          3.934750556945801,
          3.830310821533203,
          3.613842725753784
         ],
         "y": [
          1.0139297246932983,
          0.8393602967262268,
          0.844081699848175,
          1.0677576065063477,
          1.0139297246932983
         ]
        },
        {
         "line": {
          "color": "blue",
          "width": 2
         },
         "mode": "lines",
         "showlegend": false,
         "type": "scatter",
         "x": [
          2.8966269493103027,
          2.9305195808410645,
          3.1272013187408447,
          3.108921527862549,
          2.8966269493103027
         ],
         "y": [
          0.9135451912879944,
          0.6812463998794556,
          0.6634999513626099,
          0.8663949966430664,
          0.9135451912879944
         ]
        },
        {
         "line": {
          "color": "blue",
          "width": 2
         },
         "mode": "lines",
         "showlegend": false,
         "type": "scatter",
         "x": [
          2.9305195808410645,
          2.963808298110962,
          3.1774516105651855,
          3.1272013187408447,
          2.9305195808410645
         ],
         "y": [
          0.6812463998794556,
          0.4604211151599884,
          0.4505905508995056,
          0.6634999513626099,
          0.6812463998794556
         ]
        },
        {
         "line": {
          "color": "blue",
          "width": 2
         },
         "mode": "lines",
         "showlegend": false,
         "type": "scatter",
         "x": [
          3.1774516105651855,
          3.407712697982788,
          3.335306406021118,
          3.1272013187408447,
          3.1774516105651855
         ],
         "y": [
          0.4505905508995056,
          0.43622931838035583,
          0.6434970498085022,
          0.6634999513626099,
          0.4505905508995056
         ]
        },
        {
         "line": {
          "color": "blue",
          "width": 2
         },
         "mode": "lines",
         "showlegend": false,
         "type": "scatter",
         "x": [
          3.335306406021118,
          3.2980592250823975,
          3.108921527862549,
          3.1272013187408447,
          3.335306406021118
         ],
         "y": [
          0.6434970498085022,
          0.8300948143005371,
          0.8663949966430664,
          0.6634999513626099,
          0.6434970498085022
         ]
        },
        {
         "line": {
          "color": "blue",
          "width": 2
         },
         "mode": "lines",
         "showlegend": false,
         "type": "scatter",
         "x": [
          1.6744500398635864,
          1.4251301288604736,
          1.337809681892395,
          1.5456219911575317,
          1.6744500398635864
         ],
         "y": [
          2,
          2,
          1.7983766794204712,
          1.7606996297836304,
          2
         ]
        },
        {
         "line": {
          "color": "blue",
          "width": 2
         },
         "mode": "lines",
         "showlegend": false,
         "type": "scatter",
         "x": [
          1.4251301288604736,
          1.1758103370666504,
          1.1089775562286377,
          1.337809681892395,
          1.4251301288604736
         ],
         "y": [
          2,
          2,
          1.7997767925262451,
          1.7983766794204712,
          2
         ]
        },
        {
         "line": {
          "color": "blue",
          "width": 2
         },
         "mode": "lines",
         "showlegend": false,
         "type": "scatter",
         "x": [
          1.1089775562286377,
          1.0725041627883911,
          1.2779484987258911,
          1.337809681892395,
          1.1089775562286377
         ],
         "y": [
          1.7997767925262451,
          1.5951138734817505,
          1.5976756811141968,
          1.7983766794204712,
          1.7997767925262451
         ]
        },
        {
         "line": {
          "color": "blue",
          "width": 2
         },
         "mode": "lines",
         "showlegend": false,
         "type": "scatter",
         "x": [
          1.2779484987258911,
          1.4594870805740356,
          1.5456219911575317,
          1.337809681892395,
          1.2779484987258911
         ],
         "y": [
          1.5976756811141968,
          1.602929949760437,
          1.7606996297836304,
          1.7983766794204712,
          1.5976756811141968
         ]
        },
        {
         "line": {
          "color": "blue",
          "width": 2
         },
         "mode": "lines",
         "showlegend": false,
         "type": "scatter",
         "x": [
          2.8966269493103027,
          3.025653123855591,
          2.9025347232818604,
          2.7521591186523438,
          2.8966269493103027
         ],
         "y": [
          0.9135451912879944,
          1.1079118251800537,
          1.234968900680542,
          1.0736907720565796,
          0.9135451912879944
         ]
        },
        {
         "line": {
          "color": "blue",
          "width": 2
         },
         "mode": "lines",
         "showlegend": false,
         "type": "scatter",
         "x": [
          3.025653123855591,
          3.1177587509155273,
          3.0534119606018066,
          2.9025347232818604,
          3.025653123855591
         ],
         "y": [
          1.1079118251800537,
          1.2380715608596802,
          1.3834482431411743,
          1.234968900680542,
          1.1079118251800537
         ]
        },
        {
         "line": {
          "color": "blue",
          "width": 2
         },
         "mode": "lines",
         "showlegend": false,
         "type": "scatter",
         "x": [
          3.0534119606018066,
          2.911543130874634,
          2.7669410705566406,
          2.9025347232818604,
          3.0534119606018066
         ],
         "y": [
          1.3834482431411743,
          1.556293249130249,
          1.3507217168807983,
          1.234968900680542,
          1.3834482431411743
         ]
        },
        {
         "line": {
          "color": "blue",
          "width": 2
         },
         "mode": "lines",
         "showlegend": false,
         "type": "scatter",
         "x": [
          2.7669410705566406,
          2.6594648361206055,
          2.7521591186523438,
          2.9025347232818604,
          2.7669410705566406
         ],
         "y": [
          1.3507217168807983,
          1.1856552362442017,
          1.0736907720565796,
          1.234968900680542,
          1.3507217168807983
         ]
        },
        {
         "line": {
          "color": "blue",
          "width": 2
         },
         "mode": "lines",
         "showlegend": false,
         "type": "scatter",
         "x": [
          3.473403215408325,
          3.2691640853881836,
          3.190035343170166,
          3.3496553897857666,
          3.473403215408325
         ],
         "y": [
          1.1742188930511475,
          1.21808922290802,
          1.043007493019104,
          1.000938892364502,
          1.1742188930511475
         ]
        },
        {
         "line": {
          "color": "blue",
          "width": 2
         },
         "mode": "lines",
         "showlegend": false,
         "type": "scatter",
         "x": [
          3.2691640853881836,
          3.1177587509155273,
          3.025653123855591,
          3.190035343170166,
          3.2691640853881836
         ],
         "y": [
          1.21808922290802,
          1.2380715608596802,
          1.1079118251800537,
          1.043007493019104,
          1.21808922290802
         ]
        },
        {
         "line": {
          "color": "blue",
          "width": 2
         },
         "mode": "lines",
         "showlegend": false,
         "type": "scatter",
         "x": [
          3.025653123855591,
          2.8966269493103027,
          3.108921527862549,
          3.190035343170166,
          3.025653123855591
         ],
         "y": [
          1.1079118251800537,
          0.9135451912879944,
          0.8663949966430664,
          1.043007493019104,
          1.1079118251800537
         ]
        },
        {
         "line": {
          "color": "blue",
          "width": 2
         },
         "mode": "lines",
         "showlegend": false,
         "type": "scatter",
         "x": [
          3.108921527862549,
          3.2980592250823975,
          3.3496553897857666,
          3.190035343170166,
          3.108921527862549
         ],
         "y": [
          0.8663949966430664,
          0.8300948143005371,
          1.000938892364502,
          1.043007493019104,
          0.8663949966430664
         ]
        },
        {
         "line": {
          "color": "blue",
          "width": 2
         },
         "mode": "lines",
         "showlegend": false,
         "type": "scatter",
         "x": [
          1.6893349885940552,
          1.8386987447738647,
          1.694443941116333,
          1.5525668859481812,
          1.6893349885940552
         ],
         "y": [
          1.329845905303955,
          1.4585894346237183,
          1.6182851791381836,
          1.4657286405563354,
          1.329845905303955
         ]
        },
        {
         "line": {
          "color": "blue",
          "width": 2
         },
         "mode": "lines",
         "showlegend": false,
         "type": "scatter",
         "x": [
          1.8386987447738647,
          1.936989188194275,
          1.8399810791015625,
          1.694443941116333,
          1.8386987447738647
         ],
         "y": [
          1.4585894346237183,
          1.5932351350784302,
          1.7523523569107056,
          1.6182851791381836,
          1.4585894346237183
         ]
        },
        {
         "line": {
          "color": "blue",
          "width": 2
         },
         "mode": "lines",
         "showlegend": false,
         "type": "scatter",
         "x": [
          1.8399810791015625,
          1.6744500398635864,
          1.5456219911575317,
          1.694443941116333,
          1.8399810791015625
         ],
         "y": [
          1.7523523569107056,
          2,
          1.7606996297836304,
          1.6182851791381836,
          1.7523523569107056
         ]
        },
        {
         "line": {
          "color": "blue",
          "width": 2
         },
         "mode": "lines",
         "showlegend": false,
         "type": "scatter",
         "x": [
          1.5456219911575317,
          1.4594870805740356,
          1.5525668859481812,
          1.694443941116333,
          1.5456219911575317
         ],
         "y": [
          1.7606996297836304,
          1.602929949760437,
          1.4657286405563354,
          1.6182851791381836,
          1.7606996297836304
         ]
        },
        {
         "line": {
          "color": "blue",
          "width": 2
         },
         "mode": "lines",
         "showlegend": false,
         "type": "scatter",
         "x": [
          1.6893349885940552,
          1.5525668859481812,
          1.3535499572753906,
          1.4776769876480103,
          1.6893349885940552
         ],
         "y": [
          1.329845905303955,
          1.4657286405563354,
          1.4072434902191162,
          1.2268623113632202,
          1.329845905303955
         ]
        },
        {
         "line": {
          "color": "blue",
          "width": 2
         },
         "mode": "lines",
         "showlegend": false,
         "type": "scatter",
         "x": [
          1.5525668859481812,
          1.4594870805740356,
          1.2779484987258911,
          1.3535499572753906,
          1.5525668859481812
         ],
         "y": [
          1.4657286405563354,
          1.602929949760437,
          1.5976756811141968,
          1.4072434902191162,
          1.4657286405563354
         ]
        },
        {
         "line": {
          "color": "blue",
          "width": 2
         },
         "mode": "lines",
         "showlegend": false,
         "type": "scatter",
         "x": [
          1.2779484987258911,
          1.0725041627883911,
          1.1273328065872192,
          1.3535499572753906,
          1.2779484987258911
         ],
         "y": [
          1.5976756811141968,
          1.5951138734817505,
          1.381439208984375,
          1.4072434902191162,
          1.5976756811141968
         ]
        },
        {
         "line": {
          "color": "blue",
          "width": 2
         },
         "mode": "lines",
         "showlegend": false,
         "type": "scatter",
         "x": [
          1.1273328065872192,
          1.2487528324127197,
          1.4776769876480103,
          1.3535499572753906,
          1.1273328065872192
         ],
         "y": [
          1.381439208984375,
          1.1753369569778442,
          1.2268623113632202,
          1.4072434902191162,
          1.381439208984375
         ]
        },
        {
         "line": {
          "color": "blue",
          "width": 2
         },
         "mode": "lines",
         "showlegend": false,
         "type": "scatter",
         "x": [
          2.360090732574463,
          2.3211584091186523,
          2.0579397678375244,
          2.1305150985717773,
          2.360090732574463
         ],
         "y": [
          1.5773155689239502,
          1.7899101972579956,
          1.790798544883728,
          1.583219289779663,
          1.5773155689239502
         ]
        },
        {
         "line": {
          "color": "blue",
          "width": 2
         },
         "mode": "lines",
         "showlegend": false,
         "type": "scatter",
         "x": [
          2.3211584091186523,
          2.223644495010376,
          1.9490472078323364,
          2.0579397678375244,
          2.3211584091186523
         ],
         "y": [
          1.7899101972579956,
          2,
          2,
          1.790798544883728,
          1.7899101972579956
         ]
        },
        {
         "line": {
          "color": "blue",
          "width": 2
         },
         "mode": "lines",
         "showlegend": false,
         "type": "scatter",
         "x": [
          1.9490472078323364,
          1.6744500398635864,
          1.8399810791015625,
          2.0579397678375244,
          1.9490472078323364
         ],
         "y": [
          2,
          2,
          1.7523523569107056,
          1.790798544883728,
          2
         ]
        },
        {
         "line": {
          "color": "blue",
          "width": 2
         },
         "mode": "lines",
         "showlegend": false,
         "type": "scatter",
         "x": [
          1.8399810791015625,
          1.936989188194275,
          2.1305150985717773,
          2.0579397678375244,
          1.8399810791015625
         ],
         "y": [
          1.7523523569107056,
          1.5932351350784302,
          1.583219289779663,
          1.790798544883728,
          1.7523523569107056
         ]
        },
        {
         "line": {
          "color": "blue",
          "width": 2
         },
         "mode": "lines",
         "showlegend": false,
         "type": "scatter",
         "x": [
          1.2487528324127197,
          1.1273328065872192,
          0.913159191608429,
          1.0133227109909058,
          1.2487528324127197
         ],
         "y": [
          1.1753369569778442,
          1.381439208984375,
          1.384960651397705,
          1.1578656435012817,
          1.1753369569778442
         ]
        },
        {
         "line": {
          "color": "blue",
          "width": 2
         },
         "mode": "lines",
         "showlegend": false,
         "type": "scatter",
         "x": [
          1.1273328065872192,
          1.0725041627883911,
          0.8549940586090088,
          0.913159191608429,
          1.1273328065872192
         ],
         "y": [
          1.381439208984375,
          1.5951138734817505,
          1.6071720123291016,
          1.384960651397705,
          1.381439208984375
         ]
        },
        {
         "line": {
          "color": "blue",
          "width": 2
         },
         "mode": "lines",
         "showlegend": false,
         "type": "scatter",
         "x": [
          0.8549940586090088,
          0.6195558905601501,
          0.7032692432403564,
          0.913159191608429,
          0.8549940586090088
         ],
         "y": [
          1.6071720123291016,
          1.6367623805999756,
          1.3785207271575928,
          1.384960651397705,
          1.6071720123291016
         ]
        },
        {
         "line": {
          "color": "blue",
          "width": 2
         },
         "mode": "lines",
         "showlegend": false,
         "type": "scatter",
         "x": [
          0.7032692432403564,
          0.7919260263442993,
          1.0133227109909058,
          0.913159191608429,
          0.7032692432403564
         ],
         "y": [
          1.3785207271575928,
          1.1481053829193115,
          1.1578656435012817,
          1.384960651397705,
          1.3785207271575928
         ]
        },
        {
         "line": {
          "color": "blue",
          "width": 2
         },
         "mode": "lines",
         "showlegend": false,
         "type": "scatter",
         "x": [
          4.786237716674805,
          4.781370639801025,
          4.655276775360107,
          4.664474964141846,
          4.786237716674805
         ],
         "y": [
          0.19695256650447845,
          0.310759961605072,
          0.34788778424263,
          0.21988070011138916,
          0.19695256650447845
         ]
        },
        {
         "line": {
          "color": "blue",
          "width": 2
         },
         "mode": "lines",
         "showlegend": false,
         "type": "scatter",
         "x": [
          4.781370639801025,
          4.777948379516602,
          4.655497074127197,
          4.655276775360107,
          4.781370639801025
         ],
         "y": [
          0.310759961605072,
          0.44183599948883057,
          0.46665915846824646,
          0.34788778424263,
          0.310759961605072
         ]
        },
        {
         "line": {
          "color": "blue",
          "width": 2
         },
         "mode": "lines",
         "showlegend": false,
         "type": "scatter",
         "x": [
          4.655497074127197,
          4.529269695281982,
          4.519779205322266,
          4.655276775360107,
          4.655497074127197
         ],
         "y": [
          0.46665915846824646,
          0.5404736399650574,
          0.4059048891067505,
          0.34788778424263,
          0.46665915846824646
         ]
        },
        {
         "line": {
          "color": "blue",
          "width": 2
         },
         "mode": "lines",
         "showlegend": false,
         "type": "scatter",
         "x": [
          4.519779205322266,
          4.532685279846191,
          4.664474964141846,
          4.655276775360107,
          4.519779205322266
         ],
         "y": [
          0.4059048891067505,
          0.26613542437553406,
          0.21988070011138916,
          0.34788778424263,
          0.4059048891067505
         ]
        },
        {
         "line": {
          "color": "blue",
          "width": 2
         },
         "mode": "lines",
         "showlegend": false,
         "type": "scatter",
         "x": [
          1.3543840646743774,
          1.3669102191925049,
          1.5894502401351929,
          1.5371657609939575,
          1.3543840646743774
         ],
         "y": [
          0.3446437418460846,
          0.16960975527763367,
          0.16295339167118073,
          0.3270001709461212,
          0.3446437418460846
         ]
        },
        {
         "line": {
          "color": "blue",
          "width": 2
         },
         "mode": "lines",
         "showlegend": false,
         "type": "scatter",
         "x": [
          1.3669102191925049,
          1.419364094734192,
          1.677985429763794,
          1.5894502401351929,
          1.3669102191925049
         ],
         "y": [
          0.16960975527763367,
          0.0001323938777204603,
          0.00016047399549279362,
          0.16295339167118073,
          0.16960975527763367
         ]
        },
        {
         "line": {
          "color": "blue",
          "width": 2
         },
         "mode": "lines",
         "showlegend": false,
         "type": "scatter",
         "x": [
          1.677985429763794,
          1.9366068840026855,
          1.771650791168213,
          1.5894502401351929,
          1.677985429763794
         ],
         "y": [
          0.00016047399549279362,
          0.00018855412781704217,
          0.17057465016841888,
          0.16295339167118073,
          0.00016047399549279362
         ]
        },
        {
         "line": {
          "color": "blue",
          "width": 2
         },
         "mode": "lines",
         "showlegend": false,
         "type": "scatter",
         "x": [
          1.771650791168213,
          1.7777091264724731,
          1.5371657609939575,
          1.5894502401351929,
          1.771650791168213
         ],
         "y": [
          0.17057465016841888,
          0.2957989573478699,
          0.3270001709461212,
          0.16295339167118073,
          0.17057465016841888
         ]
        },
        {
         "line": {
          "color": "blue",
          "width": 2
         },
         "mode": "lines",
         "showlegend": false,
         "type": "scatter",
         "x": [
          1.9581654071807861,
          1.8069356679916382,
          1.6369144916534424,
          1.7927772998809814,
          1.9581654071807861
         ],
         "y": [
          0.480968713760376,
          0.6288296580314636,
          0.4833543598651886,
          0.4158589541912079,
          0.480968713760376
         ]
        },
        {
         "line": {
          "color": "blue",
          "width": 2
         },
         "mode": "lines",
         "showlegend": false,
         "type": "scatter",
         "x": [
          1.8069356679916382,
          1.551755666732788,
          1.4259897470474243,
          1.6369144916534424,
          1.8069356679916382
         ],
         "y": [
          0.6288296580314636,
          0.7565462589263916,
          0.535866379737854,
          0.4833543598651886,
          0.6288296580314636
         ]
        },
        {
         "line": {
          "color": "blue",
          "width": 2
         },
         "mode": "lines",
         "showlegend": false,
         "type": "scatter",
         "x": [
          1.4259897470474243,
          1.3543840646743774,
          1.5371657609939575,
          1.6369144916534424,
          1.4259897470474243
         ],
         "y": [
          0.535866379737854,
          0.3446437418460846,
          0.3270001709461212,
          0.4833543598651886,
          0.535866379737854
         ]
        },
        {
         "line": {
          "color": "blue",
          "width": 2
         },
         "mode": "lines",
         "showlegend": false,
         "type": "scatter",
         "x": [
          1.5371657609939575,
          1.7777091264724731,
          1.7927772998809814,
          1.6369144916534424,
          1.5371657609939575
         ],
         "y": [
          0.3270001709461212,
          0.2957989573478699,
          0.4158589541912079,
          0.4833543598651886,
          0.3270001709461212
         ]
        },
        {
         "line": {
          "color": "blue",
          "width": 2
         },
         "mode": "lines",
         "showlegend": false,
         "type": "scatter",
         "x": [
          0.2351664900779724,
          0.3566628694534302,
          0.40328821539878845,
          0.26024454832077026,
          0.2351664900779724
         ],
         "y": [
          0.16964052617549896,
          0.17079336941242218,
          0.27895694971084595,
          0.2798923850059509,
          0.16964052617549896
         ]
        },
        {
         "line": {
          "color": "blue",
          "width": 2
         },
         "mode": "lines",
         "showlegend": false,
         "type": "scatter",
         "x": [
          0.3566628694534302,
          0.44784802198410034,
          0.5283551812171936,
          0.40328821539878845,
          0.3566628694534302
         ],
         "y": [
          0.17079336941242218,
          0.17369678616523743,
          0.25586000084877014,
          0.27895694971084595,
          0.17079336941242218
         ]
        },
        {
         "line": {
          "color": "blue",
          "width": 2
         },
         "mode": "lines",
         "showlegend": false,
         "type": "scatter",
         "x": [
          0.5283551812171936,
          0.627141535282135,
          0.4450821578502655,
          0.40328821539878845,
          0.5283551812171936
         ],
         "y": [
          0.25586000084877014,
          0.36488497257232666,
          0.4019414782524109,
          0.27895694971084595,
          0.25586000084877014
         ]
        },
        {
         "line": {
          "color": "blue",
          "width": 2
         },
         "mode": "lines",
         "showlegend": false,
         "type": "scatter",
         "x": [
          0.4450821578502655,
          0.2805204391479492,
          0.26024454832077026,
          0.40328821539878845,
          0.4450821578502655
         ],
         "y": [
          0.4019414782524109,
          0.41729649901390076,
          0.2798923850059509,
          0.27895694971084595,
          0.4019414782524109
         ]
        },
        {
         "line": {
          "color": "blue",
          "width": 2
         },
         "mode": "lines",
         "showlegend": false,
         "type": "scatter",
         "x": [
          4.532685279846191,
          4.519779205322266,
          4.367013454437256,
          4.388168811798096,
          4.532685279846191
         ],
         "y": [
          0.26613542437553406,
          0.4059048891067505,
          0.49820104241371155,
          0.312896192073822,
          0.26613542437553406
         ]
        },
        {
         "line": {
          "color": "blue",
          "width": 2
         },
         "mode": "lines",
         "showlegend": false,
         "type": "scatter",
         "x": [
          4.519779205322266,
          4.529269695281982,
          4.380903720855713,
          4.367013454437256,
          4.519779205322266
         ],
         "y": [
          0.4059048891067505,
          0.5404736399650574,
          0.665602445602417,
          0.49820104241371155,
          0.4059048891067505
         ]
        },
        {
         "line": {
          "color": "blue",
          "width": 2
         },
         "mode": "lines",
         "showlegend": false,
         "type": "scatter",
         "x": [
          4.380903720855713,
          4.184881210327148,
          4.198951244354248,
          4.367013454437256,
          4.380903720855713
         ],
         "y": [
          0.665602445602417,
          0.8321652412414551,
          0.578764796257019,
          0.49820104241371155,
          0.665602445602417
         ]
        },
        {
         "line": {
          "color": "blue",
          "width": 2
         },
         "mode": "lines",
         "showlegend": false,
         "type": "scatter",
         "x": [
          4.198951244354248,
          4.227769374847412,
          4.388168811798096,
          4.367013454437256,
          4.198951244354248
         ],
         "y": [
          0.578764796257019,
          0.36207443475723267,
          0.312896192073822,
          0.49820104241371155,
          0.578764796257019
         ]
        },
        {
         "line": {
          "color": "blue",
          "width": 2
         },
         "mode": "lines",
         "showlegend": false,
         "type": "scatter",
         "x": [
          4.777948379516602,
          4.763580322265625,
          4.676713943481445,
          4.655497074127197,
          4.777948379516602
         ],
         "y": [
          0.44183599948883057,
          0.5851188898086548,
          0.5678136348724365,
          0.46665915846824646,
          0.44183599948883057
         ]
        },
        {
         "line": {
          "color": "blue",
          "width": 2
         },
         "mode": "lines",
         "showlegend": false,
         "type": "scatter",
         "x": [
          4.72461462020874,
          4.605403900146484,
          4.676713943481445,
          4.763580322265625,
          4.72461462020874
         ],
         "y": [
          0.7577979564666748,
          0.6484557390213013,
          0.5678136348724365,
          0.5851188898086548,
          0.7577979564666748
         ]
        },
        {
         "line": {
          "color": "blue",
          "width": 2
         },
         "mode": "lines",
         "showlegend": false,
         "type": "scatter",
         "x": [
          4.529269695281982,
          4.655497074127197,
          4.676713943481445,
          4.605403900146484,
          4.529269695281982
         ],
         "y": [
          0.5404736399650574,
          0.46665915846824646,
          0.5678136348724365,
          0.6484557390213013,
          0.5404736399650574
         ]
        },
        {
         "line": {
          "color": "blue",
          "width": 2
         },
         "mode": "lines",
         "showlegend": false,
         "type": "scatter",
         "x": [
          4.751469135284424,
          4.627870559692383,
          4.6611738204956055,
          4.750705718994141,
          4.751469135284424
         ],
         "y": [
          1.1083425283432007,
          1.0579159259796143,
          0.9445756673812866,
          0.9411253333091736,
          1.1083425283432007
         ]
        },
        {
         "line": {
          "color": "blue",
          "width": 2
         },
         "mode": "lines",
         "showlegend": false,
         "type": "scatter",
         "x": [
          4.499637603759766,
          4.598024845123291,
          4.6611738204956055,
          4.627870559692383,
          4.499637603759766
         ],
         "y": [
          1.0052365064620972,
          0.8661877512931824,
          0.9445756673812866,
          1.0579159259796143,
          1.0052365064620972
         ]
        },
        {
         "line": {
          "color": "blue",
          "width": 2
         },
         "mode": "lines",
         "showlegend": false,
         "type": "scatter",
         "x": [
          4.72461462020874,
          4.750705718994141,
          4.6611738204956055,
          4.598024845123291,
          4.72461462020874
         ],
         "y": [
          0.7577979564666748,
          0.9411253333091736,
          0.9445756673812866,
          0.8661877512931824,
          0.7577979564666748
         ]
        },
        {
         "line": {
          "color": "blue",
          "width": 2
         },
         "mode": "lines",
         "showlegend": false,
         "type": "scatter",
         "x": [
          2.4818246364593506,
          2.7423744201660156,
          2.7789831161499023,
          2.6743946075439453,
          2.4818246364593506
         ],
         "y": [
          0.6158626079559326,
          0.5232980847358704,
          0.6703698039054871,
          0.7902913093566895,
          0.6158626079559326
         ]
        },
        {
         "line": {
          "color": "blue",
          "width": 2
         },
         "mode": "lines",
         "showlegend": false,
         "type": "scatter",
         "x": [
          2.963808298110962,
          2.9305195808410645,
          2.7789831161499023,
          2.7423744201660156,
          2.963808298110962
         ],
         "y": [
          0.4604211151599884,
          0.6812463998794556,
          0.6703698039054871,
          0.5232980847358704,
          0.4604211151599884
         ]
        },
        {
         "line": {
          "color": "blue",
          "width": 2
         },
         "mode": "lines",
         "showlegend": false,
         "type": "scatter",
         "x": [
          2.8966269493103027,
          2.6743946075439453,
          2.7789831161499023,
          2.9305195808410645,
          2.8966269493103027
         ],
         "y": [
          0.9135451912879944,
          0.7902913093566895,
          0.6703698039054871,
          0.6812463998794556,
          0.9135451912879944
         ]
        },
        {
         "line": {
          "color": "blue",
          "width": 2
         },
         "mode": "lines",
         "showlegend": false,
         "type": "scatter",
         "x": [
          3.473403215408325,
          3.3496553897857666,
          3.4812986850738525,
          3.613842725753784,
          3.473403215408325
         ],
         "y": [
          1.1742188930511475,
          1.000938892364502,
          0.9523402452468872,
          1.0139297246932983,
          1.1742188930511475
         ]
        },
        {
         "line": {
          "color": "blue",
          "width": 2
         },
         "mode": "lines",
         "showlegend": false,
         "type": "scatter",
         "x": [
          3.2980592250823975,
          3.4975550174713135,
          3.4812986850738525,
          3.3496553897857666,
          3.2980592250823975
         ],
         "y": [
          0.8300948143005371,
          0.8307721614837646,
          0.9523402452468872,
          1.000938892364502,
          0.8300948143005371
         ]
        },
        {
         "line": {
          "color": "blue",
          "width": 2
         },
         "mode": "lines",
         "showlegend": false,
         "type": "scatter",
         "x": [
          3.713677167892456,
          3.613842725753784,
          3.4812986850738525,
          3.4975550174713135,
          3.713677167892456
         ],
         "y": [
          0.8393602967262268,
          1.0139297246932983,
          0.9523402452468872,
          0.8307721614837646,
          0.8393602967262268
         ]
        },
        {
         "line": {
          "color": "blue",
          "width": 2
         },
         "mode": "lines",
         "showlegend": false,
         "type": "scatter",
         "x": [
          3.413848876953125,
          3.4483723640441895,
          3.6152236461639404,
          3.6525046825408936,
          3.413848876953125
         ],
         "y": [
          1.5906689167022705,
          1.3876214027404785,
          1.388878345489502,
          1.5292885303497314,
          1.5906689167022705
         ]
        },
        {
         "line": {
          "color": "blue",
          "width": 2
         },
         "mode": "lines",
         "showlegend": false,
         "type": "scatter",
         "x": [
          3.473403215408325,
          3.7114505767822266,
          3.6152236461639404,
          3.4483723640441895,
          3.473403215408325
         ],
         "y": [
          1.1742188930511475,
          1.2611958980560303,
          1.388878345489502,
          1.3876214027404785,
          1.1742188930511475
         ]
        },
        {
         "line": {
          "color": "blue",
          "width": 2
         },
         "mode": "lines",
         "showlegend": false,
         "type": "scatter",
         "x": [
          3.940859079360962,
          3.6525046825408936,
          3.6152236461639404,
          3.7114505767822266,
          3.940859079360962
         ],
         "y": [
          1.4175339937210083,
          1.5292885303497314,
          1.388878345489502,
          1.2611958980560303,
          1.4175339937210083
         ]
        },
        {
         "line": {
          "color": "blue",
          "width": 2
         },
         "mode": "lines",
         "showlegend": false,
         "type": "scatter",
         "x": [
          1.7777091264724731,
          1.771650791168213,
          1.9366068840026855,
          1.9901713132858276,
          1.7777091264724731
         ],
         "y": [
          0.2957989573478699,
          0.17057465016841888,
          0.00018855412781704217,
          0.276121586561203,
          0.2957989573478699
         ]
        },
        {
         "line": {
          "color": "blue",
          "width": 2
         },
         "mode": "lines",
         "showlegend": false,
         "type": "scatter",
         "x": [
          1.9901713132858276,
          1.9581654071807861,
          1.7927772998809814,
          1.7777091264724731,
          1.9901713132858276
         ],
         "y": [
          0.276121586561203,
          0.480968713760376,
          0.4158589541912079,
          0.2957989573478699,
          0.276121586561203
         ]
        },
        {
         "line": {
          "color": "blue",
          "width": 2
         },
         "mode": "lines",
         "showlegend": false,
         "type": "scatter",
         "x": [
          0.4665650427341461,
          0.5224918127059937,
          0.6202309727668762,
          0.6209971308708191,
          0.4665650427341461
         ],
         "y": [
          2,
          1.8436788320541382,
          1.881928563117981,
          2,
          2
         ]
        },
        {
         "line": {
          "color": "blue",
          "width": 2
         },
         "mode": "lines",
         "showlegend": false,
         "type": "scatter",
         "x": [
          0.6195558905601501,
          0.7255236506462097,
          0.6202309727668762,
          0.5224918127059937,
          0.6195558905601501
         ],
         "y": [
          1.6367623805999756,
          1.8332324028015137,
          1.881928563117981,
          1.8436788320541382,
          1.6367623805999756
         ]
        },
        {
         "line": {
          "color": "blue",
          "width": 2
         },
         "mode": "lines",
         "showlegend": false,
         "type": "scatter",
         "x": [
          0.7830976843833923,
          0.6209971308708191,
          0.6202309727668762,
          0.7255236506462097,
          0.7830976843833923
         ],
         "y": [
          2,
          2,
          1.881928563117981,
          1.8332324028015137,
          2
         ]
        },
        {
         "line": {
          "color": "blue",
          "width": 2
         },
         "mode": "lines",
         "showlegend": false,
         "type": "scatter",
         "x": [
          0.26228660345077515,
          0.2859349250793457,
          0.3970043361186981,
          0.4134669601917267,
          0.26228660345077515
         ],
         "y": [
          1.7314345836639404,
          1.5875043869018555,
          1.5976229906082153,
          1.6992977857589722,
          1.7314345836639404
         ]
        },
        {
         "line": {
          "color": "blue",
          "width": 2
         },
         "mode": "lines",
         "showlegend": false,
         "type": "scatter",
         "x": [
          0.31884118914604187,
          0.4631172716617584,
          0.3970043361186981,
          0.2859349250793457,
          0.31884118914604187
         ],
         "y": [
          1.4385032653808594,
          1.502655029296875,
          1.5976229906082153,
          1.5875043869018555,
          1.4385032653808594
         ]
        },
        {
         "line": {
          "color": "blue",
          "width": 2
         },
         "mode": "lines",
         "showlegend": false,
         "type": "scatter",
         "x": [
          0.6195558905601501,
          0.4134669601917267,
          0.3970043361186981,
          0.4631172716617584,
          0.6195558905601501
         ],
         "y": [
          1.6367623805999756,
          1.6992977857589722,
          1.5976229906082153,
          1.502655029296875,
          1.6367623805999756
         ]
        },
        {
         "line": {
          "color": "blue",
          "width": 2
         },
         "mode": "lines",
         "showlegend": false,
         "type": "scatter",
         "x": [
          0.578811764717102,
          0.5067894458770752,
          0.4058176577091217,
          0.415022075176239,
          0.578811764717102
         ],
         "y": [
          0.7186275720596313,
          0.8900513648986816,
          0.8539271354675293,
          0.730919361114502,
          0.7186275720596313
         ]
        },
        {
         "line": {
          "color": "blue",
          "width": 2
         },
         "mode": "lines",
         "showlegend": false,
         "type": "scatter",
         "x": [
          0.39051392674446106,
          0.3024592697620392,
          0.4058176577091217,
          0.5067894458770752,
          0.39051392674446106
         ],
         "y": [
          1.07501220703125,
          0.9197574257850647,
          0.8539271354675293,
          0.8900513648986816,
          1.07501220703125
         ]
        },
        {
         "line": {
          "color": "blue",
          "width": 2
         },
         "mode": "lines",
         "showlegend": false,
         "type": "scatter",
         "x": [
          0.2587893605232239,
          0.415022075176239,
          0.4058176577091217,
          0.3024592697620392,
          0.2587893605232239
         ],
         "y": [
          0.7632734775543213,
          0.730919361114502,
          0.8539271354675293,
          0.9197574257850647,
          0.7632734775543213
         ]
        }
       ],
       "layout": {
        "autosize": true,
        "showlegend": false,
        "template": {
         "data": {
          "bar": [
           {
            "error_x": {
             "color": "#2a3f5f"
            },
            "error_y": {
             "color": "#2a3f5f"
            },
            "marker": {
             "line": {
              "color": "#E5ECF6",
              "width": 0.5
             },
             "pattern": {
              "fillmode": "overlay",
              "size": 10,
              "solidity": 0.2
             }
            },
            "type": "bar"
           }
          ],
          "barpolar": [
           {
            "marker": {
             "line": {
              "color": "#E5ECF6",
              "width": 0.5
             },
             "pattern": {
              "fillmode": "overlay",
              "size": 10,
              "solidity": 0.2
             }
            },
            "type": "barpolar"
           }
          ],
          "carpet": [
           {
            "aaxis": {
             "endlinecolor": "#2a3f5f",
             "gridcolor": "white",
             "linecolor": "white",
             "minorgridcolor": "white",
             "startlinecolor": "#2a3f5f"
            },
            "baxis": {
             "endlinecolor": "#2a3f5f",
             "gridcolor": "white",
             "linecolor": "white",
             "minorgridcolor": "white",
             "startlinecolor": "#2a3f5f"
            },
            "type": "carpet"
           }
          ],
          "choropleth": [
           {
            "colorbar": {
             "outlinewidth": 0,
             "ticks": ""
            },
            "type": "choropleth"
           }
          ],
          "contour": [
           {
            "colorbar": {
             "outlinewidth": 0,
             "ticks": ""
            },
            "colorscale": [
             [
              0,
              "#0d0887"
             ],
             [
              0.1111111111111111,
              "#46039f"
             ],
             [
              0.2222222222222222,
              "#7201a8"
             ],
             [
              0.3333333333333333,
              "#9c179e"
             ],
             [
              0.4444444444444444,
              "#bd3786"
             ],
             [
              0.5555555555555556,
              "#d8576b"
             ],
             [
              0.6666666666666666,
              "#ed7953"
             ],
             [
              0.7777777777777778,
              "#fb9f3a"
             ],
             [
              0.8888888888888888,
              "#fdca26"
             ],
             [
              1,
              "#f0f921"
             ]
            ],
            "type": "contour"
           }
          ],
          "contourcarpet": [
           {
            "colorbar": {
             "outlinewidth": 0,
             "ticks": ""
            },
            "type": "contourcarpet"
           }
          ],
          "heatmap": [
           {
            "colorbar": {
             "outlinewidth": 0,
             "ticks": ""
            },
            "colorscale": [
             [
              0,
              "#0d0887"
             ],
             [
              0.1111111111111111,
              "#46039f"
             ],
             [
              0.2222222222222222,
              "#7201a8"
             ],
             [
              0.3333333333333333,
              "#9c179e"
             ],
             [
              0.4444444444444444,
              "#bd3786"
             ],
             [
              0.5555555555555556,
              "#d8576b"
             ],
             [
              0.6666666666666666,
              "#ed7953"
             ],
             [
              0.7777777777777778,
              "#fb9f3a"
             ],
             [
              0.8888888888888888,
              "#fdca26"
             ],
             [
              1,
              "#f0f921"
             ]
            ],
            "type": "heatmap"
           }
          ],
          "heatmapgl": [
           {
            "colorbar": {
             "outlinewidth": 0,
             "ticks": ""
            },
            "colorscale": [
             [
              0,
              "#0d0887"
             ],
             [
              0.1111111111111111,
              "#46039f"
             ],
             [
              0.2222222222222222,
              "#7201a8"
             ],
             [
              0.3333333333333333,
              "#9c179e"
             ],
             [
              0.4444444444444444,
              "#bd3786"
             ],
             [
              0.5555555555555556,
              "#d8576b"
             ],
             [
              0.6666666666666666,
              "#ed7953"
             ],
             [
              0.7777777777777778,
              "#fb9f3a"
             ],
             [
              0.8888888888888888,
              "#fdca26"
             ],
             [
              1,
              "#f0f921"
             ]
            ],
            "type": "heatmapgl"
           }
          ],
          "histogram": [
           {
            "marker": {
             "pattern": {
              "fillmode": "overlay",
              "size": 10,
              "solidity": 0.2
             }
            },
            "type": "histogram"
           }
          ],
          "histogram2d": [
           {
            "colorbar": {
             "outlinewidth": 0,
             "ticks": ""
            },
            "colorscale": [
             [
              0,
              "#0d0887"
             ],
             [
              0.1111111111111111,
              "#46039f"
             ],
             [
              0.2222222222222222,
              "#7201a8"
             ],
             [
              0.3333333333333333,
              "#9c179e"
             ],
             [
              0.4444444444444444,
              "#bd3786"
             ],
             [
              0.5555555555555556,
              "#d8576b"
             ],
             [
              0.6666666666666666,
              "#ed7953"
             ],
             [
              0.7777777777777778,
              "#fb9f3a"
             ],
             [
              0.8888888888888888,
              "#fdca26"
             ],
             [
              1,
              "#f0f921"
             ]
            ],
            "type": "histogram2d"
           }
          ],
          "histogram2dcontour": [
           {
            "colorbar": {
             "outlinewidth": 0,
             "ticks": ""
            },
            "colorscale": [
             [
              0,
              "#0d0887"
             ],
             [
              0.1111111111111111,
              "#46039f"
             ],
             [
              0.2222222222222222,
              "#7201a8"
             ],
             [
              0.3333333333333333,
              "#9c179e"
             ],
             [
              0.4444444444444444,
              "#bd3786"
             ],
             [
              0.5555555555555556,
              "#d8576b"
             ],
             [
              0.6666666666666666,
              "#ed7953"
             ],
             [
              0.7777777777777778,
              "#fb9f3a"
             ],
             [
              0.8888888888888888,
              "#fdca26"
             ],
             [
              1,
              "#f0f921"
             ]
            ],
            "type": "histogram2dcontour"
           }
          ],
          "mesh3d": [
           {
            "colorbar": {
             "outlinewidth": 0,
             "ticks": ""
            },
            "type": "mesh3d"
           }
          ],
          "parcoords": [
           {
            "line": {
             "colorbar": {
              "outlinewidth": 0,
              "ticks": ""
             }
            },
            "type": "parcoords"
           }
          ],
          "pie": [
           {
            "automargin": true,
            "type": "pie"
           }
          ],
          "scatter": [
           {
            "fillpattern": {
             "fillmode": "overlay",
             "size": 10,
             "solidity": 0.2
            },
            "type": "scatter"
           }
          ],
          "scatter3d": [
           {
            "line": {
             "colorbar": {
              "outlinewidth": 0,
              "ticks": ""
             }
            },
            "marker": {
             "colorbar": {
              "outlinewidth": 0,
              "ticks": ""
             }
            },
            "type": "scatter3d"
           }
          ],
          "scattercarpet": [
           {
            "marker": {
             "colorbar": {
              "outlinewidth": 0,
              "ticks": ""
             }
            },
            "type": "scattercarpet"
           }
          ],
          "scattergeo": [
           {
            "marker": {
             "colorbar": {
              "outlinewidth": 0,
              "ticks": ""
             }
            },
            "type": "scattergeo"
           }
          ],
          "scattergl": [
           {
            "marker": {
             "colorbar": {
              "outlinewidth": 0,
              "ticks": ""
             }
            },
            "type": "scattergl"
           }
          ],
          "scattermapbox": [
           {
            "marker": {
             "colorbar": {
              "outlinewidth": 0,
              "ticks": ""
             }
            },
            "type": "scattermapbox"
           }
          ],
          "scatterpolar": [
           {
            "marker": {
             "colorbar": {
              "outlinewidth": 0,
              "ticks": ""
             }
            },
            "type": "scatterpolar"
           }
          ],
          "scatterpolargl": [
           {
            "marker": {
             "colorbar": {
              "outlinewidth": 0,
              "ticks": ""
             }
            },
            "type": "scatterpolargl"
           }
          ],
          "scatterternary": [
           {
            "marker": {
             "colorbar": {
              "outlinewidth": 0,
              "ticks": ""
             }
            },
            "type": "scatterternary"
           }
          ],
          "surface": [
           {
            "colorbar": {
             "outlinewidth": 0,
             "ticks": ""
            },
            "colorscale": [
             [
              0,
              "#0d0887"
             ],
             [
              0.1111111111111111,
              "#46039f"
             ],
             [
              0.2222222222222222,
              "#7201a8"
             ],
             [
              0.3333333333333333,
              "#9c179e"
             ],
             [
              0.4444444444444444,
              "#bd3786"
             ],
             [
              0.5555555555555556,
              "#d8576b"
             ],
             [
              0.6666666666666666,
              "#ed7953"
             ],
             [
              0.7777777777777778,
              "#fb9f3a"
             ],
             [
              0.8888888888888888,
              "#fdca26"
             ],
             [
              1,
              "#f0f921"
             ]
            ],
            "type": "surface"
           }
          ],
          "table": [
           {
            "cells": {
             "fill": {
              "color": "#EBF0F8"
             },
             "line": {
              "color": "white"
             }
            },
            "header": {
             "fill": {
              "color": "#C8D4E3"
             },
             "line": {
              "color": "white"
             }
            },
            "type": "table"
           }
          ]
         },
         "layout": {
          "annotationdefaults": {
           "arrowcolor": "#2a3f5f",
           "arrowhead": 0,
           "arrowwidth": 1
          },
          "autotypenumbers": "strict",
          "coloraxis": {
           "colorbar": {
            "outlinewidth": 0,
            "ticks": ""
           }
          },
          "colorscale": {
           "diverging": [
            [
             0,
             "#8e0152"
            ],
            [
             0.1,
             "#c51b7d"
            ],
            [
             0.2,
             "#de77ae"
            ],
            [
             0.3,
             "#f1b6da"
            ],
            [
             0.4,
             "#fde0ef"
            ],
            [
             0.5,
             "#f7f7f7"
            ],
            [
             0.6,
             "#e6f5d0"
            ],
            [
             0.7,
             "#b8e186"
            ],
            [
             0.8,
             "#7fbc41"
            ],
            [
             0.9,
             "#4d9221"
            ],
            [
             1,
             "#276419"
            ]
           ],
           "sequential": [
            [
             0,
             "#0d0887"
            ],
            [
             0.1111111111111111,
             "#46039f"
            ],
            [
             0.2222222222222222,
             "#7201a8"
            ],
            [
             0.3333333333333333,
             "#9c179e"
            ],
            [
             0.4444444444444444,
             "#bd3786"
            ],
            [
             0.5555555555555556,
             "#d8576b"
            ],
            [
             0.6666666666666666,
             "#ed7953"
            ],
            [
             0.7777777777777778,
             "#fb9f3a"
            ],
            [
             0.8888888888888888,
             "#fdca26"
            ],
            [
             1,
             "#f0f921"
            ]
           ],
           "sequentialminus": [
            [
             0,
             "#0d0887"
            ],
            [
             0.1111111111111111,
             "#46039f"
            ],
            [
             0.2222222222222222,
             "#7201a8"
            ],
            [
             0.3333333333333333,
             "#9c179e"
            ],
            [
             0.4444444444444444,
             "#bd3786"
            ],
            [
             0.5555555555555556,
             "#d8576b"
            ],
            [
             0.6666666666666666,
             "#ed7953"
            ],
            [
             0.7777777777777778,
             "#fb9f3a"
            ],
            [
             0.8888888888888888,
             "#fdca26"
            ],
            [
             1,
             "#f0f921"
            ]
           ]
          },
          "colorway": [
           "#636efa",
           "#EF553B",
           "#00cc96",
           "#ab63fa",
           "#FFA15A",
           "#19d3f3",
           "#FF6692",
           "#B6E880",
           "#FF97FF",
           "#FECB52"
          ],
          "font": {
           "color": "#2a3f5f"
          },
          "geo": {
           "bgcolor": "white",
           "lakecolor": "white",
           "landcolor": "#E5ECF6",
           "showlakes": true,
           "showland": true,
           "subunitcolor": "white"
          },
          "hoverlabel": {
           "align": "left"
          },
          "hovermode": "closest",
          "mapbox": {
           "style": "light"
          },
          "paper_bgcolor": "white",
          "plot_bgcolor": "#E5ECF6",
          "polar": {
           "angularaxis": {
            "gridcolor": "white",
            "linecolor": "white",
            "ticks": ""
           },
           "bgcolor": "#E5ECF6",
           "radialaxis": {
            "gridcolor": "white",
            "linecolor": "white",
            "ticks": ""
           }
          },
          "scene": {
           "xaxis": {
            "backgroundcolor": "#E5ECF6",
            "gridcolor": "white",
            "gridwidth": 2,
            "linecolor": "white",
            "showbackground": true,
            "ticks": "",
            "zerolinecolor": "white"
           },
           "yaxis": {
            "backgroundcolor": "#E5ECF6",
            "gridcolor": "white",
            "gridwidth": 2,
            "linecolor": "white",
            "showbackground": true,
            "ticks": "",
            "zerolinecolor": "white"
           },
           "zaxis": {
            "backgroundcolor": "#E5ECF6",
            "gridcolor": "white",
            "gridwidth": 2,
            "linecolor": "white",
            "showbackground": true,
            "ticks": "",
            "zerolinecolor": "white"
           }
          },
          "shapedefaults": {
           "line": {
            "color": "#2a3f5f"
           }
          },
          "ternary": {
           "aaxis": {
            "gridcolor": "white",
            "linecolor": "white",
            "ticks": ""
           },
           "baxis": {
            "gridcolor": "white",
            "linecolor": "white",
            "ticks": ""
           },
           "bgcolor": "#E5ECF6",
           "caxis": {
            "gridcolor": "white",
            "linecolor": "white",
            "ticks": ""
           }
          },
          "title": {
           "x": 0.05
          },
          "xaxis": {
           "automargin": true,
           "gridcolor": "white",
           "linecolor": "white",
           "ticks": "",
           "title": {
            "standoff": 15
           },
           "zerolinecolor": "white",
           "zerolinewidth": 2
          },
          "yaxis": {
           "automargin": true,
           "gridcolor": "white",
           "linecolor": "white",
           "ticks": "",
           "title": {
            "standoff": 15
           },
           "zerolinecolor": "white",
           "zerolinewidth": 2
          }
         }
        },
        "title": {
         "text": "Quadrilateral Mesh in 2D (View: xy)"
        },
        "xaxis": {
         "scaleanchor": "y",
         "scaleratio": 1,
         "title": {
          "text": "X"
         }
        },
        "yaxis": {
         "scaleanchor": "x",
         "scaleratio": 1,
         "title": {
          "text": "Y"
         }
        }
       }
      }
     },
     "metadata": {},
     "output_type": "display_data"
    }
   ],
   "source": [
    "# Fonction pour extraire les coordonnées des nœuds depuis la base de données CDB\n",
    "def extract_node_coords(Index):\n",
    "    ie = c_int(0)\n",
    "    RecLen = c_int(sizeof(CNODE))  # Taille de la structure CNODE\n",
    "    node = CNODE()  # Instance de la structure CNODE\n",
    "    node_coords = {}  # Dictionnaire pour stocker les coordonnées des nœuds\n",
    "\n",
    "    while ie.value < 2:\n",
    "        ie.value = py_sof_cdb_get(Index, 20, 0, byref(node), byref(RecLen), 1)  # Lire les nœuds depuis CDB\n",
    "        if ie.value == 0:  # Pas d'erreur, nœud lu correctement\n",
    "            node_coords[node.m_nr] = (node.m_xyz[0], node.m_xyz[1], node.m_xyz[2])  # Stocker les coordonnées X, Y, Z du nœud\n",
    "        RecLen = c_int(sizeof(CNODE))  # Réinitialiser la taille de l'enregistrement\n",
    "    return node_coords  # Retourner les coordonnées des nœuds\n",
    "\n",
    "# Fonction pour extraire les éléments quadrilatéraux (avec les nœuds associés)\n",
    "def extract_quad_elements(Index):\n",
    "    ie = c_int(0)\n",
    "    RecLen = c_int(sizeof(CQUAD))  # Taille de la structure CQUAD\n",
    "    quad_element = CQUAD()  # Instance de la structure CQUAD\n",
    "    elements = []  # Liste pour stocker les éléments quadrilatéraux\n",
    "    element_numbers=[]\n",
    "    while ie.value < 2:\n",
    "        ie.value = py_sof_cdb_get(Index, 200, 0, byref(quad_element), byref(RecLen), 1)  # Lire les éléments quadrilatéraux\n",
    "        if ie.value == 0:  # Pas d'erreur, élément lu correctement\n",
    "            elements.append(quad_element.m_node[:])  # Ajouter les 4 nœuds de l'élément dans la liste\n",
    "            element_numbers.append(quad_element.m_nr)\n",
    "        RecLen = c_int(sizeof(CQUAD))  # Réinitialiser la taille de l'enregistrement\n",
    "\n",
    "    return elements,element_numbers  # Retourner les coordonnées et le numéro de chaque élément\n",
    "\n",
    "# Fonction pour créer et afficher le maillage quadrilatéral 2D interactif avec Plotly en fonction des axes spécifiés\n",
    "def plot_quad_mesh_from_cdb(file_path, view_axis='xy'):\n",
    "    # Ouverture de la base de données CDB\n",
    "    cdbStat, Index = open_cdb(file_path)\n",
    "\n",
    "    # Extraction des coordonnées des nœuds\n",
    "    node_coords = extract_node_coords(Index)\n",
    "\n",
    "    # Extraction des éléments quadrilatéraux\n",
    "    elements,_ = extract_quad_elements(Index)\n",
    "\n",
    "    # Fermeture de la base de données CDB\n",
    "    close_cdb(cdbStat, Index)\n",
    "\n",
    "    # Création d'une figure interactive 2D avec Plotly\n",
    "    fig = go.Figure()\n",
    "\n",
    "    # Sélection des axes pour la visualisation 2D\n",
    "    axis_map = {\n",
    "        'xy': (0, 1),  # Utiliser les axes X et Y\n",
    "        'xz': (0, 2),  # Utiliser les axes X et Z\n",
    "        'yz': (1, 2)   # Utiliser les axes Y et Z\n",
    "    }\n",
    "    ax1, ax2 = axis_map.get(view_axis, (0, 1))  # Par défaut, afficher selon XY\n",
    "\n",
    "    # Tracer les éléments quadrilatéraux\n",
    "    for element in elements:\n",
    "        # Récupérer les coordonnées des nœuds de l'élément\n",
    "        quad_coords = np.array([node_coords[node] for node in element])\n",
    "        quad_coords = np.vstack([quad_coords, quad_coords[0]])  # Fermer le quadrilatère\n",
    "\n",
    "        # Sélectionner les axes en fonction de la vue choisie\n",
    "        fig.add_trace(go.Scatter(\n",
    "            x=quad_coords[:, ax1], y=quad_coords[:, ax2],\n",
    "            mode='lines',\n",
    "            line=dict(color='blue', width=2),\n",
    "            showlegend=False\n",
    "        ))\n",
    "\n",
    "    # Configurer le layout selon les axes choisis\n",
    "    axis_labels = {\n",
    "        'xy': ('X', 'Y'),\n",
    "        'xz': ('X', 'Z'),\n",
    "        'yz': ('Y', 'Z')\n",
    "    }\n",
    "    x_label, y_label = axis_labels.get(view_axis, ('X', 'Y'))\n",
    "\n",
    "    fig.update_layout(\n",
    "        title=f\"Quadrilateral Mesh in 2D (View: {view_axis})\",\n",
    "        xaxis_title=x_label,\n",
    "        yaxis_title=y_label,\n",
    "        autosize=True,\n",
    "        showlegend=False,\n",
    "        xaxis=dict(scaleanchor=\"y\", scaleratio=1),\n",
    "        yaxis=dict(scaleanchor=\"x\", scaleratio=1)\n",
    "    )\n",
    "\n",
    "    # Affichage interactif\n",
    "    fig.show()\n",
    "\n",
    "# Exemple d'utilisation\n",
    "file_path = r\"sofistik_cdb\\b.cdb\"\n",
    "\n",
    "# Choisir l'axe de vue (par exemple, 'xy', 'xz', 'yz')\n",
    "plot_quad_mesh_from_cdb(file_path, view_axis='xy')\n"
   ]
  },
  {
   "cell_type": "code",
   "execution_count": 24,
   "metadata": {},
   "outputs": [],
   "source": [
    "# Fonction pour calculer le centre d'un quadrilatère\n",
    "def calculate_quad_centers(node_coords, elements):\n",
    "    centers = []\n",
    "    for element in elements:\n",
    "        # Extraire les coordonnées des nœuds de l'élément\n",
    "        quad_coords = np.array([node_coords[node] for node in element])\n",
    "        # Calculer le centre du quadrilatère en prenant la moyenne des coordonnées\n",
    "        center = np.mean(quad_coords, axis=0)\n",
    "        centers.append(center)\n",
    "    return centers\n",
    "\n",
    "import numpy as np\n",
    "import plotly.graph_objects as go\n",
    "\n",
    "# Fonction pour afficher le maillage de la structure et les forces selon la direction spécifiée\n",
    "def plot_quad_mesh_for(file_path, df_membran_forces, force_column='nx', view_axis='xy'):\n",
    "    # Ouverture de la base de données CDB\n",
    "    cdbStat, Index = open_cdb(file_path)\n",
    "\n",
    "    # Extraction des coordonnées des nœuds\n",
    "    node_coords = extract_node_coords(Index)\n",
    "\n",
    "    # Extraction des éléments quadrilatéraux\n",
    "    elements,_ = extract_quad_elements(Index)\n",
    "\n",
    "    # Fermeture de la base de données CDB\n",
    "    close_cdb(cdbStat, Index)\n",
    "\n",
    "    # Calcul des centres des éléments quadrilatéraux\n",
    "    centers = calculate_quad_centers(node_coords, elements)\n",
    "\n",
    "    # Création d'une figure plotly\n",
    "    fig = go.Figure()\n",
    "\n",
    "    # Définir les axes en fonction de la vue choisie\n",
    "    axis_map = {\n",
    "        'xy': (0, 1),  # Utiliser les axes X et Y\n",
    "        'xz': (0, 2),  # Utiliser les axes X et Z\n",
    "        'yz': (1, 2)   # Utiliser les axes Y et Z\n",
    "    }\n",
    "    ax1, ax2 = axis_map.get(view_axis, (0, 1))  # Par défaut, afficher selon XY\n",
    "\n",
    "    # Tracer le maillage sans valeurs\n",
    "    for element in elements:\n",
    "        quad_coords = np.array([node_coords[node] for node in element])\n",
    "        quad_coords = np.vstack([quad_coords, quad_coords[0]])  # Fermer le quadrilatère\n",
    "        x_coords = quad_coords[:, ax1]\n",
    "        y_coords = quad_coords[:, ax2]\n",
    "\n",
    "        # Ajout du quadrilatère au graphique\n",
    "        fig.add_trace(go.Scatter(\n",
    "            x=x_coords, y=y_coords, mode='lines',\n",
    "            line=dict(color='black', width=1),\n",
    "            showlegend=False\n",
    "        ))\n",
    "\n",
    "    # Affichage des valeurs des forces au centre de chaque quadrilatère\n",
    "    for i, center in enumerate(centers):\n",
    "        force_value = df_membran_forces.loc[i, force_column]\n",
    "\n",
    "        # Déterminer la couleur : rouge pour négatif, bleu pour positif\n",
    "        color = 'red' if force_value < 0 else 'blue'\n",
    "\n",
    "        # Ajouter la valeur de la force comme annotation\n",
    "        fig.add_trace(go.Scatter(\n",
    "            x=[center[ax1]], y=[center[ax2]],\n",
    "            text=[f'{force_value:.2f}'],\n",
    "            mode='text',\n",
    "            textfont=dict(color=color, size=12)\n",
    "        ))\n",
    "\n",
    "    # Configuration du layout pour interactivité\n",
    "    axis_labels = {\n",
    "        'xy': ('X', 'Y'),\n",
    "        'xz': ('X', 'Z'),\n",
    "        'yz': ('Y', 'Z')\n",
    "    }\n",
    "    x_label, y_label = axis_labels.get(view_axis, ('X', 'Y'))\n",
    "\n",
    "    fig.update_layout(\n",
    "        title=f\"{force_column} Values on Quadrilateral Mesh (View: {view_axis}, Interactive)\",\n",
    "        xaxis_title=x_label,\n",
    "        yaxis_title=y_label,\n",
    "        xaxis=dict(scaleanchor=\"y\", scaleratio=1),  # Forcing equal scaling\n",
    "        yaxis=dict(scaleanchor=\"x\", scaleratio=1),\n",
    "        showlegend=False,\n",
    "        autosize=True,\n",
    "    )\n",
    "\n",
    "    # Affichage interactif\n",
    "    fig.show()"
   ]
  },
  {
   "cell_type": "code",
   "execution_count": 26,
   "metadata": {},
   "outputs": [
    {
     "name": "stdout",
     "output_type": "stream",
     "text": [
      "CDB opened successfully, CDB Status = 3\n",
      "CDB closed successfully, CDB Status = 0\n"
     ]
    },
    {
     "data": {
      "application/vnd.plotly.v1+json": {
       "config": {
        "plotlyServerURL": "https://plot.ly"
       },
       "data": [
        {
         "line": {
          "color": "black",
          "width": 1
         },
         "mode": "lines",
         "showlegend": false,
         "type": "scatter",
         "x": [
          4.184881210327148,
          4.380903720855713,
          4.484766006469727,
          4.35438346862793,
          4.184881210327148
         ],
         "y": [
          0.8321652412414551,
          0.665602445602417,
          0.7816742062568665,
          0.93611079454422,
          0.8321652412414551
         ]
        },
        {
         "line": {
          "color": "black",
          "width": 1
         },
         "mode": "lines",
         "showlegend": false,
         "type": "scatter",
         "x": [
          4.380903720855713,
          4.529269695281982,
          4.605403900146484,
          4.484766006469727,
          4.380903720855713
         ],
         "y": [
          0.665602445602417,
          0.5404736399650574,
          0.6484557390213013,
          0.7816742062568665,
          0.665602445602417
         ]
        },
        {
         "line": {
          "color": "black",
          "width": 1
         },
         "mode": "lines",
         "showlegend": false,
         "type": "scatter",
         "x": [
          4.605403900146484,
          4.72461462020874,
          4.598024845123291,
          4.484766006469727,
          4.605403900146484
         ],
         "y": [
          0.6484557390213013,
          0.7577979564666748,
          0.8661877512931824,
          0.7816742062568665,
          0.6484557390213013
         ]
        },
        {
         "line": {
          "color": "black",
          "width": 1
         },
         "mode": "lines",
         "showlegend": false,
         "type": "scatter",
         "x": [
          4.598024845123291,
          4.499637603759766,
          4.35438346862793,
          4.484766006469727,
          4.598024845123291
         ],
         "y": [
          0.8661877512931824,
          1.0052365064620972,
          0.93611079454422,
          0.7816742062568665,
          0.8661877512931824
         ]
        },
        {
         "line": {
          "color": "black",
          "width": 1
         },
         "mode": "lines",
         "showlegend": false,
         "type": "scatter",
         "x": [
          1.9366068840026855,
          2.219147205352783,
          2.2291526794433594,
          1.9901713132858276,
          1.9366068840026855
         ],
         "y": [
          0.00018855412781704217,
          0.00021923126769252121,
          0.28612998127937317,
          0.276121586561203,
          0.00018855412781704217
         ]
        },
        {
         "line": {
          "color": "black",
          "width": 1
         },
         "mode": "lines",
         "showlegend": false,
         "type": "scatter",
         "x": [
          2.219147205352783,
          2.5016872882843018,
          2.495232343673706,
          2.2291526794433594,
          2.219147205352783
         ],
         "y": [
          0.00021923126769252121,
          0.00024990839301608503,
          0.30192285776138306,
          0.28612998127937317,
          0.00021923126769252121
         ]
        },
        {
         "line": {
          "color": "black",
          "width": 1
         },
         "mode": "lines",
         "showlegend": false,
         "type": "scatter",
         "x": [
          2.495232343673706,
          2.4818246364593506,
          2.2037031650543213,
          2.2291526794433594,
          2.495232343673706
         ],
         "y": [
          0.30192285776138306,
          0.6158626079559326,
          0.5564764738082886,
          0.28612998127937317,
          0.30192285776138306
         ]
        },
        {
         "line": {
          "color": "black",
          "width": 1
         },
         "mode": "lines",
         "showlegend": false,
         "type": "scatter",
         "x": [
          2.2037031650543213,
          1.9581654071807861,
          1.9901713132858276,
          2.2291526794433594,
          2.2037031650543213
         ],
         "y": [
          0.5564764738082886,
          0.480968713760376,
          0.276121586561203,
          0.28612998127937317,
          0.5564764738082886
         ]
        },
        {
         "line": {
          "color": "black",
          "width": 1
         },
         "mode": "lines",
         "showlegend": false,
         "type": "scatter",
         "x": [
          0.627141535282135,
          0.5283551812171936,
          0.5565705299377441,
          0.6754037737846375,
          0.627141535282135
         ],
         "y": [
          0.36488497257232666,
          0.25586000084877014,
          0.13838030397891998,
          0.17441172897815704,
          0.36488497257232666
         ]
        },
        {
         "line": {
          "color": "black",
          "width": 1
         },
         "mode": "lines",
         "showlegend": false,
         "type": "scatter",
         "x": [
          0.5283551812171936,
          0.44784802198410034,
          0.4447828233242035,
          0.5565705299377441,
          0.5283551812171936
         ],
         "y": [
          0.25586000084877014,
          0.17369678616523743,
          0.10014267265796661,
          0.13838030397891998,
          0.25586000084877014
         ]
        },
        {
         "line": {
          "color": "black",
          "width": 1
         },
         "mode": "lines",
         "showlegend": false,
         "type": "scatter",
         "x": [
          0.4447828233242035,
          0.4152797758579254,
          0.5458481907844543,
          0.5565705299377441,
          0.4447828233242035
         ],
         "y": [
          0.10014267265796661,
          0.000023374253942165524,
          0.00003755087163881399,
          0.13838030397891998,
          0.10014267265796661
         ]
        },
        {
         "line": {
          "color": "black",
          "width": 1
         },
         "mode": "lines",
         "showlegend": false,
         "type": "scatter",
         "x": [
          0.5458481907844543,
          0.6764165759086609,
          0.6754037737846375,
          0.5565705299377441,
          0.5458481907844543
         ],
         "y": [
          0.00003755087163881399,
          0.00005172748933546245,
          0.17441172897815704,
          0.13838030397891998,
          0.00003755087163881399
         ]
        },
        {
         "line": {
          "color": "black",
          "width": 1
         },
         "mode": "lines",
         "showlegend": false,
         "type": "scatter",
         "x": [
          0.627141535282135,
          0.6754037737846375,
          0.8145043849945068,
          0.7956831455230713,
          0.627141535282135
         ],
         "y": [
          0.36488497257232666,
          0.17441172897815704,
          0.17493510246276855,
          0.3563489615917206,
          0.36488497257232666
         ]
        },
        {
         "line": {
          "color": "black",
          "width": 1
         },
         "mode": "lines",
         "showlegend": false,
         "type": "scatter",
         "x": [
          0.6754037737846375,
          0.6764165759086609,
          0.8390675187110901,
          0.8145043849945068,
          0.6754037737846375
         ],
         "y": [
          0.17441172897815704,
          0.00005172748933546245,
          0.0000693875044817105,
          0.17493510246276855,
          0.17441172897815704
         ]
        },
        {
         "line": {
          "color": "black",
          "width": 1
         },
         "mode": "lines",
         "showlegend": false,
         "type": "scatter",
         "x": [
          0.8390675187110901,
          1.001718521118164,
          0.9756912589073181,
          0.8145043849945068,
          0.8390675187110901
         ],
         "y": [
          0.0000693875044817105,
          0.00008704751962795854,
          0.16414402425289154,
          0.17493510246276855,
          0.0000693875044817105
         ]
        },
        {
         "line": {
          "color": "black",
          "width": 1
         },
         "mode": "lines",
         "showlegend": false,
         "type": "scatter",
         "x": [
          0.9756912589073181,
          0.9562130570411682,
          0.7956831455230713,
          0.8145043849945068,
          0.9756912589073181
         ],
         "y": [
          0.16414402425289154,
          0.33940842747688293,
          0.3563489615917206,
          0.17493510246276855,
          0.16414402425289154
         ]
        },
        {
         "line": {
          "color": "black",
          "width": 1
         },
         "mode": "lines",
         "showlegend": false,
         "type": "scatter",
         "x": [
          3.940859079360962,
          3.8619019985198975,
          3.6335062980651855,
          3.6525046825408936,
          3.940859079360962
         ],
         "y": [
          1.4175339937210083,
          1.73337984085083,
          1.7517982721328735,
          1.5292885303497314,
          1.4175339937210083
         ]
        },
        {
         "line": {
          "color": "black",
          "width": 1
         },
         "mode": "lines",
         "showlegend": false,
         "type": "scatter",
         "x": [
          3.8619019985198975,
          3.8241896629333496,
          3.5748698711395264,
          3.6335062980651855,
          3.8619019985198975
         ],
         "y": [
          1.73337984085083,
          2,
          2,
          1.7517982721328735,
          1.73337984085083
         ]
        },
        {
         "line": {
          "color": "black",
          "width": 1
         },
         "mode": "lines",
         "showlegend": false,
         "type": "scatter",
         "x": [
          3.5748698711395264,
          3.325550079345703,
          3.378969192504883,
          3.6335062980651855,
          3.5748698711395264
         ],
         "y": [
          2,
          2,
          1.7909590005874634,
          1.7517982721328735,
          2
         ]
        },
        {
         "line": {
          "color": "black",
          "width": 1
         },
         "mode": "lines",
         "showlegend": false,
         "type": "scatter",
         "x": [
          3.378969192504883,
          3.413848876953125,
          3.6525046825408936,
          3.6335062980651855,
          3.378969192504883
         ],
         "y": [
          1.7909590005874634,
          1.5906689167022705,
          1.5292885303497314,
          1.7517982721328735,
          1.7909590005874634
         ]
        },
        {
         "line": {
          "color": "black",
          "width": 1
         },
         "mode": "lines",
         "showlegend": false,
         "type": "scatter",
         "x": [
          3.940859079360962,
          4.126584529876709,
          4.0474724769592285,
          3.8619019985198975,
          3.940859079360962
         ],
         "y": [
          1.4175339937210083,
          1.5954294204711914,
          1.7833279371261597,
          1.73337984085083,
          1.4175339937210083
         ]
        },
        {
         "line": {
          "color": "black",
          "width": 1
         },
         "mode": "lines",
         "showlegend": false,
         "type": "scatter",
         "x": [
          4.126584529876709,
          4.247294902801514,
          4.224693298339844,
          4.0474724769592285,
          4.126584529876709
         ],
         "y": [
          1.5954294204711914,
          1.7250137329101562,
          1.845983624458313,
          1.7833279371261597,
          1.5954294204711914
         ]
        },
        {
         "line": {
          "color": "black",
          "width": 1
         },
         "mode": "lines",
         "showlegend": false,
         "type": "scatter",
         "x": [
          4.224693298339844,
          4.216902256011963,
          4.020545959472656,
          4.0474724769592285,
          4.224693298339844
         ],
         "y": [
          1.845983624458313,
          2,
          2,
          1.7833279371261597,
          1.845983624458313
         ]
        },
        {
         "line": {
          "color": "black",
          "width": 1
         },
         "mode": "lines",
         "showlegend": false,
         "type": "scatter",
         "x": [
          4.020545959472656,
          3.8241896629333496,
          3.8619019985198975,
          4.0474724769592285,
          4.020545959472656
         ],
         "y": [
          2,
          2,
          1.73337984085083,
          1.7833279371261597,
          2
         ]
        },
        {
         "line": {
          "color": "black",
          "width": 1
         },
         "mode": "lines",
         "showlegend": false,
         "type": "scatter",
         "x": [
          1.551755666732788,
          1.8069356679916382,
          2.0429975986480713,
          1.8455408811569214,
          1.551755666732788
         ],
         "y": [
          0.7565462589263916,
          0.6288296580314636,
          0.7485314011573792,
          0.9179932475090027,
          0.7565462589263916
         ]
        },
        {
         "line": {
          "color": "black",
          "width": 1
         },
         "mode": "lines",
         "showlegend": false,
         "type": "scatter",
         "x": [
          1.8069356679916382,
          1.9581654071807861,
          2.2037031650543213,
          2.0429975986480713,
          1.8069356679916382
         ],
         "y": [
          0.6288296580314636,
          0.480968713760376,
          0.5564764738082886,
          0.7485314011573792,
          0.6288296580314636
         ]
        },
        {
         "line": {
          "color": "black",
          "width": 1
         },
         "mode": "lines",
         "showlegend": false,
         "type": "scatter",
         "x": [
          2.2037031650543213,
          2.4818246364593506,
          2.29817271232605,
          2.0429975986480713,
          2.2037031650543213
         ],
         "y": [
          0.5564764738082886,
          0.6158626079559326,
          0.8649904727935791,
          0.7485314011573792,
          0.5564764738082886
         ]
        },
        {
         "line": {
          "color": "black",
          "width": 1
         },
         "mode": "lines",
         "showlegend": false,
         "type": "scatter",
         "x": [
          2.29817271232605,
          2.1369597911834717,
          1.8455408811569214,
          2.0429975986480713,
          2.29817271232605
         ],
         "y": [
          0.8649904727935791,
          1.0944474935531616,
          0.9179932475090027,
          0.7485314011573792,
          0.8649904727935791
         ]
        },
        {
         "line": {
          "color": "black",
          "width": 1
         },
         "mode": "lines",
         "showlegend": false,
         "type": "scatter",
         "x": [
          2.1369597911834717,
          1.881170392036438,
          1.6543995141983032,
          1.8455408811569214,
          2.1369597911834717
         ],
         "y": [
          1.0944474935531616,
          1.2007673978805542,
          1.0701322555541992,
          0.9179932475090027,
          1.0944474935531616
         ]
        },
        {
         "line": {
          "color": "black",
          "width": 1
         },
         "mode": "lines",
         "showlegend": false,
         "type": "scatter",
         "x": [
          1.881170392036438,
          1.6893349885940552,
          1.4776769876480103,
          1.6543995141983032,
          1.881170392036438
         ],
         "y": [
          1.2007673978805542,
          1.329845905303955,
          1.2268623113632202,
          1.0701322555541992,
          1.2007673978805542
         ]
        },
        {
         "line": {
          "color": "black",
          "width": 1
         },
         "mode": "lines",
         "showlegend": false,
         "type": "scatter",
         "x": [
          1.4776769876480103,
          1.2487528324127197,
          1.39943528175354,
          1.6543995141983032,
          1.4776769876480103
         ],
         "y": [
          1.2268623113632202,
          1.1753369569778442,
          0.9716702103614807,
          1.0701322555541992,
          1.2268623113632202
         ]
        },
        {
         "line": {
          "color": "black",
          "width": 1
         },
         "mode": "lines",
         "showlegend": false,
         "type": "scatter",
         "x": [
          1.39943528175354,
          1.551755666732788,
          1.8455408811569214,
          1.6543995141983032,
          1.39943528175354
         ],
         "y": [
          0.9716702103614807,
          0.7565462589263916,
          0.9179932475090027,
          1.0701322555541992,
          0.9716702103614807
         ]
        },
        {
         "line": {
          "color": "black",
          "width": 1
         },
         "mode": "lines",
         "showlegend": false,
         "type": "scatter",
         "x": [
          1.551755666732788,
          1.2197847366333008,
          1.1891976594924927,
          1.4259897470474243,
          1.551755666732788
         ],
         "y": [
          0.7565462589263916,
          0.7356423735618591,
          0.5400145649909973,
          0.535866379737854,
          0.7565462589263916
         ]
        },
        {
         "line": {
          "color": "black",
          "width": 1
         },
         "mode": "lines",
         "showlegend": false,
         "type": "scatter",
         "x": [
          1.2197847366333008,
          0.9549516439437866,
          0.9622323513031006,
          1.1891976594924927,
          1.2197847366333008
         ],
         "y": [
          0.7356423735618591,
          0.7246973514556885,
          0.5287277102470398,
          0.5400145649909973,
          0.7356423735618591
         ]
        },
        {
         "line": {
          "color": "black",
          "width": 1
         },
         "mode": "lines",
         "showlegend": false,
         "type": "scatter",
         "x": [
          0.9622323513031006,
          0.9562130570411682,
          1.137257695198059,
          1.1891976594924927,
          0.9622323513031006
         ],
         "y": [
          0.5287277102470398,
          0.33940842747688293,
          0.34151342511177063,
          0.5400145649909973,
          0.5287277102470398
         ]
        },
        {
         "line": {
          "color": "black",
          "width": 1
         },
         "mode": "lines",
         "showlegend": false,
         "type": "scatter",
         "x": [
          1.137257695198059,
          1.3543840646743774,
          1.4259897470474243,
          1.1891976594924927,
          1.137257695198059
         ],
         "y": [
          0.34151342511177063,
          0.3446437418460846,
          0.535866379737854,
          0.5400145649909973,
          0.34151342511177063
         ]
        },
        {
         "line": {
          "color": "black",
          "width": 1
         },
         "mode": "lines",
         "showlegend": false,
         "type": "scatter",
         "x": [
          1.551755666732788,
          1.39943528175354,
          1.1353398561477661,
          1.2197847366333008,
          1.551755666732788
         ],
         "y": [
          0.7565462589263916,
          0.9716702103614807,
          0.9431365728378296,
          0.7356423735618591,
          0.7565462589263916
         ]
        },
        {
         "line": {
          "color": "black",
          "width": 1
         },
         "mode": "lines",
         "showlegend": false,
         "type": "scatter",
         "x": [
          1.39943528175354,
          1.2487528324127197,
          1.0133227109909058,
          1.1353398561477661,
          1.39943528175354
         ],
         "y": [
          0.9716702103614807,
          1.1753369569778442,
          1.1578656435012817,
          0.9431365728378296,
          0.9716702103614807
         ]
        },
        {
         "line": {
          "color": "black",
          "width": 1
         },
         "mode": "lines",
         "showlegend": false,
         "type": "scatter",
         "x": [
          1.0133227109909058,
          0.7919260263442993,
          0.8842635750770569,
          1.1353398561477661,
          1.0133227109909058
         ],
         "y": [
          1.1578656435012817,
          1.1481053829193115,
          0.9308021068572998,
          0.9431365728378296,
          1.1578656435012817
         ]
        },
        {
         "line": {
          "color": "black",
          "width": 1
         },
         "mode": "lines",
         "showlegend": false,
         "type": "scatter",
         "x": [
          0.8842635750770569,
          0.9549516439437866,
          1.2197847366333008,
          1.1353398561477661,
          0.8842635750770569
         ],
         "y": [
          0.9308021068572998,
          0.7246973514556885,
          0.7356423735618591,
          0.9431365728378296,
          0.9308021068572998
         ]
        },
        {
         "line": {
          "color": "black",
          "width": 1
         },
         "mode": "lines",
         "showlegend": false,
         "type": "scatter",
         "x": [
          4.43840217590332,
          4.602313995361328,
          4.631857872009277,
          4.483864784240723,
          4.43840217590332
         ],
         "y": [
          1.355120062828064,
          1.392114281654358,
          1.5589481592178345,
          1.5376546382904053,
          1.355120062828064
         ]
        },
        {
         "line": {
          "color": "black",
          "width": 1
         },
         "mode": "lines",
         "showlegend": false,
         "type": "scatter",
         "x": [
          4.602313995361328,
          4.75515079498291,
          4.76946496963501,
          4.631857872009277,
          4.602313995361328
         ],
         "y": [
          1.392114281654358,
          1.441074013710022,
          1.5914140939712524,
          1.5589481592178345,
          1.392114281654358
         ]
        },
        {
         "line": {
          "color": "black",
          "width": 1
         },
         "mode": "lines",
         "showlegend": false,
         "type": "scatter",
         "x": [
          4.76946496963501,
          4.782020568847656,
          4.666162967681885,
          4.631857872009277,
          4.76946496963501
         ],
         "y": [
          1.5914140939712524,
          1.734816312789917,
          1.720773696899414,
          1.5589481592178345,
          1.5914140939712524
         ]
        },
        {
         "line": {
          "color": "black",
          "width": 1
         },
         "mode": "lines",
         "showlegend": false,
         "type": "scatter",
         "x": [
          4.666162967681885,
          4.535280227661133,
          4.483864784240723,
          4.631857872009277,
          4.666162967681885
         ],
         "y": [
          1.720773696899414,
          1.7101585865020752,
          1.5376546382904053,
          1.5589481592178345,
          1.720773696899414
         ]
        },
        {
         "line": {
          "color": "black",
          "width": 1
         },
         "mode": "lines",
         "showlegend": false,
         "type": "scatter",
         "x": [
          4.535280227661133,
          4.386842727661133,
          4.300418376922607,
          4.483864784240723,
          4.535280227661133
         ],
         "y": [
          1.7101585865020752,
          1.711348533630371,
          1.5402913093566895,
          1.5376546382904053,
          1.7101585865020752
         ]
        },
        {
         "line": {
          "color": "black",
          "width": 1
         },
         "mode": "lines",
         "showlegend": false,
         "type": "scatter",
         "x": [
          4.386842727661133,
          4.247294902801514,
          4.126584529876709,
          4.300418376922607,
          4.386842727661133
         ],
         "y": [
          1.711348533630371,
          1.7250137329101562,
          1.5954294204711914,
          1.5402913093566895,
          1.711348533630371
         ]
        },
        {
         "line": {
          "color": "black",
          "width": 1
         },
         "mode": "lines",
         "showlegend": false,
         "type": "scatter",
         "x": [
          4.126584529876709,
          3.940859079360962,
          4.225057601928711,
          4.300418376922607,
          4.126584529876709
         ],
         "y": [
          1.5954294204711914,
          1.4175339937210083,
          1.3516608476638794,
          1.5402913093566895,
          1.5954294204711914
         ]
        },
        {
         "line": {
          "color": "black",
          "width": 1
         },
         "mode": "lines",
         "showlegend": false,
         "type": "scatter",
         "x": [
          4.225057601928711,
          4.43840217590332,
          4.483864784240723,
          4.300418376922607,
          4.225057601928711
         ],
         "y": [
          1.3516608476638794,
          1.355120062828064,
          1.5376546382904053,
          1.5402913093566895,
          1.3516608476638794
         ]
        },
        {
         "line": {
          "color": "black",
          "width": 1
         },
         "mode": "lines",
         "showlegend": false,
         "type": "scatter",
         "x": [
          2.1369597911834717,
          2.4489808082580566,
          2.5336923599243164,
          2.271019458770752,
          2.1369597911834717
         ],
         "y": [
          1.0944474935531616,
          1.1492185592651367,
          1.3594499826431274,
          1.352016568183899,
          1.0944474935531616
         ]
        },
        {
         "line": {
          "color": "black",
          "width": 1
         },
         "mode": "lines",
         "showlegend": false,
         "type": "scatter",
         "x": [
          2.4489808082580566,
          2.6594648361206055,
          2.7669410705566406,
          2.5336923599243164,
          2.4489808082580566
         ],
         "y": [
          1.1492185592651367,
          1.1856552362442017,
          1.3507217168807983,
          1.3594499826431274,
          1.1492185592651367
         ]
        },
        {
         "line": {
          "color": "black",
          "width": 1
         },
         "mode": "lines",
         "showlegend": false,
         "type": "scatter",
         "x": [
          2.7669410705566406,
          2.911543130874634,
          2.6302239894866943,
          2.5336923599243164,
          2.7669410705566406
         ],
         "y": [
          1.3507217168807983,
          1.556293249130249,
          1.5787913799285889,
          1.3594499826431274,
          1.3507217168807983
         ]
        },
        {
         "line": {
          "color": "black",
          "width": 1
         },
         "mode": "lines",
         "showlegend": false,
         "type": "scatter",
         "x": [
          2.6302239894866943,
          2.360090732574463,
          2.271019458770752,
          2.5336923599243164,
          2.6302239894866943
         ],
         "y": [
          1.5787913799285889,
          1.5773155689239502,
          1.352016568183899,
          1.3594499826431274,
          1.5787913799285889
         ]
        },
        {
         "line": {
          "color": "black",
          "width": 1
         },
         "mode": "lines",
         "showlegend": false,
         "type": "scatter",
         "x": [
          2.360090732574463,
          2.1305150985717773,
          2.038115978240967,
          2.271019458770752,
          2.360090732574463
         ],
         "y": [
          1.5773155689239502,
          1.583219289779663,
          1.3851202726364136,
          1.352016568183899,
          1.5773155689239502
         ]
        },
        {
         "line": {
          "color": "black",
          "width": 1
         },
         "mode": "lines",
         "showlegend": false,
         "type": "scatter",
         "x": [
          2.1305150985717773,
          1.936989188194275,
          1.8386987447738647,
          2.038115978240967,
          2.1305150985717773
         ],
         "y": [
          1.583219289779663,
          1.5932351350784302,
          1.4585894346237183,
          1.3851202726364136,
          1.583219289779663
         ]
        },
        {
         "line": {
          "color": "black",
          "width": 1
         },
         "mode": "lines",
         "showlegend": false,
         "type": "scatter",
         "x": [
          1.8386987447738647,
          1.6893349885940552,
          1.881170392036438,
          2.038115978240967,
          1.8386987447738647
         ],
         "y": [
          1.4585894346237183,
          1.329845905303955,
          1.2007673978805542,
          1.3851202726364136,
          1.4585894346237183
         ]
        },
        {
         "line": {
          "color": "black",
          "width": 1
         },
         "mode": "lines",
         "showlegend": false,
         "type": "scatter",
         "x": [
          1.881170392036438,
          2.1369597911834717,
          2.271019458770752,
          2.038115978240967,
          1.881170392036438
         ],
         "y": [
          1.2007673978805542,
          1.0944474935531616,
          1.352016568183899,
          1.3851202726364136,
          1.2007673978805542
         ]
        },
        {
         "line": {
          "color": "black",
          "width": 1
         },
         "mode": "lines",
         "showlegend": false,
         "type": "scatter",
         "x": [
          5,
          4.893603324890137,
          4.893519878387451,
          5,
          5
         ],
         "y": [
          2,
          2,
          1.8816883563995361,
          1.891655683517456,
          2
         ]
        },
        {
         "line": {
          "color": "black",
          "width": 1
         },
         "mode": "lines",
         "showlegend": false,
         "type": "scatter",
         "x": [
          4.893603324890137,
          4.787206172943115,
          4.7866692543029785,
          4.893519878387451,
          4.893603324890137
         ],
         "y": [
          2,
          2,
          1.8726979494094849,
          1.8816883563995361,
          2
         ]
        },
        {
         "line": {
          "color": "black",
          "width": 1
         },
         "mode": "lines",
         "showlegend": false,
         "type": "scatter",
         "x": [
          4.7866692543029785,
          4.782020568847656,
          4.895113468170166,
          4.893519878387451,
          4.7866692543029785
         ],
         "y": [
          1.8726979494094849,
          1.734816312789917,
          1.7575656175613403,
          1.8816883563995361,
          1.8726979494094849
         ]
        },
        {
         "line": {
          "color": "black",
          "width": 1
         },
         "mode": "lines",
         "showlegend": false,
         "type": "scatter",
         "x": [
          4.895113468170166,
          5,
          5,
          4.893519878387451,
          4.895113468170166
         ],
         "y": [
          1.7575656175613403,
          1.7833114862442017,
          1.891655683517456,
          1.8816883563995361,
          1.7575656175613403
         ]
        },
        {
         "line": {
          "color": "black",
          "width": 1
         },
         "mode": "lines",
         "showlegend": false,
         "type": "scatter",
         "x": [
          4.782020568847656,
          4.7866692543029785,
          4.666573524475098,
          4.666162967681885,
          4.782020568847656
         ],
         "y": [
          1.734816312789917,
          1.8726979494094849,
          1.864461898803711,
          1.720773696899414,
          1.734816312789917
         ]
        },
        {
         "line": {
          "color": "black",
          "width": 1
         },
         "mode": "lines",
         "showlegend": false,
         "type": "scatter",
         "x": [
          4.7866692543029785,
          4.787206172943115,
          4.66032075881958,
          4.666573524475098,
          4.7866692543029785
         ],
         "y": [
          1.8726979494094849,
          2,
          2,
          1.864461898803711,
          1.8726979494094849
         ]
        },
        {
         "line": {
          "color": "black",
          "width": 1
         },
         "mode": "lines",
         "showlegend": false,
         "type": "scatter",
         "x": [
          4.66032075881958,
          4.533434867858887,
          4.543323993682861,
          4.666573524475098,
          4.66032075881958
         ],
         "y": [
          2,
          2,
          1.8604501485824585,
          1.864461898803711,
          2
         ]
        },
        {
         "line": {
          "color": "black",
          "width": 1
         },
         "mode": "lines",
         "showlegend": false,
         "type": "scatter",
         "x": [
          4.543323993682861,
          4.535280227661133,
          4.666162967681885,
          4.666573524475098,
          4.543323993682861
         ],
         "y": [
          1.8604501485824585,
          1.7101585865020752,
          1.720773696899414,
          1.864461898803711,
          1.8604501485824585
         ]
        },
        {
         "line": {
          "color": "black",
          "width": 1
         },
         "mode": "lines",
         "showlegend": false,
         "type": "scatter",
         "x": [
          4.805062294006348,
          4.902531147003174,
          4.8997273445129395,
          4.793791770935059,
          4.805062294006348
         ],
         "y": [
          0.0005000000237487257,
          0.0002500000118743628,
          0.09949824213981628,
          0.09455347061157227,
          0.0005000000237487257
         ]
        },
        {
         "line": {
          "color": "black",
          "width": 1
         },
         "mode": "lines",
         "showlegend": false,
         "type": "scatter",
         "x": [
          4.902531147003174,
          5,
          5,
          4.8997273445129395,
          4.902531147003174
         ],
         "y": [
          0.0002500000118743628,
          0,
          0.1072549894452095,
          0.09949824213981628,
          0.0002500000118743628
         ]
        },
        {
         "line": {
          "color": "black",
          "width": 1
         },
         "mode": "lines",
         "showlegend": false,
         "type": "scatter",
         "x": [
          5,
          5,
          4.896488189697266,
          4.8997273445129395,
          5
         ],
         "y": [
          0.1072549894452095,
          0.214509978890419,
          0.2028699666261673,
          0.09949824213981628,
          0.1072549894452095
         ]
        },
        {
         "line": {
          "color": "black",
          "width": 1
         },
         "mode": "lines",
         "showlegend": false,
         "type": "scatter",
         "x": [
          4.896488189697266,
          4.786237716674805,
          4.793791770935059,
          4.8997273445129395,
          4.896488189697266
         ],
         "y": [
          0.2028699666261673,
          0.19695256650447845,
          0.09455347061157227,
          0.09949824213981628,
          0.2028699666261673
         ]
        },
        {
         "line": {
          "color": "black",
          "width": 1
         },
         "mode": "lines",
         "showlegend": false,
         "type": "scatter",
         "x": [
          0.20000000298023224,
          0.2164989858865738,
          0.10654068738222122,
          0.10000000149011612,
          0.20000000298023224
         ],
         "y": [
          0,
          0.08124599605798721,
          0.09491124004125595,
          0,
          0
         ]
        },
        {
         "line": {
          "color": "black",
          "width": 1
         },
         "mode": "lines",
         "showlegend": false,
         "type": "scatter",
         "x": [
          0.2164989858865738,
          0.2351664900779724,
          0.11642993986606598,
          0.10654068738222122,
          0.2164989858865738
         ],
         "y": [
          0.08124599605798721,
          0.16964052617549896,
          0.19296982884407043,
          0.09491124004125595,
          0.08124599605798721
         ]
        },
        {
         "line": {
          "color": "black",
          "width": 1
         },
         "mode": "lines",
         "showlegend": false,
         "type": "scatter",
         "x": [
          0.11642993986606598,
          0,
          0,
          0.10654068738222122,
          0.11642993986606598
         ],
         "y": [
          0.19296982884407043,
          0.22043734788894653,
          0.11021867394447327,
          0.09491124004125595,
          0.19296982884407043
         ]
        },
        {
         "line": {
          "color": "black",
          "width": 1
         },
         "mode": "lines",
         "showlegend": false,
         "type": "scatter",
         "x": [
          0,
          0,
          0.10000000149011612,
          0.10654068738222122,
          0
         ],
         "y": [
          0.11021867394447327,
          0,
          0,
          0.09491124004125595,
          0.11021867394447327
         ]
        },
        {
         "line": {
          "color": "black",
          "width": 1
         },
         "mode": "lines",
         "showlegend": false,
         "type": "scatter",
         "x": [
          0,
          0,
          0.12069414556026459,
          0.1063968613743782,
          0
         ],
         "y": [
          2,
          1.8927652835845947,
          1.8765873908996582,
          2,
          2
         ]
        },
        {
         "line": {
          "color": "black",
          "width": 1
         },
         "mode": "lines",
         "showlegend": false,
         "type": "scatter",
         "x": [
          0,
          0,
          0.13206499814987183,
          0.12069414556026459,
          0
         ],
         "y": [
          1.8927652835845947,
          1.785530686378479,
          1.7527475357055664,
          1.8765873908996582,
          1.8927652835845947
         ]
        },
        {
         "line": {
          "color": "black",
          "width": 1
         },
         "mode": "lines",
         "showlegend": false,
         "type": "scatter",
         "x": [
          0.13206499814987183,
          0.26228660345077515,
          0.24429811537265778,
          0.12069414556026459,
          0.13206499814987183
         ],
         "y": [
          1.7527475357055664,
          1.7314345836639404,
          1.8628920316696167,
          1.8765873908996582,
          1.7527475357055664
         ]
        },
        {
         "line": {
          "color": "black",
          "width": 1
         },
         "mode": "lines",
         "showlegend": false,
         "type": "scatter",
         "x": [
          0.24429811537265778,
          0.2127937227487564,
          0.1063968613743782,
          0.12069414556026459,
          0.24429811537265778
         ],
         "y": [
          1.8628920316696167,
          2,
          2,
          1.8765873908996582,
          1.8628920316696167
         ]
        },
        {
         "line": {
          "color": "black",
          "width": 1
         },
         "mode": "lines",
         "showlegend": false,
         "type": "scatter",
         "x": [
          4.535280227661133,
          4.543323993682861,
          4.391932487487793,
          4.386842727661133,
          4.535280227661133
         ],
         "y": [
          1.7101585865020752,
          1.8604501485824585,
          1.8600409030914307,
          1.711348533630371,
          1.7101585865020752
         ]
        },
        {
         "line": {
          "color": "black",
          "width": 1
         },
         "mode": "lines",
         "showlegend": false,
         "type": "scatter",
         "x": [
          4.543323993682861,
          4.533434867858887,
          4.375168800354004,
          4.391932487487793,
          4.543323993682861
         ],
         "y": [
          1.8604501485824585,
          2,
          2,
          1.8600409030914307,
          1.8604501485824585
         ]
        },
        {
         "line": {
          "color": "black",
          "width": 1
         },
         "mode": "lines",
         "showlegend": false,
         "type": "scatter",
         "x": [
          4.375168800354004,
          4.216902256011963,
          4.224693298339844,
          4.391932487487793,
          4.375168800354004
         ],
         "y": [
          2,
          2,
          1.845983624458313,
          1.8600409030914307,
          2
         ]
        },
        {
         "line": {
          "color": "black",
          "width": 1
         },
         "mode": "lines",
         "showlegend": false,
         "type": "scatter",
         "x": [
          4.224693298339844,
          4.247294902801514,
          4.386842727661133,
          4.391932487487793,
          4.224693298339844
         ],
         "y": [
          1.845983624458313,
          1.7250137329101562,
          1.711348533630371,
          1.8600409030914307,
          1.845983624458313
         ]
        },
        {
         "line": {
          "color": "black",
          "width": 1
         },
         "mode": "lines",
         "showlegend": false,
         "type": "scatter",
         "x": [
          0,
          0,
          0.12952397763729095,
          0.13992531597614288,
          0
         ],
         "y": [
          0.49287670850753784,
          0.3566570281982422,
          0.3153744339942932,
          0.45070919394493103,
          0.49287670850753784
         ]
        },
        {
         "line": {
          "color": "black",
          "width": 1
         },
         "mode": "lines",
         "showlegend": false,
         "type": "scatter",
         "x": [
          0,
          0,
          0.11642993986606598,
          0.12952397763729095,
          0
         ],
         "y": [
          0.3566570281982422,
          0.22043734788894653,
          0.19296982884407043,
          0.3153744339942932,
          0.3566570281982422
         ]
        },
        {
         "line": {
          "color": "black",
          "width": 1
         },
         "mode": "lines",
         "showlegend": false,
         "type": "scatter",
         "x": [
          0.11642993986606598,
          0.2351664900779724,
          0.26024454832077026,
          0.12952397763729095,
          0.11642993986606598
         ],
         "y": [
          0.19296982884407043,
          0.16964052617549896,
          0.2798923850059509,
          0.3153744339942932,
          0.19296982884407043
         ]
        },
        {
         "line": {
          "color": "black",
          "width": 1
         },
         "mode": "lines",
         "showlegend": false,
         "type": "scatter",
         "x": [
          0.26024454832077026,
          0.2805204391479492,
          0.13992531597614288,
          0.12952397763729095,
          0.26024454832077026
         ],
         "y": [
          0.2798923850059509,
          0.41729649901390076,
          0.45070919394493103,
          0.3153744339942932,
          0.2798923850059509
         ]
        },
        {
         "line": {
          "color": "black",
          "width": 1
         },
         "mode": "lines",
         "showlegend": false,
         "type": "scatter",
         "x": [
          4.786237716674805,
          4.896488189697266,
          4.892703056335449,
          4.781370639801025,
          4.786237716674805
         ],
         "y": [
          0.19695256650447845,
          0.2028699666261673,
          0.32461246848106384,
          0.310759961605072,
          0.19695256650447845
         ]
        },
        {
         "line": {
          "color": "black",
          "width": 1
         },
         "mode": "lines",
         "showlegend": false,
         "type": "scatter",
         "x": [
          4.896488189697266,
          5,
          5,
          4.892703056335449,
          4.896488189697266
         ],
         "y": [
          0.2028699666261673,
          0.214509978890419,
          0.34727853536605835,
          0.32461246848106384,
          0.2028699666261673
         ]
        },
        {
         "line": {
          "color": "black",
          "width": 1
         },
         "mode": "lines",
         "showlegend": false,
         "type": "scatter",
         "x": [
          5,
          5,
          4.888524055480957,
          4.892703056335449,
          5
         ],
         "y": [
          0.34727853536605835,
          0.4800470769405365,
          0.4602194130420685,
          0.32461246848106384,
          0.34727853536605835
         ]
        },
        {
         "line": {
          "color": "black",
          "width": 1
         },
         "mode": "lines",
         "showlegend": false,
         "type": "scatter",
         "x": [
          4.888524055480957,
          4.777948379516602,
          4.781370639801025,
          4.892703056335449,
          4.888524055480957
         ],
         "y": [
          0.4602194130420685,
          0.44183599948883057,
          0.310759961605072,
          0.32461246848106384,
          0.4602194130420685
         ]
        },
        {
         "line": {
          "color": "black",
          "width": 1
         },
         "mode": "lines",
         "showlegend": false,
         "type": "scatter",
         "x": [
          4.777948379516602,
          4.888524055480957,
          4.87899112701416,
          4.763580322265625,
          4.777948379516602
         ],
         "y": [
          0.44183599948883057,
          0.4602194130420685,
          0.6187060475349426,
          0.5851188898086548,
          0.44183599948883057
         ]
        },
        {
         "line": {
          "color": "black",
          "width": 1
         },
         "mode": "lines",
         "showlegend": false,
         "type": "scatter",
         "x": [
          4.888524055480957,
          5,
          5,
          4.87899112701416,
          4.888524055480957
         ],
         "y": [
          0.4602194130420685,
          0.4800470769405365,
          0.6501006484031677,
          0.6187060475349426,
          0.4602194130420685
         ]
        },
        {
         "line": {
          "color": "black",
          "width": 1
         },
         "mode": "lines",
         "showlegend": false,
         "type": "scatter",
         "x": [
          5,
          5,
          4.8720526695251465,
          4.87899112701416,
          5
         ],
         "y": [
          0.6501006484031677,
          0.8201542496681213,
          0.7867902517318726,
          0.6187060475349426,
          0.6501006484031677
         ]
        },
        {
         "line": {
          "color": "black",
          "width": 1
         },
         "mode": "lines",
         "showlegend": false,
         "type": "scatter",
         "x": [
          4.8720526695251465,
          4.72461462020874,
          4.763580322265625,
          4.87899112701416,
          4.8720526695251465
         ],
         "y": [
          0.7867902517318726,
          0.7577979564666748,
          0.5851188898086548,
          0.6187060475349426,
          0.7867902517318726
         ]
        },
        {
         "line": {
          "color": "black",
          "width": 1
         },
         "mode": "lines",
         "showlegend": false,
         "type": "scatter",
         "x": [
          0.2587893605232239,
          0.3024592697620392,
          0.15516038239002228,
          0.1318792849779129,
          0.2587893605232239
         ],
         "y": [
          0.7632734775543213,
          0.9197574257850647,
          0.9785031080245972,
          0.8028203248977661,
          0.7632734775543213
         ]
        },
        {
         "line": {
          "color": "black",
          "width": 1
         },
         "mode": "lines",
         "showlegend": false,
         "type": "scatter",
         "x": [
          0.3024592697620392,
          0.39051392674446106,
          0.18049459159374237,
          0.15516038239002228,
          0.3024592697620392
         ],
         "y": [
          0.9197574257850647,
          1.07501220703125,
          1.1455439329147339,
          0.9785031080245972,
          0.9197574257850647
         ]
        },
        {
         "line": {
          "color": "black",
          "width": 1
         },
         "mode": "lines",
         "showlegend": false,
         "type": "scatter",
         "x": [
          0.18049459159374237,
          0,
          0,
          0.15516038239002228,
          0.18049459159374237
         ],
         "y": [
          1.1455439329147339,
          1.2081365585327148,
          1.0209157466888428,
          0.9785031080245972,
          1.1455439329147339
         ]
        },
        {
         "line": {
          "color": "black",
          "width": 1
         },
         "mode": "lines",
         "showlegend": false,
         "type": "scatter",
         "x": [
          0,
          0,
          0.1318792849779129,
          0.15516038239002228,
          0
         ],
         "y": [
          1.0209157466888428,
          0.8336949348449707,
          0.8028203248977661,
          0.9785031080245972,
          1.0209157466888428
         ]
        },
        {
         "line": {
          "color": "black",
          "width": 1
         },
         "mode": "lines",
         "showlegend": false,
         "type": "scatter",
         "x": [
          4.805062294006348,
          4.793791770935059,
          4.678751468658447,
          4.697822570800781,
          4.805062294006348
         ],
         "y": [
          0.0005000000237487257,
          0.09455347061157227,
          0.10983683168888092,
          0.0004883563378825784,
          0.0005000000237487257
         ]
        },
        {
         "line": {
          "color": "black",
          "width": 1
         },
         "mode": "lines",
         "showlegend": false,
         "type": "scatter",
         "x": [
          4.793791770935059,
          4.786237716674805,
          4.664474964141846,
          4.678751468658447,
          4.793791770935059
         ],
         "y": [
          0.09455347061157227,
          0.19695256650447845,
          0.21988070011138916,
          0.10983683168888092,
          0.09455347061157227
         ]
        },
        {
         "line": {
          "color": "black",
          "width": 1
         },
         "mode": "lines",
         "showlegend": false,
         "type": "scatter",
         "x": [
          4.664474964141846,
          4.532685279846191,
          4.556674003601074,
          4.678751468658447,
          4.664474964141846
         ],
         "y": [
          0.21988070011138916,
          0.26613542437553406,
          0.12956446409225464,
          0.10983683168888092,
          0.21988070011138916
         ]
        },
        {
         "line": {
          "color": "black",
          "width": 1
         },
         "mode": "lines",
         "showlegend": false,
         "type": "scatter",
         "x": [
          4.556674003601074,
          4.590582847595215,
          4.697822570800781,
          4.678751468658447,
          4.556674003601074
         ],
         "y": [
          0.12956446409225464,
          0.00047671268112026155,
          0.0004883563378825784,
          0.10983683168888092,
          0.12956446409225464
         ]
        },
        {
         "line": {
          "color": "black",
          "width": 1
         },
         "mode": "lines",
         "showlegend": false,
         "type": "scatter",
         "x": [
          1.419364094734192,
          1.3669102191925049,
          1.164842963218689,
          1.2105412483215332,
          1.419364094734192
         ],
         "y": [
          0.0001323938777204603,
          0.16960975527763367,
          0.16704367101192474,
          0.00010972069867420942,
          0.0001323938777204603
         ]
        },
        {
         "line": {
          "color": "black",
          "width": 1
         },
         "mode": "lines",
         "showlegend": false,
         "type": "scatter",
         "x": [
          1.3669102191925049,
          1.3543840646743774,
          1.137257695198059,
          1.164842963218689,
          1.3669102191925049
         ],
         "y": [
          0.16960975527763367,
          0.3446437418460846,
          0.34151342511177063,
          0.16704367101192474,
          0.16960975527763367
         ]
        },
        {
         "line": {
          "color": "black",
          "width": 1
         },
         "mode": "lines",
         "showlegend": false,
         "type": "scatter",
         "x": [
          1.137257695198059,
          0.9562130570411682,
          0.9756912589073181,
          1.164842963218689,
          1.137257695198059
         ],
         "y": [
          0.34151342511177063,
          0.33940842747688293,
          0.16414402425289154,
          0.16704367101192474,
          0.34151342511177063
         ]
        },
        {
         "line": {
          "color": "black",
          "width": 1
         },
         "mode": "lines",
         "showlegend": false,
         "type": "scatter",
         "x": [
          0.9756912589073181,
          1.001718521118164,
          1.2105412483215332,
          1.164842963218689,
          0.9756912589073181
         ],
         "y": [
          0.16414402425289154,
          0.00008704751962795854,
          0.00010972069867420942,
          0.16704367101192474,
          0.16414402425289154
         ]
        },
        {
         "line": {
          "color": "black",
          "width": 1
         },
         "mode": "lines",
         "showlegend": false,
         "type": "scatter",
         "x": [
          5,
          4.895113468170166,
          4.887653350830078,
          5,
          5
         ],
         "y": [
          1.7833114862442017,
          1.7575656175613403,
          1.6224778890609741,
          1.653494119644165,
          1.7833114862442017
         ]
        },
        {
         "line": {
          "color": "black",
          "width": 1
         },
         "mode": "lines",
         "showlegend": false,
         "type": "scatter",
         "x": [
          4.895113468170166,
          4.782020568847656,
          4.76946496963501,
          4.887653350830078,
          4.895113468170166
         ],
         "y": [
          1.7575656175613403,
          1.734816312789917,
          1.5914140939712524,
          1.6224778890609741,
          1.7575656175613403
         ]
        },
        {
         "line": {
          "color": "black",
          "width": 1
         },
         "mode": "lines",
         "showlegend": false,
         "type": "scatter",
         "x": [
          4.76946496963501,
          4.75515079498291,
          4.881381988525391,
          4.887653350830078,
          4.76946496963501
         ],
         "y": [
          1.5914140939712524,
          1.441074013710022,
          1.479799509048462,
          1.6224778890609741,
          1.5914140939712524
         ]
        },
        {
         "line": {
          "color": "black",
          "width": 1
         },
         "mode": "lines",
         "showlegend": false,
         "type": "scatter",
         "x": [
          4.881381988525391,
          5,
          5,
          4.887653350830078,
          4.881381988525391
         ],
         "y": [
          1.479799509048462,
          1.5236767530441284,
          1.653494119644165,
          1.6224778890609741,
          1.479799509048462
         ]
        },
        {
         "line": {
          "color": "black",
          "width": 1
         },
         "mode": "lines",
         "showlegend": false,
         "type": "scatter",
         "x": [
          0.2587893605232239,
          0.26792219281196594,
          0.43533703684806824,
          0.415022075176239,
          0.2587893605232239
         ],
         "y": [
          0.7632734775543213,
          0.5868734121322632,
          0.5669081807136536,
          0.730919361114502,
          0.7632734775543213
         ]
        },
        {
         "line": {
          "color": "black",
          "width": 1
         },
         "mode": "lines",
         "showlegend": false,
         "type": "scatter",
         "x": [
          0.26792219281196594,
          0.2805204391479492,
          0.4450821578502655,
          0.43533703684806824,
          0.26792219281196594
         ],
         "y": [
          0.5868734121322632,
          0.41729649901390076,
          0.4019414782524109,
          0.5669081807136536,
          0.5868734121322632
         ]
        },
        {
         "line": {
          "color": "black",
          "width": 1
         },
         "mode": "lines",
         "showlegend": false,
         "type": "scatter",
         "x": [
          0.4450821578502655,
          0.627141535282135,
          0.6105673909187317,
          0.43533703684806824,
          0.4450821578502655
         ],
         "y": [
          0.4019414782524109,
          0.36488497257232666,
          0.5541684627532959,
          0.5669081807136536,
          0.4019414782524109
         ]
        },
        {
         "line": {
          "color": "black",
          "width": 1
         },
         "mode": "lines",
         "showlegend": false,
         "type": "scatter",
         "x": [
          0.6105673909187317,
          0.578811764717102,
          0.415022075176239,
          0.43533703684806824,
          0.6105673909187317
         ],
         "y": [
          0.5541684627532959,
          0.7186275720596313,
          0.730919361114502,
          0.5669081807136536,
          0.5541684627532959
         ]
        },
        {
         "line": {
          "color": "black",
          "width": 1
         },
         "mode": "lines",
         "showlegend": false,
         "type": "scatter",
         "x": [
          4.499637603759766,
          4.450838565826416,
          4.259291648864746,
          4.35438346862793,
          4.499637603759766
         ],
         "y": [
          1.0052365064620972,
          1.1682435274124146,
          1.141577124595642,
          0.93611079454422,
          1.0052365064620972
         ]
        },
        {
         "line": {
          "color": "black",
          "width": 1
         },
         "mode": "lines",
         "showlegend": false,
         "type": "scatter",
         "x": [
          4.450838565826416,
          4.43840217590332,
          4.225057601928711,
          4.259291648864746,
          4.450838565826416
         ],
         "y": [
          1.1682435274124146,
          1.355120062828064,
          1.3516608476638794,
          1.141577124595642,
          1.1682435274124146
         ]
        },
        {
         "line": {
          "color": "black",
          "width": 1
         },
         "mode": "lines",
         "showlegend": false,
         "type": "scatter",
         "x": [
          4.225057601928711,
          3.940859079360962,
          4.054696559906006,
          4.259291648864746,
          4.225057601928711
         ],
         "y": [
          1.3516608476638794,
          1.4175339937210083,
          1.1092333793640137,
          1.141577124595642,
          1.3516608476638794
         ]
        },
        {
         "line": {
          "color": "black",
          "width": 1
         },
         "mode": "lines",
         "showlegend": false,
         "type": "scatter",
         "x": [
          4.054696559906006,
          4.184881210327148,
          4.35438346862793,
          4.259291648864746,
          4.054696559906006
         ],
         "y": [
          1.1092333793640137,
          0.8321652412414551,
          0.93611079454422,
          1.141577124595642,
          1.1092333793640137
         ]
        },
        {
         "line": {
          "color": "black",
          "width": 1
         },
         "mode": "lines",
         "showlegend": false,
         "type": "scatter",
         "x": [
          3.066767930984497,
          3.0018398761749268,
          2.7488088607788086,
          2.7842276096343994,
          3.066767930984497
         ],
         "y": [
          0.0003112626727670431,
          0.23839102685451508,
          0.27300557494163513,
          0.0002805855474434793,
          0.0003112626727670431
         ]
        },
        {
         "line": {
          "color": "black",
          "width": 1
         },
         "mode": "lines",
         "showlegend": false,
         "type": "scatter",
         "x": [
          3.0018398761749268,
          2.963808298110962,
          2.7423744201660156,
          2.7488088607788086,
          3.0018398761749268
         ],
         "y": [
          0.23839102685451508,
          0.4604211151599884,
          0.5232980847358704,
          0.27300557494163513,
          0.23839102685451508
         ]
        },
        {
         "line": {
          "color": "black",
          "width": 1
         },
         "mode": "lines",
         "showlegend": false,
         "type": "scatter",
         "x": [
          2.7423744201660156,
          2.4818246364593506,
          2.495232343673706,
          2.7488088607788086,
          2.7423744201660156
         ],
         "y": [
          0.5232980847358704,
          0.6158626079559326,
          0.30192285776138306,
          0.27300557494163513,
          0.5232980847358704
         ]
        },
        {
         "line": {
          "color": "black",
          "width": 1
         },
         "mode": "lines",
         "showlegend": false,
         "type": "scatter",
         "x": [
          2.495232343673706,
          2.5016872882843018,
          2.7842276096343994,
          2.7488088607788086,
          2.495232343673706
         ],
         "y": [
          0.30192285776138306,
          0.00024990839301608503,
          0.0002805855474434793,
          0.27300557494163513,
          0.30192285776138306
         ]
        },
        {
         "line": {
          "color": "black",
          "width": 1
         },
         "mode": "lines",
         "showlegend": false,
         "type": "scatter",
         "x": [
          0.39051392674446106,
          0.5910466909408569,
          0.5295422077178955,
          0.35635045170783997,
          0.39051392674446106
         ],
         "y": [
          1.07501220703125,
          1.1176680326461792,
          1.321131706237793,
          1.27205491065979,
          1.07501220703125
         ]
        },
        {
         "line": {
          "color": "black",
          "width": 1
         },
         "mode": "lines",
         "showlegend": false,
         "type": "scatter",
         "x": [
          0.5910466909408569,
          0.7919260263442993,
          0.7032692432403564,
          0.5295422077178955,
          0.5910466909408569
         ],
         "y": [
          1.1176680326461792,
          1.1481053829193115,
          1.3785207271575928,
          1.321131706237793,
          1.1176680326461792
         ]
        },
        {
         "line": {
          "color": "black",
          "width": 1
         },
         "mode": "lines",
         "showlegend": false,
         "type": "scatter",
         "x": [
          0.7032692432403564,
          0.6195558905601501,
          0.4631172716617584,
          0.5295422077178955,
          0.7032692432403564
         ],
         "y": [
          1.3785207271575928,
          1.6367623805999756,
          1.502655029296875,
          1.321131706237793,
          1.3785207271575928
         ]
        },
        {
         "line": {
          "color": "black",
          "width": 1
         },
         "mode": "lines",
         "showlegend": false,
         "type": "scatter",
         "x": [
          0.4631172716617584,
          0.31884118914604187,
          0.35635045170783997,
          0.5295422077178955,
          0.4631172716617584
         ],
         "y": [
          1.502655029296875,
          1.4385032653808594,
          1.27205491065979,
          1.321131706237793,
          1.502655029296875
         ]
        },
        {
         "line": {
          "color": "black",
          "width": 1
         },
         "mode": "lines",
         "showlegend": false,
         "type": "scatter",
         "x": [
          0.20000000298023224,
          0.3076398968696594,
          0.3285810053348541,
          0.2164989858865738,
          0.20000000298023224
         ],
         "y": [
          0,
          0.000011687126971082762,
          0.08444027602672577,
          0.08124599605798721,
          0
         ]
        },
        {
         "line": {
          "color": "black",
          "width": 1
         },
         "mode": "lines",
         "showlegend": false,
         "type": "scatter",
         "x": [
          0.3076398968696594,
          0.4152797758579254,
          0.4447828233242035,
          0.3285810053348541,
          0.3076398968696594
         ],
         "y": [
          0.000011687126971082762,
          0.000023374253942165524,
          0.10014267265796661,
          0.08444027602672577,
          0.000011687126971082762
         ]
        },
        {
         "line": {
          "color": "black",
          "width": 1
         },
         "mode": "lines",
         "showlegend": false,
         "type": "scatter",
         "x": [
          0.4447828233242035,
          0.44784802198410034,
          0.3566628694534302,
          0.3285810053348541,
          0.4447828233242035
         ],
         "y": [
          0.10014267265796661,
          0.17369678616523743,
          0.17079336941242218,
          0.08444027602672577,
          0.10014267265796661
         ]
        },
        {
         "line": {
          "color": "black",
          "width": 1
         },
         "mode": "lines",
         "showlegend": false,
         "type": "scatter",
         "x": [
          0.3566628694534302,
          0.2351664900779724,
          0.2164989858865738,
          0.3285810053348541,
          0.3566628694534302
         ],
         "y": [
          0.17079336941242218,
          0.16964052617549896,
          0.08124599605798721,
          0.08444027602672577,
          0.17079336941242218
         ]
        },
        {
         "line": {
          "color": "black",
          "width": 1
         },
         "mode": "lines",
         "showlegend": false,
         "type": "scatter",
         "x": [
          5,
          4.881381988525391,
          4.877037048339844,
          5,
          5
         ],
         "y": [
          1.5236767530441284,
          1.479799509048462,
          1.3179378509521484,
          1.361332654953003,
          1.5236767530441284
         ]
        },
        {
         "line": {
          "color": "black",
          "width": 1
         },
         "mode": "lines",
         "showlegend": false,
         "type": "scatter",
         "x": [
          4.881381988525391,
          4.75515079498291,
          4.750809192657471,
          4.877037048339844,
          4.881381988525391
         ],
         "y": [
          1.479799509048462,
          1.441074013710022,
          1.2754547595977783,
          1.3179378509521484,
          1.479799509048462
         ]
        },
        {
         "line": {
          "color": "black",
          "width": 1
         },
         "mode": "lines",
         "showlegend": false,
         "type": "scatter",
         "x": [
          4.750809192657471,
          4.751469135284424,
          4.875009536743164,
          4.877037048339844,
          4.750809192657471
         ],
         "y": [
          1.2754547595977783,
          1.1083425283432007,
          1.147203803062439,
          1.3179378509521484,
          1.2754547595977783
         ]
        },
        {
         "line": {
          "color": "black",
          "width": 1
         },
         "mode": "lines",
         "showlegend": false,
         "type": "scatter",
         "x": [
          4.875009536743164,
          5,
          5,
          4.877037048339844,
          4.875009536743164
         ],
         "y": [
          1.147203803062439,
          1.198988437652588,
          1.361332654953003,
          1.3179378509521484,
          1.147203803062439
         ]
        },
        {
         "line": {
          "color": "black",
          "width": 1
         },
         "mode": "lines",
         "showlegend": false,
         "type": "scatter",
         "x": [
          4.72461462020874,
          4.8720526695251465,
          4.872234344482422,
          4.750705718994141,
          4.72461462020874
         ],
         "y": [
          0.7577979564666748,
          0.7867902517318726,
          0.9658098816871643,
          0.9411253333091736,
          0.7577979564666748
         ]
        },
        {
         "line": {
          "color": "black",
          "width": 1
         },
         "mode": "lines",
         "showlegend": false,
         "type": "scatter",
         "x": [
          4.8720526695251465,
          5,
          5,
          4.872234344482422,
          4.8720526695251465
         ],
         "y": [
          0.7867902517318726,
          0.8201542496681213,
          1.0095713138580322,
          0.9658098816871643,
          0.7867902517318726
         ]
        },
        {
         "line": {
          "color": "black",
          "width": 1
         },
         "mode": "lines",
         "showlegend": false,
         "type": "scatter",
         "x": [
          5,
          5,
          4.875009536743164,
          4.872234344482422,
          5
         ],
         "y": [
          1.0095713138580322,
          1.198988437652588,
          1.147203803062439,
          0.9658098816871643,
          1.0095713138580322
         ]
        },
        {
         "line": {
          "color": "black",
          "width": 1
         },
         "mode": "lines",
         "showlegend": false,
         "type": "scatter",
         "x": [
          4.875009536743164,
          4.751469135284424,
          4.750705718994141,
          4.872234344482422,
          4.875009536743164
         ],
         "y": [
          1.147203803062439,
          1.1083425283432007,
          0.9411253333091736,
          0.9658098816871643,
          1.147203803062439
         ]
        },
        {
         "line": {
          "color": "black",
          "width": 1
         },
         "mode": "lines",
         "showlegend": false,
         "type": "scatter",
         "x": [
          3.5861027240753174,
          3.4880003929138184,
          3.2483572959899902,
          3.3264353275299072,
          3.5861027240753174
         ],
         "y": [
          0.00036765006370842457,
          0.2196473479270935,
          0.22581638395786285,
          0.00033945636823773384,
          0.00036765006370842457
         ]
        },
        {
         "line": {
          "color": "black",
          "width": 1
         },
         "mode": "lines",
         "showlegend": false,
         "type": "scatter",
         "x": [
          3.4880003929138184,
          3.407712697982788,
          3.1774516105651855,
          3.2483572959899902,
          3.4880003929138184
         ],
         "y": [
          0.2196473479270935,
          0.43622931838035583,
          0.4505905508995056,
          0.22581638395786285,
          0.2196473479270935
         ]
        },
        {
         "line": {
          "color": "black",
          "width": 1
         },
         "mode": "lines",
         "showlegend": false,
         "type": "scatter",
         "x": [
          3.1774516105651855,
          2.963808298110962,
          3.0018398761749268,
          3.2483572959899902,
          3.1774516105651855
         ],
         "y": [
          0.4505905508995056,
          0.4604211151599884,
          0.23839102685451508,
          0.22581638395786285,
          0.4505905508995056
         ]
        },
        {
         "line": {
          "color": "black",
          "width": 1
         },
         "mode": "lines",
         "showlegend": false,
         "type": "scatter",
         "x": [
          3.0018398761749268,
          3.066767930984497,
          3.3264353275299072,
          3.2483572959899902,
          3.0018398761749268
         ],
         "y": [
          0.23839102685451508,
          0.0003112626727670431,
          0.00033945636823773384,
          0.22581638395786285,
          0.23839102685451508
         ]
        },
        {
         "line": {
          "color": "black",
          "width": 1
         },
         "mode": "lines",
         "showlegend": false,
         "type": "scatter",
         "x": [
          4.590582847595215,
          4.556674003601074,
          4.420439720153809,
          4.460107326507568,
          4.590582847595215
         ],
         "y": [
          0.00047671268112026155,
          0.12956446409225464,
          0.15340827405452728,
          0.00046254610060714185,
          0.00047671268112026155
         ]
        },
        {
         "line": {
          "color": "black",
          "width": 1
         },
         "mode": "lines",
         "showlegend": false,
         "type": "scatter",
         "x": [
          4.556674003601074,
          4.532685279846191,
          4.388168811798096,
          4.420439720153809,
          4.556674003601074
         ],
         "y": [
          0.12956446409225464,
          0.26613542437553406,
          0.312896192073822,
          0.15340827405452728,
          0.12956446409225464
         ]
        },
        {
         "line": {
          "color": "black",
          "width": 1
         },
         "mode": "lines",
         "showlegend": false,
         "type": "scatter",
         "x": [
          4.388168811798096,
          4.227769374847412,
          4.27320671081543,
          4.420439720153809,
          4.388168811798096
         ],
         "y": [
          0.312896192073822,
          0.36207443475723267,
          0.17595736682415009,
          0.15340827405452728,
          0.312896192073822
         ]
        },
        {
         "line": {
          "color": "black",
          "width": 1
         },
         "mode": "lines",
         "showlegend": false,
         "type": "scatter",
         "x": [
          4.27320671081543,
          4.329631328582764,
          4.460107326507568,
          4.420439720153809,
          4.27320671081543
         ],
         "y": [
          0.17595736682415009,
          0.0004483795491978526,
          0.00046254610060714185,
          0.15340827405452728,
          0.17595736682415009
         ]
        },
        {
         "line": {
          "color": "black",
          "width": 1
         },
         "mode": "lines",
         "showlegend": false,
         "type": "scatter",
         "x": [
          0.9562130570411682,
          0.9622323513031006,
          0.7805319428443909,
          0.7956831455230713,
          0.9562130570411682
         ],
         "y": [
          0.33940842747688293,
          0.5287277102470398,
          0.5390773415565491,
          0.3563489615917206,
          0.33940842747688293
         ]
        },
        {
         "line": {
          "color": "black",
          "width": 1
         },
         "mode": "lines",
         "showlegend": false,
         "type": "scatter",
         "x": [
          0.9622323513031006,
          0.9549516439437866,
          0.7557174563407898,
          0.7805319428443909,
          0.9622323513031006
         ],
         "y": [
          0.5287277102470398,
          0.7246973514556885,
          0.7230015993118286,
          0.5390773415565491,
          0.5287277102470398
         ]
        },
        {
         "line": {
          "color": "black",
          "width": 1
         },
         "mode": "lines",
         "showlegend": false,
         "type": "scatter",
         "x": [
          0.7557174563407898,
          0.578811764717102,
          0.6105673909187317,
          0.7805319428443909,
          0.7557174563407898
         ],
         "y": [
          0.7230015993118286,
          0.7186275720596313,
          0.5541684627532959,
          0.5390773415565491,
          0.7230015993118286
         ]
        },
        {
         "line": {
          "color": "black",
          "width": 1
         },
         "mode": "lines",
         "showlegend": false,
         "type": "scatter",
         "x": [
          0.6105673909187317,
          0.627141535282135,
          0.7956831455230713,
          0.7805319428443909,
          0.6105673909187317
         ],
         "y": [
          0.5541684627532959,
          0.36488497257232666,
          0.3563489615917206,
          0.5390773415565491,
          0.5541684627532959
         ]
        },
        {
         "line": {
          "color": "black",
          "width": 1
         },
         "mode": "lines",
         "showlegend": false,
         "type": "scatter",
         "x": [
          4.329631328582764,
          4.27320671081543,
          4.10380220413208,
          4.167333602905273,
          4.329631328582764
         ],
         "y": [
          0.0004483795491978526,
          0.17595736682415009,
          0.1932363510131836,
          0.0004307578783482313,
          0.0004483795491978526
         ]
        },
        {
         "line": {
          "color": "black",
          "width": 1
         },
         "mode": "lines",
         "showlegend": false,
         "type": "scatter",
         "x": [
          4.27320671081543,
          4.227769374847412,
          4.046414375305176,
          4.10380220413208,
          4.27320671081543
         ],
         "y": [
          0.17595736682415009,
          0.36207443475723267,
          0.39278480410575867,
          0.1932363510131836,
          0.17595736682415009
         ]
        },
        {
         "line": {
          "color": "black",
          "width": 1
         },
         "mode": "lines",
         "showlegend": false,
         "type": "scatter",
         "x": [
          4.046414375305176,
          3.8486406803131104,
          3.920787811279297,
          4.10380220413208,
          4.046414375305176
         ],
         "y": [
          0.39278480410575867,
          0.41667866706848145,
          0.20669518411159515,
          0.1932363510131836,
          0.39278480410575867
         ]
        },
        {
         "line": {
          "color": "black",
          "width": 1
         },
         "mode": "lines",
         "showlegend": false,
         "type": "scatter",
         "x": [
          3.920787811279297,
          4.005035877227783,
          4.167333602905273,
          4.10380220413208,
          3.920787811279297
         ],
         "y": [
          0.20669518411159515,
          0.00041313620749861,
          0.0004307578783482313,
          0.1932363510131836,
          0.20669518411159515
         ]
        },
        {
         "line": {
          "color": "black",
          "width": 1
         },
         "mode": "lines",
         "showlegend": false,
         "type": "scatter",
         "x": [
          1.1758103370666504,
          0.9794540405273438,
          0.9051526188850403,
          1.1089775562286377,
          1.1758103370666504
         ],
         "y": [
          2,
          2,
          1.8077863454818726,
          1.7997767925262451,
          2
         ]
        },
        {
         "line": {
          "color": "black",
          "width": 1
         },
         "mode": "lines",
         "showlegend": false,
         "type": "scatter",
         "x": [
          0.9794540405273438,
          0.7830976843833923,
          0.7255236506462097,
          0.9051526188850403,
          0.9794540405273438
         ],
         "y": [
          2,
          2,
          1.8332324028015137,
          1.8077863454818726,
          2
         ]
        },
        {
         "line": {
          "color": "black",
          "width": 1
         },
         "mode": "lines",
         "showlegend": false,
         "type": "scatter",
         "x": [
          0.7255236506462097,
          0.6195558905601501,
          0.8549940586090088,
          0.9051526188850403,
          0.7255236506462097
         ],
         "y": [
          1.8332324028015137,
          1.6367623805999756,
          1.6071720123291016,
          1.8077863454818726,
          1.8332324028015137
         ]
        },
        {
         "line": {
          "color": "black",
          "width": 1
         },
         "mode": "lines",
         "showlegend": false,
         "type": "scatter",
         "x": [
          0.8549940586090088,
          1.0725041627883911,
          1.1089775562286377,
          0.9051526188850403,
          0.8549940586090088
         ],
         "y": [
          1.6071720123291016,
          1.5951138734817505,
          1.7997767925262451,
          1.8077863454818726,
          1.6071720123291016
         ]
        },
        {
         "line": {
          "color": "black",
          "width": 1
         },
         "mode": "lines",
         "showlegend": false,
         "type": "scatter",
         "x": [
          2.776355504989624,
          2.859443426132202,
          3.118924379348755,
          3.050952672958374,
          2.776355504989624
         ],
         "y": [
          2,
          1.7934101819992065,
          1.7944393157958984,
          2,
          2
         ]
        },
        {
         "line": {
          "color": "black",
          "width": 1
         },
         "mode": "lines",
         "showlegend": false,
         "type": "scatter",
         "x": [
          2.859443426132202,
          2.911543130874634,
          3.189321994781494,
          3.118924379348755,
          2.859443426132202
         ],
         "y": [
          1.7934101819992065,
          1.556293249130249,
          1.5956833362579346,
          1.7944393157958984,
          1.7934101819992065
         ]
        },
        {
         "line": {
          "color": "black",
          "width": 1
         },
         "mode": "lines",
         "showlegend": false,
         "type": "scatter",
         "x": [
          3.189321994781494,
          3.413848876953125,
          3.378969192504883,
          3.118924379348755,
          3.189321994781494
         ],
         "y": [
          1.5956833362579346,
          1.5906689167022705,
          1.7909590005874634,
          1.7944393157958984,
          1.5956833362579346
         ]
        },
        {
         "line": {
          "color": "black",
          "width": 1
         },
         "mode": "lines",
         "showlegend": false,
         "type": "scatter",
         "x": [
          3.378969192504883,
          3.325550079345703,
          3.050952672958374,
          3.118924379348755,
          3.378969192504883
         ],
         "y": [
          1.7909590005874634,
          2,
          2,
          1.7944393157958984,
          1.7909590005874634
         ]
        },
        {
         "line": {
          "color": "black",
          "width": 1
         },
         "mode": "lines",
         "showlegend": false,
         "type": "scatter",
         "x": [
          2.8966269493103027,
          2.7521591186523438,
          2.536189079284668,
          2.6743946075439453,
          2.8966269493103027
         ],
         "y": [
          0.9135451912879944,
          1.0736907720565796,
          0.9604537487030029,
          0.7902913093566895,
          0.9135451912879944
         ]
        },
        {
         "line": {
          "color": "black",
          "width": 1
         },
         "mode": "lines",
         "showlegend": false,
         "type": "scatter",
         "x": [
          2.7521591186523438,
          2.6594648361206055,
          2.4489808082580566,
          2.536189079284668,
          2.7521591186523438
         ],
         "y": [
          1.0736907720565796,
          1.1856552362442017,
          1.1492185592651367,
          0.9604537487030029,
          1.0736907720565796
         ]
        },
        {
         "line": {
          "color": "black",
          "width": 1
         },
         "mode": "lines",
         "showlegend": false,
         "type": "scatter",
         "x": [
          2.4489808082580566,
          2.1369597911834717,
          2.29817271232605,
          2.536189079284668,
          2.4489808082580566
         ],
         "y": [
          1.1492185592651367,
          1.0944474935531616,
          0.8649904727935791,
          0.9604537487030029,
          1.1492185592651367
         ]
        },
        {
         "line": {
          "color": "black",
          "width": 1
         },
         "mode": "lines",
         "showlegend": false,
         "type": "scatter",
         "x": [
          2.29817271232605,
          2.4818246364593506,
          2.6743946075439453,
          2.536189079284668,
          2.29817271232605
         ],
         "y": [
          0.8649904727935791,
          0.6158626079559326,
          0.7902913093566895,
          0.9604537487030029,
          0.8649904727935791
         ]
        },
        {
         "line": {
          "color": "black",
          "width": 1
         },
         "mode": "lines",
         "showlegend": false,
         "type": "scatter",
         "x": [
          0,
          0,
          0.1461910754442215,
          0.13206499814987183,
          0
         ],
         "y": [
          1.785530686378479,
          1.657117486000061,
          1.6145169734954834,
          1.7527475357055664,
          1.785530686378479
         ]
        },
        {
         "line": {
          "color": "black",
          "width": 1
         },
         "mode": "lines",
         "showlegend": false,
         "type": "scatter",
         "x": [
          0,
          0,
          0.16260744631290436,
          0.1461910754442215,
          0
         ],
         "y": [
          1.657117486000061,
          1.528704285621643,
          1.4665180444717407,
          1.6145169734954834,
          1.657117486000061
         ]
        },
        {
         "line": {
          "color": "black",
          "width": 1
         },
         "mode": "lines",
         "showlegend": false,
         "type": "scatter",
         "x": [
          0.16260744631290436,
          0.31884118914604187,
          0.2859349250793457,
          0.1461910754442215,
          0.16260744631290436
         ],
         "y": [
          1.4665180444717407,
          1.4385032653808594,
          1.5875043869018555,
          1.6145169734954834,
          1.4665180444717407
         ]
        },
        {
         "line": {
          "color": "black",
          "width": 1
         },
         "mode": "lines",
         "showlegend": false,
         "type": "scatter",
         "x": [
          0.2859349250793457,
          0.26228660345077515,
          0.13206499814987183,
          0.1461910754442215,
          0.2859349250793457
         ],
         "y": [
          1.5875043869018555,
          1.7314345836639404,
          1.7527475357055664,
          1.6145169734954834,
          1.5875043869018555
         ]
        },
        {
         "line": {
          "color": "black",
          "width": 1
         },
         "mode": "lines",
         "showlegend": false,
         "type": "scatter",
         "x": [
          0,
          0,
          0.13378916680812836,
          0.1318792849779129,
          0
         ],
         "y": [
          0.8336949348449707,
          0.6632858514785767,
          0.6220121383666992,
          0.8028203248977661,
          0.8336949348449707
         ]
        },
        {
         "line": {
          "color": "black",
          "width": 1
         },
         "mode": "lines",
         "showlegend": false,
         "type": "scatter",
         "x": [
          0,
          0,
          0.13992531597614288,
          0.13378916680812836,
          0
         ],
         "y": [
          0.6632858514785767,
          0.49287670850753784,
          0.45070919394493103,
          0.6220121383666992,
          0.6632858514785767
         ]
        },
        {
         "line": {
          "color": "black",
          "width": 1
         },
         "mode": "lines",
         "showlegend": false,
         "type": "scatter",
         "x": [
          0.13992531597614288,
          0.2805204391479492,
          0.26792219281196594,
          0.13378916680812836,
          0.13992531597614288
         ],
         "y": [
          0.45070919394493103,
          0.41729649901390076,
          0.5868734121322632,
          0.6220121383666992,
          0.45070919394493103
         ]
        },
        {
         "line": {
          "color": "black",
          "width": 1
         },
         "mode": "lines",
         "showlegend": false,
         "type": "scatter",
         "x": [
          0.26792219281196594,
          0.2587893605232239,
          0.1318792849779129,
          0.13378916680812836,
          0.26792219281196594
         ],
         "y": [
          0.5868734121322632,
          0.7632734775543213,
          0.8028203248977661,
          0.6220121383666992,
          0.5868734121322632
         ]
        },
        {
         "line": {
          "color": "black",
          "width": 1
         },
         "mode": "lines",
         "showlegend": false,
         "type": "scatter",
         "x": [
          0.2127937227487564,
          0.24429811537265778,
          0.38766226172447205,
          0.33967939019203186,
          0.2127937227487564
         ],
         "y": [
          2,
          1.8628920316696167,
          1.84397554397583,
          2,
          2
         ]
        },
        {
         "line": {
          "color": "black",
          "width": 1
         },
         "mode": "lines",
         "showlegend": false,
         "type": "scatter",
         "x": [
          0.24429811537265778,
          0.26228660345077515,
          0.4134669601917267,
          0.38766226172447205,
          0.24429811537265778
         ],
         "y": [
          1.8628920316696167,
          1.7314345836639404,
          1.6992977857589722,
          1.84397554397583,
          1.8628920316696167
         ]
        },
        {
         "line": {
          "color": "black",
          "width": 1
         },
         "mode": "lines",
         "showlegend": false,
         "type": "scatter",
         "x": [
          0.4134669601917267,
          0.6195558905601501,
          0.5224918127059937,
          0.38766226172447205,
          0.4134669601917267
         ],
         "y": [
          1.6992977857589722,
          1.6367623805999756,
          1.8436788320541382,
          1.84397554397583,
          1.6992977857589722
         ]
        },
        {
         "line": {
          "color": "black",
          "width": 1
         },
         "mode": "lines",
         "showlegend": false,
         "type": "scatter",
         "x": [
          0.5224918127059937,
          0.4665650427341461,
          0.33967939019203186,
          0.38766226172447205,
          0.5224918127059937
         ],
         "y": [
          1.8436788320541382,
          2,
          2,
          1.84397554397583,
          1.8436788320541382
         ]
        },
        {
         "line": {
          "color": "black",
          "width": 1
         },
         "mode": "lines",
         "showlegend": false,
         "type": "scatter",
         "x": [
          4.005035877227783,
          3.920787811279297,
          3.7116761207580566,
          3.7955691814422607,
          4.005035877227783
         ],
         "y": [
          0.00041313620749861,
          0.20669518411159515,
          0.21364304423332214,
          0.0003903931356035173,
          0.00041313620749861
         ]
        },
        {
         "line": {
          "color": "black",
          "width": 1
         },
         "mode": "lines",
         "showlegend": false,
         "type": "scatter",
         "x": [
          3.920787811279297,
          3.8486406803131104,
          3.6313064098358154,
          3.7116761207580566,
          3.920787811279297
         ],
         "y": [
          0.20669518411159515,
          0.41667866706848145,
          0.42857542634010315,
          0.21364304423332214,
          0.20669518411159515
         ]
        },
        {
         "line": {
          "color": "black",
          "width": 1
         },
         "mode": "lines",
         "showlegend": false,
         "type": "scatter",
         "x": [
          3.6313064098358154,
          3.407712697982788,
          3.4880003929138184,
          3.7116761207580566,
          3.6313064098358154
         ],
         "y": [
          0.42857542634010315,
          0.43622931838035583,
          0.2196473479270935,
          0.21364304423332214,
          0.42857542634010315
         ]
        },
        {
         "line": {
          "color": "black",
          "width": 1
         },
         "mode": "lines",
         "showlegend": false,
         "type": "scatter",
         "x": [
          3.4880003929138184,
          3.5861027240753174,
          3.7955691814422607,
          3.7116761207580566,
          3.4880003929138184
         ],
         "y": [
          0.2196473479270935,
          0.00036765006370842457,
          0.0003903931356035173,
          0.21364304423332214,
          0.2196473479270935
         ]
        },
        {
         "line": {
          "color": "black",
          "width": 1
         },
         "mode": "lines",
         "showlegend": false,
         "type": "scatter",
         "x": [
          4.499637603759766,
          4.627870559692383,
          4.6072678565979,
          4.450838565826416,
          4.499637603759766
         ],
         "y": [
          1.0052365064620972,
          1.0579159259796143,
          1.2212865352630615,
          1.1682435274124146,
          1.0052365064620972
         ]
        },
        {
         "line": {
          "color": "black",
          "width": 1
         },
         "mode": "lines",
         "showlegend": false,
         "type": "scatter",
         "x": [
          4.627870559692383,
          4.751469135284424,
          4.750809192657471,
          4.6072678565979,
          4.627870559692383
         ],
         "y": [
          1.0579159259796143,
          1.1083425283432007,
          1.2754547595977783,
          1.2212865352630615,
          1.0579159259796143
         ]
        },
        {
         "line": {
          "color": "black",
          "width": 1
         },
         "mode": "lines",
         "showlegend": false,
         "type": "scatter",
         "x": [
          4.750809192657471,
          4.75515079498291,
          4.602313995361328,
          4.6072678565979,
          4.750809192657471
         ],
         "y": [
          1.2754547595977783,
          1.441074013710022,
          1.392114281654358,
          1.2212865352630615,
          1.2754547595977783
         ]
        },
        {
         "line": {
          "color": "black",
          "width": 1
         },
         "mode": "lines",
         "showlegend": false,
         "type": "scatter",
         "x": [
          4.602313995361328,
          4.43840217590332,
          4.450838565826416,
          4.6072678565979,
          4.602313995361328
         ],
         "y": [
          1.392114281654358,
          1.355120062828064,
          1.1682435274124146,
          1.2212865352630615,
          1.392114281654358
         ]
        },
        {
         "line": {
          "color": "black",
          "width": 1
         },
         "mode": "lines",
         "showlegend": false,
         "type": "scatter",
         "x": [
          0.39051392674446106,
          0.5067894458770752,
          0.6792685985565186,
          0.5910466909408569,
          0.39051392674446106
         ],
         "y": [
          1.07501220703125,
          0.8900513648986816,
          0.916845440864563,
          1.1176680326461792,
          1.07501220703125
         ]
        },
        {
         "line": {
          "color": "black",
          "width": 1
         },
         "mode": "lines",
         "showlegend": false,
         "type": "scatter",
         "x": [
          0.5067894458770752,
          0.578811764717102,
          0.7557174563407898,
          0.6792685985565186,
          0.5067894458770752
         ],
         "y": [
          0.8900513648986816,
          0.7186275720596313,
          0.7230015993118286,
          0.916845440864563,
          0.8900513648986816
         ]
        },
        {
         "line": {
          "color": "black",
          "width": 1
         },
         "mode": "lines",
         "showlegend": false,
         "type": "scatter",
         "x": [
          0.7557174563407898,
          0.9549516439437866,
          0.8842635750770569,
          0.6792685985565186,
          0.7557174563407898
         ],
         "y": [
          0.7230015993118286,
          0.7246973514556885,
          0.9308021068572998,
          0.916845440864563,
          0.7230015993118286
         ]
        },
        {
         "line": {
          "color": "black",
          "width": 1
         },
         "mode": "lines",
         "showlegend": false,
         "type": "scatter",
         "x": [
          0.8842635750770569,
          0.7919260263442993,
          0.5910466909408569,
          0.6792685985565186,
          0.8842635750770569
         ],
         "y": [
          0.9308021068572998,
          1.1481053829193115,
          1.1176680326461792,
          0.916845440864563,
          0.9308021068572998
         ]
        },
        {
         "line": {
          "color": "black",
          "width": 1
         },
         "mode": "lines",
         "showlegend": false,
         "type": "scatter",
         "x": [
          3.713677167892456,
          3.7805893421173096,
          3.994795083999634,
          3.934750556945801,
          3.713677167892456
         ],
         "y": [
          0.8393602967262268,
          0.6332447528839111,
          0.6170737147331238,
          0.844081699848175,
          0.8393602967262268
         ]
        },
        {
         "line": {
          "color": "black",
          "width": 1
         },
         "mode": "lines",
         "showlegend": false,
         "type": "scatter",
         "x": [
          3.7805893421173096,
          3.8486406803131104,
          4.046414375305176,
          3.994795083999634,
          3.7805893421173096
         ],
         "y": [
          0.6332447528839111,
          0.41667866706848145,
          0.39278480410575867,
          0.6170737147331238,
          0.6332447528839111
         ]
        },
        {
         "line": {
          "color": "black",
          "width": 1
         },
         "mode": "lines",
         "showlegend": false,
         "type": "scatter",
         "x": [
          4.046414375305176,
          4.227769374847412,
          4.198951244354248,
          3.994795083999634,
          4.046414375305176
         ],
         "y": [
          0.39278480410575867,
          0.36207443475723267,
          0.578764796257019,
          0.6170737147331238,
          0.39278480410575867
         ]
        },
        {
         "line": {
          "color": "black",
          "width": 1
         },
         "mode": "lines",
         "showlegend": false,
         "type": "scatter",
         "x": [
          4.198951244354248,
          4.184881210327148,
          3.934750556945801,
          3.994795083999634,
          4.198951244354248
         ],
         "y": [
          0.578764796257019,
          0.8321652412414551,
          0.844081699848175,
          0.6170737147331238,
          0.578764796257019
         ]
        },
        {
         "line": {
          "color": "black",
          "width": 1
         },
         "mode": "lines",
         "showlegend": false,
         "type": "scatter",
         "x": [
          0,
          0,
          0.1769266277551651,
          0.16260744631290436,
          0
         ],
         "y": [
          1.528704285621643,
          1.3684204816818237,
          1.3075621128082275,
          1.4665180444717407,
          1.528704285621643
         ]
        },
        {
         "line": {
          "color": "black",
          "width": 1
         },
         "mode": "lines",
         "showlegend": false,
         "type": "scatter",
         "x": [
          0,
          0,
          0.18049459159374237,
          0.1769266277551651,
          0
         ],
         "y": [
          1.3684204816818237,
          1.2081365585327148,
          1.1455439329147339,
          1.3075621128082275,
          1.3684204816818237
         ]
        },
        {
         "line": {
          "color": "black",
          "width": 1
         },
         "mode": "lines",
         "showlegend": false,
         "type": "scatter",
         "x": [
          0.18049459159374237,
          0.39051392674446106,
          0.35635045170783997,
          0.1769266277551651,
          0.18049459159374237
         ],
         "y": [
          1.1455439329147339,
          1.07501220703125,
          1.27205491065979,
          1.3075621128082275,
          1.1455439329147339
         ]
        },
        {
         "line": {
          "color": "black",
          "width": 1
         },
         "mode": "lines",
         "showlegend": false,
         "type": "scatter",
         "x": [
          0.35635045170783997,
          0.31884118914604187,
          0.16260744631290436,
          0.1769266277551651,
          0.35635045170783997
         ],
         "y": [
          1.27205491065979,
          1.4385032653808594,
          1.4665180444717407,
          1.3075621128082275,
          1.27205491065979
         ]
        },
        {
         "line": {
          "color": "black",
          "width": 1
         },
         "mode": "lines",
         "showlegend": false,
         "type": "scatter",
         "x": [
          3.8486406803131104,
          3.7805893421173096,
          3.5577285289764404,
          3.6313064098358154,
          3.8486406803131104
         ],
         "y": [
          0.41667866706848145,
          0.6332447528839111,
          0.6376153230667114,
          0.42857542634010315,
          0.41667866706848145
         ]
        },
        {
         "line": {
          "color": "black",
          "width": 1
         },
         "mode": "lines",
         "showlegend": false,
         "type": "scatter",
         "x": [
          3.7805893421173096,
          3.713677167892456,
          3.4975550174713135,
          3.5577285289764404,
          3.7805893421173096
         ],
         "y": [
          0.6332447528839111,
          0.8393602967262268,
          0.8307721614837646,
          0.6376153230667114,
          0.6332447528839111
         ]
        },
        {
         "line": {
          "color": "black",
          "width": 1
         },
         "mode": "lines",
         "showlegend": false,
         "type": "scatter",
         "x": [
          3.4975550174713135,
          3.2980592250823975,
          3.335306406021118,
          3.5577285289764404,
          3.4975550174713135
         ],
         "y": [
          0.8307721614837646,
          0.8300948143005371,
          0.6434970498085022,
          0.6376153230667114,
          0.8307721614837646
         ]
        },
        {
         "line": {
          "color": "black",
          "width": 1
         },
         "mode": "lines",
         "showlegend": false,
         "type": "scatter",
         "x": [
          3.335306406021118,
          3.407712697982788,
          3.6313064098358154,
          3.5577285289764404,
          3.335306406021118
         ],
         "y": [
          0.6434970498085022,
          0.43622931838035583,
          0.42857542634010315,
          0.6376153230667114,
          0.6434970498085022
         ]
        },
        {
         "line": {
          "color": "black",
          "width": 1
         },
         "mode": "lines",
         "showlegend": false,
         "type": "scatter",
         "x": [
          2.911543130874634,
          2.859443426132202,
          2.5879738330841064,
          2.6302239894866943,
          2.911543130874634
         ],
         "y": [
          1.556293249130249,
          1.7934101819992065,
          1.7887424230575562,
          1.5787913799285889,
          1.556293249130249
         ]
        },
        {
         "line": {
          "color": "black",
          "width": 1
         },
         "mode": "lines",
         "showlegend": false,
         "type": "scatter",
         "x": [
          2.859443426132202,
          2.776355504989624,
          2.5,
          2.5879738330841064,
          2.859443426132202
         ],
         "y": [
          1.7934101819992065,
          2,
          2,
          1.7887424230575562,
          1.7934101819992065
         ]
        },
        {
         "line": {
          "color": "black",
          "width": 1
         },
         "mode": "lines",
         "showlegend": false,
         "type": "scatter",
         "x": [
          2.5,
          2.223644495010376,
          2.3211584091186523,
          2.5879738330841064,
          2.5
         ],
         "y": [
          2,
          2,
          1.7899101972579956,
          1.7887424230575562,
          2
         ]
        },
        {
         "line": {
          "color": "black",
          "width": 1
         },
         "mode": "lines",
         "showlegend": false,
         "type": "scatter",
         "x": [
          2.3211584091186523,
          2.360090732574463,
          2.6302239894866943,
          2.5879738330841064,
          2.3211584091186523
         ],
         "y": [
          1.7899101972579956,
          1.5773155689239502,
          1.5787913799285889,
          1.7887424230575562,
          1.7899101972579956
         ]
        },
        {
         "line": {
          "color": "black",
          "width": 1
         },
         "mode": "lines",
         "showlegend": false,
         "type": "scatter",
         "x": [
          3.473403215408325,
          3.4483723640441895,
          3.2448580265045166,
          3.2691640853881836,
          3.473403215408325
         ],
         "y": [
          1.1742188930511475,
          1.3876214027404785,
          1.4029635190963745,
          1.21808922290802,
          1.1742188930511475
         ]
        },
        {
         "line": {
          "color": "black",
          "width": 1
         },
         "mode": "lines",
         "showlegend": false,
         "type": "scatter",
         "x": [
          3.4483723640441895,
          3.413848876953125,
          3.189321994781494,
          3.2448580265045166,
          3.4483723640441895
         ],
         "y": [
          1.3876214027404785,
          1.5906689167022705,
          1.5956833362579346,
          1.4029635190963745,
          1.3876214027404785
         ]
        },
        {
         "line": {
          "color": "black",
          "width": 1
         },
         "mode": "lines",
         "showlegend": false,
         "type": "scatter",
         "x": [
          3.189321994781494,
          2.911543130874634,
          3.0534119606018066,
          3.2448580265045166,
          3.189321994781494
         ],
         "y": [
          1.5956833362579346,
          1.556293249130249,
          1.3834482431411743,
          1.4029635190963745,
          1.5956833362579346
         ]
        },
        {
         "line": {
          "color": "black",
          "width": 1
         },
         "mode": "lines",
         "showlegend": false,
         "type": "scatter",
         "x": [
          3.0534119606018066,
          3.1177587509155273,
          3.2691640853881836,
          3.2448580265045166,
          3.0534119606018066
         ],
         "y": [
          1.3834482431411743,
          1.2380715608596802,
          1.21808922290802,
          1.4029635190963745,
          1.3834482431411743
         ]
        },
        {
         "line": {
          "color": "black",
          "width": 1
         },
         "mode": "lines",
         "showlegend": false,
         "type": "scatter",
         "x": [
          4.184881210327148,
          4.054696559906006,
          3.830310821533203,
          3.934750556945801,
          4.184881210327148
         ],
         "y": [
          0.8321652412414551,
          1.1092333793640137,
          1.0677576065063477,
          0.844081699848175,
          0.8321652412414551
         ]
        },
        {
         "line": {
          "color": "black",
          "width": 1
         },
         "mode": "lines",
         "showlegend": false,
         "type": "scatter",
         "x": [
          4.054696559906006,
          3.940859079360962,
          3.7114505767822266,
          3.830310821533203,
          4.054696559906006
         ],
         "y": [
          1.1092333793640137,
          1.4175339937210083,
          1.2611958980560303,
          1.0677576065063477,
          1.1092333793640137
         ]
        },
        {
         "line": {
          "color": "black",
          "width": 1
         },
         "mode": "lines",
         "showlegend": false,
         "type": "scatter",
         "x": [
          3.7114505767822266,
          3.473403215408325,
          3.613842725753784,
          3.830310821533203,
          3.7114505767822266
         ],
         "y": [
          1.2611958980560303,
          1.1742188930511475,
          1.0139297246932983,
          1.0677576065063477,
          1.2611958980560303
         ]
        },
        {
         "line": {
          "color": "black",
          "width": 1
         },
         "mode": "lines",
         "showlegend": false,
         "type": "scatter",
         "x": [
          3.613842725753784,
          3.713677167892456,
          3.934750556945801,
          3.830310821533203,
          3.613842725753784
         ],
         "y": [
          1.0139297246932983,
          0.8393602967262268,
          0.844081699848175,
          1.0677576065063477,
          1.0139297246932983
         ]
        },
        {
         "line": {
          "color": "black",
          "width": 1
         },
         "mode": "lines",
         "showlegend": false,
         "type": "scatter",
         "x": [
          2.8966269493103027,
          2.9305195808410645,
          3.1272013187408447,
          3.108921527862549,
          2.8966269493103027
         ],
         "y": [
          0.9135451912879944,
          0.6812463998794556,
          0.6634999513626099,
          0.8663949966430664,
          0.9135451912879944
         ]
        },
        {
         "line": {
          "color": "black",
          "width": 1
         },
         "mode": "lines",
         "showlegend": false,
         "type": "scatter",
         "x": [
          2.9305195808410645,
          2.963808298110962,
          3.1774516105651855,
          3.1272013187408447,
          2.9305195808410645
         ],
         "y": [
          0.6812463998794556,
          0.4604211151599884,
          0.4505905508995056,
          0.6634999513626099,
          0.6812463998794556
         ]
        },
        {
         "line": {
          "color": "black",
          "width": 1
         },
         "mode": "lines",
         "showlegend": false,
         "type": "scatter",
         "x": [
          3.1774516105651855,
          3.407712697982788,
          3.335306406021118,
          3.1272013187408447,
          3.1774516105651855
         ],
         "y": [
          0.4505905508995056,
          0.43622931838035583,
          0.6434970498085022,
          0.6634999513626099,
          0.4505905508995056
         ]
        },
        {
         "line": {
          "color": "black",
          "width": 1
         },
         "mode": "lines",
         "showlegend": false,
         "type": "scatter",
         "x": [
          3.335306406021118,
          3.2980592250823975,
          3.108921527862549,
          3.1272013187408447,
          3.335306406021118
         ],
         "y": [
          0.6434970498085022,
          0.8300948143005371,
          0.8663949966430664,
          0.6634999513626099,
          0.6434970498085022
         ]
        },
        {
         "line": {
          "color": "black",
          "width": 1
         },
         "mode": "lines",
         "showlegend": false,
         "type": "scatter",
         "x": [
          1.6744500398635864,
          1.4251301288604736,
          1.337809681892395,
          1.5456219911575317,
          1.6744500398635864
         ],
         "y": [
          2,
          2,
          1.7983766794204712,
          1.7606996297836304,
          2
         ]
        },
        {
         "line": {
          "color": "black",
          "width": 1
         },
         "mode": "lines",
         "showlegend": false,
         "type": "scatter",
         "x": [
          1.4251301288604736,
          1.1758103370666504,
          1.1089775562286377,
          1.337809681892395,
          1.4251301288604736
         ],
         "y": [
          2,
          2,
          1.7997767925262451,
          1.7983766794204712,
          2
         ]
        },
        {
         "line": {
          "color": "black",
          "width": 1
         },
         "mode": "lines",
         "showlegend": false,
         "type": "scatter",
         "x": [
          1.1089775562286377,
          1.0725041627883911,
          1.2779484987258911,
          1.337809681892395,
          1.1089775562286377
         ],
         "y": [
          1.7997767925262451,
          1.5951138734817505,
          1.5976756811141968,
          1.7983766794204712,
          1.7997767925262451
         ]
        },
        {
         "line": {
          "color": "black",
          "width": 1
         },
         "mode": "lines",
         "showlegend": false,
         "type": "scatter",
         "x": [
          1.2779484987258911,
          1.4594870805740356,
          1.5456219911575317,
          1.337809681892395,
          1.2779484987258911
         ],
         "y": [
          1.5976756811141968,
          1.602929949760437,
          1.7606996297836304,
          1.7983766794204712,
          1.5976756811141968
         ]
        },
        {
         "line": {
          "color": "black",
          "width": 1
         },
         "mode": "lines",
         "showlegend": false,
         "type": "scatter",
         "x": [
          2.8966269493103027,
          3.025653123855591,
          2.9025347232818604,
          2.7521591186523438,
          2.8966269493103027
         ],
         "y": [
          0.9135451912879944,
          1.1079118251800537,
          1.234968900680542,
          1.0736907720565796,
          0.9135451912879944
         ]
        },
        {
         "line": {
          "color": "black",
          "width": 1
         },
         "mode": "lines",
         "showlegend": false,
         "type": "scatter",
         "x": [
          3.025653123855591,
          3.1177587509155273,
          3.0534119606018066,
          2.9025347232818604,
          3.025653123855591
         ],
         "y": [
          1.1079118251800537,
          1.2380715608596802,
          1.3834482431411743,
          1.234968900680542,
          1.1079118251800537
         ]
        },
        {
         "line": {
          "color": "black",
          "width": 1
         },
         "mode": "lines",
         "showlegend": false,
         "type": "scatter",
         "x": [
          3.0534119606018066,
          2.911543130874634,
          2.7669410705566406,
          2.9025347232818604,
          3.0534119606018066
         ],
         "y": [
          1.3834482431411743,
          1.556293249130249,
          1.3507217168807983,
          1.234968900680542,
          1.3834482431411743
         ]
        },
        {
         "line": {
          "color": "black",
          "width": 1
         },
         "mode": "lines",
         "showlegend": false,
         "type": "scatter",
         "x": [
          2.7669410705566406,
          2.6594648361206055,
          2.7521591186523438,
          2.9025347232818604,
          2.7669410705566406
         ],
         "y": [
          1.3507217168807983,
          1.1856552362442017,
          1.0736907720565796,
          1.234968900680542,
          1.3507217168807983
         ]
        },
        {
         "line": {
          "color": "black",
          "width": 1
         },
         "mode": "lines",
         "showlegend": false,
         "type": "scatter",
         "x": [
          3.473403215408325,
          3.2691640853881836,
          3.190035343170166,
          3.3496553897857666,
          3.473403215408325
         ],
         "y": [
          1.1742188930511475,
          1.21808922290802,
          1.043007493019104,
          1.000938892364502,
          1.1742188930511475
         ]
        },
        {
         "line": {
          "color": "black",
          "width": 1
         },
         "mode": "lines",
         "showlegend": false,
         "type": "scatter",
         "x": [
          3.2691640853881836,
          3.1177587509155273,
          3.025653123855591,
          3.190035343170166,
          3.2691640853881836
         ],
         "y": [
          1.21808922290802,
          1.2380715608596802,
          1.1079118251800537,
          1.043007493019104,
          1.21808922290802
         ]
        },
        {
         "line": {
          "color": "black",
          "width": 1
         },
         "mode": "lines",
         "showlegend": false,
         "type": "scatter",
         "x": [
          3.025653123855591,
          2.8966269493103027,
          3.108921527862549,
          3.190035343170166,
          3.025653123855591
         ],
         "y": [
          1.1079118251800537,
          0.9135451912879944,
          0.8663949966430664,
          1.043007493019104,
          1.1079118251800537
         ]
        },
        {
         "line": {
          "color": "black",
          "width": 1
         },
         "mode": "lines",
         "showlegend": false,
         "type": "scatter",
         "x": [
          3.108921527862549,
          3.2980592250823975,
          3.3496553897857666,
          3.190035343170166,
          3.108921527862549
         ],
         "y": [
          0.8663949966430664,
          0.8300948143005371,
          1.000938892364502,
          1.043007493019104,
          0.8663949966430664
         ]
        },
        {
         "line": {
          "color": "black",
          "width": 1
         },
         "mode": "lines",
         "showlegend": false,
         "type": "scatter",
         "x": [
          1.6893349885940552,
          1.8386987447738647,
          1.694443941116333,
          1.5525668859481812,
          1.6893349885940552
         ],
         "y": [
          1.329845905303955,
          1.4585894346237183,
          1.6182851791381836,
          1.4657286405563354,
          1.329845905303955
         ]
        },
        {
         "line": {
          "color": "black",
          "width": 1
         },
         "mode": "lines",
         "showlegend": false,
         "type": "scatter",
         "x": [
          1.8386987447738647,
          1.936989188194275,
          1.8399810791015625,
          1.694443941116333,
          1.8386987447738647
         ],
         "y": [
          1.4585894346237183,
          1.5932351350784302,
          1.7523523569107056,
          1.6182851791381836,
          1.4585894346237183
         ]
        },
        {
         "line": {
          "color": "black",
          "width": 1
         },
         "mode": "lines",
         "showlegend": false,
         "type": "scatter",
         "x": [
          1.8399810791015625,
          1.6744500398635864,
          1.5456219911575317,
          1.694443941116333,
          1.8399810791015625
         ],
         "y": [
          1.7523523569107056,
          2,
          1.7606996297836304,
          1.6182851791381836,
          1.7523523569107056
         ]
        },
        {
         "line": {
          "color": "black",
          "width": 1
         },
         "mode": "lines",
         "showlegend": false,
         "type": "scatter",
         "x": [
          1.5456219911575317,
          1.4594870805740356,
          1.5525668859481812,
          1.694443941116333,
          1.5456219911575317
         ],
         "y": [
          1.7606996297836304,
          1.602929949760437,
          1.4657286405563354,
          1.6182851791381836,
          1.7606996297836304
         ]
        },
        {
         "line": {
          "color": "black",
          "width": 1
         },
         "mode": "lines",
         "showlegend": false,
         "type": "scatter",
         "x": [
          1.6893349885940552,
          1.5525668859481812,
          1.3535499572753906,
          1.4776769876480103,
          1.6893349885940552
         ],
         "y": [
          1.329845905303955,
          1.4657286405563354,
          1.4072434902191162,
          1.2268623113632202,
          1.329845905303955
         ]
        },
        {
         "line": {
          "color": "black",
          "width": 1
         },
         "mode": "lines",
         "showlegend": false,
         "type": "scatter",
         "x": [
          1.5525668859481812,
          1.4594870805740356,
          1.2779484987258911,
          1.3535499572753906,
          1.5525668859481812
         ],
         "y": [
          1.4657286405563354,
          1.602929949760437,
          1.5976756811141968,
          1.4072434902191162,
          1.4657286405563354
         ]
        },
        {
         "line": {
          "color": "black",
          "width": 1
         },
         "mode": "lines",
         "showlegend": false,
         "type": "scatter",
         "x": [
          1.2779484987258911,
          1.0725041627883911,
          1.1273328065872192,
          1.3535499572753906,
          1.2779484987258911
         ],
         "y": [
          1.5976756811141968,
          1.5951138734817505,
          1.381439208984375,
          1.4072434902191162,
          1.5976756811141968
         ]
        },
        {
         "line": {
          "color": "black",
          "width": 1
         },
         "mode": "lines",
         "showlegend": false,
         "type": "scatter",
         "x": [
          1.1273328065872192,
          1.2487528324127197,
          1.4776769876480103,
          1.3535499572753906,
          1.1273328065872192
         ],
         "y": [
          1.381439208984375,
          1.1753369569778442,
          1.2268623113632202,
          1.4072434902191162,
          1.381439208984375
         ]
        },
        {
         "line": {
          "color": "black",
          "width": 1
         },
         "mode": "lines",
         "showlegend": false,
         "type": "scatter",
         "x": [
          2.360090732574463,
          2.3211584091186523,
          2.0579397678375244,
          2.1305150985717773,
          2.360090732574463
         ],
         "y": [
          1.5773155689239502,
          1.7899101972579956,
          1.790798544883728,
          1.583219289779663,
          1.5773155689239502
         ]
        },
        {
         "line": {
          "color": "black",
          "width": 1
         },
         "mode": "lines",
         "showlegend": false,
         "type": "scatter",
         "x": [
          2.3211584091186523,
          2.223644495010376,
          1.9490472078323364,
          2.0579397678375244,
          2.3211584091186523
         ],
         "y": [
          1.7899101972579956,
          2,
          2,
          1.790798544883728,
          1.7899101972579956
         ]
        },
        {
         "line": {
          "color": "black",
          "width": 1
         },
         "mode": "lines",
         "showlegend": false,
         "type": "scatter",
         "x": [
          1.9490472078323364,
          1.6744500398635864,
          1.8399810791015625,
          2.0579397678375244,
          1.9490472078323364
         ],
         "y": [
          2,
          2,
          1.7523523569107056,
          1.790798544883728,
          2
         ]
        },
        {
         "line": {
          "color": "black",
          "width": 1
         },
         "mode": "lines",
         "showlegend": false,
         "type": "scatter",
         "x": [
          1.8399810791015625,
          1.936989188194275,
          2.1305150985717773,
          2.0579397678375244,
          1.8399810791015625
         ],
         "y": [
          1.7523523569107056,
          1.5932351350784302,
          1.583219289779663,
          1.790798544883728,
          1.7523523569107056
         ]
        },
        {
         "line": {
          "color": "black",
          "width": 1
         },
         "mode": "lines",
         "showlegend": false,
         "type": "scatter",
         "x": [
          1.2487528324127197,
          1.1273328065872192,
          0.913159191608429,
          1.0133227109909058,
          1.2487528324127197
         ],
         "y": [
          1.1753369569778442,
          1.381439208984375,
          1.384960651397705,
          1.1578656435012817,
          1.1753369569778442
         ]
        },
        {
         "line": {
          "color": "black",
          "width": 1
         },
         "mode": "lines",
         "showlegend": false,
         "type": "scatter",
         "x": [
          1.1273328065872192,
          1.0725041627883911,
          0.8549940586090088,
          0.913159191608429,
          1.1273328065872192
         ],
         "y": [
          1.381439208984375,
          1.5951138734817505,
          1.6071720123291016,
          1.384960651397705,
          1.381439208984375
         ]
        },
        {
         "line": {
          "color": "black",
          "width": 1
         },
         "mode": "lines",
         "showlegend": false,
         "type": "scatter",
         "x": [
          0.8549940586090088,
          0.6195558905601501,
          0.7032692432403564,
          0.913159191608429,
          0.8549940586090088
         ],
         "y": [
          1.6071720123291016,
          1.6367623805999756,
          1.3785207271575928,
          1.384960651397705,
          1.6071720123291016
         ]
        },
        {
         "line": {
          "color": "black",
          "width": 1
         },
         "mode": "lines",
         "showlegend": false,
         "type": "scatter",
         "x": [
          0.7032692432403564,
          0.7919260263442993,
          1.0133227109909058,
          0.913159191608429,
          0.7032692432403564
         ],
         "y": [
          1.3785207271575928,
          1.1481053829193115,
          1.1578656435012817,
          1.384960651397705,
          1.3785207271575928
         ]
        },
        {
         "line": {
          "color": "black",
          "width": 1
         },
         "mode": "lines",
         "showlegend": false,
         "type": "scatter",
         "x": [
          4.786237716674805,
          4.781370639801025,
          4.655276775360107,
          4.664474964141846,
          4.786237716674805
         ],
         "y": [
          0.19695256650447845,
          0.310759961605072,
          0.34788778424263,
          0.21988070011138916,
          0.19695256650447845
         ]
        },
        {
         "line": {
          "color": "black",
          "width": 1
         },
         "mode": "lines",
         "showlegend": false,
         "type": "scatter",
         "x": [
          4.781370639801025,
          4.777948379516602,
          4.655497074127197,
          4.655276775360107,
          4.781370639801025
         ],
         "y": [
          0.310759961605072,
          0.44183599948883057,
          0.46665915846824646,
          0.34788778424263,
          0.310759961605072
         ]
        },
        {
         "line": {
          "color": "black",
          "width": 1
         },
         "mode": "lines",
         "showlegend": false,
         "type": "scatter",
         "x": [
          4.655497074127197,
          4.529269695281982,
          4.519779205322266,
          4.655276775360107,
          4.655497074127197
         ],
         "y": [
          0.46665915846824646,
          0.5404736399650574,
          0.4059048891067505,
          0.34788778424263,
          0.46665915846824646
         ]
        },
        {
         "line": {
          "color": "black",
          "width": 1
         },
         "mode": "lines",
         "showlegend": false,
         "type": "scatter",
         "x": [
          4.519779205322266,
          4.532685279846191,
          4.664474964141846,
          4.655276775360107,
          4.519779205322266
         ],
         "y": [
          0.4059048891067505,
          0.26613542437553406,
          0.21988070011138916,
          0.34788778424263,
          0.4059048891067505
         ]
        },
        {
         "line": {
          "color": "black",
          "width": 1
         },
         "mode": "lines",
         "showlegend": false,
         "type": "scatter",
         "x": [
          1.3543840646743774,
          1.3669102191925049,
          1.5894502401351929,
          1.5371657609939575,
          1.3543840646743774
         ],
         "y": [
          0.3446437418460846,
          0.16960975527763367,
          0.16295339167118073,
          0.3270001709461212,
          0.3446437418460846
         ]
        },
        {
         "line": {
          "color": "black",
          "width": 1
         },
         "mode": "lines",
         "showlegend": false,
         "type": "scatter",
         "x": [
          1.3669102191925049,
          1.419364094734192,
          1.677985429763794,
          1.5894502401351929,
          1.3669102191925049
         ],
         "y": [
          0.16960975527763367,
          0.0001323938777204603,
          0.00016047399549279362,
          0.16295339167118073,
          0.16960975527763367
         ]
        },
        {
         "line": {
          "color": "black",
          "width": 1
         },
         "mode": "lines",
         "showlegend": false,
         "type": "scatter",
         "x": [
          1.677985429763794,
          1.9366068840026855,
          1.771650791168213,
          1.5894502401351929,
          1.677985429763794
         ],
         "y": [
          0.00016047399549279362,
          0.00018855412781704217,
          0.17057465016841888,
          0.16295339167118073,
          0.00016047399549279362
         ]
        },
        {
         "line": {
          "color": "black",
          "width": 1
         },
         "mode": "lines",
         "showlegend": false,
         "type": "scatter",
         "x": [
          1.771650791168213,
          1.7777091264724731,
          1.5371657609939575,
          1.5894502401351929,
          1.771650791168213
         ],
         "y": [
          0.17057465016841888,
          0.2957989573478699,
          0.3270001709461212,
          0.16295339167118073,
          0.17057465016841888
         ]
        },
        {
         "line": {
          "color": "black",
          "width": 1
         },
         "mode": "lines",
         "showlegend": false,
         "type": "scatter",
         "x": [
          1.9581654071807861,
          1.8069356679916382,
          1.6369144916534424,
          1.7927772998809814,
          1.9581654071807861
         ],
         "y": [
          0.480968713760376,
          0.6288296580314636,
          0.4833543598651886,
          0.4158589541912079,
          0.480968713760376
         ]
        },
        {
         "line": {
          "color": "black",
          "width": 1
         },
         "mode": "lines",
         "showlegend": false,
         "type": "scatter",
         "x": [
          1.8069356679916382,
          1.551755666732788,
          1.4259897470474243,
          1.6369144916534424,
          1.8069356679916382
         ],
         "y": [
          0.6288296580314636,
          0.7565462589263916,
          0.535866379737854,
          0.4833543598651886,
          0.6288296580314636
         ]
        },
        {
         "line": {
          "color": "black",
          "width": 1
         },
         "mode": "lines",
         "showlegend": false,
         "type": "scatter",
         "x": [
          1.4259897470474243,
          1.3543840646743774,
          1.5371657609939575,
          1.6369144916534424,
          1.4259897470474243
         ],
         "y": [
          0.535866379737854,
          0.3446437418460846,
          0.3270001709461212,
          0.4833543598651886,
          0.535866379737854
         ]
        },
        {
         "line": {
          "color": "black",
          "width": 1
         },
         "mode": "lines",
         "showlegend": false,
         "type": "scatter",
         "x": [
          1.5371657609939575,
          1.7777091264724731,
          1.7927772998809814,
          1.6369144916534424,
          1.5371657609939575
         ],
         "y": [
          0.3270001709461212,
          0.2957989573478699,
          0.4158589541912079,
          0.4833543598651886,
          0.3270001709461212
         ]
        },
        {
         "line": {
          "color": "black",
          "width": 1
         },
         "mode": "lines",
         "showlegend": false,
         "type": "scatter",
         "x": [
          0.2351664900779724,
          0.3566628694534302,
          0.40328821539878845,
          0.26024454832077026,
          0.2351664900779724
         ],
         "y": [
          0.16964052617549896,
          0.17079336941242218,
          0.27895694971084595,
          0.2798923850059509,
          0.16964052617549896
         ]
        },
        {
         "line": {
          "color": "black",
          "width": 1
         },
         "mode": "lines",
         "showlegend": false,
         "type": "scatter",
         "x": [
          0.3566628694534302,
          0.44784802198410034,
          0.5283551812171936,
          0.40328821539878845,
          0.3566628694534302
         ],
         "y": [
          0.17079336941242218,
          0.17369678616523743,
          0.25586000084877014,
          0.27895694971084595,
          0.17079336941242218
         ]
        },
        {
         "line": {
          "color": "black",
          "width": 1
         },
         "mode": "lines",
         "showlegend": false,
         "type": "scatter",
         "x": [
          0.5283551812171936,
          0.627141535282135,
          0.4450821578502655,
          0.40328821539878845,
          0.5283551812171936
         ],
         "y": [
          0.25586000084877014,
          0.36488497257232666,
          0.4019414782524109,
          0.27895694971084595,
          0.25586000084877014
         ]
        },
        {
         "line": {
          "color": "black",
          "width": 1
         },
         "mode": "lines",
         "showlegend": false,
         "type": "scatter",
         "x": [
          0.4450821578502655,
          0.2805204391479492,
          0.26024454832077026,
          0.40328821539878845,
          0.4450821578502655
         ],
         "y": [
          0.4019414782524109,
          0.41729649901390076,
          0.2798923850059509,
          0.27895694971084595,
          0.4019414782524109
         ]
        },
        {
         "line": {
          "color": "black",
          "width": 1
         },
         "mode": "lines",
         "showlegend": false,
         "type": "scatter",
         "x": [
          4.532685279846191,
          4.519779205322266,
          4.367013454437256,
          4.388168811798096,
          4.532685279846191
         ],
         "y": [
          0.26613542437553406,
          0.4059048891067505,
          0.49820104241371155,
          0.312896192073822,
          0.26613542437553406
         ]
        },
        {
         "line": {
          "color": "black",
          "width": 1
         },
         "mode": "lines",
         "showlegend": false,
         "type": "scatter",
         "x": [
          4.519779205322266,
          4.529269695281982,
          4.380903720855713,
          4.367013454437256,
          4.519779205322266
         ],
         "y": [
          0.4059048891067505,
          0.5404736399650574,
          0.665602445602417,
          0.49820104241371155,
          0.4059048891067505
         ]
        },
        {
         "line": {
          "color": "black",
          "width": 1
         },
         "mode": "lines",
         "showlegend": false,
         "type": "scatter",
         "x": [
          4.380903720855713,
          4.184881210327148,
          4.198951244354248,
          4.367013454437256,
          4.380903720855713
         ],
         "y": [
          0.665602445602417,
          0.8321652412414551,
          0.578764796257019,
          0.49820104241371155,
          0.665602445602417
         ]
        },
        {
         "line": {
          "color": "black",
          "width": 1
         },
         "mode": "lines",
         "showlegend": false,
         "type": "scatter",
         "x": [
          4.198951244354248,
          4.227769374847412,
          4.388168811798096,
          4.367013454437256,
          4.198951244354248
         ],
         "y": [
          0.578764796257019,
          0.36207443475723267,
          0.312896192073822,
          0.49820104241371155,
          0.578764796257019
         ]
        },
        {
         "line": {
          "color": "black",
          "width": 1
         },
         "mode": "lines",
         "showlegend": false,
         "type": "scatter",
         "x": [
          4.777948379516602,
          4.763580322265625,
          4.676713943481445,
          4.655497074127197,
          4.777948379516602
         ],
         "y": [
          0.44183599948883057,
          0.5851188898086548,
          0.5678136348724365,
          0.46665915846824646,
          0.44183599948883057
         ]
        },
        {
         "line": {
          "color": "black",
          "width": 1
         },
         "mode": "lines",
         "showlegend": false,
         "type": "scatter",
         "x": [
          4.72461462020874,
          4.605403900146484,
          4.676713943481445,
          4.763580322265625,
          4.72461462020874
         ],
         "y": [
          0.7577979564666748,
          0.6484557390213013,
          0.5678136348724365,
          0.5851188898086548,
          0.7577979564666748
         ]
        },
        {
         "line": {
          "color": "black",
          "width": 1
         },
         "mode": "lines",
         "showlegend": false,
         "type": "scatter",
         "x": [
          4.529269695281982,
          4.655497074127197,
          4.676713943481445,
          4.605403900146484,
          4.529269695281982
         ],
         "y": [
          0.5404736399650574,
          0.46665915846824646,
          0.5678136348724365,
          0.6484557390213013,
          0.5404736399650574
         ]
        },
        {
         "line": {
          "color": "black",
          "width": 1
         },
         "mode": "lines",
         "showlegend": false,
         "type": "scatter",
         "x": [
          4.751469135284424,
          4.627870559692383,
          4.6611738204956055,
          4.750705718994141,
          4.751469135284424
         ],
         "y": [
          1.1083425283432007,
          1.0579159259796143,
          0.9445756673812866,
          0.9411253333091736,
          1.1083425283432007
         ]
        },
        {
         "line": {
          "color": "black",
          "width": 1
         },
         "mode": "lines",
         "showlegend": false,
         "type": "scatter",
         "x": [
          4.499637603759766,
          4.598024845123291,
          4.6611738204956055,
          4.627870559692383,
          4.499637603759766
         ],
         "y": [
          1.0052365064620972,
          0.8661877512931824,
          0.9445756673812866,
          1.0579159259796143,
          1.0052365064620972
         ]
        },
        {
         "line": {
          "color": "black",
          "width": 1
         },
         "mode": "lines",
         "showlegend": false,
         "type": "scatter",
         "x": [
          4.72461462020874,
          4.750705718994141,
          4.6611738204956055,
          4.598024845123291,
          4.72461462020874
         ],
         "y": [
          0.7577979564666748,
          0.9411253333091736,
          0.9445756673812866,
          0.8661877512931824,
          0.7577979564666748
         ]
        },
        {
         "line": {
          "color": "black",
          "width": 1
         },
         "mode": "lines",
         "showlegend": false,
         "type": "scatter",
         "x": [
          2.4818246364593506,
          2.7423744201660156,
          2.7789831161499023,
          2.6743946075439453,
          2.4818246364593506
         ],
         "y": [
          0.6158626079559326,
          0.5232980847358704,
          0.6703698039054871,
          0.7902913093566895,
          0.6158626079559326
         ]
        },
        {
         "line": {
          "color": "black",
          "width": 1
         },
         "mode": "lines",
         "showlegend": false,
         "type": "scatter",
         "x": [
          2.963808298110962,
          2.9305195808410645,
          2.7789831161499023,
          2.7423744201660156,
          2.963808298110962
         ],
         "y": [
          0.4604211151599884,
          0.6812463998794556,
          0.6703698039054871,
          0.5232980847358704,
          0.4604211151599884
         ]
        },
        {
         "line": {
          "color": "black",
          "width": 1
         },
         "mode": "lines",
         "showlegend": false,
         "type": "scatter",
         "x": [
          2.8966269493103027,
          2.6743946075439453,
          2.7789831161499023,
          2.9305195808410645,
          2.8966269493103027
         ],
         "y": [
          0.9135451912879944,
          0.7902913093566895,
          0.6703698039054871,
          0.6812463998794556,
          0.9135451912879944
         ]
        },
        {
         "line": {
          "color": "black",
          "width": 1
         },
         "mode": "lines",
         "showlegend": false,
         "type": "scatter",
         "x": [
          3.473403215408325,
          3.3496553897857666,
          3.4812986850738525,
          3.613842725753784,
          3.473403215408325
         ],
         "y": [
          1.1742188930511475,
          1.000938892364502,
          0.9523402452468872,
          1.0139297246932983,
          1.1742188930511475
         ]
        },
        {
         "line": {
          "color": "black",
          "width": 1
         },
         "mode": "lines",
         "showlegend": false,
         "type": "scatter",
         "x": [
          3.2980592250823975,
          3.4975550174713135,
          3.4812986850738525,
          3.3496553897857666,
          3.2980592250823975
         ],
         "y": [
          0.8300948143005371,
          0.8307721614837646,
          0.9523402452468872,
          1.000938892364502,
          0.8300948143005371
         ]
        },
        {
         "line": {
          "color": "black",
          "width": 1
         },
         "mode": "lines",
         "showlegend": false,
         "type": "scatter",
         "x": [
          3.713677167892456,
          3.613842725753784,
          3.4812986850738525,
          3.4975550174713135,
          3.713677167892456
         ],
         "y": [
          0.8393602967262268,
          1.0139297246932983,
          0.9523402452468872,
          0.8307721614837646,
          0.8393602967262268
         ]
        },
        {
         "line": {
          "color": "black",
          "width": 1
         },
         "mode": "lines",
         "showlegend": false,
         "type": "scatter",
         "x": [
          3.413848876953125,
          3.4483723640441895,
          3.6152236461639404,
          3.6525046825408936,
          3.413848876953125
         ],
         "y": [
          1.5906689167022705,
          1.3876214027404785,
          1.388878345489502,
          1.5292885303497314,
          1.5906689167022705
         ]
        },
        {
         "line": {
          "color": "black",
          "width": 1
         },
         "mode": "lines",
         "showlegend": false,
         "type": "scatter",
         "x": [
          3.473403215408325,
          3.7114505767822266,
          3.6152236461639404,
          3.4483723640441895,
          3.473403215408325
         ],
         "y": [
          1.1742188930511475,
          1.2611958980560303,
          1.388878345489502,
          1.3876214027404785,
          1.1742188930511475
         ]
        },
        {
         "line": {
          "color": "black",
          "width": 1
         },
         "mode": "lines",
         "showlegend": false,
         "type": "scatter",
         "x": [
          3.940859079360962,
          3.6525046825408936,
          3.6152236461639404,
          3.7114505767822266,
          3.940859079360962
         ],
         "y": [
          1.4175339937210083,
          1.5292885303497314,
          1.388878345489502,
          1.2611958980560303,
          1.4175339937210083
         ]
        },
        {
         "line": {
          "color": "black",
          "width": 1
         },
         "mode": "lines",
         "showlegend": false,
         "type": "scatter",
         "x": [
          1.7777091264724731,
          1.771650791168213,
          1.9366068840026855,
          1.9901713132858276,
          1.7777091264724731
         ],
         "y": [
          0.2957989573478699,
          0.17057465016841888,
          0.00018855412781704217,
          0.276121586561203,
          0.2957989573478699
         ]
        },
        {
         "line": {
          "color": "black",
          "width": 1
         },
         "mode": "lines",
         "showlegend": false,
         "type": "scatter",
         "x": [
          1.9901713132858276,
          1.9581654071807861,
          1.7927772998809814,
          1.7777091264724731,
          1.9901713132858276
         ],
         "y": [
          0.276121586561203,
          0.480968713760376,
          0.4158589541912079,
          0.2957989573478699,
          0.276121586561203
         ]
        },
        {
         "line": {
          "color": "black",
          "width": 1
         },
         "mode": "lines",
         "showlegend": false,
         "type": "scatter",
         "x": [
          0.4665650427341461,
          0.5224918127059937,
          0.6202309727668762,
          0.6209971308708191,
          0.4665650427341461
         ],
         "y": [
          2,
          1.8436788320541382,
          1.881928563117981,
          2,
          2
         ]
        },
        {
         "line": {
          "color": "black",
          "width": 1
         },
         "mode": "lines",
         "showlegend": false,
         "type": "scatter",
         "x": [
          0.6195558905601501,
          0.7255236506462097,
          0.6202309727668762,
          0.5224918127059937,
          0.6195558905601501
         ],
         "y": [
          1.6367623805999756,
          1.8332324028015137,
          1.881928563117981,
          1.8436788320541382,
          1.6367623805999756
         ]
        },
        {
         "line": {
          "color": "black",
          "width": 1
         },
         "mode": "lines",
         "showlegend": false,
         "type": "scatter",
         "x": [
          0.7830976843833923,
          0.6209971308708191,
          0.6202309727668762,
          0.7255236506462097,
          0.7830976843833923
         ],
         "y": [
          2,
          2,
          1.881928563117981,
          1.8332324028015137,
          2
         ]
        },
        {
         "line": {
          "color": "black",
          "width": 1
         },
         "mode": "lines",
         "showlegend": false,
         "type": "scatter",
         "x": [
          0.26228660345077515,
          0.2859349250793457,
          0.3970043361186981,
          0.4134669601917267,
          0.26228660345077515
         ],
         "y": [
          1.7314345836639404,
          1.5875043869018555,
          1.5976229906082153,
          1.6992977857589722,
          1.7314345836639404
         ]
        },
        {
         "line": {
          "color": "black",
          "width": 1
         },
         "mode": "lines",
         "showlegend": false,
         "type": "scatter",
         "x": [
          0.31884118914604187,
          0.4631172716617584,
          0.3970043361186981,
          0.2859349250793457,
          0.31884118914604187
         ],
         "y": [
          1.4385032653808594,
          1.502655029296875,
          1.5976229906082153,
          1.5875043869018555,
          1.4385032653808594
         ]
        },
        {
         "line": {
          "color": "black",
          "width": 1
         },
         "mode": "lines",
         "showlegend": false,
         "type": "scatter",
         "x": [
          0.6195558905601501,
          0.4134669601917267,
          0.3970043361186981,
          0.4631172716617584,
          0.6195558905601501
         ],
         "y": [
          1.6367623805999756,
          1.6992977857589722,
          1.5976229906082153,
          1.502655029296875,
          1.6367623805999756
         ]
        },
        {
         "line": {
          "color": "black",
          "width": 1
         },
         "mode": "lines",
         "showlegend": false,
         "type": "scatter",
         "x": [
          0.578811764717102,
          0.5067894458770752,
          0.4058176577091217,
          0.415022075176239,
          0.578811764717102
         ],
         "y": [
          0.7186275720596313,
          0.8900513648986816,
          0.8539271354675293,
          0.730919361114502,
          0.7186275720596313
         ]
        },
        {
         "line": {
          "color": "black",
          "width": 1
         },
         "mode": "lines",
         "showlegend": false,
         "type": "scatter",
         "x": [
          0.39051392674446106,
          0.3024592697620392,
          0.4058176577091217,
          0.5067894458770752,
          0.39051392674446106
         ],
         "y": [
          1.07501220703125,
          0.9197574257850647,
          0.8539271354675293,
          0.8900513648986816,
          1.07501220703125
         ]
        },
        {
         "line": {
          "color": "black",
          "width": 1
         },
         "mode": "lines",
         "showlegend": false,
         "type": "scatter",
         "x": [
          0.2587893605232239,
          0.415022075176239,
          0.4058176577091217,
          0.3024592697620392,
          0.2587893605232239
         ],
         "y": [
          0.7632734775543213,
          0.730919361114502,
          0.8539271354675293,
          0.9197574257850647,
          0.7632734775543213
         ]
        },
        {
         "mode": "text",
         "text": [
          "-5.89"
         ],
         "textfont": {
          "color": "red",
          "size": 12
         },
         "type": "scatter",
         "x": [
          4.351233601570129
         ],
         "y": [
          0.8038881719112396
         ]
        },
        {
         "mode": "text",
         "text": [
          "-2.87"
         ],
         "textfont": {
          "color": "red",
          "size": 12
         },
         "type": "scatter",
         "x": [
          4.500085830688477
         ],
         "y": [
          0.6590515077114105
         ]
        },
        {
         "mode": "text",
         "text": [
          "-1.25"
         ],
         "textfont": {
          "color": "red",
          "size": 12
         },
         "type": "scatter",
         "x": [
          4.6032023429870605
         ],
         "y": [
          0.7635289132595062
         ]
        },
        {
         "mode": "text",
         "text": [
          "-3.72"
         ],
         "textfont": {
          "color": "red",
          "size": 12
         },
         "type": "scatter",
         "x": [
          4.484202980995178
         ],
         "y": [
          0.8973023146390915
         ]
        },
        {
         "mode": "text",
         "text": [
          "33.64"
         ],
         "textfont": {
          "color": "blue",
          "size": 12
         },
         "type": "scatter",
         "x": [
          2.093769520521164
         ],
         "y": [
          0.14066483830902143
         ]
        },
        {
         "mode": "text",
         "text": [
          "35.46"
         ],
         "textfont": {
          "color": "blue",
          "size": 12
         },
         "type": "scatter",
         "x": [
          2.3613048791885376
         ],
         "y": [
          0.1471304946753662
         ]
        },
        {
         "mode": "text",
         "text": [
          "16.94"
         ],
         "textfont": {
          "color": "blue",
          "size": 12
         },
         "type": "scatter",
         "x": [
          2.3524782061576843
         ],
         "y": [
          0.44009798020124435
         ]
        },
        {
         "mode": "text",
         "text": [
          "17.46"
         ],
         "textfont": {
          "color": "blue",
          "size": 12
         },
         "type": "scatter",
         "x": [
          2.0952981412410736
         ],
         "y": [
          0.3999241888523102
         ]
        },
        {
         "mode": "text",
         "text": [
          "-24.92"
         ],
         "textfont": {
          "color": "red",
          "size": 12
         },
         "type": "scatter",
         "x": [
          0.5968677550554276
         ],
         "y": [
          0.23338425159454346
         ]
        },
        {
         "mode": "text",
         "text": [
          "-41.68"
         ],
         "textfont": {
          "color": "red",
          "size": 12
         },
         "type": "scatter",
         "x": [
          0.4943891391158104
         ],
         "y": [
          0.16701994091272354
         ]
        },
        {
         "mode": "text",
         "text": [
          "-36.42"
         ],
         "textfont": {
          "color": "red",
          "size": 12
         },
         "type": "scatter",
         "x": [
          0.49062032997608185
         ],
         "y": [
          0.059645975440616894
         ]
        },
        {
         "mode": "text",
         "text": [
          "-19.02"
         ],
         "textfont": {
          "color": "red",
          "size": 12
         },
         "type": "scatter",
         "x": [
          0.6135597676038742
         ],
         "y": [
          0.07822032782951283
         ]
        },
        {
         "mode": "text",
         "text": [
          "-14.64"
         ],
         "textfont": {
          "color": "red",
          "size": 12
         },
         "type": "scatter",
         "x": [
          0.7281832098960876
         ],
         "y": [
          0.2676451914012432
         ]
        },
        {
         "mode": "text",
         "text": [
          "-7.02"
         ],
         "textfont": {
          "color": "red",
          "size": 12
         },
         "type": "scatter",
         "x": [
          0.7513480633497238
         ],
         "y": [
          0.08736698660868569
         ]
        },
        {
         "mode": "text",
         "text": [
          "2.72"
         ],
         "textfont": {
          "color": "blue",
          "size": 12
         },
         "type": "scatter",
         "x": [
          0.9077454209327698
         ],
         "y": [
          0.08480889043494244
         ]
        },
        {
         "mode": "text",
         "text": [
          "-6.32"
         ],
         "textfont": {
          "color": "red",
          "size": 12
         },
         "type": "scatter",
         "x": [
          0.8855229616165161
         ],
         "y": [
          0.2587091289460659
         ]
        },
        {
         "mode": "text",
         "text": [
          "-21.38"
         ],
         "textfont": {
          "color": "red",
          "size": 12
         },
         "type": "scatter",
         "x": [
          3.7721930146217346
         ],
         "y": [
          1.6080001592636108
         ]
        },
        {
         "mode": "text",
         "text": [
          "-27.07"
         ],
         "textfont": {
          "color": "red",
          "size": 12
         },
         "type": "scatter",
         "x": [
          3.7236169576644897
         ],
         "y": [
          1.871294528245926
         ]
        },
        {
         "mode": "text",
         "text": [
          "-34.60"
         ],
         "textfont": {
          "color": "red",
          "size": 12
         },
         "type": "scatter",
         "x": [
          3.4782238602638245
         ],
         "y": [
          1.8856893181800842
         ]
        },
        {
         "mode": "text",
         "text": [
          "-28.58"
         ],
         "textfont": {
          "color": "red",
          "size": 12
         },
         "type": "scatter",
         "x": [
          3.5197072625160217
         ],
         "y": [
          1.6656786799430847
         ]
        },
        {
         "mode": "text",
         "text": [
          "-16.64"
         ],
         "textfont": {
          "color": "red",
          "size": 12
         },
         "type": "scatter",
         "x": [
          3.994204521179199
         ],
         "y": [
          1.6324177980422974
         ]
        },
        {
         "mode": "text",
         "text": [
          "-13.35"
         ],
         "textfont": {
          "color": "red",
          "size": 12
         },
         "type": "scatter",
         "x": [
          4.161511301994324
         ],
         "y": [
          1.737438678741455
         ]
        },
        {
         "mode": "text",
         "text": [
          "-14.13"
         ],
         "textfont": {
          "color": "red",
          "size": 12
         },
         "type": "scatter",
         "x": [
          4.127403497695923
         ],
         "y": [
          1.9073278903961182
         ]
        },
        {
         "mode": "text",
         "text": [
          "-20.37"
         ],
         "textfont": {
          "color": "red",
          "size": 12
         },
         "type": "scatter",
         "x": [
          3.938527524471283
         ],
         "y": [
          1.8791769444942474
         ]
        },
        {
         "mode": "text",
         "text": [
          "-2.24"
         ],
         "textfont": {
          "color": "red",
          "size": 12
         },
         "type": "scatter",
         "x": [
          1.8118074536323547
         ],
         "y": [
          0.7629751414060593
         ]
        },
        {
         "mode": "text",
         "text": [
          "6.80"
         ],
         "textfont": {
          "color": "blue",
          "size": 12
         },
         "type": "scatter",
         "x": [
          2.0029504597187042
         ],
         "y": [
          0.6037015616893768
         ]
        },
        {
         "mode": "text",
         "text": [
          "4.44"
         ],
         "textfont": {
          "color": "blue",
          "size": 12
         },
         "type": "scatter",
         "x": [
          2.2566745281219482
         ],
         "y": [
          0.6964652389287949
         ]
        },
        {
         "mode": "text",
         "text": [
          "-6.12"
         ],
         "textfont": {
          "color": "red",
          "size": 12
         },
         "type": "scatter",
         "x": [
          2.0809177458286285
         ],
         "y": [
          0.9064906537532806
         ]
        },
        {
         "mode": "text",
         "text": [
          "-13.36"
         ],
         "textfont": {
          "color": "red",
          "size": 12
         },
         "type": "scatter",
         "x": [
          1.8795176446437836
         ],
         "y": [
          1.0708350986242294
         ]
        },
        {
         "mode": "text",
         "text": [
          "-18.60"
         ],
         "textfont": {
          "color": "red",
          "size": 12
         },
         "type": "scatter",
         "x": [
          1.6756454706192017
         ],
         "y": [
          1.2069019675254822
         ]
        },
        {
         "mode": "text",
         "text": [
          "-14.73"
         ],
         "textfont": {
          "color": "red",
          "size": 12
         },
         "type": "scatter",
         "x": [
          1.4450661540031433
         ],
         "y": [
          1.111000433564186
         ]
        },
        {
         "mode": "text",
         "text": [
          "-9.23"
         ],
         "textfont": {
          "color": "red",
          "size": 12
         },
         "type": "scatter",
         "x": [
          1.6127828359603882
         ],
         "y": [
          0.9290854930877686
         ]
        },
        {
         "mode": "text",
         "text": [
          "-3.64"
         ],
         "textfont": {
          "color": "red",
          "size": 12
         },
         "type": "scatter",
         "x": [
          1.3466819524765015
         ],
         "y": [
          0.6420173943042755
         ]
        },
        {
         "mode": "text",
         "text": [
          "-6.89"
         ],
         "textfont": {
          "color": "red",
          "size": 12
         },
         "type": "scatter",
         "x": [
          1.0815415978431702
         ],
         "y": [
          0.6322705000638962
         ]
        },
        {
         "mode": "text",
         "text": [
          "-4.25"
         ],
         "textfont": {
          "color": "red",
          "size": 12
         },
         "type": "scatter",
         "x": [
          1.0612251907587051
         ],
         "y": [
          0.43741603195667267
         ]
        },
        {
         "mode": "text",
         "text": [
          "1.59"
         ],
         "textfont": {
          "color": "blue",
          "size": 12
         },
         "type": "scatter",
         "x": [
          1.2767072916030884
         ],
         "y": [
          0.44050952792167664
         ]
        },
        {
         "mode": "text",
         "text": [
          "-8.15"
         ],
         "textfont": {
          "color": "red",
          "size": 12
         },
         "type": "scatter",
         "x": [
          1.3265788853168488
         ],
         "y": [
          0.8517488539218903
         ]
        },
        {
         "mode": "text",
         "text": [
          "-12.41"
         ],
         "textfont": {
          "color": "red",
          "size": 12
         },
         "type": "scatter",
         "x": [
          1.199212670326233
         ],
         "y": [
          1.062002345919609
         ]
        },
        {
         "mode": "text",
         "text": [
          "-10.06"
         ],
         "textfont": {
          "color": "red",
          "size": 12
         },
         "type": "scatter",
         "x": [
          0.956213042140007
         ],
         "y": [
          1.0449774265289307
         ]
        },
        {
         "mode": "text",
         "text": [
          "-8.82"
         ],
         "textfont": {
          "color": "red",
          "size": 12
         },
         "type": "scatter",
         "x": [
          1.0485849529504776
         ],
         "y": [
          0.8335696011781693
         ]
        },
        {
         "mode": "text",
         "text": [
          "-4.69"
         ],
         "textfont": {
          "color": "red",
          "size": 12
         },
         "type": "scatter",
         "x": [
          4.539109706878662
         ],
         "y": [
          1.4609592854976654
         ]
        },
        {
         "mode": "text",
         "text": [
          "-2.50"
         ],
         "textfont": {
          "color": "red",
          "size": 12
         },
         "type": "scatter",
         "x": [
          4.689696907997131
         ],
         "y": [
          1.4958876371383667
         ]
        },
        {
         "mode": "text",
         "text": [
          "-2.33"
         ],
         "textfont": {
          "color": "red",
          "size": 12
         },
         "type": "scatter",
         "x": [
          4.712376594543457
         ],
         "y": [
          1.6514880657196045
         ]
        },
        {
         "mode": "text",
         "text": [
          "-4.36"
         ],
         "textfont": {
          "color": "red",
          "size": 12
         },
         "type": "scatter",
         "x": [
          4.579291462898254
         ],
         "y": [
          1.6318837702274323
         ]
        },
        {
         "mode": "text",
         "text": [
          "-7.34"
         ],
         "textfont": {
          "color": "red",
          "size": 12
         },
         "type": "scatter",
         "x": [
          4.426601529121399
         ],
         "y": [
          1.6248632669448853
         ]
        },
        {
         "mode": "text",
         "text": [
          "-10.75"
         ],
         "textfont": {
          "color": "red",
          "size": 12
         },
         "type": "scatter",
         "x": [
          4.265285134315491
         ],
         "y": [
          1.643020749092102
         ]
        },
        {
         "mode": "text",
         "text": [
          "-12.63"
         ],
         "textfont": {
          "color": "red",
          "size": 12
         },
         "type": "scatter",
         "x": [
          4.148229897022247
         ],
         "y": [
          1.4762288928031921
         ]
        },
        {
         "mode": "text",
         "text": [
          "-7.76"
         ],
         "textfont": {
          "color": "red",
          "size": 12
         },
         "type": "scatter",
         "x": [
          4.36193573474884
         ],
         "y": [
          1.4461817145347595
         ]
        },
        {
         "mode": "text",
         "text": [
          "-16.86"
         ],
         "textfont": {
          "color": "red",
          "size": 12
         },
         "type": "scatter",
         "x": [
          2.347663104534149
         ],
         "y": [
          1.2387831509113312
         ]
        },
        {
         "mode": "text",
         "text": [
          "-17.80"
         ],
         "textfont": {
          "color": "red",
          "size": 12
         },
         "type": "scatter",
         "x": [
          2.602269768714905
         ],
         "y": [
          1.261261373758316
         ]
        },
        {
         "mode": "text",
         "text": [
          "-28.39"
         ],
         "textfont": {
          "color": "red",
          "size": 12
         },
         "type": "scatter",
         "x": [
          2.7106001377105713
         ],
         "y": [
          1.461314082145691
         ]
        },
        {
         "mode": "text",
         "text": [
          "-27.57"
         ],
         "textfont": {
          "color": "red",
          "size": 12
         },
         "type": "scatter",
         "x": [
          2.4487566351890564
         ],
         "y": [
          1.4668933749198914
         ]
        },
        {
         "mode": "text",
         "text": [
          "-27.23"
         ],
         "textfont": {
          "color": "red",
          "size": 12
         },
         "type": "scatter",
         "x": [
          2.1999353170394897
         ],
         "y": [
          1.4744179248809814
         ]
        },
        {
         "mode": "text",
         "text": [
          "-35.52"
         ],
         "textfont": {
          "color": "red",
          "size": 12
         },
         "type": "scatter",
         "x": [
          1.986079752445221
         ],
         "y": [
          1.5050410330295563
         ]
        },
        {
         "mode": "text",
         "text": [
          "-24.63"
         ],
         "textfont": {
          "color": "red",
          "size": 12
         },
         "type": "scatter",
         "x": [
          1.8618300259113312
         ],
         "y": [
          1.3435807526111603
         ]
        },
        {
         "mode": "text",
         "text": [
          "-20.12"
         ],
         "textfont": {
          "color": "red",
          "size": 12
         },
         "type": "scatter",
         "x": [
          2.081816405057907
         ],
         "y": [
          1.258087933063507
         ]
        },
        {
         "mode": "text",
         "text": [
          "0.05"
         ],
         "textfont": {
          "color": "blue",
          "size": 12
         },
         "type": "scatter",
         "x": [
          4.946780800819397
         ],
         "y": [
          1.943336009979248
         ]
        },
        {
         "mode": "text",
         "text": [
          "0.02"
         ],
         "textfont": {
          "color": "blue",
          "size": 12
         },
         "type": "scatter",
         "x": [
          4.84024965763092
         ],
         "y": [
          1.9385965764522552
         ]
        },
        {
         "mode": "text",
         "text": [
          "-0.71"
         ],
         "textfont": {
          "color": "red",
          "size": 12
         },
         "type": "scatter",
         "x": [
          4.839330792427063
         ],
         "y": [
          1.8116920590400696
         ]
        },
        {
         "mode": "text",
         "text": [
          "-0.12"
         ],
         "textfont": {
          "color": "red",
          "size": 12
         },
         "type": "scatter",
         "x": [
          4.947158336639404
         ],
         "y": [
          1.8285552859306335
         ]
        },
        {
         "mode": "text",
         "text": [
          "-1.86"
         ],
         "textfont": {
          "color": "red",
          "size": 12
         },
         "type": "scatter",
         "x": [
          4.725356578826904
         ],
         "y": [
          1.7981874644756317
         ]
        },
        {
         "mode": "text",
         "text": [
          "-0.54"
         ],
         "textfont": {
          "color": "red",
          "size": 12
         },
         "type": "scatter",
         "x": [
          4.725192427635193
         ],
         "y": [
          1.934289962053299
         ]
        },
        {
         "mode": "text",
         "text": [
          "-1.95"
         ],
         "textfont": {
          "color": "red",
          "size": 12
         },
         "type": "scatter",
         "x": [
          4.6009132862091064
         ],
         "y": [
          1.9312280118465424
         ]
        },
        {
         "mode": "text",
         "text": [
          "-3.57"
         ],
         "textfont": {
          "color": "red",
          "size": 12
         },
         "type": "scatter",
         "x": [
          4.602835178375244
         ],
         "y": [
          1.7889610826969147
         ]
        },
        {
         "mode": "text",
         "text": [
          "-24.29"
         ],
         "textfont": {
          "color": "red",
          "size": 12
         },
         "type": "scatter",
         "x": [
          4.85027813911438
         ],
         "y": [
          0.04870042819675291
         ]
        },
        {
         "mode": "text",
         "text": [
          "1.33"
         ],
         "textfont": {
          "color": "blue",
          "size": 12
         },
         "type": "scatter",
         "x": [
          4.950564622879028
         ],
         "y": [
          0.05175080789922504
         ]
        },
        {
         "mode": "text",
         "text": [
          "-13.84"
         ],
         "textfont": {
          "color": "red",
          "size": 12
         },
         "type": "scatter",
         "x": [
          4.949053883552551
         ],
         "y": [
          0.15603329427540302
         ]
        },
        {
         "mode": "text",
         "text": [
          "-0.89"
         ],
         "textfont": {
          "color": "red",
          "size": 12
         },
         "type": "scatter",
         "x": [
          4.844061255455017
         ],
         "y": [
          0.14846856147050858
         ]
        },
        {
         "mode": "text",
         "text": [
          "-24.86"
         ],
         "textfont": {
          "color": "red",
          "size": 12
         },
         "type": "scatter",
         "x": [
          0.15575991943478584
         ],
         "y": [
          0.04403930902481079
         ]
        },
        {
         "mode": "text",
         "text": [
          "-3.00"
         ],
         "textfont": {
          "color": "red",
          "size": 12
         },
         "type": "scatter",
         "x": [
          0.16865902580320835
         ],
         "y": [
          0.13469189777970314
         ]
        },
        {
         "mode": "text",
         "text": [
          "-15.35"
         ],
         "textfont": {
          "color": "red",
          "size": 12
         },
         "type": "scatter",
         "x": [
          0.0557426568120718
         ],
         "y": [
          0.15463427267968655
         ]
        },
        {
         "mode": "text",
         "text": [
          "0.90"
         ],
         "textfont": {
          "color": "blue",
          "size": 12
         },
         "type": "scatter",
         "x": [
          0.051635172218084335
         ],
         "y": [
          0.051282478496432304
         ]
        },
        {
         "mode": "text",
         "text": [
          "0.02"
         ],
         "textfont": {
          "color": "blue",
          "size": 12
         },
         "type": "scatter",
         "x": [
          0.0567727517336607
         ],
         "y": [
          1.9423381686210632
         ]
        },
        {
         "mode": "text",
         "text": [
          "-0.20"
         ],
         "textfont": {
          "color": "red",
          "size": 12
         },
         "type": "scatter",
         "x": [
          0.0631897859275341
         ],
         "y": [
          1.8269077241420746
         ]
        },
        {
         "mode": "text",
         "text": [
          "-0.94"
         ],
         "textfont": {
          "color": "red",
          "size": 12
         },
         "type": "scatter",
         "x": [
          0.18983596563339233
         ],
         "y": [
          1.8059153854846954
         ]
        },
        {
         "mode": "text",
         "text": [
          "-0.12"
         ],
         "textfont": {
          "color": "red",
          "size": 12
         },
         "type": "scatter",
         "x": [
          0.17104571126401424
         ],
         "y": [
          1.9348698556423187
         ]
        },
        {
         "mode": "text",
         "text": [
          "-6.04"
         ],
         "textfont": {
          "color": "red",
          "size": 12
         },
         "type": "scatter",
         "x": [
          4.46434485912323
         ],
         "y": [
          1.7854995429515839
         ]
        },
        {
         "mode": "text",
         "text": [
          "-4.47"
         ],
         "textfont": {
          "color": "red",
          "size": 12
         },
         "type": "scatter",
         "x": [
          4.460965037345886
         ],
         "y": [
          1.9301227629184723
         ]
        },
        {
         "mode": "text",
         "text": [
          "-8.36"
         ],
         "textfont": {
          "color": "red",
          "size": 12
         },
         "type": "scatter",
         "x": [
          4.302174210548401
         ],
         "y": [
          1.926506131887436
         ]
        },
        {
         "mode": "text",
         "text": [
          "-9.45"
         ],
         "textfont": {
          "color": "red",
          "size": 12
         },
         "type": "scatter",
         "x": [
          4.312690854072571
         ],
         "y": [
          1.7855966985225677
         ]
        },
        {
         "mode": "text",
         "text": [
          "3.97"
         ],
         "textfont": {
          "color": "blue",
          "size": 12
         },
         "type": "scatter",
         "x": [
          0.06736232340335846
         ],
         "y": [
          0.40390434116125107
         ]
        },
        {
         "mode": "text",
         "text": [
          "8.46"
         ],
         "textfont": {
          "color": "blue",
          "size": 12
         },
         "type": "scatter",
         "x": [
          0.06148847937583923
         ],
         "y": [
          0.2713596597313881
         ]
        },
        {
         "mode": "text",
         "text": [
          "14.53"
         ],
         "textfont": {
          "color": "blue",
          "size": 12
         },
         "type": "scatter",
         "x": [
          0.1853412389755249
         ],
         "y": [
          0.23946929350495338
         ]
        },
        {
         "mode": "text",
         "text": [
          "10.56"
         ],
         "textfont": {
          "color": "blue",
          "size": 12
         },
         "type": "scatter",
         "x": [
          0.20255357027053833
         ],
         "y": [
          0.365818127989769
         ]
        },
        {
         "mode": "text",
         "text": [
          "15.58"
         ],
         "textfont": {
          "color": "blue",
          "size": 12
         },
         "type": "scatter",
         "x": [
          4.839199900627136
         ],
         "y": [
          0.2587987408041954
         ]
        },
        {
         "mode": "text",
         "text": [
          "8.11"
         ],
         "textfont": {
          "color": "blue",
          "size": 12
         },
         "type": "scatter",
         "x": [
          4.947297811508179
         ],
         "y": [
          0.2723177373409271
         ]
        },
        {
         "mode": "text",
         "text": [
          "2.51"
         ],
         "textfont": {
          "color": "blue",
          "size": 12
         },
         "type": "scatter",
         "x": [
          4.945306777954102
         ],
         "y": [
          0.4030393734574318
         ]
        },
        {
         "mode": "text",
         "text": [
          "8.88"
         ],
         "textfont": {
          "color": "blue",
          "size": 12
         },
         "type": "scatter",
         "x": [
          4.835136532783508
         ],
         "y": [
          0.38435696065425873
         ]
        },
        {
         "mode": "text",
         "text": [
          "3.12"
         ],
         "textfont": {
          "color": "blue",
          "size": 12
         },
         "type": "scatter",
         "x": [
          4.827260971069336
         ],
         "y": [
          0.5264700874686241
         ]
        },
        {
         "mode": "text",
         "text": [
          "0.76"
         ],
         "textfont": {
          "color": "blue",
          "size": 12
         },
         "type": "scatter",
         "x": [
          4.941878795623779
         ],
         "y": [
          0.5522682964801788
         ]
        },
        {
         "mode": "text",
         "text": [
          "0.16"
         ],
         "textfont": {
          "color": "blue",
          "size": 12
         },
         "type": "scatter",
         "x": [
          4.937760949134827
         ],
         "y": [
          0.7189377993345261
         ]
        },
        {
         "mode": "text",
         "text": [
          "0.49"
         ],
         "textfont": {
          "color": "blue",
          "size": 12
         },
         "type": "scatter",
         "x": [
          4.809809684753418
         ],
         "y": [
          0.6871032863855362
         ]
        },
        {
         "mode": "text",
         "text": [
          "-0.13"
         ],
         "textfont": {
          "color": "red",
          "size": 12
         },
         "type": "scatter",
         "x": [
          0.21207207441329956
         ],
         "y": [
          0.8660885840654373
         ]
        },
        {
         "mode": "text",
         "text": [
          "-1.26"
         ],
         "textfont": {
          "color": "red",
          "size": 12
         },
         "type": "scatter",
         "x": [
          0.2571570426225662
         ],
         "y": [
          1.0297041684389114
         ]
        },
        {
         "mode": "text",
         "text": [
          "-0.06"
         ],
         "textfont": {
          "color": "red",
          "size": 12
         },
         "type": "scatter",
         "x": [
          0.08391374349594116
         ],
         "y": [
          1.0882748365402222
         ]
        },
        {
         "mode": "text",
         "text": [
          "0.06"
         ],
         "textfont": {
          "color": "blue",
          "size": 12
         },
         "type": "scatter",
         "x": [
          0.0717599168419838
         ],
         "y": [
          0.9089835286140442
         ]
        },
        {
         "mode": "text",
         "text": [
          "-208.11"
         ],
         "textfont": {
          "color": "red",
          "size": 12
         },
         "type": "scatter",
         "x": [
          4.743857026100159
         ],
         "y": [
          0.05134466466552112
         ]
        },
        {
         "mode": "text",
         "text": [
          "-6.35"
         ],
         "textfont": {
          "color": "red",
          "size": 12
         },
         "type": "scatter",
         "x": [
          4.730813980102539
         ],
         "y": [
          0.1553058922290802
         ]
        },
        {
         "mode": "text",
         "text": [
          "-48.33"
         ],
         "textfont": {
          "color": "red",
          "size": 12
         },
         "type": "scatter",
         "x": [
          4.60814642906189
         ],
         "y": [
          0.1813543550670147
         ]
        },
        {
         "mode": "text",
         "text": [
          "-79.21"
         ],
         "textfont": {
          "color": "red",
          "size": 12
         },
         "type": "scatter",
         "x": [
          4.630957722663879
         ],
         "y": [
          0.0600915912000346
         ]
        },
        {
         "mode": "text",
         "text": [
          "18.01"
         ],
         "textfont": {
          "color": "blue",
          "size": 12
         },
         "type": "scatter",
         "x": [
          1.2904146313667297
         ],
         "y": [
          0.08422388521648827
         ]
        },
        {
         "mode": "text",
         "text": [
          "7.96"
         ],
         "textfont": {
          "color": "blue",
          "size": 12
         },
         "type": "scatter",
         "x": [
          1.2558487355709076
         ],
         "y": [
          0.2557026483118534
         ]
        },
        {
         "mode": "text",
         "text": [
          "1.46"
         ],
         "textfont": {
          "color": "blue",
          "size": 12
         },
         "type": "scatter",
         "x": [
          1.0585012435913086
         ],
         "y": [
          0.25302738696336746
         ]
        },
        {
         "mode": "text",
         "text": [
          "10.93"
         ],
         "textfont": {
          "color": "blue",
          "size": 12
         },
         "type": "scatter",
         "x": [
          1.088198497891426
         ],
         "y": [
          0.08284611587077961
         ]
        },
        {
         "mode": "text",
         "text": [
          "-0.24"
         ],
         "textfont": {
          "color": "red",
          "size": 12
         },
         "type": "scatter",
         "x": [
          4.945691704750061
         ],
         "y": [
          1.7042122781276703
         ]
        },
        {
         "mode": "text",
         "text": [
          "-0.96"
         ],
         "textfont": {
          "color": "red",
          "size": 12
         },
         "type": "scatter",
         "x": [
          4.8335630893707275
         ],
         "y": [
          1.676568478345871
         ]
        },
        {
         "mode": "text",
         "text": [
          "-0.96"
         ],
         "textfont": {
          "color": "red",
          "size": 12
         },
         "type": "scatter",
         "x": [
          4.823412775993347
         ],
         "y": [
          1.5336913764476776
         ]
        },
        {
         "mode": "text",
         "text": [
          "-0.20"
         ],
         "textfont": {
          "color": "red",
          "size": 12
         },
         "type": "scatter",
         "x": [
          4.942258834838867
         ],
         "y": [
          1.5698620676994324
         ]
        },
        {
         "mode": "text",
         "text": [
          "0.26"
         ],
         "textfont": {
          "color": "blue",
          "size": 12
         },
         "type": "scatter",
         "x": [
          0.34426766633987427
         ],
         "y": [
          0.661993607878685
         ]
        },
        {
         "mode": "text",
         "text": [
          "1.26"
         ],
         "textfont": {
          "color": "blue",
          "size": 12
         },
         "type": "scatter",
         "x": [
          0.3572154566645622
         ],
         "y": [
          0.4932548925280571
         ]
        },
        {
         "mode": "text",
         "text": [
          "-7.86"
         ],
         "textfont": {
          "color": "red",
          "size": 12
         },
         "type": "scatter",
         "x": [
          0.5295320302248001
         ],
         "y": [
          0.47197577357292175
         ]
        },
        {
         "mode": "text",
         "text": [
          "-3.23"
         ],
         "textfont": {
          "color": "red",
          "size": 12
         },
         "type": "scatter",
         "x": [
          0.5099345669150352
         ],
         "y": [
          0.6426558941602707
         ]
        },
        {
         "mode": "text",
         "text": [
          "-5.88"
         ],
         "textfont": {
          "color": "red",
          "size": 12
         },
         "type": "scatter",
         "x": [
          4.391037821769714
         ],
         "y": [
          1.0627919882535934
         ]
        },
        {
         "mode": "text",
         "text": [
          "-7.16"
         ],
         "textfont": {
          "color": "red",
          "size": 12
         },
         "type": "scatter",
         "x": [
          4.343397498130798
         ],
         "y": [
          1.254150390625
         ]
        },
        {
         "mode": "text",
         "text": [
          "-11.12"
         ],
         "textfont": {
          "color": "red",
          "size": 12
         },
         "type": "scatter",
         "x": [
          4.119976222515106
         ],
         "y": [
          1.2550013363361359
         ]
        },
        {
         "mode": "text",
         "text": [
          "-8.22"
         ],
         "textfont": {
          "color": "red",
          "size": 12
         },
         "type": "scatter",
         "x": [
          4.2133132219314575
         ],
         "y": [
          1.0047716349363327
         ]
        },
        {
         "mode": "text",
         "text": [
          "34.44"
         ],
         "textfont": {
          "color": "blue",
          "size": 12
         },
         "type": "scatter",
         "x": [
          2.900411069393158
         ],
         "y": [
          0.12799711250409018
         ]
        },
        {
         "mode": "text",
         "text": [
          "19.69"
         ],
         "textfont": {
          "color": "blue",
          "size": 12
         },
         "type": "scatter",
         "x": [
          2.8642078638076782
         ],
         "y": [
          0.37377895042300224
         ]
        },
        {
         "mode": "text",
         "text": [
          "17.68"
         ],
         "textfont": {
          "color": "blue",
          "size": 12
         },
         "type": "scatter",
         "x": [
          2.61706006526947
         ],
         "y": [
          0.4285222813487053
         ]
        },
        {
         "mode": "text",
         "text": [
          "35.90"
         ],
         "textfont": {
          "color": "blue",
          "size": 12
         },
         "type": "scatter",
         "x": [
          2.632489025592804
         ],
         "y": [
          0.14386473166086944
         ]
        },
        {
         "mode": "text",
         "text": [
          "-3.94"
         ],
         "textfont": {
          "color": "red",
          "size": 12
         },
         "type": "scatter",
         "x": [
          0.46686331927776337
         ],
         "y": [
          1.196466714143753
         ]
        },
        {
         "mode": "text",
         "text": [
          "-7.09"
         ],
         "textfont": {
          "color": "red",
          "size": 12
         },
         "type": "scatter",
         "x": [
          0.653946042060852
         ],
         "y": [
          1.2413564622402191
         ]
        },
        {
         "mode": "text",
         "text": [
          "-6.66"
         ],
         "textfont": {
          "color": "red",
          "size": 12
         },
         "type": "scatter",
         "x": [
          0.5788711532950401
         ],
         "y": [
          1.459767460823059
         ]
        },
        {
         "mode": "text",
         "text": [
          "-3.73"
         ],
         "textfont": {
          "color": "red",
          "size": 12
         },
         "type": "scatter",
         "x": [
          0.41696278005838394
         ],
         "y": [
          1.3835862278938293
         ]
        },
        {
         "mode": "text",
         "text": [
          "-241.67"
         ],
         "textfont": {
          "color": "red",
          "size": 12
         },
         "type": "scatter",
         "x": [
          0.2631799727678299
         ],
         "y": [
          0.041424489802921016
         ]
        },
        {
         "mode": "text",
         "text": [
          "-77.11"
         ],
         "textfont": {
          "color": "red",
          "size": 12
         },
         "type": "scatter",
         "x": [
          0.3740708753466606
         ],
         "y": [
          0.04615450251640141
         ]
        },
        {
         "mode": "text",
         "text": [
          "-72.80"
         ],
         "textfont": {
          "color": "red",
          "size": 12
         },
         "type": "scatter",
         "x": [
          0.39446868002414703
         ],
         "y": [
          0.132268276065588
         ]
        },
        {
         "mode": "text",
         "text": [
          "-29.75"
         ],
         "textfont": {
          "color": "red",
          "size": 12
         },
         "type": "scatter",
         "x": [
          0.2842273376882076
         ],
         "y": [
          0.12653004191815853
         ]
        },
        {
         "mode": "text",
         "text": [
          "-0.22"
         ],
         "textfont": {
          "color": "red",
          "size": 12
         },
         "type": "scatter",
         "x": [
          4.939604759216309
         ],
         "y": [
          1.4206866919994354
         ]
        },
        {
         "mode": "text",
         "text": [
          "-0.92"
         ],
         "textfont": {
          "color": "red",
          "size": 12
         },
         "type": "scatter",
         "x": [
          4.816094756126404
         ],
         "y": [
          1.3785665333271027
         ]
        },
        {
         "mode": "text",
         "text": [
          "-0.87"
         ],
         "textfont": {
          "color": "red",
          "size": 12
         },
         "type": "scatter",
         "x": [
          4.813581228256226
         ],
         "y": [
          1.2122347354888916
         ]
        },
        {
         "mode": "text",
         "text": [
          "-0.21"
         ],
         "textfont": {
          "color": "red",
          "size": 12
         },
         "type": "scatter",
         "x": [
          4.938011646270752
         ],
         "y": [
          1.2563656866550446
         ]
        },
        {
         "mode": "text",
         "text": [
          "-0.22"
         ],
         "textfont": {
          "color": "red",
          "size": 12
         },
         "type": "scatter",
         "x": [
          4.804901838302612
         ],
         "y": [
          0.8628808557987213
         ]
        },
        {
         "mode": "text",
         "text": [
          "0.01"
         ],
         "textfont": {
          "color": "blue",
          "size": 12
         },
         "type": "scatter",
         "x": [
          4.936071753501892
         ],
         "y": [
          0.8955814242362976
         ]
        },
        {
         "mode": "text",
         "text": [
          "-0.15"
         ],
         "textfont": {
          "color": "red",
          "size": 12
         },
         "type": "scatter",
         "x": [
          4.9368109703063965
         ],
         "y": [
          1.0803933590650558
         ]
        },
        {
         "mode": "text",
         "text": [
          "-0.71"
         ],
         "textfont": {
          "color": "red",
          "size": 12
         },
         "type": "scatter",
         "x": [
          4.812354683876038
         ],
         "y": [
          1.0406203866004944
         ]
        },
        {
         "mode": "text",
         "text": [
          "25.18"
         ],
         "textfont": {
          "color": "blue",
          "size": 12
         },
         "type": "scatter",
         "x": [
          3.4122239351272583
         ],
         "y": [
          0.11154270957922563
         ]
        },
        {
         "mode": "text",
         "text": [
          "15.04"
         ],
         "textfont": {
          "color": "blue",
          "size": 12
         },
         "type": "scatter",
         "x": [
          3.3303804993629456
         ],
         "y": [
          0.33307090029120445
         ]
        },
        {
         "mode": "text",
         "text": [
          "18.72"
         ],
         "textfont": {
          "color": "blue",
          "size": 12
         },
         "type": "scatter",
         "x": [
          3.097864270210266
         ],
         "y": [
          0.343804769217968
         ]
        },
        {
         "mode": "text",
         "text": [
          "30.63"
         ],
         "textfont": {
          "color": "blue",
          "size": 12
         },
         "type": "scatter",
         "x": [
          3.1608501076698303
         ],
         "y": [
          0.11621453246334568
         ]
        },
        {
         "mode": "text",
         "text": [
          "-37.59"
         ],
         "textfont": {
          "color": "red",
          "size": 12
         },
         "type": "scatter",
         "x": [
          4.5069509744644165
         ],
         "y": [
          0.07097799923212733
         ]
        },
        {
         "mode": "text",
         "text": [
          "-31.56"
         ],
         "textfont": {
          "color": "red",
          "size": 12
         },
         "type": "scatter",
         "x": [
          4.4744919538497925
         ],
         "y": [
          0.2155010886490345
         ]
        },
        {
         "mode": "text",
         "text": [
          "-18.92"
         ],
         "textfont": {
          "color": "red",
          "size": 12
         },
         "type": "scatter",
         "x": [
          4.3273961544036865
         ],
         "y": [
          0.251084066927433
         ]
        },
        {
         "mode": "text",
         "text": [
          "-17.22"
         ],
         "textfont": {
          "color": "red",
          "size": 12
         },
         "type": "scatter",
         "x": [
          4.370846271514893
         ],
         "y": [
          0.08256914163212059
         ]
        },
        {
         "mode": "text",
         "text": [
          "-9.16"
         ],
         "textfont": {
          "color": "red",
          "size": 12
         },
         "type": "scatter",
         "x": [
          0.8736651241779327
         ],
         "y": [
          0.4408906102180481
         ]
        },
        {
         "mode": "text",
         "text": [
          "-8.71"
         ],
         "textfont": {
          "color": "red",
          "size": 12
         },
         "type": "scatter",
         "x": [
          0.863358348608017
         ],
         "y": [
          0.6288760006427765
         ]
        },
        {
         "mode": "text",
         "text": [
          "-7.35"
         ],
         "textfont": {
          "color": "red",
          "size": 12
         },
         "type": "scatter",
         "x": [
          0.6814071387052536
         ],
         "y": [
          0.6337187439203262
         ]
        },
        {
         "mode": "text",
         "text": [
          "-11.94"
         ],
         "textfont": {
          "color": "red",
          "size": 12
         },
         "type": "scatter",
         "x": [
          0.7034810036420822
         ],
         "y": [
          0.45361993461847305
         ]
        },
        {
         "mode": "text",
         "text": [
          "-4.81"
         ],
         "textfont": {
          "color": "red",
          "size": 12
         },
         "type": "scatter",
         "x": [
          4.218493461608887
         ],
         "y": [
          0.09251821381621994
         ]
        },
        {
         "mode": "text",
         "text": [
          "-9.50"
         ],
         "textfont": {
          "color": "red",
          "size": 12
         },
         "type": "scatter",
         "x": [
          4.162798166275024
         ],
         "y": [
          0.28101323917508125
         ]
        },
        {
         "mode": "text",
         "text": [
          "-2.01"
         ],
         "textfont": {
          "color": "red",
          "size": 12
         },
         "type": "scatter",
         "x": [
          3.9799112677574158
         ],
         "y": [
          0.3023487515747547
         ]
        },
        {
         "mode": "text",
         "text": [
          "4.25"
         ],
         "textfont": {
          "color": "blue",
          "size": 12
         },
         "type": "scatter",
         "x": [
          4.049239873886108
         ],
         "y": [
          0.1001938573026564
         ]
        },
        {
         "mode": "text",
         "text": [
          "-19.40"
         ],
         "textfont": {
          "color": "red",
          "size": 12
         },
         "type": "scatter",
         "x": [
          1.042348638176918
         ],
         "y": [
          1.9018907845020294
         ]
        },
        {
         "mode": "text",
         "text": [
          "-13.33"
         ],
         "textfont": {
          "color": "red",
          "size": 12
         },
         "type": "scatter",
         "x": [
          0.8483069986104965
         ],
         "y": [
          1.9102546870708466
         ]
        },
        {
         "mode": "text",
         "text": [
          "-11.19"
         ],
         "textfont": {
          "color": "red",
          "size": 12
         },
         "type": "scatter",
         "x": [
          0.7763065546751022
         ],
         "y": [
          1.7212382853031158
         ]
        },
        {
         "mode": "text",
         "text": [
          "-16.58"
         ],
         "textfont": {
          "color": "red",
          "size": 12
         },
         "type": "scatter",
         "x": [
          0.9854070991277695
         ],
         "y": [
          1.7024622559547424
         ]
        },
        {
         "mode": "text",
         "text": [
          "-48.35"
         ],
         "textfont": {
          "color": "red",
          "size": 12
         },
         "type": "scatter",
         "x": [
          2.9514189958572388
         ],
         "y": [
          1.8969623744487762
         ]
        },
        {
         "mode": "text",
         "text": [
          "-42.12"
         ],
         "textfont": {
          "color": "red",
          "size": 12
         },
         "type": "scatter",
         "x": [
          3.0198082327842712
         ],
         "y": [
          1.6849565207958221
         ]
        },
        {
         "mode": "text",
         "text": [
          "-35.07"
         ],
         "textfont": {
          "color": "red",
          "size": 12
         },
         "type": "scatter",
         "x": [
          3.275266110897064
         ],
         "y": [
          1.6929376423358917
         ]
        },
        {
         "mode": "text",
         "text": [
          "-42.21"
         ],
         "textfont": {
          "color": "red",
          "size": 12
         },
         "type": "scatter",
         "x": [
          3.2185990810394287
         ],
         "y": [
          1.8963495790958405
         ]
        },
        {
         "mode": "text",
         "text": [
          "-5.89"
         ],
         "textfont": {
          "color": "red",
          "size": 12
         },
         "type": "scatter",
         "x": [
          2.714842438697815
         ],
         "y": [
          0.9344952553510666
         ]
        },
        {
         "mode": "text",
         "text": [
          "-11.56"
         ],
         "textfont": {
          "color": "red",
          "size": 12
         },
         "type": "scatter",
         "x": [
          2.5991984605789185
         ],
         "y": [
          1.0922545790672302
         ]
        },
        {
         "mode": "text",
         "text": [
          "-8.95"
         ],
         "textfont": {
          "color": "red",
          "size": 12
         },
         "type": "scatter",
         "x": [
          2.3550755977630615
         ],
         "y": [
          1.01727756857872
         ]
        },
        {
         "mode": "text",
         "text": [
          "0.18"
         ],
         "textfont": {
          "color": "blue",
          "size": 12
         },
         "type": "scatter",
         "x": [
          2.4976452589035034
         ],
         "y": [
          0.807899534702301
         ]
        },
        {
         "mode": "text",
         "text": [
          "-0.40"
         ],
         "textfont": {
          "color": "red",
          "size": 12
         },
         "type": "scatter",
         "x": [
          0.06956401839852333
         ],
         "y": [
          1.7024781703948975
         ]
        },
        {
         "mode": "text",
         "text": [
          "-0.47"
         ],
         "textfont": {
          "color": "red",
          "size": 12
         },
         "type": "scatter",
         "x": [
          0.07719963043928146
         ],
         "y": [
          1.566714197397232
         ]
        },
        {
         "mode": "text",
         "text": [
          "-1.72"
         ],
         "textfont": {
          "color": "red",
          "size": 12
         },
         "type": "scatter",
         "x": [
          0.22839365899562836
         ],
         "y": [
          1.5267606675624847
         ]
        },
        {
         "mode": "text",
         "text": [
          "-1.45"
         ],
         "textfont": {
          "color": "red",
          "size": 12
         },
         "type": "scatter",
         "x": [
          0.20661940053105354
         ],
         "y": [
          1.6715508699417114
         ]
        },
        {
         "mode": "text",
         "text": [
          "0.12"
         ],
         "textfont": {
          "color": "blue",
          "size": 12
         },
         "type": "scatter",
         "x": [
          0.06641711294651031
         ],
         "y": [
          0.7304533123970032
         ]
        },
        {
         "mode": "text",
         "text": [
          "1.30"
         ],
         "textfont": {
          "color": "blue",
          "size": 12
         },
         "type": "scatter",
         "x": [
          0.06842862069606781
         ],
         "y": [
          0.5572209730744362
         ]
        },
        {
         "mode": "text",
         "text": [
          "4.05"
         ],
         "textfont": {
          "color": "blue",
          "size": 12
         },
         "type": "scatter",
         "x": [
          0.2055392786860466
         ],
         "y": [
          0.5192228108644485
         ]
        },
        {
         "mode": "text",
         "text": [
          "0.77"
         ],
         "textfont": {
          "color": "blue",
          "size": 12
         },
         "type": "scatter",
         "x": [
          0.19809500128030777
         ],
         "y": [
          0.6937448382377625
         ]
        },
        {
         "mode": "text",
         "text": [
          "-0.91"
         ],
         "textfont": {
          "color": "red",
          "size": 12
         },
         "type": "scatter",
         "x": [
          0.2961083725094795
         ],
         "y": [
          1.9267168939113617
         ]
        },
        {
         "mode": "text",
         "text": [
          "-2.45"
         ],
         "textfont": {
          "color": "red",
          "size": 12
         },
         "type": "scatter",
         "x": [
          0.3269284851849079
         ],
         "y": [
          1.7843999862670898
         ]
        },
        {
         "mode": "text",
         "text": [
          "-5.33"
         ],
         "textfont": {
          "color": "red",
          "size": 12
         },
         "type": "scatter",
         "x": [
          0.48579423129558563
         ],
         "y": [
          1.755928635597229
         ]
        },
        {
         "mode": "text",
         "text": [
          "-2.47"
         ],
         "textfont": {
          "color": "red",
          "size": 12
         },
         "type": "scatter",
         "x": [
          0.4290996268391609
         ],
         "y": [
          1.921913594007492
         ]
        },
        {
         "mode": "text",
         "text": [
          "11.93"
         ],
         "textfont": {
          "color": "blue",
          "size": 12
         },
         "type": "scatter",
         "x": [
          3.8582672476768494
         ],
         "y": [
          0.10528543942200486
         ]
        },
        {
         "mode": "text",
         "text": [
          "4.45"
         ],
         "textfont": {
          "color": "blue",
          "size": 12
         },
         "type": "scatter",
         "x": [
          3.77810275554657
         ],
         "y": [
          0.3163980804383755
         ]
        },
        {
         "mode": "text",
         "text": [
          "10.27"
         ],
         "textfont": {
          "color": "blue",
          "size": 12
         },
         "type": "scatter",
         "x": [
          3.5596739053726196
         ],
         "y": [
          0.32452378422021866
         ]
        },
        {
         "mode": "text",
         "text": [
          "18.77"
         ],
         "textfont": {
          "color": "blue",
          "size": 12
         },
         "type": "scatter",
         "x": [
          3.6453371047973633
         ],
         "y": [
          0.1085121088399319
         ]
        },
        {
         "mode": "text",
         "text": [
          "-3.66"
         ],
         "textfont": {
          "color": "red",
          "size": 12
         },
         "type": "scatter",
         "x": [
          4.546403646469116
         ],
         "y": [
          1.1131706237792969
         ]
        },
        {
         "mode": "text",
         "text": [
          "-1.94"
         ],
         "textfont": {
          "color": "red",
          "size": 12
         },
         "type": "scatter",
         "x": [
          4.684354186058044
         ],
         "y": [
          1.1657499372959137
         ]
        },
        {
         "mode": "text",
         "text": [
          "-2.33"
         ],
         "textfont": {
          "color": "red",
          "size": 12
         },
         "type": "scatter",
         "x": [
          4.678885459899902
         ],
         "y": [
          1.332482397556305
         ]
        },
        {
         "mode": "text",
         "text": [
          "-4.40"
         ],
         "textfont": {
          "color": "red",
          "size": 12
         },
         "type": "scatter",
         "x": [
          4.524705648422241
         ],
         "y": [
          1.2841911017894745
         ]
        },
        {
         "mode": "text",
         "text": [
          "-4.19"
         ],
         "textfont": {
          "color": "red",
          "size": 12
         },
         "type": "scatter",
         "x": [
          0.5419046655297279
         ],
         "y": [
          0.9998942613601685
         ]
        },
        {
         "mode": "text",
         "text": [
          "-5.19"
         ],
         "textfont": {
          "color": "red",
          "size": 12
         },
         "type": "scatter",
         "x": [
          0.6301468163728714
         ],
         "y": [
          0.8121314942836761
         ]
        },
        {
         "mode": "text",
         "text": [
          "-7.72"
         ],
         "textfont": {
          "color": "red",
          "size": 12
         },
         "type": "scatter",
         "x": [
          0.818550318479538
         ],
         "y": [
          0.823836624622345
         ]
        },
        {
         "mode": "text",
         "text": [
          "-7.20"
         ],
         "textfont": {
          "color": "red",
          "size": 12
         },
         "type": "scatter",
         "x": [
          0.7366262227296829
         ],
         "y": [
          1.0283552408218384
         ]
        },
        {
         "mode": "text",
         "text": [
          "-7.51"
         ],
         "textfont": {
          "color": "red",
          "size": 12
         },
         "type": "scatter",
         "x": [
          3.8559530377388
         ],
         "y": [
          0.7334401160478592
         ]
        },
        {
         "mode": "text",
         "text": [
          "-4.93"
         ],
         "textfont": {
          "color": "red",
          "size": 12
         },
         "type": "scatter",
         "x": [
          3.9176098704338074
         ],
         "y": [
          0.5149454846978188
         ]
        },
        {
         "mode": "text",
         "text": [
          "-8.81"
         ],
         "textfont": {
          "color": "red",
          "size": 12
         },
         "type": "scatter",
         "x": [
          4.116982519626617
         ],
         "y": [
          0.48767443746328354
         ]
        },
        {
         "mode": "text",
         "text": [
          "-8.23"
         ],
         "textfont": {
          "color": "red",
          "size": 12
         },
         "type": "scatter",
         "x": [
          4.078344523906708
         ],
         "y": [
          0.7180213630199432
         ]
        },
        {
         "mode": "text",
         "text": [
          "-0.45"
         ],
         "textfont": {
          "color": "red",
          "size": 12
         },
         "type": "scatter",
         "x": [
          0.08488351851701736
         ],
         "y": [
          1.4178012311458588
         ]
        },
        {
         "mode": "text",
         "text": [
          "-0.23"
         ],
         "textfont": {
          "color": "red",
          "size": 12
         },
         "type": "scatter",
         "x": [
          0.08935530483722687
         ],
         "y": [
          1.257415771484375
         ]
        },
        {
         "mode": "text",
         "text": [
          "-1.59"
         ],
         "textfont": {
          "color": "red",
          "size": 12
         },
         "type": "scatter",
         "x": [
          0.2760713994503021
         ],
         "y": [
          1.2000432908535004
         ]
        },
        {
         "mode": "text",
         "text": [
          "-1.72"
         ],
         "textfont": {
          "color": "red",
          "size": 12
         },
         "type": "scatter",
         "x": [
          0.2536814287304878
         ],
         "y": [
          1.3711595833301544
         ]
        },
        {
         "mode": "text",
         "text": [
          "-0.89"
         ],
         "textfont": {
          "color": "red",
          "size": 12
         },
         "type": "scatter",
         "x": [
          3.704566240310669
         ],
         "y": [
          0.5290285423398018
         ]
        },
        {
         "mode": "text",
         "text": [
          "-5.67"
         ],
         "textfont": {
          "color": "red",
          "size": 12
         },
         "type": "scatter",
         "x": [
          3.63738751411438
         ],
         "y": [
          0.7352481335401535
         ]
        },
        {
         "mode": "text",
         "text": [
          "-3.31"
         ],
         "textfont": {
          "color": "red",
          "size": 12
         },
         "type": "scatter",
         "x": [
          3.4221622943878174
         ],
         "y": [
          0.7354948371648788
         ]
        },
        {
         "mode": "text",
         "text": [
          "2.94"
         ],
         "textfont": {
          "color": "blue",
          "size": 12
         },
         "type": "scatter",
         "x": [
          3.4830135107040405
         ],
         "y": [
          0.5364792793989182
         ]
        },
        {
         "mode": "text",
         "text": [
          "-43.80"
         ],
         "textfont": {
          "color": "red",
          "size": 12
         },
         "type": "scatter",
         "x": [
          2.747296094894409
         ],
         "y": [
          1.6793093085289001
         ]
        },
        {
         "mode": "text",
         "text": [
          "-71.31"
         ],
         "textfont": {
          "color": "red",
          "size": 12
         },
         "type": "scatter",
         "x": [
          2.680943191051483
         ],
         "y": [
          1.8955381512641907
         ]
        },
        {
         "mode": "text",
         "text": [
          "-69.64"
         ],
         "textfont": {
          "color": "red",
          "size": 12
         },
         "type": "scatter",
         "x": [
          2.4081941843032837
         ],
         "y": [
          1.894663155078888
         ]
        },
        {
         "mode": "text",
         "text": [
          "-34.24"
         ],
         "textfont": {
          "color": "red",
          "size": 12
         },
         "type": "scatter",
         "x": [
          2.474861741065979
         ],
         "y": [
          1.6836898922920227
         ]
        },
        {
         "mode": "text",
         "text": [
          "-20.95"
         ],
         "textfont": {
          "color": "red",
          "size": 12
         },
         "type": "scatter",
         "x": [
          3.3589494228363037
         ],
         "y": [
          1.2957232594490051
         ]
        },
        {
         "mode": "text",
         "text": [
          "-28.21"
         ],
         "textfont": {
          "color": "red",
          "size": 12
         },
         "type": "scatter",
         "x": [
          3.3241003155708313
         ],
         "y": [
          1.4942342936992645
         ]
        },
        {
         "mode": "text",
         "text": [
          "-31.13"
         ],
         "textfont": {
          "color": "red",
          "size": 12
         },
         "type": "scatter",
         "x": [
          3.099783778190613
         ],
         "y": [
          1.484597086906433
         ]
        },
        {
         "mode": "text",
         "text": [
          "-22.65"
         ],
         "textfont": {
          "color": "red",
          "size": 12
         },
         "type": "scatter",
         "x": [
          3.1712982058525085
         ],
         "y": [
          1.3106431365013123
         ]
        },
        {
         "mode": "text",
         "text": [
          "-9.83"
         ],
         "textfont": {
          "color": "red",
          "size": 12
         },
         "type": "scatter",
         "x": [
          4.0011597871780396
         ],
         "y": [
          0.9633094817399979
         ]
        },
        {
         "mode": "text",
         "text": [
          "-14.20"
         ],
         "textfont": {
          "color": "red",
          "size": 12
         },
         "type": "scatter",
         "x": [
          3.8843292593955994
         ],
         "y": [
          1.21393021941185
         ]
        },
        {
         "mode": "text",
         "text": [
          "-14.80"
         ],
         "textfont": {
          "color": "red",
          "size": 12
         },
         "type": "scatter",
         "x": [
          3.6572518348693848
         ],
         "y": [
          1.129275530576706
         ]
        },
        {
         "mode": "text",
         "text": [
          "-10.42"
         ],
         "textfont": {
          "color": "red",
          "size": 12
         },
         "type": "scatter",
         "x": [
          3.773145318031311
         ],
         "y": [
          0.941282331943512
         ]
        },
        {
         "mode": "text",
         "text": [
          "-1.65"
         ],
         "textfont": {
          "color": "red",
          "size": 12
         },
         "type": "scatter",
         "x": [
          3.01581734418869
         ],
         "y": [
          0.7811716347932816
         ]
        },
        {
         "mode": "text",
         "text": [
          "8.23"
         ],
         "textfont": {
          "color": "blue",
          "size": 12
         },
         "type": "scatter",
         "x": [
          3.049745202064514
         ],
         "y": [
          0.5639395043253899
         ]
        },
        {
         "mode": "text",
         "text": [
          "6.11"
         ],
         "textfont": {
          "color": "blue",
          "size": 12
         },
         "type": "scatter",
         "x": [
          3.261918008327484
         ],
         "y": [
          0.5484542176127434
         ]
        },
        {
         "mode": "text",
         "text": [
          "-1.95"
         ],
         "textfont": {
          "color": "red",
          "size": 12
         },
         "type": "scatter",
         "x": [
          3.2173721194267273
         ],
         "y": [
          0.7508717030286789
         ]
        },
        {
         "mode": "text",
         "text": [
          "-34.17"
         ],
         "textfont": {
          "color": "red",
          "size": 12
         },
         "type": "scatter",
         "x": [
          1.4957529604434967
         ],
         "y": [
          1.8897690773010254
         ]
        },
        {
         "mode": "text",
         "text": [
          "-26.75"
         ],
         "textfont": {
          "color": "red",
          "size": 12
         },
         "type": "scatter",
         "x": [
          1.2619319260120392
         ],
         "y": [
          1.899538367986679
         ]
        },
        {
         "mode": "text",
         "text": [
          "-22.03"
         ],
         "textfont": {
          "color": "red",
          "size": 12
         },
         "type": "scatter",
         "x": [
          1.1993099749088287
         ],
         "y": [
          1.697735756635666
         ]
        },
        {
         "mode": "text",
         "text": [
          "-27.02"
         ],
         "textfont": {
          "color": "red",
          "size": 12
         },
         "type": "scatter",
         "x": [
          1.4052168130874634
         ],
         "y": [
          1.6899204850196838
         ]
        },
        {
         "mode": "text",
         "text": [
          "-13.05"
         ],
         "textfont": {
          "color": "red",
          "size": 12
         },
         "type": "scatter",
         "x": [
          2.8942434787750244
         ],
         "y": [
          1.0825291723012924
         ]
        },
        {
         "mode": "text",
         "text": [
          "-20.14"
         ],
         "textfont": {
          "color": "red",
          "size": 12
         },
         "type": "scatter",
         "x": [
          3.0248396396636963
         ],
         "y": [
          1.2411001324653625
         ]
        },
        {
         "mode": "text",
         "text": [
          "-25.61"
         ],
         "textfont": {
          "color": "red",
          "size": 12
         },
         "type": "scatter",
         "x": [
          2.9086077213287354
         ],
         "y": [
          1.381358027458191
         ]
        },
        {
         "mode": "text",
         "text": [
          "-17.24"
         ],
         "textfont": {
          "color": "red",
          "size": 12
         },
         "type": "scatter",
         "x": [
          2.7702749371528625
         ],
         "y": [
          1.2112591564655304
         ]
        },
        {
         "mode": "text",
         "text": [
          "-15.17"
         ],
         "textfont": {
          "color": "red",
          "size": 12
         },
         "type": "scatter",
         "x": [
          3.3205645084381104
         ],
         "y": [
          1.1090636253356934
         ]
        },
        {
         "mode": "text",
         "text": [
          "-16.74"
         ],
         "textfont": {
          "color": "red",
          "size": 12
         },
         "type": "scatter",
         "x": [
          3.150652825832367
         ],
         "y": [
          1.1517700254917145
         ]
        },
        {
         "mode": "text",
         "text": [
          "-9.58"
         ],
         "textfont": {
          "color": "red",
          "size": 12
         },
         "type": "scatter",
         "x": [
          3.055309236049652
         ],
         "y": [
          0.9827148765325546
         ]
        },
        {
         "mode": "text",
         "text": [
          "-8.64"
         ],
         "textfont": {
          "color": "red",
          "size": 12
         },
         "type": "scatter",
         "x": [
          3.2366678714752197
         ],
         "y": [
          0.9351090490818024
         ]
        },
        {
         "mode": "text",
         "text": [
          "-27.62"
         ],
         "textfont": {
          "color": "red",
          "size": 12
         },
         "type": "scatter",
         "x": [
          1.6937611401081085
         ],
         "y": [
          1.468112289905548
         ]
        },
        {
         "mode": "text",
         "text": [
          "-34.18"
         ],
         "textfont": {
          "color": "red",
          "size": 12
         },
         "type": "scatter",
         "x": [
          1.8275282382965088
         ],
         "y": [
          1.6056155264377594
         ]
        },
        {
         "mode": "text",
         "text": [
          "-36.14"
         ],
         "textfont": {
          "color": "red",
          "size": 12
         },
         "type": "scatter",
         "x": [
          1.6886242628097534
         ],
         "y": [
          1.7828342914581299
         ]
        },
        {
         "mode": "text",
         "text": [
          "-28.88"
         ],
         "textfont": {
          "color": "red",
          "size": 12
         },
         "type": "scatter",
         "x": [
          1.5630299746990204
         ],
         "y": [
          1.6119108498096466
         ]
        },
        {
         "mode": "text",
         "text": [
          "-21.64"
         ],
         "textfont": {
          "color": "red",
          "size": 12
         },
         "type": "scatter",
         "x": [
          1.5182822048664093
         ],
         "y": [
          1.3574200868606567
         ]
        },
        {
         "mode": "text",
         "text": [
          "-23.48"
         ],
         "textfont": {
          "color": "red",
          "size": 12
         },
         "type": "scatter",
         "x": [
          1.4108881056308746
         ],
         "y": [
          1.5183944404125214
         ]
        },
        {
         "mode": "text",
         "text": [
          "-19.28"
         ],
         "textfont": {
          "color": "red",
          "size": 12
         },
         "type": "scatter",
         "x": [
          1.207833856344223
         ],
         "y": [
          1.4953680634498596
         ]
        },
        {
         "mode": "text",
         "text": [
          "-17.49"
         ],
         "textfont": {
          "color": "red",
          "size": 12
         },
         "type": "scatter",
         "x": [
          1.301828145980835
         ],
         "y": [
          1.297720491886139
         ]
        },
        {
         "mode": "text",
         "text": [
          "-48.81"
         ],
         "textfont": {
          "color": "red",
          "size": 12
         },
         "type": "scatter",
         "x": [
          2.2174260020256042
         ],
         "y": [
          1.6853109002113342
         ]
        },
        {
         "mode": "text",
         "text": [
          "-52.40"
         ],
         "textfont": {
          "color": "red",
          "size": 12
         },
         "type": "scatter",
         "x": [
          2.1379474699497223
         ],
         "y": [
          1.895177185535431
         ]
        },
        {
         "mode": "text",
         "text": [
          "-44.29"
         ],
         "textfont": {
          "color": "red",
          "size": 12
         },
         "type": "scatter",
         "x": [
          1.8803545236587524
         ],
         "y": [
          1.8857877254486084
         ]
        },
        {
         "mode": "text",
         "text": [
          "-40.53"
         ],
         "textfont": {
          "color": "red",
          "size": 12
         },
         "type": "scatter",
         "x": [
          1.9913562834262848
         ],
         "y": [
          1.6799013316631317
         ]
        },
        {
         "mode": "text",
         "text": [
          "-14.10"
         ],
         "textfont": {
          "color": "red",
          "size": 12
         },
         "type": "scatter",
         "x": [
          1.0756418853998184
         ],
         "y": [
          1.2749006152153015
         ]
        },
        {
         "mode": "text",
         "text": [
          "-15.03"
         ],
         "textfont": {
          "color": "red",
          "size": 12
         },
         "type": "scatter",
         "x": [
          0.991997554898262
         ],
         "y": [
          1.492171436548233
         ]
        },
        {
         "mode": "text",
         "text": [
          "-10.72"
         ],
         "textfont": {
          "color": "red",
          "size": 12
         },
         "type": "scatter",
         "x": [
          0.7727445960044861
         ],
         "y": [
          1.5018539428710938
         ]
        },
        {
         "mode": "text",
         "text": [
          "-10.52"
         ],
         "textfont": {
          "color": "red",
          "size": 12
         },
         "type": "scatter",
         "x": [
          0.8554192930459976
         ],
         "y": [
          1.2673631012439728
         ]
        },
        {
         "mode": "text",
         "text": [
          "2.11"
         ],
         "textfont": {
          "color": "blue",
          "size": 12
         },
         "type": "scatter",
         "x": [
          4.721840023994446
         ],
         "y": [
          0.2688702531158924
         ]
        },
        {
         "mode": "text",
         "text": [
          "6.21"
         ],
         "textfont": {
          "color": "blue",
          "size": 12
         },
         "type": "scatter",
         "x": [
          4.717523217201233
         ],
         "y": [
          0.39178572595119476
         ]
        },
        {
         "mode": "text",
         "text": [
          "-2.47"
         ],
         "textfont": {
          "color": "red",
          "size": 12
         },
         "type": "scatter",
         "x": [
          4.589955687522888
         ],
         "y": [
          0.4402313679456711
         ]
        },
        {
         "mode": "text",
         "text": [
          "-10.85"
         ],
         "textfont": {
          "color": "red",
          "size": 12
         },
         "type": "scatter",
         "x": [
          4.5930540561676025
         ],
         "y": [
          0.3099521994590759
         ]
        },
        {
         "mode": "text",
         "text": [
          "14.10"
         ],
         "textfont": {
          "color": "blue",
          "size": 12
         },
         "type": "scatter",
         "x": [
          1.4619775712490082
         ],
         "y": [
          0.25105176493525505
         ]
        },
        {
         "mode": "text",
         "text": [
          "25.03"
         ],
         "textfont": {
          "color": "blue",
          "size": 12
         },
         "type": "scatter",
         "x": [
          1.513427495956421
         ],
         "y": [
          0.08321400370550691
         ]
        },
        {
         "mode": "text",
         "text": [
          "31.83"
         ],
         "textfont": {
          "color": "blue",
          "size": 12
         },
         "type": "scatter",
         "x": [
          1.7439233362674713
         ],
         "y": [
          0.08346926749072736
         ]
        },
        {
         "mode": "text",
         "text": [
          "18.28"
         ],
         "textfont": {
          "color": "blue",
          "size": 12
         },
         "type": "scatter",
         "x": [
          1.668993979692459
         ],
         "y": [
          0.23908179253339767
         ]
        },
        {
         "mode": "text",
         "text": [
          "8.90"
         ],
         "textfont": {
          "color": "blue",
          "size": 12
         },
         "type": "scatter",
         "x": [
          1.798698216676712
         ],
         "y": [
          0.502252921462059
         ]
        },
        {
         "mode": "text",
         "text": [
          "1.90"
         ],
         "textfont": {
          "color": "blue",
          "size": 12
         },
         "type": "scatter",
         "x": [
          1.6053988933563232
         ],
         "y": [
          0.6011491641402245
         ]
        },
        {
         "mode": "text",
         "text": [
          "6.85"
         ],
         "textfont": {
          "color": "blue",
          "size": 12
         },
         "type": "scatter",
         "x": [
          1.4886135160923004
         ],
         "y": [
          0.4227161630988121
         ]
        },
        {
         "mode": "text",
         "text": [
          "12.90"
         ],
         "textfont": {
          "color": "blue",
          "size": 12
         },
         "type": "scatter",
         "x": [
          1.6861416697502136
         ],
         "y": [
          0.3805031105875969
         ]
        },
        {
         "mode": "text",
         "text": [
          "-10.79"
         ],
         "textfont": {
          "color": "red",
          "size": 12
         },
         "type": "scatter",
         "x": [
          0.3138405308127403
         ],
         "y": [
          0.2248208075761795
         ]
        },
        {
         "mode": "text",
         "text": [
          "-29.77"
         ],
         "textfont": {
          "color": "red",
          "size": 12
         },
         "type": "scatter",
         "x": [
          0.43403857201337814
         ],
         "y": [
          0.21982677653431892
         ]
        },
        {
         "mode": "text",
         "text": [
          "-16.24"
         ],
         "textfont": {
          "color": "red",
          "size": 12
         },
         "type": "scatter",
         "x": [
          0.5009667724370956
         ],
         "y": [
          0.3254108503460884
         ]
        },
        {
         "mode": "text",
         "text": [
          "0.28"
         ],
         "textfont": {
          "color": "blue",
          "size": 12
         },
         "type": "scatter",
         "x": [
          0.34728384017944336
         ],
         "y": [
          0.34452182799577713
         ]
        },
        {
         "mode": "text",
         "text": [
          "-15.37"
         ],
         "textfont": {
          "color": "red",
          "size": 12
         },
         "type": "scatter",
         "x": [
          4.451911687850952
         ],
         "y": [
          0.37078438699245453
         ]
        },
        {
         "mode": "text",
         "text": [
          "-6.63"
         ],
         "textfont": {
          "color": "red",
          "size": 12
         },
         "type": "scatter",
         "x": [
          4.449241518974304
         ],
         "y": [
          0.5275455042719841
         ]
        },
        {
         "mode": "text",
         "text": [
          "-7.88"
         ],
         "textfont": {
          "color": "red",
          "size": 12
         },
         "type": "scatter",
         "x": [
          4.282937407493591
         ],
         "y": [
          0.6436833813786507
         ]
        },
        {
         "mode": "text",
         "text": [
          "-12.22"
         ],
         "textfont": {
          "color": "red",
          "size": 12
         },
         "type": "scatter",
         "x": [
          4.295475721359253
         ],
         "y": [
          0.4379841163754463
         ]
        },
        {
         "mode": "text",
         "text": [
          "3.51"
         ],
         "textfont": {
          "color": "blue",
          "size": 12
         },
         "type": "scatter",
         "x": [
          4.718434929847717
         ],
         "y": [
          0.5153569206595421
         ]
        },
        {
         "mode": "text",
         "text": [
          "1.10"
         ],
         "textfont": {
          "color": "blue",
          "size": 12
         },
         "type": "scatter",
         "x": [
          4.692578196525574
         ],
         "y": [
          0.6397965550422668
         ]
        },
        {
         "mode": "text",
         "text": [
          "0.16"
         ],
         "textfont": {
          "color": "blue",
          "size": 12
         },
         "type": "scatter",
         "x": [
          4.616721153259277
         ],
         "y": [
          0.5558505430817604
         ]
        },
        {
         "mode": "text",
         "text": [
          "-1.55"
         ],
         "textfont": {
          "color": "red",
          "size": 12
         },
         "type": "scatter",
         "x": [
          4.697804808616638
         ],
         "y": [
          1.0129898637533188
         ]
        },
        {
         "mode": "text",
         "text": [
          "-2.40"
         ],
         "textfont": {
          "color": "red",
          "size": 12
         },
         "type": "scatter",
         "x": [
          4.596676707267761
         ],
         "y": [
          0.9684789627790451
         ]
        },
        {
         "mode": "text",
         "text": [
          "-0.96"
         ],
         "textfont": {
          "color": "red",
          "size": 12
         },
         "type": "scatter",
         "x": [
          4.683629751205444
         ],
         "y": [
          0.8774216771125793
         ]
        },
        {
         "mode": "text",
         "text": [
          "7.17"
         ],
         "textfont": {
          "color": "blue",
          "size": 12
         },
         "type": "scatter",
         "x": [
          2.6693941950798035
         ],
         "y": [
          0.6499554514884949
         ]
        },
        {
         "mode": "text",
         "text": [
          "9.47"
         ],
         "textfont": {
          "color": "blue",
          "size": 12
         },
         "type": "scatter",
         "x": [
          2.853921353816986
         ],
         "y": [
          0.5838338509202003
         ]
        },
        {
         "mode": "text",
         "text": [
          "0.28"
         ],
         "textfont": {
          "color": "blue",
          "size": 12
         },
         "type": "scatter",
         "x": [
          2.8201310634613037
         ],
         "y": [
          0.7638631761074066
         ]
        },
        {
         "mode": "text",
         "text": [
          "-12.70"
         ],
         "textfont": {
          "color": "red",
          "size": 12
         },
         "type": "scatter",
         "x": [
          3.479550004005432
         ],
         "y": [
          1.0353569388389587
         ]
        },
        {
         "mode": "text",
         "text": [
          "-8.58"
         ],
         "textfont": {
          "color": "red",
          "size": 12
         },
         "type": "scatter",
         "x": [
          3.4066420793533325
         ],
         "y": [
          0.9035365283489227
         ]
        },
        {
         "mode": "text",
         "text": [
          "-9.44"
         ],
         "textfont": {
          "color": "red",
          "size": 12
         },
         "type": "scatter",
         "x": [
          3.5765933990478516
         ],
         "y": [
          0.9091006070375443
         ]
        },
        {
         "mode": "text",
         "text": [
          "-24.06"
         ],
         "textfont": {
          "color": "red",
          "size": 12
         },
         "type": "scatter",
         "x": [
          3.532487392425537
         ],
         "y": [
          1.4741142988204956
         ]
        },
        {
         "mode": "text",
         "text": [
          "-18.99"
         ],
         "textfont": {
          "color": "red",
          "size": 12
         },
         "type": "scatter",
         "x": [
          3.5621124505996704
         ],
         "y": [
          1.3029786348342896
         ]
        },
        {
         "mode": "text",
         "text": [
          "-18.14"
         ],
         "textfont": {
          "color": "red",
          "size": 12
         },
         "type": "scatter",
         "x": [
          3.7300094962120056
         ],
         "y": [
          1.399224191904068
         ]
        },
        {
         "mode": "text",
         "text": [
          "26.39"
         ],
         "textfont": {
          "color": "blue",
          "size": 12
         },
         "type": "scatter",
         "x": [
          1.8690345287322998
         ],
         "y": [
          0.1856709370513272
         ]
        },
        {
         "mode": "text",
         "text": [
          "17.62"
         ],
         "textfont": {
          "color": "blue",
          "size": 12
         },
         "type": "scatter",
         "x": [
          1.879705786705017
         ],
         "y": [
          0.3671870529651642
         ]
        },
        {
         "mode": "text",
         "text": [
          "-4.28"
         ],
         "textfont": {
          "color": "red",
          "size": 12
         },
         "type": "scatter",
         "x": [
          0.5575712397694588
         ],
         "y": [
          1.9314018487930298
         ]
        },
        {
         "mode": "text",
         "text": [
          "-8.06"
         ],
         "textfont": {
          "color": "red",
          "size": 12
         },
         "type": "scatter",
         "x": [
          0.6219505816698074
         ],
         "y": [
          1.798900544643402
         ]
        },
        {
         "mode": "text",
         "text": [
          "-8.32"
         ],
         "textfont": {
          "color": "red",
          "size": 12
         },
         "type": "scatter",
         "x": [
          0.6874623596668243
         ],
         "y": [
          1.9287902414798737
         ]
        },
        {
         "mode": "text",
         "text": [
          "-3.16"
         ],
         "textfont": {
          "color": "red",
          "size": 12
         },
         "type": "scatter",
         "x": [
          0.3396732062101364
         ],
         "y": [
          1.6539649367332458
         ]
        },
        {
         "mode": "text",
         "text": [
          "-3.72"
         ],
         "textfont": {
          "color": "red",
          "size": 12
         },
         "type": "scatter",
         "x": [
          0.36622443050146103
         ],
         "y": [
          1.5315714180469513
         ]
        },
        {
         "mode": "text",
         "text": [
          "-6.27"
         ],
         "textfont": {
          "color": "red",
          "size": 12
         },
         "type": "scatter",
         "x": [
          0.47328611463308334
         ],
         "y": [
          1.6090845465660095
         ]
        },
        {
         "mode": "text",
         "text": [
          "-2.58"
         ],
         "textfont": {
          "color": "red",
          "size": 12
         },
         "type": "scatter",
         "x": [
          0.4766102358698845
         ],
         "y": [
          0.7983813583850861
         ]
        },
        {
         "mode": "text",
         "text": [
          "-2.14"
         ],
         "textfont": {
          "color": "red",
          "size": 12
         },
         "type": "scatter",
         "x": [
          0.4013950750231743
         ],
         "y": [
          0.9346870332956314
         ]
        },
        {
         "mode": "text",
         "text": [
          "-1.03"
         ],
         "textfont": {
          "color": "red",
          "size": 12
         },
         "type": "scatter",
         "x": [
          0.34552209079265594
         ],
         "y": [
          0.8169693499803543
         ]
        }
       ],
       "layout": {
        "autosize": true,
        "showlegend": false,
        "template": {
         "data": {
          "bar": [
           {
            "error_x": {
             "color": "#2a3f5f"
            },
            "error_y": {
             "color": "#2a3f5f"
            },
            "marker": {
             "line": {
              "color": "#E5ECF6",
              "width": 0.5
             },
             "pattern": {
              "fillmode": "overlay",
              "size": 10,
              "solidity": 0.2
             }
            },
            "type": "bar"
           }
          ],
          "barpolar": [
           {
            "marker": {
             "line": {
              "color": "#E5ECF6",
              "width": 0.5
             },
             "pattern": {
              "fillmode": "overlay",
              "size": 10,
              "solidity": 0.2
             }
            },
            "type": "barpolar"
           }
          ],
          "carpet": [
           {
            "aaxis": {
             "endlinecolor": "#2a3f5f",
             "gridcolor": "white",
             "linecolor": "white",
             "minorgridcolor": "white",
             "startlinecolor": "#2a3f5f"
            },
            "baxis": {
             "endlinecolor": "#2a3f5f",
             "gridcolor": "white",
             "linecolor": "white",
             "minorgridcolor": "white",
             "startlinecolor": "#2a3f5f"
            },
            "type": "carpet"
           }
          ],
          "choropleth": [
           {
            "colorbar": {
             "outlinewidth": 0,
             "ticks": ""
            },
            "type": "choropleth"
           }
          ],
          "contour": [
           {
            "colorbar": {
             "outlinewidth": 0,
             "ticks": ""
            },
            "colorscale": [
             [
              0,
              "#0d0887"
             ],
             [
              0.1111111111111111,
              "#46039f"
             ],
             [
              0.2222222222222222,
              "#7201a8"
             ],
             [
              0.3333333333333333,
              "#9c179e"
             ],
             [
              0.4444444444444444,
              "#bd3786"
             ],
             [
              0.5555555555555556,
              "#d8576b"
             ],
             [
              0.6666666666666666,
              "#ed7953"
             ],
             [
              0.7777777777777778,
              "#fb9f3a"
             ],
             [
              0.8888888888888888,
              "#fdca26"
             ],
             [
              1,
              "#f0f921"
             ]
            ],
            "type": "contour"
           }
          ],
          "contourcarpet": [
           {
            "colorbar": {
             "outlinewidth": 0,
             "ticks": ""
            },
            "type": "contourcarpet"
           }
          ],
          "heatmap": [
           {
            "colorbar": {
             "outlinewidth": 0,
             "ticks": ""
            },
            "colorscale": [
             [
              0,
              "#0d0887"
             ],
             [
              0.1111111111111111,
              "#46039f"
             ],
             [
              0.2222222222222222,
              "#7201a8"
             ],
             [
              0.3333333333333333,
              "#9c179e"
             ],
             [
              0.4444444444444444,
              "#bd3786"
             ],
             [
              0.5555555555555556,
              "#d8576b"
             ],
             [
              0.6666666666666666,
              "#ed7953"
             ],
             [
              0.7777777777777778,
              "#fb9f3a"
             ],
             [
              0.8888888888888888,
              "#fdca26"
             ],
             [
              1,
              "#f0f921"
             ]
            ],
            "type": "heatmap"
           }
          ],
          "heatmapgl": [
           {
            "colorbar": {
             "outlinewidth": 0,
             "ticks": ""
            },
            "colorscale": [
             [
              0,
              "#0d0887"
             ],
             [
              0.1111111111111111,
              "#46039f"
             ],
             [
              0.2222222222222222,
              "#7201a8"
             ],
             [
              0.3333333333333333,
              "#9c179e"
             ],
             [
              0.4444444444444444,
              "#bd3786"
             ],
             [
              0.5555555555555556,
              "#d8576b"
             ],
             [
              0.6666666666666666,
              "#ed7953"
             ],
             [
              0.7777777777777778,
              "#fb9f3a"
             ],
             [
              0.8888888888888888,
              "#fdca26"
             ],
             [
              1,
              "#f0f921"
             ]
            ],
            "type": "heatmapgl"
           }
          ],
          "histogram": [
           {
            "marker": {
             "pattern": {
              "fillmode": "overlay",
              "size": 10,
              "solidity": 0.2
             }
            },
            "type": "histogram"
           }
          ],
          "histogram2d": [
           {
            "colorbar": {
             "outlinewidth": 0,
             "ticks": ""
            },
            "colorscale": [
             [
              0,
              "#0d0887"
             ],
             [
              0.1111111111111111,
              "#46039f"
             ],
             [
              0.2222222222222222,
              "#7201a8"
             ],
             [
              0.3333333333333333,
              "#9c179e"
             ],
             [
              0.4444444444444444,
              "#bd3786"
             ],
             [
              0.5555555555555556,
              "#d8576b"
             ],
             [
              0.6666666666666666,
              "#ed7953"
             ],
             [
              0.7777777777777778,
              "#fb9f3a"
             ],
             [
              0.8888888888888888,
              "#fdca26"
             ],
             [
              1,
              "#f0f921"
             ]
            ],
            "type": "histogram2d"
           }
          ],
          "histogram2dcontour": [
           {
            "colorbar": {
             "outlinewidth": 0,
             "ticks": ""
            },
            "colorscale": [
             [
              0,
              "#0d0887"
             ],
             [
              0.1111111111111111,
              "#46039f"
             ],
             [
              0.2222222222222222,
              "#7201a8"
             ],
             [
              0.3333333333333333,
              "#9c179e"
             ],
             [
              0.4444444444444444,
              "#bd3786"
             ],
             [
              0.5555555555555556,
              "#d8576b"
             ],
             [
              0.6666666666666666,
              "#ed7953"
             ],
             [
              0.7777777777777778,
              "#fb9f3a"
             ],
             [
              0.8888888888888888,
              "#fdca26"
             ],
             [
              1,
              "#f0f921"
             ]
            ],
            "type": "histogram2dcontour"
           }
          ],
          "mesh3d": [
           {
            "colorbar": {
             "outlinewidth": 0,
             "ticks": ""
            },
            "type": "mesh3d"
           }
          ],
          "parcoords": [
           {
            "line": {
             "colorbar": {
              "outlinewidth": 0,
              "ticks": ""
             }
            },
            "type": "parcoords"
           }
          ],
          "pie": [
           {
            "automargin": true,
            "type": "pie"
           }
          ],
          "scatter": [
           {
            "fillpattern": {
             "fillmode": "overlay",
             "size": 10,
             "solidity": 0.2
            },
            "type": "scatter"
           }
          ],
          "scatter3d": [
           {
            "line": {
             "colorbar": {
              "outlinewidth": 0,
              "ticks": ""
             }
            },
            "marker": {
             "colorbar": {
              "outlinewidth": 0,
              "ticks": ""
             }
            },
            "type": "scatter3d"
           }
          ],
          "scattercarpet": [
           {
            "marker": {
             "colorbar": {
              "outlinewidth": 0,
              "ticks": ""
             }
            },
            "type": "scattercarpet"
           }
          ],
          "scattergeo": [
           {
            "marker": {
             "colorbar": {
              "outlinewidth": 0,
              "ticks": ""
             }
            },
            "type": "scattergeo"
           }
          ],
          "scattergl": [
           {
            "marker": {
             "colorbar": {
              "outlinewidth": 0,
              "ticks": ""
             }
            },
            "type": "scattergl"
           }
          ],
          "scattermapbox": [
           {
            "marker": {
             "colorbar": {
              "outlinewidth": 0,
              "ticks": ""
             }
            },
            "type": "scattermapbox"
           }
          ],
          "scatterpolar": [
           {
            "marker": {
             "colorbar": {
              "outlinewidth": 0,
              "ticks": ""
             }
            },
            "type": "scatterpolar"
           }
          ],
          "scatterpolargl": [
           {
            "marker": {
             "colorbar": {
              "outlinewidth": 0,
              "ticks": ""
             }
            },
            "type": "scatterpolargl"
           }
          ],
          "scatterternary": [
           {
            "marker": {
             "colorbar": {
              "outlinewidth": 0,
              "ticks": ""
             }
            },
            "type": "scatterternary"
           }
          ],
          "surface": [
           {
            "colorbar": {
             "outlinewidth": 0,
             "ticks": ""
            },
            "colorscale": [
             [
              0,
              "#0d0887"
             ],
             [
              0.1111111111111111,
              "#46039f"
             ],
             [
              0.2222222222222222,
              "#7201a8"
             ],
             [
              0.3333333333333333,
              "#9c179e"
             ],
             [
              0.4444444444444444,
              "#bd3786"
             ],
             [
              0.5555555555555556,
              "#d8576b"
             ],
             [
              0.6666666666666666,
              "#ed7953"
             ],
             [
              0.7777777777777778,
              "#fb9f3a"
             ],
             [
              0.8888888888888888,
              "#fdca26"
             ],
             [
              1,
              "#f0f921"
             ]
            ],
            "type": "surface"
           }
          ],
          "table": [
           {
            "cells": {
             "fill": {
              "color": "#EBF0F8"
             },
             "line": {
              "color": "white"
             }
            },
            "header": {
             "fill": {
              "color": "#C8D4E3"
             },
             "line": {
              "color": "white"
             }
            },
            "type": "table"
           }
          ]
         },
         "layout": {
          "annotationdefaults": {
           "arrowcolor": "#2a3f5f",
           "arrowhead": 0,
           "arrowwidth": 1
          },
          "autotypenumbers": "strict",
          "coloraxis": {
           "colorbar": {
            "outlinewidth": 0,
            "ticks": ""
           }
          },
          "colorscale": {
           "diverging": [
            [
             0,
             "#8e0152"
            ],
            [
             0.1,
             "#c51b7d"
            ],
            [
             0.2,
             "#de77ae"
            ],
            [
             0.3,
             "#f1b6da"
            ],
            [
             0.4,
             "#fde0ef"
            ],
            [
             0.5,
             "#f7f7f7"
            ],
            [
             0.6,
             "#e6f5d0"
            ],
            [
             0.7,
             "#b8e186"
            ],
            [
             0.8,
             "#7fbc41"
            ],
            [
             0.9,
             "#4d9221"
            ],
            [
             1,
             "#276419"
            ]
           ],
           "sequential": [
            [
             0,
             "#0d0887"
            ],
            [
             0.1111111111111111,
             "#46039f"
            ],
            [
             0.2222222222222222,
             "#7201a8"
            ],
            [
             0.3333333333333333,
             "#9c179e"
            ],
            [
             0.4444444444444444,
             "#bd3786"
            ],
            [
             0.5555555555555556,
             "#d8576b"
            ],
            [
             0.6666666666666666,
             "#ed7953"
            ],
            [
             0.7777777777777778,
             "#fb9f3a"
            ],
            [
             0.8888888888888888,
             "#fdca26"
            ],
            [
             1,
             "#f0f921"
            ]
           ],
           "sequentialminus": [
            [
             0,
             "#0d0887"
            ],
            [
             0.1111111111111111,
             "#46039f"
            ],
            [
             0.2222222222222222,
             "#7201a8"
            ],
            [
             0.3333333333333333,
             "#9c179e"
            ],
            [
             0.4444444444444444,
             "#bd3786"
            ],
            [
             0.5555555555555556,
             "#d8576b"
            ],
            [
             0.6666666666666666,
             "#ed7953"
            ],
            [
             0.7777777777777778,
             "#fb9f3a"
            ],
            [
             0.8888888888888888,
             "#fdca26"
            ],
            [
             1,
             "#f0f921"
            ]
           ]
          },
          "colorway": [
           "#636efa",
           "#EF553B",
           "#00cc96",
           "#ab63fa",
           "#FFA15A",
           "#19d3f3",
           "#FF6692",
           "#B6E880",
           "#FF97FF",
           "#FECB52"
          ],
          "font": {
           "color": "#2a3f5f"
          },
          "geo": {
           "bgcolor": "white",
           "lakecolor": "white",
           "landcolor": "#E5ECF6",
           "showlakes": true,
           "showland": true,
           "subunitcolor": "white"
          },
          "hoverlabel": {
           "align": "left"
          },
          "hovermode": "closest",
          "mapbox": {
           "style": "light"
          },
          "paper_bgcolor": "white",
          "plot_bgcolor": "#E5ECF6",
          "polar": {
           "angularaxis": {
            "gridcolor": "white",
            "linecolor": "white",
            "ticks": ""
           },
           "bgcolor": "#E5ECF6",
           "radialaxis": {
            "gridcolor": "white",
            "linecolor": "white",
            "ticks": ""
           }
          },
          "scene": {
           "xaxis": {
            "backgroundcolor": "#E5ECF6",
            "gridcolor": "white",
            "gridwidth": 2,
            "linecolor": "white",
            "showbackground": true,
            "ticks": "",
            "zerolinecolor": "white"
           },
           "yaxis": {
            "backgroundcolor": "#E5ECF6",
            "gridcolor": "white",
            "gridwidth": 2,
            "linecolor": "white",
            "showbackground": true,
            "ticks": "",
            "zerolinecolor": "white"
           },
           "zaxis": {
            "backgroundcolor": "#E5ECF6",
            "gridcolor": "white",
            "gridwidth": 2,
            "linecolor": "white",
            "showbackground": true,
            "ticks": "",
            "zerolinecolor": "white"
           }
          },
          "shapedefaults": {
           "line": {
            "color": "#2a3f5f"
           }
          },
          "ternary": {
           "aaxis": {
            "gridcolor": "white",
            "linecolor": "white",
            "ticks": ""
           },
           "baxis": {
            "gridcolor": "white",
            "linecolor": "white",
            "ticks": ""
           },
           "bgcolor": "#E5ECF6",
           "caxis": {
            "gridcolor": "white",
            "linecolor": "white",
            "ticks": ""
           }
          },
          "title": {
           "x": 0.05
          },
          "xaxis": {
           "automargin": true,
           "gridcolor": "white",
           "linecolor": "white",
           "ticks": "",
           "title": {
            "standoff": 15
           },
           "zerolinecolor": "white",
           "zerolinewidth": 2
          },
          "yaxis": {
           "automargin": true,
           "gridcolor": "white",
           "linecolor": "white",
           "ticks": "",
           "title": {
            "standoff": 15
           },
           "zerolinecolor": "white",
           "zerolinewidth": 2
          }
         }
        },
        "title": {
         "text": "nx Values on Quadrilateral Mesh (View: xy, Interactive)"
        },
        "xaxis": {
         "scaleanchor": "y",
         "scaleratio": 1,
         "title": {
          "text": "X"
         }
        },
        "yaxis": {
         "scaleanchor": "x",
         "scaleratio": 1,
         "title": {
          "text": "Y"
         }
        }
       }
      }
     },
     "metadata": {},
     "output_type": "display_data"
    }
   ],
   "source": [
    "# Exemple d'utilisation\n",
    "file_path = r\"sofistik_cdb\\b.cdb\"\n",
    "\n",
    "# DataFrame df_membran_forces doit être défini à l'avance\n",
    "# Afficher les forces normales selon x (nx) dans le plan xy\n",
    "plot_quad_mesh_for(file_path, df_membran_forces, force_column='nx', view_axis='xy')\n",
    "\n",
    "# # Afficher les forces normales selon y (ny) dans le plan xz\n",
    "# plot_quad_mesh_for(file_path, df_membran_forces, force_column='ny', view_axis='xz')"
   ]
  },
  {
   "cell_type": "markdown",
   "metadata": {},
   "source": [
    "## IV. Ajouter des tirants"
   ]
  },
  {
   "cell_type": "code",
   "execution_count": 33,
   "metadata": {},
   "outputs": [],
   "source": [
    "def extremites(Index):\n",
    "    syst = CSYST()\n",
    "    RecLen = c_int(sizeof(CSYST))\n",
    "    ie = c_int(0)\n",
    "    x=[]\n",
    "    while ie.value < 2:\n",
    "        # Lire les données SYST (10/00)\n",
    "        ie.value = py_sof_cdb_get(Index, 10,00, byref(syst), byref(RecLen), 1)\n",
    "        if ie.value ==0:\n",
    "            # Extraction des valeurs de m_box (2x3)\n",
    "            for i in range(3):\n",
    "                for j in range(2):\n",
    "                    x.append(syst.m_box[i][j])\n",
    "            return x"
   ]
  },
  {
   "cell_type": "code",
   "execution_count": 36,
   "metadata": {},
   "outputs": [
    {
     "name": "stdout",
     "output_type": "stream",
     "text": [
      "CDB opened successfully, CDB Status = 3\n",
      "CDB closed successfully, CDB Status = 0\n",
      "CDB opened successfully, CDB Status = 3\n",
      "CDB closed successfully, CDB Status = 0\n"
     ]
    },
    {
     "data": {
      "application/vnd.plotly.v1+json": {
       "config": {
        "plotlyServerURL": "https://plot.ly"
       },
       "data": [
        {
         "line": {
          "color": "black",
          "width": 1
         },
         "mode": "lines",
         "showlegend": false,
         "type": "scatter",
         "x": [
          4.184881210327148,
          4.380903720855713,
          4.484766006469727,
          4.35438346862793,
          4.184881210327148
         ],
         "y": [
          0.8321652412414551,
          0.665602445602417,
          0.7816742062568665,
          0.93611079454422,
          0.8321652412414551
         ]
        },
        {
         "line": {
          "color": "black",
          "width": 1
         },
         "mode": "lines",
         "showlegend": false,
         "type": "scatter",
         "x": [
          4.380903720855713,
          4.529269695281982,
          4.605403900146484,
          4.484766006469727,
          4.380903720855713
         ],
         "y": [
          0.665602445602417,
          0.5404736399650574,
          0.6484557390213013,
          0.7816742062568665,
          0.665602445602417
         ]
        },
        {
         "line": {
          "color": "black",
          "width": 1
         },
         "mode": "lines",
         "showlegend": false,
         "type": "scatter",
         "x": [
          4.605403900146484,
          4.72461462020874,
          4.598024845123291,
          4.484766006469727,
          4.605403900146484
         ],
         "y": [
          0.6484557390213013,
          0.7577979564666748,
          0.8661877512931824,
          0.7816742062568665,
          0.6484557390213013
         ]
        },
        {
         "line": {
          "color": "black",
          "width": 1
         },
         "mode": "lines",
         "showlegend": false,
         "type": "scatter",
         "x": [
          4.598024845123291,
          4.499637603759766,
          4.35438346862793,
          4.484766006469727,
          4.598024845123291
         ],
         "y": [
          0.8661877512931824,
          1.0052365064620972,
          0.93611079454422,
          0.7816742062568665,
          0.8661877512931824
         ]
        },
        {
         "line": {
          "color": "black",
          "width": 1
         },
         "mode": "lines",
         "showlegend": false,
         "type": "scatter",
         "x": [
          1.9366068840026855,
          2.219147205352783,
          2.2291526794433594,
          1.9901713132858276,
          1.9366068840026855
         ],
         "y": [
          0.00018855412781704217,
          0.00021923126769252121,
          0.28612998127937317,
          0.276121586561203,
          0.00018855412781704217
         ]
        },
        {
         "line": {
          "color": "black",
          "width": 1
         },
         "mode": "lines",
         "showlegend": false,
         "type": "scatter",
         "x": [
          2.219147205352783,
          2.5016872882843018,
          2.495232343673706,
          2.2291526794433594,
          2.219147205352783
         ],
         "y": [
          0.00021923126769252121,
          0.00024990839301608503,
          0.30192285776138306,
          0.28612998127937317,
          0.00021923126769252121
         ]
        },
        {
         "line": {
          "color": "black",
          "width": 1
         },
         "mode": "lines",
         "showlegend": false,
         "type": "scatter",
         "x": [
          2.495232343673706,
          2.4818246364593506,
          2.2037031650543213,
          2.2291526794433594,
          2.495232343673706
         ],
         "y": [
          0.30192285776138306,
          0.6158626079559326,
          0.5564764738082886,
          0.28612998127937317,
          0.30192285776138306
         ]
        },
        {
         "line": {
          "color": "black",
          "width": 1
         },
         "mode": "lines",
         "showlegend": false,
         "type": "scatter",
         "x": [
          2.2037031650543213,
          1.9581654071807861,
          1.9901713132858276,
          2.2291526794433594,
          2.2037031650543213
         ],
         "y": [
          0.5564764738082886,
          0.480968713760376,
          0.276121586561203,
          0.28612998127937317,
          0.5564764738082886
         ]
        },
        {
         "line": {
          "color": "black",
          "width": 1
         },
         "mode": "lines",
         "showlegend": false,
         "type": "scatter",
         "x": [
          0.627141535282135,
          0.5283551812171936,
          0.5565705299377441,
          0.6754037737846375,
          0.627141535282135
         ],
         "y": [
          0.36488497257232666,
          0.25586000084877014,
          0.13838030397891998,
          0.17441172897815704,
          0.36488497257232666
         ]
        },
        {
         "line": {
          "color": "black",
          "width": 1
         },
         "mode": "lines",
         "showlegend": false,
         "type": "scatter",
         "x": [
          0.5283551812171936,
          0.44784802198410034,
          0.4447828233242035,
          0.5565705299377441,
          0.5283551812171936
         ],
         "y": [
          0.25586000084877014,
          0.17369678616523743,
          0.10014267265796661,
          0.13838030397891998,
          0.25586000084877014
         ]
        },
        {
         "line": {
          "color": "black",
          "width": 1
         },
         "mode": "lines",
         "showlegend": false,
         "type": "scatter",
         "x": [
          0.4447828233242035,
          0.4152797758579254,
          0.5458481907844543,
          0.5565705299377441,
          0.4447828233242035
         ],
         "y": [
          0.10014267265796661,
          0.000023374253942165524,
          0.00003755087163881399,
          0.13838030397891998,
          0.10014267265796661
         ]
        },
        {
         "line": {
          "color": "black",
          "width": 1
         },
         "mode": "lines",
         "showlegend": false,
         "type": "scatter",
         "x": [
          0.5458481907844543,
          0.6764165759086609,
          0.6754037737846375,
          0.5565705299377441,
          0.5458481907844543
         ],
         "y": [
          0.00003755087163881399,
          0.00005172748933546245,
          0.17441172897815704,
          0.13838030397891998,
          0.00003755087163881399
         ]
        },
        {
         "line": {
          "color": "black",
          "width": 1
         },
         "mode": "lines",
         "showlegend": false,
         "type": "scatter",
         "x": [
          0.627141535282135,
          0.6754037737846375,
          0.8145043849945068,
          0.7956831455230713,
          0.627141535282135
         ],
         "y": [
          0.36488497257232666,
          0.17441172897815704,
          0.17493510246276855,
          0.3563489615917206,
          0.36488497257232666
         ]
        },
        {
         "line": {
          "color": "black",
          "width": 1
         },
         "mode": "lines",
         "showlegend": false,
         "type": "scatter",
         "x": [
          0.6754037737846375,
          0.6764165759086609,
          0.8390675187110901,
          0.8145043849945068,
          0.6754037737846375
         ],
         "y": [
          0.17441172897815704,
          0.00005172748933546245,
          0.0000693875044817105,
          0.17493510246276855,
          0.17441172897815704
         ]
        },
        {
         "line": {
          "color": "black",
          "width": 1
         },
         "mode": "lines",
         "showlegend": false,
         "type": "scatter",
         "x": [
          0.8390675187110901,
          1.001718521118164,
          0.9756912589073181,
          0.8145043849945068,
          0.8390675187110901
         ],
         "y": [
          0.0000693875044817105,
          0.00008704751962795854,
          0.16414402425289154,
          0.17493510246276855,
          0.0000693875044817105
         ]
        },
        {
         "line": {
          "color": "black",
          "width": 1
         },
         "mode": "lines",
         "showlegend": false,
         "type": "scatter",
         "x": [
          0.9756912589073181,
          0.9562130570411682,
          0.7956831455230713,
          0.8145043849945068,
          0.9756912589073181
         ],
         "y": [
          0.16414402425289154,
          0.33940842747688293,
          0.3563489615917206,
          0.17493510246276855,
          0.16414402425289154
         ]
        },
        {
         "line": {
          "color": "black",
          "width": 1
         },
         "mode": "lines",
         "showlegend": false,
         "type": "scatter",
         "x": [
          3.940859079360962,
          3.8619019985198975,
          3.6335062980651855,
          3.6525046825408936,
          3.940859079360962
         ],
         "y": [
          1.4175339937210083,
          1.73337984085083,
          1.7517982721328735,
          1.5292885303497314,
          1.4175339937210083
         ]
        },
        {
         "line": {
          "color": "black",
          "width": 1
         },
         "mode": "lines",
         "showlegend": false,
         "type": "scatter",
         "x": [
          3.8619019985198975,
          3.8241896629333496,
          3.5748698711395264,
          3.6335062980651855,
          3.8619019985198975
         ],
         "y": [
          1.73337984085083,
          2,
          2,
          1.7517982721328735,
          1.73337984085083
         ]
        },
        {
         "line": {
          "color": "black",
          "width": 1
         },
         "mode": "lines",
         "showlegend": false,
         "type": "scatter",
         "x": [
          3.5748698711395264,
          3.325550079345703,
          3.378969192504883,
          3.6335062980651855,
          3.5748698711395264
         ],
         "y": [
          2,
          2,
          1.7909590005874634,
          1.7517982721328735,
          2
         ]
        },
        {
         "line": {
          "color": "black",
          "width": 1
         },
         "mode": "lines",
         "showlegend": false,
         "type": "scatter",
         "x": [
          3.378969192504883,
          3.413848876953125,
          3.6525046825408936,
          3.6335062980651855,
          3.378969192504883
         ],
         "y": [
          1.7909590005874634,
          1.5906689167022705,
          1.5292885303497314,
          1.7517982721328735,
          1.7909590005874634
         ]
        },
        {
         "line": {
          "color": "black",
          "width": 1
         },
         "mode": "lines",
         "showlegend": false,
         "type": "scatter",
         "x": [
          3.940859079360962,
          4.126584529876709,
          4.0474724769592285,
          3.8619019985198975,
          3.940859079360962
         ],
         "y": [
          1.4175339937210083,
          1.5954294204711914,
          1.7833279371261597,
          1.73337984085083,
          1.4175339937210083
         ]
        },
        {
         "line": {
          "color": "black",
          "width": 1
         },
         "mode": "lines",
         "showlegend": false,
         "type": "scatter",
         "x": [
          4.126584529876709,
          4.247294902801514,
          4.224693298339844,
          4.0474724769592285,
          4.126584529876709
         ],
         "y": [
          1.5954294204711914,
          1.7250137329101562,
          1.845983624458313,
          1.7833279371261597,
          1.5954294204711914
         ]
        },
        {
         "line": {
          "color": "black",
          "width": 1
         },
         "mode": "lines",
         "showlegend": false,
         "type": "scatter",
         "x": [
          4.224693298339844,
          4.216902256011963,
          4.020545959472656,
          4.0474724769592285,
          4.224693298339844
         ],
         "y": [
          1.845983624458313,
          2,
          2,
          1.7833279371261597,
          1.845983624458313
         ]
        },
        {
         "line": {
          "color": "black",
          "width": 1
         },
         "mode": "lines",
         "showlegend": false,
         "type": "scatter",
         "x": [
          4.020545959472656,
          3.8241896629333496,
          3.8619019985198975,
          4.0474724769592285,
          4.020545959472656
         ],
         "y": [
          2,
          2,
          1.73337984085083,
          1.7833279371261597,
          2
         ]
        },
        {
         "line": {
          "color": "black",
          "width": 1
         },
         "mode": "lines",
         "showlegend": false,
         "type": "scatter",
         "x": [
          1.551755666732788,
          1.8069356679916382,
          2.0429975986480713,
          1.8455408811569214,
          1.551755666732788
         ],
         "y": [
          0.7565462589263916,
          0.6288296580314636,
          0.7485314011573792,
          0.9179932475090027,
          0.7565462589263916
         ]
        },
        {
         "line": {
          "color": "black",
          "width": 1
         },
         "mode": "lines",
         "showlegend": false,
         "type": "scatter",
         "x": [
          1.8069356679916382,
          1.9581654071807861,
          2.2037031650543213,
          2.0429975986480713,
          1.8069356679916382
         ],
         "y": [
          0.6288296580314636,
          0.480968713760376,
          0.5564764738082886,
          0.7485314011573792,
          0.6288296580314636
         ]
        },
        {
         "line": {
          "color": "black",
          "width": 1
         },
         "mode": "lines",
         "showlegend": false,
         "type": "scatter",
         "x": [
          2.2037031650543213,
          2.4818246364593506,
          2.29817271232605,
          2.0429975986480713,
          2.2037031650543213
         ],
         "y": [
          0.5564764738082886,
          0.6158626079559326,
          0.8649904727935791,
          0.7485314011573792,
          0.5564764738082886
         ]
        },
        {
         "line": {
          "color": "black",
          "width": 1
         },
         "mode": "lines",
         "showlegend": false,
         "type": "scatter",
         "x": [
          2.29817271232605,
          2.1369597911834717,
          1.8455408811569214,
          2.0429975986480713,
          2.29817271232605
         ],
         "y": [
          0.8649904727935791,
          1.0944474935531616,
          0.9179932475090027,
          0.7485314011573792,
          0.8649904727935791
         ]
        },
        {
         "line": {
          "color": "black",
          "width": 1
         },
         "mode": "lines",
         "showlegend": false,
         "type": "scatter",
         "x": [
          2.1369597911834717,
          1.881170392036438,
          1.6543995141983032,
          1.8455408811569214,
          2.1369597911834717
         ],
         "y": [
          1.0944474935531616,
          1.2007673978805542,
          1.0701322555541992,
          0.9179932475090027,
          1.0944474935531616
         ]
        },
        {
         "line": {
          "color": "black",
          "width": 1
         },
         "mode": "lines",
         "showlegend": false,
         "type": "scatter",
         "x": [
          1.881170392036438,
          1.6893349885940552,
          1.4776769876480103,
          1.6543995141983032,
          1.881170392036438
         ],
         "y": [
          1.2007673978805542,
          1.329845905303955,
          1.2268623113632202,
          1.0701322555541992,
          1.2007673978805542
         ]
        },
        {
         "line": {
          "color": "black",
          "width": 1
         },
         "mode": "lines",
         "showlegend": false,
         "type": "scatter",
         "x": [
          1.4776769876480103,
          1.2487528324127197,
          1.39943528175354,
          1.6543995141983032,
          1.4776769876480103
         ],
         "y": [
          1.2268623113632202,
          1.1753369569778442,
          0.9716702103614807,
          1.0701322555541992,
          1.2268623113632202
         ]
        },
        {
         "line": {
          "color": "black",
          "width": 1
         },
         "mode": "lines",
         "showlegend": false,
         "type": "scatter",
         "x": [
          1.39943528175354,
          1.551755666732788,
          1.8455408811569214,
          1.6543995141983032,
          1.39943528175354
         ],
         "y": [
          0.9716702103614807,
          0.7565462589263916,
          0.9179932475090027,
          1.0701322555541992,
          0.9716702103614807
         ]
        },
        {
         "line": {
          "color": "black",
          "width": 1
         },
         "mode": "lines",
         "showlegend": false,
         "type": "scatter",
         "x": [
          1.551755666732788,
          1.2197847366333008,
          1.1891976594924927,
          1.4259897470474243,
          1.551755666732788
         ],
         "y": [
          0.7565462589263916,
          0.7356423735618591,
          0.5400145649909973,
          0.535866379737854,
          0.7565462589263916
         ]
        },
        {
         "line": {
          "color": "black",
          "width": 1
         },
         "mode": "lines",
         "showlegend": false,
         "type": "scatter",
         "x": [
          1.2197847366333008,
          0.9549516439437866,
          0.9622323513031006,
          1.1891976594924927,
          1.2197847366333008
         ],
         "y": [
          0.7356423735618591,
          0.7246973514556885,
          0.5287277102470398,
          0.5400145649909973,
          0.7356423735618591
         ]
        },
        {
         "line": {
          "color": "black",
          "width": 1
         },
         "mode": "lines",
         "showlegend": false,
         "type": "scatter",
         "x": [
          0.9622323513031006,
          0.9562130570411682,
          1.137257695198059,
          1.1891976594924927,
          0.9622323513031006
         ],
         "y": [
          0.5287277102470398,
          0.33940842747688293,
          0.34151342511177063,
          0.5400145649909973,
          0.5287277102470398
         ]
        },
        {
         "line": {
          "color": "black",
          "width": 1
         },
         "mode": "lines",
         "showlegend": false,
         "type": "scatter",
         "x": [
          1.137257695198059,
          1.3543840646743774,
          1.4259897470474243,
          1.1891976594924927,
          1.137257695198059
         ],
         "y": [
          0.34151342511177063,
          0.3446437418460846,
          0.535866379737854,
          0.5400145649909973,
          0.34151342511177063
         ]
        },
        {
         "line": {
          "color": "black",
          "width": 1
         },
         "mode": "lines",
         "showlegend": false,
         "type": "scatter",
         "x": [
          1.551755666732788,
          1.39943528175354,
          1.1353398561477661,
          1.2197847366333008,
          1.551755666732788
         ],
         "y": [
          0.7565462589263916,
          0.9716702103614807,
          0.9431365728378296,
          0.7356423735618591,
          0.7565462589263916
         ]
        },
        {
         "line": {
          "color": "black",
          "width": 1
         },
         "mode": "lines",
         "showlegend": false,
         "type": "scatter",
         "x": [
          1.39943528175354,
          1.2487528324127197,
          1.0133227109909058,
          1.1353398561477661,
          1.39943528175354
         ],
         "y": [
          0.9716702103614807,
          1.1753369569778442,
          1.1578656435012817,
          0.9431365728378296,
          0.9716702103614807
         ]
        },
        {
         "line": {
          "color": "black",
          "width": 1
         },
         "mode": "lines",
         "showlegend": false,
         "type": "scatter",
         "x": [
          1.0133227109909058,
          0.7919260263442993,
          0.8842635750770569,
          1.1353398561477661,
          1.0133227109909058
         ],
         "y": [
          1.1578656435012817,
          1.1481053829193115,
          0.9308021068572998,
          0.9431365728378296,
          1.1578656435012817
         ]
        },
        {
         "line": {
          "color": "black",
          "width": 1
         },
         "mode": "lines",
         "showlegend": false,
         "type": "scatter",
         "x": [
          0.8842635750770569,
          0.9549516439437866,
          1.2197847366333008,
          1.1353398561477661,
          0.8842635750770569
         ],
         "y": [
          0.9308021068572998,
          0.7246973514556885,
          0.7356423735618591,
          0.9431365728378296,
          0.9308021068572998
         ]
        },
        {
         "line": {
          "color": "black",
          "width": 1
         },
         "mode": "lines",
         "showlegend": false,
         "type": "scatter",
         "x": [
          4.43840217590332,
          4.602313995361328,
          4.631857872009277,
          4.483864784240723,
          4.43840217590332
         ],
         "y": [
          1.355120062828064,
          1.392114281654358,
          1.5589481592178345,
          1.5376546382904053,
          1.355120062828064
         ]
        },
        {
         "line": {
          "color": "black",
          "width": 1
         },
         "mode": "lines",
         "showlegend": false,
         "type": "scatter",
         "x": [
          4.602313995361328,
          4.75515079498291,
          4.76946496963501,
          4.631857872009277,
          4.602313995361328
         ],
         "y": [
          1.392114281654358,
          1.441074013710022,
          1.5914140939712524,
          1.5589481592178345,
          1.392114281654358
         ]
        },
        {
         "line": {
          "color": "black",
          "width": 1
         },
         "mode": "lines",
         "showlegend": false,
         "type": "scatter",
         "x": [
          4.76946496963501,
          4.782020568847656,
          4.666162967681885,
          4.631857872009277,
          4.76946496963501
         ],
         "y": [
          1.5914140939712524,
          1.734816312789917,
          1.720773696899414,
          1.5589481592178345,
          1.5914140939712524
         ]
        },
        {
         "line": {
          "color": "black",
          "width": 1
         },
         "mode": "lines",
         "showlegend": false,
         "type": "scatter",
         "x": [
          4.666162967681885,
          4.535280227661133,
          4.483864784240723,
          4.631857872009277,
          4.666162967681885
         ],
         "y": [
          1.720773696899414,
          1.7101585865020752,
          1.5376546382904053,
          1.5589481592178345,
          1.720773696899414
         ]
        },
        {
         "line": {
          "color": "black",
          "width": 1
         },
         "mode": "lines",
         "showlegend": false,
         "type": "scatter",
         "x": [
          4.535280227661133,
          4.386842727661133,
          4.300418376922607,
          4.483864784240723,
          4.535280227661133
         ],
         "y": [
          1.7101585865020752,
          1.711348533630371,
          1.5402913093566895,
          1.5376546382904053,
          1.7101585865020752
         ]
        },
        {
         "line": {
          "color": "black",
          "width": 1
         },
         "mode": "lines",
         "showlegend": false,
         "type": "scatter",
         "x": [
          4.386842727661133,
          4.247294902801514,
          4.126584529876709,
          4.300418376922607,
          4.386842727661133
         ],
         "y": [
          1.711348533630371,
          1.7250137329101562,
          1.5954294204711914,
          1.5402913093566895,
          1.711348533630371
         ]
        },
        {
         "line": {
          "color": "black",
          "width": 1
         },
         "mode": "lines",
         "showlegend": false,
         "type": "scatter",
         "x": [
          4.126584529876709,
          3.940859079360962,
          4.225057601928711,
          4.300418376922607,
          4.126584529876709
         ],
         "y": [
          1.5954294204711914,
          1.4175339937210083,
          1.3516608476638794,
          1.5402913093566895,
          1.5954294204711914
         ]
        },
        {
         "line": {
          "color": "black",
          "width": 1
         },
         "mode": "lines",
         "showlegend": false,
         "type": "scatter",
         "x": [
          4.225057601928711,
          4.43840217590332,
          4.483864784240723,
          4.300418376922607,
          4.225057601928711
         ],
         "y": [
          1.3516608476638794,
          1.355120062828064,
          1.5376546382904053,
          1.5402913093566895,
          1.3516608476638794
         ]
        },
        {
         "line": {
          "color": "black",
          "width": 1
         },
         "mode": "lines",
         "showlegend": false,
         "type": "scatter",
         "x": [
          2.1369597911834717,
          2.4489808082580566,
          2.5336923599243164,
          2.271019458770752,
          2.1369597911834717
         ],
         "y": [
          1.0944474935531616,
          1.1492185592651367,
          1.3594499826431274,
          1.352016568183899,
          1.0944474935531616
         ]
        },
        {
         "line": {
          "color": "black",
          "width": 1
         },
         "mode": "lines",
         "showlegend": false,
         "type": "scatter",
         "x": [
          2.4489808082580566,
          2.6594648361206055,
          2.7669410705566406,
          2.5336923599243164,
          2.4489808082580566
         ],
         "y": [
          1.1492185592651367,
          1.1856552362442017,
          1.3507217168807983,
          1.3594499826431274,
          1.1492185592651367
         ]
        },
        {
         "line": {
          "color": "black",
          "width": 1
         },
         "mode": "lines",
         "showlegend": false,
         "type": "scatter",
         "x": [
          2.7669410705566406,
          2.911543130874634,
          2.6302239894866943,
          2.5336923599243164,
          2.7669410705566406
         ],
         "y": [
          1.3507217168807983,
          1.556293249130249,
          1.5787913799285889,
          1.3594499826431274,
          1.3507217168807983
         ]
        },
        {
         "line": {
          "color": "black",
          "width": 1
         },
         "mode": "lines",
         "showlegend": false,
         "type": "scatter",
         "x": [
          2.6302239894866943,
          2.360090732574463,
          2.271019458770752,
          2.5336923599243164,
          2.6302239894866943
         ],
         "y": [
          1.5787913799285889,
          1.5773155689239502,
          1.352016568183899,
          1.3594499826431274,
          1.5787913799285889
         ]
        },
        {
         "line": {
          "color": "black",
          "width": 1
         },
         "mode": "lines",
         "showlegend": false,
         "type": "scatter",
         "x": [
          2.360090732574463,
          2.1305150985717773,
          2.038115978240967,
          2.271019458770752,
          2.360090732574463
         ],
         "y": [
          1.5773155689239502,
          1.583219289779663,
          1.3851202726364136,
          1.352016568183899,
          1.5773155689239502
         ]
        },
        {
         "line": {
          "color": "black",
          "width": 1
         },
         "mode": "lines",
         "showlegend": false,
         "type": "scatter",
         "x": [
          2.1305150985717773,
          1.936989188194275,
          1.8386987447738647,
          2.038115978240967,
          2.1305150985717773
         ],
         "y": [
          1.583219289779663,
          1.5932351350784302,
          1.4585894346237183,
          1.3851202726364136,
          1.583219289779663
         ]
        },
        {
         "line": {
          "color": "black",
          "width": 1
         },
         "mode": "lines",
         "showlegend": false,
         "type": "scatter",
         "x": [
          1.8386987447738647,
          1.6893349885940552,
          1.881170392036438,
          2.038115978240967,
          1.8386987447738647
         ],
         "y": [
          1.4585894346237183,
          1.329845905303955,
          1.2007673978805542,
          1.3851202726364136,
          1.4585894346237183
         ]
        },
        {
         "line": {
          "color": "black",
          "width": 1
         },
         "mode": "lines",
         "showlegend": false,
         "type": "scatter",
         "x": [
          1.881170392036438,
          2.1369597911834717,
          2.271019458770752,
          2.038115978240967,
          1.881170392036438
         ],
         "y": [
          1.2007673978805542,
          1.0944474935531616,
          1.352016568183899,
          1.3851202726364136,
          1.2007673978805542
         ]
        },
        {
         "line": {
          "color": "black",
          "width": 1
         },
         "mode": "lines",
         "showlegend": false,
         "type": "scatter",
         "x": [
          5,
          4.893603324890137,
          4.893519878387451,
          5,
          5
         ],
         "y": [
          2,
          2,
          1.8816883563995361,
          1.891655683517456,
          2
         ]
        },
        {
         "line": {
          "color": "black",
          "width": 1
         },
         "mode": "lines",
         "showlegend": false,
         "type": "scatter",
         "x": [
          4.893603324890137,
          4.787206172943115,
          4.7866692543029785,
          4.893519878387451,
          4.893603324890137
         ],
         "y": [
          2,
          2,
          1.8726979494094849,
          1.8816883563995361,
          2
         ]
        },
        {
         "line": {
          "color": "black",
          "width": 1
         },
         "mode": "lines",
         "showlegend": false,
         "type": "scatter",
         "x": [
          4.7866692543029785,
          4.782020568847656,
          4.895113468170166,
          4.893519878387451,
          4.7866692543029785
         ],
         "y": [
          1.8726979494094849,
          1.734816312789917,
          1.7575656175613403,
          1.8816883563995361,
          1.8726979494094849
         ]
        },
        {
         "line": {
          "color": "black",
          "width": 1
         },
         "mode": "lines",
         "showlegend": false,
         "type": "scatter",
         "x": [
          4.895113468170166,
          5,
          5,
          4.893519878387451,
          4.895113468170166
         ],
         "y": [
          1.7575656175613403,
          1.7833114862442017,
          1.891655683517456,
          1.8816883563995361,
          1.7575656175613403
         ]
        },
        {
         "line": {
          "color": "black",
          "width": 1
         },
         "mode": "lines",
         "showlegend": false,
         "type": "scatter",
         "x": [
          4.782020568847656,
          4.7866692543029785,
          4.666573524475098,
          4.666162967681885,
          4.782020568847656
         ],
         "y": [
          1.734816312789917,
          1.8726979494094849,
          1.864461898803711,
          1.720773696899414,
          1.734816312789917
         ]
        },
        {
         "line": {
          "color": "black",
          "width": 1
         },
         "mode": "lines",
         "showlegend": false,
         "type": "scatter",
         "x": [
          4.7866692543029785,
          4.787206172943115,
          4.66032075881958,
          4.666573524475098,
          4.7866692543029785
         ],
         "y": [
          1.8726979494094849,
          2,
          2,
          1.864461898803711,
          1.8726979494094849
         ]
        },
        {
         "line": {
          "color": "black",
          "width": 1
         },
         "mode": "lines",
         "showlegend": false,
         "type": "scatter",
         "x": [
          4.66032075881958,
          4.533434867858887,
          4.543323993682861,
          4.666573524475098,
          4.66032075881958
         ],
         "y": [
          2,
          2,
          1.8604501485824585,
          1.864461898803711,
          2
         ]
        },
        {
         "line": {
          "color": "black",
          "width": 1
         },
         "mode": "lines",
         "showlegend": false,
         "type": "scatter",
         "x": [
          4.543323993682861,
          4.535280227661133,
          4.666162967681885,
          4.666573524475098,
          4.543323993682861
         ],
         "y": [
          1.8604501485824585,
          1.7101585865020752,
          1.720773696899414,
          1.864461898803711,
          1.8604501485824585
         ]
        },
        {
         "line": {
          "color": "black",
          "width": 1
         },
         "mode": "lines",
         "showlegend": false,
         "type": "scatter",
         "x": [
          4.805062294006348,
          4.902531147003174,
          4.8997273445129395,
          4.793791770935059,
          4.805062294006348
         ],
         "y": [
          0.0005000000237487257,
          0.0002500000118743628,
          0.09949824213981628,
          0.09455347061157227,
          0.0005000000237487257
         ]
        },
        {
         "line": {
          "color": "black",
          "width": 1
         },
         "mode": "lines",
         "showlegend": false,
         "type": "scatter",
         "x": [
          4.902531147003174,
          5,
          5,
          4.8997273445129395,
          4.902531147003174
         ],
         "y": [
          0.0002500000118743628,
          0,
          0.1072549894452095,
          0.09949824213981628,
          0.0002500000118743628
         ]
        },
        {
         "line": {
          "color": "black",
          "width": 1
         },
         "mode": "lines",
         "showlegend": false,
         "type": "scatter",
         "x": [
          5,
          5,
          4.896488189697266,
          4.8997273445129395,
          5
         ],
         "y": [
          0.1072549894452095,
          0.214509978890419,
          0.2028699666261673,
          0.09949824213981628,
          0.1072549894452095
         ]
        },
        {
         "line": {
          "color": "black",
          "width": 1
         },
         "mode": "lines",
         "showlegend": false,
         "type": "scatter",
         "x": [
          4.896488189697266,
          4.786237716674805,
          4.793791770935059,
          4.8997273445129395,
          4.896488189697266
         ],
         "y": [
          0.2028699666261673,
          0.19695256650447845,
          0.09455347061157227,
          0.09949824213981628,
          0.2028699666261673
         ]
        },
        {
         "line": {
          "color": "black",
          "width": 1
         },
         "mode": "lines",
         "showlegend": false,
         "type": "scatter",
         "x": [
          0.20000000298023224,
          0.2164989858865738,
          0.10654068738222122,
          0.10000000149011612,
          0.20000000298023224
         ],
         "y": [
          0,
          0.08124599605798721,
          0.09491124004125595,
          0,
          0
         ]
        },
        {
         "line": {
          "color": "black",
          "width": 1
         },
         "mode": "lines",
         "showlegend": false,
         "type": "scatter",
         "x": [
          0.2164989858865738,
          0.2351664900779724,
          0.11642993986606598,
          0.10654068738222122,
          0.2164989858865738
         ],
         "y": [
          0.08124599605798721,
          0.16964052617549896,
          0.19296982884407043,
          0.09491124004125595,
          0.08124599605798721
         ]
        },
        {
         "line": {
          "color": "black",
          "width": 1
         },
         "mode": "lines",
         "showlegend": false,
         "type": "scatter",
         "x": [
          0.11642993986606598,
          0,
          0,
          0.10654068738222122,
          0.11642993986606598
         ],
         "y": [
          0.19296982884407043,
          0.22043734788894653,
          0.11021867394447327,
          0.09491124004125595,
          0.19296982884407043
         ]
        },
        {
         "line": {
          "color": "black",
          "width": 1
         },
         "mode": "lines",
         "showlegend": false,
         "type": "scatter",
         "x": [
          0,
          0,
          0.10000000149011612,
          0.10654068738222122,
          0
         ],
         "y": [
          0.11021867394447327,
          0,
          0,
          0.09491124004125595,
          0.11021867394447327
         ]
        },
        {
         "line": {
          "color": "black",
          "width": 1
         },
         "mode": "lines",
         "showlegend": false,
         "type": "scatter",
         "x": [
          0,
          0,
          0.12069414556026459,
          0.1063968613743782,
          0
         ],
         "y": [
          2,
          1.8927652835845947,
          1.8765873908996582,
          2,
          2
         ]
        },
        {
         "line": {
          "color": "black",
          "width": 1
         },
         "mode": "lines",
         "showlegend": false,
         "type": "scatter",
         "x": [
          0,
          0,
          0.13206499814987183,
          0.12069414556026459,
          0
         ],
         "y": [
          1.8927652835845947,
          1.785530686378479,
          1.7527475357055664,
          1.8765873908996582,
          1.8927652835845947
         ]
        },
        {
         "line": {
          "color": "black",
          "width": 1
         },
         "mode": "lines",
         "showlegend": false,
         "type": "scatter",
         "x": [
          0.13206499814987183,
          0.26228660345077515,
          0.24429811537265778,
          0.12069414556026459,
          0.13206499814987183
         ],
         "y": [
          1.7527475357055664,
          1.7314345836639404,
          1.8628920316696167,
          1.8765873908996582,
          1.7527475357055664
         ]
        },
        {
         "line": {
          "color": "black",
          "width": 1
         },
         "mode": "lines",
         "showlegend": false,
         "type": "scatter",
         "x": [
          0.24429811537265778,
          0.2127937227487564,
          0.1063968613743782,
          0.12069414556026459,
          0.24429811537265778
         ],
         "y": [
          1.8628920316696167,
          2,
          2,
          1.8765873908996582,
          1.8628920316696167
         ]
        },
        {
         "line": {
          "color": "black",
          "width": 1
         },
         "mode": "lines",
         "showlegend": false,
         "type": "scatter",
         "x": [
          4.535280227661133,
          4.543323993682861,
          4.391932487487793,
          4.386842727661133,
          4.535280227661133
         ],
         "y": [
          1.7101585865020752,
          1.8604501485824585,
          1.8600409030914307,
          1.711348533630371,
          1.7101585865020752
         ]
        },
        {
         "line": {
          "color": "black",
          "width": 1
         },
         "mode": "lines",
         "showlegend": false,
         "type": "scatter",
         "x": [
          4.543323993682861,
          4.533434867858887,
          4.375168800354004,
          4.391932487487793,
          4.543323993682861
         ],
         "y": [
          1.8604501485824585,
          2,
          2,
          1.8600409030914307,
          1.8604501485824585
         ]
        },
        {
         "line": {
          "color": "black",
          "width": 1
         },
         "mode": "lines",
         "showlegend": false,
         "type": "scatter",
         "x": [
          4.375168800354004,
          4.216902256011963,
          4.224693298339844,
          4.391932487487793,
          4.375168800354004
         ],
         "y": [
          2,
          2,
          1.845983624458313,
          1.8600409030914307,
          2
         ]
        },
        {
         "line": {
          "color": "black",
          "width": 1
         },
         "mode": "lines",
         "showlegend": false,
         "type": "scatter",
         "x": [
          4.224693298339844,
          4.247294902801514,
          4.386842727661133,
          4.391932487487793,
          4.224693298339844
         ],
         "y": [
          1.845983624458313,
          1.7250137329101562,
          1.711348533630371,
          1.8600409030914307,
          1.845983624458313
         ]
        },
        {
         "line": {
          "color": "black",
          "width": 1
         },
         "mode": "lines",
         "showlegend": false,
         "type": "scatter",
         "x": [
          0,
          0,
          0.12952397763729095,
          0.13992531597614288,
          0
         ],
         "y": [
          0.49287670850753784,
          0.3566570281982422,
          0.3153744339942932,
          0.45070919394493103,
          0.49287670850753784
         ]
        },
        {
         "line": {
          "color": "black",
          "width": 1
         },
         "mode": "lines",
         "showlegend": false,
         "type": "scatter",
         "x": [
          0,
          0,
          0.11642993986606598,
          0.12952397763729095,
          0
         ],
         "y": [
          0.3566570281982422,
          0.22043734788894653,
          0.19296982884407043,
          0.3153744339942932,
          0.3566570281982422
         ]
        },
        {
         "line": {
          "color": "black",
          "width": 1
         },
         "mode": "lines",
         "showlegend": false,
         "type": "scatter",
         "x": [
          0.11642993986606598,
          0.2351664900779724,
          0.26024454832077026,
          0.12952397763729095,
          0.11642993986606598
         ],
         "y": [
          0.19296982884407043,
          0.16964052617549896,
          0.2798923850059509,
          0.3153744339942932,
          0.19296982884407043
         ]
        },
        {
         "line": {
          "color": "black",
          "width": 1
         },
         "mode": "lines",
         "showlegend": false,
         "type": "scatter",
         "x": [
          0.26024454832077026,
          0.2805204391479492,
          0.13992531597614288,
          0.12952397763729095,
          0.26024454832077026
         ],
         "y": [
          0.2798923850059509,
          0.41729649901390076,
          0.45070919394493103,
          0.3153744339942932,
          0.2798923850059509
         ]
        },
        {
         "line": {
          "color": "black",
          "width": 1
         },
         "mode": "lines",
         "showlegend": false,
         "type": "scatter",
         "x": [
          4.786237716674805,
          4.896488189697266,
          4.892703056335449,
          4.781370639801025,
          4.786237716674805
         ],
         "y": [
          0.19695256650447845,
          0.2028699666261673,
          0.32461246848106384,
          0.310759961605072,
          0.19695256650447845
         ]
        },
        {
         "line": {
          "color": "black",
          "width": 1
         },
         "mode": "lines",
         "showlegend": false,
         "type": "scatter",
         "x": [
          4.896488189697266,
          5,
          5,
          4.892703056335449,
          4.896488189697266
         ],
         "y": [
          0.2028699666261673,
          0.214509978890419,
          0.34727853536605835,
          0.32461246848106384,
          0.2028699666261673
         ]
        },
        {
         "line": {
          "color": "black",
          "width": 1
         },
         "mode": "lines",
         "showlegend": false,
         "type": "scatter",
         "x": [
          5,
          5,
          4.888524055480957,
          4.892703056335449,
          5
         ],
         "y": [
          0.34727853536605835,
          0.4800470769405365,
          0.4602194130420685,
          0.32461246848106384,
          0.34727853536605835
         ]
        },
        {
         "line": {
          "color": "black",
          "width": 1
         },
         "mode": "lines",
         "showlegend": false,
         "type": "scatter",
         "x": [
          4.888524055480957,
          4.777948379516602,
          4.781370639801025,
          4.892703056335449,
          4.888524055480957
         ],
         "y": [
          0.4602194130420685,
          0.44183599948883057,
          0.310759961605072,
          0.32461246848106384,
          0.4602194130420685
         ]
        },
        {
         "line": {
          "color": "black",
          "width": 1
         },
         "mode": "lines",
         "showlegend": false,
         "type": "scatter",
         "x": [
          4.777948379516602,
          4.888524055480957,
          4.87899112701416,
          4.763580322265625,
          4.777948379516602
         ],
         "y": [
          0.44183599948883057,
          0.4602194130420685,
          0.6187060475349426,
          0.5851188898086548,
          0.44183599948883057
         ]
        },
        {
         "line": {
          "color": "black",
          "width": 1
         },
         "mode": "lines",
         "showlegend": false,
         "type": "scatter",
         "x": [
          4.888524055480957,
          5,
          5,
          4.87899112701416,
          4.888524055480957
         ],
         "y": [
          0.4602194130420685,
          0.4800470769405365,
          0.6501006484031677,
          0.6187060475349426,
          0.4602194130420685
         ]
        },
        {
         "line": {
          "color": "black",
          "width": 1
         },
         "mode": "lines",
         "showlegend": false,
         "type": "scatter",
         "x": [
          5,
          5,
          4.8720526695251465,
          4.87899112701416,
          5
         ],
         "y": [
          0.6501006484031677,
          0.8201542496681213,
          0.7867902517318726,
          0.6187060475349426,
          0.6501006484031677
         ]
        },
        {
         "line": {
          "color": "black",
          "width": 1
         },
         "mode": "lines",
         "showlegend": false,
         "type": "scatter",
         "x": [
          4.8720526695251465,
          4.72461462020874,
          4.763580322265625,
          4.87899112701416,
          4.8720526695251465
         ],
         "y": [
          0.7867902517318726,
          0.7577979564666748,
          0.5851188898086548,
          0.6187060475349426,
          0.7867902517318726
         ]
        },
        {
         "line": {
          "color": "black",
          "width": 1
         },
         "mode": "lines",
         "showlegend": false,
         "type": "scatter",
         "x": [
          0.2587893605232239,
          0.3024592697620392,
          0.15516038239002228,
          0.1318792849779129,
          0.2587893605232239
         ],
         "y": [
          0.7632734775543213,
          0.9197574257850647,
          0.9785031080245972,
          0.8028203248977661,
          0.7632734775543213
         ]
        },
        {
         "line": {
          "color": "black",
          "width": 1
         },
         "mode": "lines",
         "showlegend": false,
         "type": "scatter",
         "x": [
          0.3024592697620392,
          0.39051392674446106,
          0.18049459159374237,
          0.15516038239002228,
          0.3024592697620392
         ],
         "y": [
          0.9197574257850647,
          1.07501220703125,
          1.1455439329147339,
          0.9785031080245972,
          0.9197574257850647
         ]
        },
        {
         "line": {
          "color": "black",
          "width": 1
         },
         "mode": "lines",
         "showlegend": false,
         "type": "scatter",
         "x": [
          0.18049459159374237,
          0,
          0,
          0.15516038239002228,
          0.18049459159374237
         ],
         "y": [
          1.1455439329147339,
          1.2081365585327148,
          1.0209157466888428,
          0.9785031080245972,
          1.1455439329147339
         ]
        },
        {
         "line": {
          "color": "black",
          "width": 1
         },
         "mode": "lines",
         "showlegend": false,
         "type": "scatter",
         "x": [
          0,
          0,
          0.1318792849779129,
          0.15516038239002228,
          0
         ],
         "y": [
          1.0209157466888428,
          0.8336949348449707,
          0.8028203248977661,
          0.9785031080245972,
          1.0209157466888428
         ]
        },
        {
         "line": {
          "color": "black",
          "width": 1
         },
         "mode": "lines",
         "showlegend": false,
         "type": "scatter",
         "x": [
          4.805062294006348,
          4.793791770935059,
          4.678751468658447,
          4.697822570800781,
          4.805062294006348
         ],
         "y": [
          0.0005000000237487257,
          0.09455347061157227,
          0.10983683168888092,
          0.0004883563378825784,
          0.0005000000237487257
         ]
        },
        {
         "line": {
          "color": "black",
          "width": 1
         },
         "mode": "lines",
         "showlegend": false,
         "type": "scatter",
         "x": [
          4.793791770935059,
          4.786237716674805,
          4.664474964141846,
          4.678751468658447,
          4.793791770935059
         ],
         "y": [
          0.09455347061157227,
          0.19695256650447845,
          0.21988070011138916,
          0.10983683168888092,
          0.09455347061157227
         ]
        },
        {
         "line": {
          "color": "black",
          "width": 1
         },
         "mode": "lines",
         "showlegend": false,
         "type": "scatter",
         "x": [
          4.664474964141846,
          4.532685279846191,
          4.556674003601074,
          4.678751468658447,
          4.664474964141846
         ],
         "y": [
          0.21988070011138916,
          0.26613542437553406,
          0.12956446409225464,
          0.10983683168888092,
          0.21988070011138916
         ]
        },
        {
         "line": {
          "color": "black",
          "width": 1
         },
         "mode": "lines",
         "showlegend": false,
         "type": "scatter",
         "x": [
          4.556674003601074,
          4.590582847595215,
          4.697822570800781,
          4.678751468658447,
          4.556674003601074
         ],
         "y": [
          0.12956446409225464,
          0.00047671268112026155,
          0.0004883563378825784,
          0.10983683168888092,
          0.12956446409225464
         ]
        },
        {
         "line": {
          "color": "black",
          "width": 1
         },
         "mode": "lines",
         "showlegend": false,
         "type": "scatter",
         "x": [
          1.419364094734192,
          1.3669102191925049,
          1.164842963218689,
          1.2105412483215332,
          1.419364094734192
         ],
         "y": [
          0.0001323938777204603,
          0.16960975527763367,
          0.16704367101192474,
          0.00010972069867420942,
          0.0001323938777204603
         ]
        },
        {
         "line": {
          "color": "black",
          "width": 1
         },
         "mode": "lines",
         "showlegend": false,
         "type": "scatter",
         "x": [
          1.3669102191925049,
          1.3543840646743774,
          1.137257695198059,
          1.164842963218689,
          1.3669102191925049
         ],
         "y": [
          0.16960975527763367,
          0.3446437418460846,
          0.34151342511177063,
          0.16704367101192474,
          0.16960975527763367
         ]
        },
        {
         "line": {
          "color": "black",
          "width": 1
         },
         "mode": "lines",
         "showlegend": false,
         "type": "scatter",
         "x": [
          1.137257695198059,
          0.9562130570411682,
          0.9756912589073181,
          1.164842963218689,
          1.137257695198059
         ],
         "y": [
          0.34151342511177063,
          0.33940842747688293,
          0.16414402425289154,
          0.16704367101192474,
          0.34151342511177063
         ]
        },
        {
         "line": {
          "color": "black",
          "width": 1
         },
         "mode": "lines",
         "showlegend": false,
         "type": "scatter",
         "x": [
          0.9756912589073181,
          1.001718521118164,
          1.2105412483215332,
          1.164842963218689,
          0.9756912589073181
         ],
         "y": [
          0.16414402425289154,
          0.00008704751962795854,
          0.00010972069867420942,
          0.16704367101192474,
          0.16414402425289154
         ]
        },
        {
         "line": {
          "color": "black",
          "width": 1
         },
         "mode": "lines",
         "showlegend": false,
         "type": "scatter",
         "x": [
          5,
          4.895113468170166,
          4.887653350830078,
          5,
          5
         ],
         "y": [
          1.7833114862442017,
          1.7575656175613403,
          1.6224778890609741,
          1.653494119644165,
          1.7833114862442017
         ]
        },
        {
         "line": {
          "color": "black",
          "width": 1
         },
         "mode": "lines",
         "showlegend": false,
         "type": "scatter",
         "x": [
          4.895113468170166,
          4.782020568847656,
          4.76946496963501,
          4.887653350830078,
          4.895113468170166
         ],
         "y": [
          1.7575656175613403,
          1.734816312789917,
          1.5914140939712524,
          1.6224778890609741,
          1.7575656175613403
         ]
        },
        {
         "line": {
          "color": "black",
          "width": 1
         },
         "mode": "lines",
         "showlegend": false,
         "type": "scatter",
         "x": [
          4.76946496963501,
          4.75515079498291,
          4.881381988525391,
          4.887653350830078,
          4.76946496963501
         ],
         "y": [
          1.5914140939712524,
          1.441074013710022,
          1.479799509048462,
          1.6224778890609741,
          1.5914140939712524
         ]
        },
        {
         "line": {
          "color": "black",
          "width": 1
         },
         "mode": "lines",
         "showlegend": false,
         "type": "scatter",
         "x": [
          4.881381988525391,
          5,
          5,
          4.887653350830078,
          4.881381988525391
         ],
         "y": [
          1.479799509048462,
          1.5236767530441284,
          1.653494119644165,
          1.6224778890609741,
          1.479799509048462
         ]
        },
        {
         "line": {
          "color": "black",
          "width": 1
         },
         "mode": "lines",
         "showlegend": false,
         "type": "scatter",
         "x": [
          0.2587893605232239,
          0.26792219281196594,
          0.43533703684806824,
          0.415022075176239,
          0.2587893605232239
         ],
         "y": [
          0.7632734775543213,
          0.5868734121322632,
          0.5669081807136536,
          0.730919361114502,
          0.7632734775543213
         ]
        },
        {
         "line": {
          "color": "black",
          "width": 1
         },
         "mode": "lines",
         "showlegend": false,
         "type": "scatter",
         "x": [
          0.26792219281196594,
          0.2805204391479492,
          0.4450821578502655,
          0.43533703684806824,
          0.26792219281196594
         ],
         "y": [
          0.5868734121322632,
          0.41729649901390076,
          0.4019414782524109,
          0.5669081807136536,
          0.5868734121322632
         ]
        },
        {
         "line": {
          "color": "black",
          "width": 1
         },
         "mode": "lines",
         "showlegend": false,
         "type": "scatter",
         "x": [
          0.4450821578502655,
          0.627141535282135,
          0.6105673909187317,
          0.43533703684806824,
          0.4450821578502655
         ],
         "y": [
          0.4019414782524109,
          0.36488497257232666,
          0.5541684627532959,
          0.5669081807136536,
          0.4019414782524109
         ]
        },
        {
         "line": {
          "color": "black",
          "width": 1
         },
         "mode": "lines",
         "showlegend": false,
         "type": "scatter",
         "x": [
          0.6105673909187317,
          0.578811764717102,
          0.415022075176239,
          0.43533703684806824,
          0.6105673909187317
         ],
         "y": [
          0.5541684627532959,
          0.7186275720596313,
          0.730919361114502,
          0.5669081807136536,
          0.5541684627532959
         ]
        },
        {
         "line": {
          "color": "black",
          "width": 1
         },
         "mode": "lines",
         "showlegend": false,
         "type": "scatter",
         "x": [
          4.499637603759766,
          4.450838565826416,
          4.259291648864746,
          4.35438346862793,
          4.499637603759766
         ],
         "y": [
          1.0052365064620972,
          1.1682435274124146,
          1.141577124595642,
          0.93611079454422,
          1.0052365064620972
         ]
        },
        {
         "line": {
          "color": "black",
          "width": 1
         },
         "mode": "lines",
         "showlegend": false,
         "type": "scatter",
         "x": [
          4.450838565826416,
          4.43840217590332,
          4.225057601928711,
          4.259291648864746,
          4.450838565826416
         ],
         "y": [
          1.1682435274124146,
          1.355120062828064,
          1.3516608476638794,
          1.141577124595642,
          1.1682435274124146
         ]
        },
        {
         "line": {
          "color": "black",
          "width": 1
         },
         "mode": "lines",
         "showlegend": false,
         "type": "scatter",
         "x": [
          4.225057601928711,
          3.940859079360962,
          4.054696559906006,
          4.259291648864746,
          4.225057601928711
         ],
         "y": [
          1.3516608476638794,
          1.4175339937210083,
          1.1092333793640137,
          1.141577124595642,
          1.3516608476638794
         ]
        },
        {
         "line": {
          "color": "black",
          "width": 1
         },
         "mode": "lines",
         "showlegend": false,
         "type": "scatter",
         "x": [
          4.054696559906006,
          4.184881210327148,
          4.35438346862793,
          4.259291648864746,
          4.054696559906006
         ],
         "y": [
          1.1092333793640137,
          0.8321652412414551,
          0.93611079454422,
          1.141577124595642,
          1.1092333793640137
         ]
        },
        {
         "line": {
          "color": "black",
          "width": 1
         },
         "mode": "lines",
         "showlegend": false,
         "type": "scatter",
         "x": [
          3.066767930984497,
          3.0018398761749268,
          2.7488088607788086,
          2.7842276096343994,
          3.066767930984497
         ],
         "y": [
          0.0003112626727670431,
          0.23839102685451508,
          0.27300557494163513,
          0.0002805855474434793,
          0.0003112626727670431
         ]
        },
        {
         "line": {
          "color": "black",
          "width": 1
         },
         "mode": "lines",
         "showlegend": false,
         "type": "scatter",
         "x": [
          3.0018398761749268,
          2.963808298110962,
          2.7423744201660156,
          2.7488088607788086,
          3.0018398761749268
         ],
         "y": [
          0.23839102685451508,
          0.4604211151599884,
          0.5232980847358704,
          0.27300557494163513,
          0.23839102685451508
         ]
        },
        {
         "line": {
          "color": "black",
          "width": 1
         },
         "mode": "lines",
         "showlegend": false,
         "type": "scatter",
         "x": [
          2.7423744201660156,
          2.4818246364593506,
          2.495232343673706,
          2.7488088607788086,
          2.7423744201660156
         ],
         "y": [
          0.5232980847358704,
          0.6158626079559326,
          0.30192285776138306,
          0.27300557494163513,
          0.5232980847358704
         ]
        },
        {
         "line": {
          "color": "black",
          "width": 1
         },
         "mode": "lines",
         "showlegend": false,
         "type": "scatter",
         "x": [
          2.495232343673706,
          2.5016872882843018,
          2.7842276096343994,
          2.7488088607788086,
          2.495232343673706
         ],
         "y": [
          0.30192285776138306,
          0.00024990839301608503,
          0.0002805855474434793,
          0.27300557494163513,
          0.30192285776138306
         ]
        },
        {
         "line": {
          "color": "black",
          "width": 1
         },
         "mode": "lines",
         "showlegend": false,
         "type": "scatter",
         "x": [
          0.39051392674446106,
          0.5910466909408569,
          0.5295422077178955,
          0.35635045170783997,
          0.39051392674446106
         ],
         "y": [
          1.07501220703125,
          1.1176680326461792,
          1.321131706237793,
          1.27205491065979,
          1.07501220703125
         ]
        },
        {
         "line": {
          "color": "black",
          "width": 1
         },
         "mode": "lines",
         "showlegend": false,
         "type": "scatter",
         "x": [
          0.5910466909408569,
          0.7919260263442993,
          0.7032692432403564,
          0.5295422077178955,
          0.5910466909408569
         ],
         "y": [
          1.1176680326461792,
          1.1481053829193115,
          1.3785207271575928,
          1.321131706237793,
          1.1176680326461792
         ]
        },
        {
         "line": {
          "color": "black",
          "width": 1
         },
         "mode": "lines",
         "showlegend": false,
         "type": "scatter",
         "x": [
          0.7032692432403564,
          0.6195558905601501,
          0.4631172716617584,
          0.5295422077178955,
          0.7032692432403564
         ],
         "y": [
          1.3785207271575928,
          1.6367623805999756,
          1.502655029296875,
          1.321131706237793,
          1.3785207271575928
         ]
        },
        {
         "line": {
          "color": "black",
          "width": 1
         },
         "mode": "lines",
         "showlegend": false,
         "type": "scatter",
         "x": [
          0.4631172716617584,
          0.31884118914604187,
          0.35635045170783997,
          0.5295422077178955,
          0.4631172716617584
         ],
         "y": [
          1.502655029296875,
          1.4385032653808594,
          1.27205491065979,
          1.321131706237793,
          1.502655029296875
         ]
        },
        {
         "line": {
          "color": "black",
          "width": 1
         },
         "mode": "lines",
         "showlegend": false,
         "type": "scatter",
         "x": [
          0.20000000298023224,
          0.3076398968696594,
          0.3285810053348541,
          0.2164989858865738,
          0.20000000298023224
         ],
         "y": [
          0,
          0.000011687126971082762,
          0.08444027602672577,
          0.08124599605798721,
          0
         ]
        },
        {
         "line": {
          "color": "black",
          "width": 1
         },
         "mode": "lines",
         "showlegend": false,
         "type": "scatter",
         "x": [
          0.3076398968696594,
          0.4152797758579254,
          0.4447828233242035,
          0.3285810053348541,
          0.3076398968696594
         ],
         "y": [
          0.000011687126971082762,
          0.000023374253942165524,
          0.10014267265796661,
          0.08444027602672577,
          0.000011687126971082762
         ]
        },
        {
         "line": {
          "color": "black",
          "width": 1
         },
         "mode": "lines",
         "showlegend": false,
         "type": "scatter",
         "x": [
          0.4447828233242035,
          0.44784802198410034,
          0.3566628694534302,
          0.3285810053348541,
          0.4447828233242035
         ],
         "y": [
          0.10014267265796661,
          0.17369678616523743,
          0.17079336941242218,
          0.08444027602672577,
          0.10014267265796661
         ]
        },
        {
         "line": {
          "color": "black",
          "width": 1
         },
         "mode": "lines",
         "showlegend": false,
         "type": "scatter",
         "x": [
          0.3566628694534302,
          0.2351664900779724,
          0.2164989858865738,
          0.3285810053348541,
          0.3566628694534302
         ],
         "y": [
          0.17079336941242218,
          0.16964052617549896,
          0.08124599605798721,
          0.08444027602672577,
          0.17079336941242218
         ]
        },
        {
         "line": {
          "color": "black",
          "width": 1
         },
         "mode": "lines",
         "showlegend": false,
         "type": "scatter",
         "x": [
          5,
          4.881381988525391,
          4.877037048339844,
          5,
          5
         ],
         "y": [
          1.5236767530441284,
          1.479799509048462,
          1.3179378509521484,
          1.361332654953003,
          1.5236767530441284
         ]
        },
        {
         "line": {
          "color": "black",
          "width": 1
         },
         "mode": "lines",
         "showlegend": false,
         "type": "scatter",
         "x": [
          4.881381988525391,
          4.75515079498291,
          4.750809192657471,
          4.877037048339844,
          4.881381988525391
         ],
         "y": [
          1.479799509048462,
          1.441074013710022,
          1.2754547595977783,
          1.3179378509521484,
          1.479799509048462
         ]
        },
        {
         "line": {
          "color": "black",
          "width": 1
         },
         "mode": "lines",
         "showlegend": false,
         "type": "scatter",
         "x": [
          4.750809192657471,
          4.751469135284424,
          4.875009536743164,
          4.877037048339844,
          4.750809192657471
         ],
         "y": [
          1.2754547595977783,
          1.1083425283432007,
          1.147203803062439,
          1.3179378509521484,
          1.2754547595977783
         ]
        },
        {
         "line": {
          "color": "black",
          "width": 1
         },
         "mode": "lines",
         "showlegend": false,
         "type": "scatter",
         "x": [
          4.875009536743164,
          5,
          5,
          4.877037048339844,
          4.875009536743164
         ],
         "y": [
          1.147203803062439,
          1.198988437652588,
          1.361332654953003,
          1.3179378509521484,
          1.147203803062439
         ]
        },
        {
         "line": {
          "color": "black",
          "width": 1
         },
         "mode": "lines",
         "showlegend": false,
         "type": "scatter",
         "x": [
          4.72461462020874,
          4.8720526695251465,
          4.872234344482422,
          4.750705718994141,
          4.72461462020874
         ],
         "y": [
          0.7577979564666748,
          0.7867902517318726,
          0.9658098816871643,
          0.9411253333091736,
          0.7577979564666748
         ]
        },
        {
         "line": {
          "color": "black",
          "width": 1
         },
         "mode": "lines",
         "showlegend": false,
         "type": "scatter",
         "x": [
          4.8720526695251465,
          5,
          5,
          4.872234344482422,
          4.8720526695251465
         ],
         "y": [
          0.7867902517318726,
          0.8201542496681213,
          1.0095713138580322,
          0.9658098816871643,
          0.7867902517318726
         ]
        },
        {
         "line": {
          "color": "black",
          "width": 1
         },
         "mode": "lines",
         "showlegend": false,
         "type": "scatter",
         "x": [
          5,
          5,
          4.875009536743164,
          4.872234344482422,
          5
         ],
         "y": [
          1.0095713138580322,
          1.198988437652588,
          1.147203803062439,
          0.9658098816871643,
          1.0095713138580322
         ]
        },
        {
         "line": {
          "color": "black",
          "width": 1
         },
         "mode": "lines",
         "showlegend": false,
         "type": "scatter",
         "x": [
          4.875009536743164,
          4.751469135284424,
          4.750705718994141,
          4.872234344482422,
          4.875009536743164
         ],
         "y": [
          1.147203803062439,
          1.1083425283432007,
          0.9411253333091736,
          0.9658098816871643,
          1.147203803062439
         ]
        },
        {
         "line": {
          "color": "black",
          "width": 1
         },
         "mode": "lines",
         "showlegend": false,
         "type": "scatter",
         "x": [
          3.5861027240753174,
          3.4880003929138184,
          3.2483572959899902,
          3.3264353275299072,
          3.5861027240753174
         ],
         "y": [
          0.00036765006370842457,
          0.2196473479270935,
          0.22581638395786285,
          0.00033945636823773384,
          0.00036765006370842457
         ]
        },
        {
         "line": {
          "color": "black",
          "width": 1
         },
         "mode": "lines",
         "showlegend": false,
         "type": "scatter",
         "x": [
          3.4880003929138184,
          3.407712697982788,
          3.1774516105651855,
          3.2483572959899902,
          3.4880003929138184
         ],
         "y": [
          0.2196473479270935,
          0.43622931838035583,
          0.4505905508995056,
          0.22581638395786285,
          0.2196473479270935
         ]
        },
        {
         "line": {
          "color": "black",
          "width": 1
         },
         "mode": "lines",
         "showlegend": false,
         "type": "scatter",
         "x": [
          3.1774516105651855,
          2.963808298110962,
          3.0018398761749268,
          3.2483572959899902,
          3.1774516105651855
         ],
         "y": [
          0.4505905508995056,
          0.4604211151599884,
          0.23839102685451508,
          0.22581638395786285,
          0.4505905508995056
         ]
        },
        {
         "line": {
          "color": "black",
          "width": 1
         },
         "mode": "lines",
         "showlegend": false,
         "type": "scatter",
         "x": [
          3.0018398761749268,
          3.066767930984497,
          3.3264353275299072,
          3.2483572959899902,
          3.0018398761749268
         ],
         "y": [
          0.23839102685451508,
          0.0003112626727670431,
          0.00033945636823773384,
          0.22581638395786285,
          0.23839102685451508
         ]
        },
        {
         "line": {
          "color": "black",
          "width": 1
         },
         "mode": "lines",
         "showlegend": false,
         "type": "scatter",
         "x": [
          4.590582847595215,
          4.556674003601074,
          4.420439720153809,
          4.460107326507568,
          4.590582847595215
         ],
         "y": [
          0.00047671268112026155,
          0.12956446409225464,
          0.15340827405452728,
          0.00046254610060714185,
          0.00047671268112026155
         ]
        },
        {
         "line": {
          "color": "black",
          "width": 1
         },
         "mode": "lines",
         "showlegend": false,
         "type": "scatter",
         "x": [
          4.556674003601074,
          4.532685279846191,
          4.388168811798096,
          4.420439720153809,
          4.556674003601074
         ],
         "y": [
          0.12956446409225464,
          0.26613542437553406,
          0.312896192073822,
          0.15340827405452728,
          0.12956446409225464
         ]
        },
        {
         "line": {
          "color": "black",
          "width": 1
         },
         "mode": "lines",
         "showlegend": false,
         "type": "scatter",
         "x": [
          4.388168811798096,
          4.227769374847412,
          4.27320671081543,
          4.420439720153809,
          4.388168811798096
         ],
         "y": [
          0.312896192073822,
          0.36207443475723267,
          0.17595736682415009,
          0.15340827405452728,
          0.312896192073822
         ]
        },
        {
         "line": {
          "color": "black",
          "width": 1
         },
         "mode": "lines",
         "showlegend": false,
         "type": "scatter",
         "x": [
          4.27320671081543,
          4.329631328582764,
          4.460107326507568,
          4.420439720153809,
          4.27320671081543
         ],
         "y": [
          0.17595736682415009,
          0.0004483795491978526,
          0.00046254610060714185,
          0.15340827405452728,
          0.17595736682415009
         ]
        },
        {
         "line": {
          "color": "black",
          "width": 1
         },
         "mode": "lines",
         "showlegend": false,
         "type": "scatter",
         "x": [
          0.9562130570411682,
          0.9622323513031006,
          0.7805319428443909,
          0.7956831455230713,
          0.9562130570411682
         ],
         "y": [
          0.33940842747688293,
          0.5287277102470398,
          0.5390773415565491,
          0.3563489615917206,
          0.33940842747688293
         ]
        },
        {
         "line": {
          "color": "black",
          "width": 1
         },
         "mode": "lines",
         "showlegend": false,
         "type": "scatter",
         "x": [
          0.9622323513031006,
          0.9549516439437866,
          0.7557174563407898,
          0.7805319428443909,
          0.9622323513031006
         ],
         "y": [
          0.5287277102470398,
          0.7246973514556885,
          0.7230015993118286,
          0.5390773415565491,
          0.5287277102470398
         ]
        },
        {
         "line": {
          "color": "black",
          "width": 1
         },
         "mode": "lines",
         "showlegend": false,
         "type": "scatter",
         "x": [
          0.7557174563407898,
          0.578811764717102,
          0.6105673909187317,
          0.7805319428443909,
          0.7557174563407898
         ],
         "y": [
          0.7230015993118286,
          0.7186275720596313,
          0.5541684627532959,
          0.5390773415565491,
          0.7230015993118286
         ]
        },
        {
         "line": {
          "color": "black",
          "width": 1
         },
         "mode": "lines",
         "showlegend": false,
         "type": "scatter",
         "x": [
          0.6105673909187317,
          0.627141535282135,
          0.7956831455230713,
          0.7805319428443909,
          0.6105673909187317
         ],
         "y": [
          0.5541684627532959,
          0.36488497257232666,
          0.3563489615917206,
          0.5390773415565491,
          0.5541684627532959
         ]
        },
        {
         "line": {
          "color": "black",
          "width": 1
         },
         "mode": "lines",
         "showlegend": false,
         "type": "scatter",
         "x": [
          4.329631328582764,
          4.27320671081543,
          4.10380220413208,
          4.167333602905273,
          4.329631328582764
         ],
         "y": [
          0.0004483795491978526,
          0.17595736682415009,
          0.1932363510131836,
          0.0004307578783482313,
          0.0004483795491978526
         ]
        },
        {
         "line": {
          "color": "black",
          "width": 1
         },
         "mode": "lines",
         "showlegend": false,
         "type": "scatter",
         "x": [
          4.27320671081543,
          4.227769374847412,
          4.046414375305176,
          4.10380220413208,
          4.27320671081543
         ],
         "y": [
          0.17595736682415009,
          0.36207443475723267,
          0.39278480410575867,
          0.1932363510131836,
          0.17595736682415009
         ]
        },
        {
         "line": {
          "color": "black",
          "width": 1
         },
         "mode": "lines",
         "showlegend": false,
         "type": "scatter",
         "x": [
          4.046414375305176,
          3.8486406803131104,
          3.920787811279297,
          4.10380220413208,
          4.046414375305176
         ],
         "y": [
          0.39278480410575867,
          0.41667866706848145,
          0.20669518411159515,
          0.1932363510131836,
          0.39278480410575867
         ]
        },
        {
         "line": {
          "color": "black",
          "width": 1
         },
         "mode": "lines",
         "showlegend": false,
         "type": "scatter",
         "x": [
          3.920787811279297,
          4.005035877227783,
          4.167333602905273,
          4.10380220413208,
          3.920787811279297
         ],
         "y": [
          0.20669518411159515,
          0.00041313620749861,
          0.0004307578783482313,
          0.1932363510131836,
          0.20669518411159515
         ]
        },
        {
         "line": {
          "color": "black",
          "width": 1
         },
         "mode": "lines",
         "showlegend": false,
         "type": "scatter",
         "x": [
          1.1758103370666504,
          0.9794540405273438,
          0.9051526188850403,
          1.1089775562286377,
          1.1758103370666504
         ],
         "y": [
          2,
          2,
          1.8077863454818726,
          1.7997767925262451,
          2
         ]
        },
        {
         "line": {
          "color": "black",
          "width": 1
         },
         "mode": "lines",
         "showlegend": false,
         "type": "scatter",
         "x": [
          0.9794540405273438,
          0.7830976843833923,
          0.7255236506462097,
          0.9051526188850403,
          0.9794540405273438
         ],
         "y": [
          2,
          2,
          1.8332324028015137,
          1.8077863454818726,
          2
         ]
        },
        {
         "line": {
          "color": "black",
          "width": 1
         },
         "mode": "lines",
         "showlegend": false,
         "type": "scatter",
         "x": [
          0.7255236506462097,
          0.6195558905601501,
          0.8549940586090088,
          0.9051526188850403,
          0.7255236506462097
         ],
         "y": [
          1.8332324028015137,
          1.6367623805999756,
          1.6071720123291016,
          1.8077863454818726,
          1.8332324028015137
         ]
        },
        {
         "line": {
          "color": "black",
          "width": 1
         },
         "mode": "lines",
         "showlegend": false,
         "type": "scatter",
         "x": [
          0.8549940586090088,
          1.0725041627883911,
          1.1089775562286377,
          0.9051526188850403,
          0.8549940586090088
         ],
         "y": [
          1.6071720123291016,
          1.5951138734817505,
          1.7997767925262451,
          1.8077863454818726,
          1.6071720123291016
         ]
        },
        {
         "line": {
          "color": "black",
          "width": 1
         },
         "mode": "lines",
         "showlegend": false,
         "type": "scatter",
         "x": [
          2.776355504989624,
          2.859443426132202,
          3.118924379348755,
          3.050952672958374,
          2.776355504989624
         ],
         "y": [
          2,
          1.7934101819992065,
          1.7944393157958984,
          2,
          2
         ]
        },
        {
         "line": {
          "color": "black",
          "width": 1
         },
         "mode": "lines",
         "showlegend": false,
         "type": "scatter",
         "x": [
          2.859443426132202,
          2.911543130874634,
          3.189321994781494,
          3.118924379348755,
          2.859443426132202
         ],
         "y": [
          1.7934101819992065,
          1.556293249130249,
          1.5956833362579346,
          1.7944393157958984,
          1.7934101819992065
         ]
        },
        {
         "line": {
          "color": "black",
          "width": 1
         },
         "mode": "lines",
         "showlegend": false,
         "type": "scatter",
         "x": [
          3.189321994781494,
          3.413848876953125,
          3.378969192504883,
          3.118924379348755,
          3.189321994781494
         ],
         "y": [
          1.5956833362579346,
          1.5906689167022705,
          1.7909590005874634,
          1.7944393157958984,
          1.5956833362579346
         ]
        },
        {
         "line": {
          "color": "black",
          "width": 1
         },
         "mode": "lines",
         "showlegend": false,
         "type": "scatter",
         "x": [
          3.378969192504883,
          3.325550079345703,
          3.050952672958374,
          3.118924379348755,
          3.378969192504883
         ],
         "y": [
          1.7909590005874634,
          2,
          2,
          1.7944393157958984,
          1.7909590005874634
         ]
        },
        {
         "line": {
          "color": "black",
          "width": 1
         },
         "mode": "lines",
         "showlegend": false,
         "type": "scatter",
         "x": [
          2.8966269493103027,
          2.7521591186523438,
          2.536189079284668,
          2.6743946075439453,
          2.8966269493103027
         ],
         "y": [
          0.9135451912879944,
          1.0736907720565796,
          0.9604537487030029,
          0.7902913093566895,
          0.9135451912879944
         ]
        },
        {
         "line": {
          "color": "black",
          "width": 1
         },
         "mode": "lines",
         "showlegend": false,
         "type": "scatter",
         "x": [
          2.7521591186523438,
          2.6594648361206055,
          2.4489808082580566,
          2.536189079284668,
          2.7521591186523438
         ],
         "y": [
          1.0736907720565796,
          1.1856552362442017,
          1.1492185592651367,
          0.9604537487030029,
          1.0736907720565796
         ]
        },
        {
         "line": {
          "color": "black",
          "width": 1
         },
         "mode": "lines",
         "showlegend": false,
         "type": "scatter",
         "x": [
          2.4489808082580566,
          2.1369597911834717,
          2.29817271232605,
          2.536189079284668,
          2.4489808082580566
         ],
         "y": [
          1.1492185592651367,
          1.0944474935531616,
          0.8649904727935791,
          0.9604537487030029,
          1.1492185592651367
         ]
        },
        {
         "line": {
          "color": "black",
          "width": 1
         },
         "mode": "lines",
         "showlegend": false,
         "type": "scatter",
         "x": [
          2.29817271232605,
          2.4818246364593506,
          2.6743946075439453,
          2.536189079284668,
          2.29817271232605
         ],
         "y": [
          0.8649904727935791,
          0.6158626079559326,
          0.7902913093566895,
          0.9604537487030029,
          0.8649904727935791
         ]
        },
        {
         "line": {
          "color": "black",
          "width": 1
         },
         "mode": "lines",
         "showlegend": false,
         "type": "scatter",
         "x": [
          0,
          0,
          0.1461910754442215,
          0.13206499814987183,
          0
         ],
         "y": [
          1.785530686378479,
          1.657117486000061,
          1.6145169734954834,
          1.7527475357055664,
          1.785530686378479
         ]
        },
        {
         "line": {
          "color": "black",
          "width": 1
         },
         "mode": "lines",
         "showlegend": false,
         "type": "scatter",
         "x": [
          0,
          0,
          0.16260744631290436,
          0.1461910754442215,
          0
         ],
         "y": [
          1.657117486000061,
          1.528704285621643,
          1.4665180444717407,
          1.6145169734954834,
          1.657117486000061
         ]
        },
        {
         "line": {
          "color": "black",
          "width": 1
         },
         "mode": "lines",
         "showlegend": false,
         "type": "scatter",
         "x": [
          0.16260744631290436,
          0.31884118914604187,
          0.2859349250793457,
          0.1461910754442215,
          0.16260744631290436
         ],
         "y": [
          1.4665180444717407,
          1.4385032653808594,
          1.5875043869018555,
          1.6145169734954834,
          1.4665180444717407
         ]
        },
        {
         "line": {
          "color": "black",
          "width": 1
         },
         "mode": "lines",
         "showlegend": false,
         "type": "scatter",
         "x": [
          0.2859349250793457,
          0.26228660345077515,
          0.13206499814987183,
          0.1461910754442215,
          0.2859349250793457
         ],
         "y": [
          1.5875043869018555,
          1.7314345836639404,
          1.7527475357055664,
          1.6145169734954834,
          1.5875043869018555
         ]
        },
        {
         "line": {
          "color": "black",
          "width": 1
         },
         "mode": "lines",
         "showlegend": false,
         "type": "scatter",
         "x": [
          0,
          0,
          0.13378916680812836,
          0.1318792849779129,
          0
         ],
         "y": [
          0.8336949348449707,
          0.6632858514785767,
          0.6220121383666992,
          0.8028203248977661,
          0.8336949348449707
         ]
        },
        {
         "line": {
          "color": "black",
          "width": 1
         },
         "mode": "lines",
         "showlegend": false,
         "type": "scatter",
         "x": [
          0,
          0,
          0.13992531597614288,
          0.13378916680812836,
          0
         ],
         "y": [
          0.6632858514785767,
          0.49287670850753784,
          0.45070919394493103,
          0.6220121383666992,
          0.6632858514785767
         ]
        },
        {
         "line": {
          "color": "black",
          "width": 1
         },
         "mode": "lines",
         "showlegend": false,
         "type": "scatter",
         "x": [
          0.13992531597614288,
          0.2805204391479492,
          0.26792219281196594,
          0.13378916680812836,
          0.13992531597614288
         ],
         "y": [
          0.45070919394493103,
          0.41729649901390076,
          0.5868734121322632,
          0.6220121383666992,
          0.45070919394493103
         ]
        },
        {
         "line": {
          "color": "black",
          "width": 1
         },
         "mode": "lines",
         "showlegend": false,
         "type": "scatter",
         "x": [
          0.26792219281196594,
          0.2587893605232239,
          0.1318792849779129,
          0.13378916680812836,
          0.26792219281196594
         ],
         "y": [
          0.5868734121322632,
          0.7632734775543213,
          0.8028203248977661,
          0.6220121383666992,
          0.5868734121322632
         ]
        },
        {
         "line": {
          "color": "black",
          "width": 1
         },
         "mode": "lines",
         "showlegend": false,
         "type": "scatter",
         "x": [
          0.2127937227487564,
          0.24429811537265778,
          0.38766226172447205,
          0.33967939019203186,
          0.2127937227487564
         ],
         "y": [
          2,
          1.8628920316696167,
          1.84397554397583,
          2,
          2
         ]
        },
        {
         "line": {
          "color": "black",
          "width": 1
         },
         "mode": "lines",
         "showlegend": false,
         "type": "scatter",
         "x": [
          0.24429811537265778,
          0.26228660345077515,
          0.4134669601917267,
          0.38766226172447205,
          0.24429811537265778
         ],
         "y": [
          1.8628920316696167,
          1.7314345836639404,
          1.6992977857589722,
          1.84397554397583,
          1.8628920316696167
         ]
        },
        {
         "line": {
          "color": "black",
          "width": 1
         },
         "mode": "lines",
         "showlegend": false,
         "type": "scatter",
         "x": [
          0.4134669601917267,
          0.6195558905601501,
          0.5224918127059937,
          0.38766226172447205,
          0.4134669601917267
         ],
         "y": [
          1.6992977857589722,
          1.6367623805999756,
          1.8436788320541382,
          1.84397554397583,
          1.6992977857589722
         ]
        },
        {
         "line": {
          "color": "black",
          "width": 1
         },
         "mode": "lines",
         "showlegend": false,
         "type": "scatter",
         "x": [
          0.5224918127059937,
          0.4665650427341461,
          0.33967939019203186,
          0.38766226172447205,
          0.5224918127059937
         ],
         "y": [
          1.8436788320541382,
          2,
          2,
          1.84397554397583,
          1.8436788320541382
         ]
        },
        {
         "line": {
          "color": "black",
          "width": 1
         },
         "mode": "lines",
         "showlegend": false,
         "type": "scatter",
         "x": [
          4.005035877227783,
          3.920787811279297,
          3.7116761207580566,
          3.7955691814422607,
          4.005035877227783
         ],
         "y": [
          0.00041313620749861,
          0.20669518411159515,
          0.21364304423332214,
          0.0003903931356035173,
          0.00041313620749861
         ]
        },
        {
         "line": {
          "color": "black",
          "width": 1
         },
         "mode": "lines",
         "showlegend": false,
         "type": "scatter",
         "x": [
          3.920787811279297,
          3.8486406803131104,
          3.6313064098358154,
          3.7116761207580566,
          3.920787811279297
         ],
         "y": [
          0.20669518411159515,
          0.41667866706848145,
          0.42857542634010315,
          0.21364304423332214,
          0.20669518411159515
         ]
        },
        {
         "line": {
          "color": "black",
          "width": 1
         },
         "mode": "lines",
         "showlegend": false,
         "type": "scatter",
         "x": [
          3.6313064098358154,
          3.407712697982788,
          3.4880003929138184,
          3.7116761207580566,
          3.6313064098358154
         ],
         "y": [
          0.42857542634010315,
          0.43622931838035583,
          0.2196473479270935,
          0.21364304423332214,
          0.42857542634010315
         ]
        },
        {
         "line": {
          "color": "black",
          "width": 1
         },
         "mode": "lines",
         "showlegend": false,
         "type": "scatter",
         "x": [
          3.4880003929138184,
          3.5861027240753174,
          3.7955691814422607,
          3.7116761207580566,
          3.4880003929138184
         ],
         "y": [
          0.2196473479270935,
          0.00036765006370842457,
          0.0003903931356035173,
          0.21364304423332214,
          0.2196473479270935
         ]
        },
        {
         "line": {
          "color": "black",
          "width": 1
         },
         "mode": "lines",
         "showlegend": false,
         "type": "scatter",
         "x": [
          4.499637603759766,
          4.627870559692383,
          4.6072678565979,
          4.450838565826416,
          4.499637603759766
         ],
         "y": [
          1.0052365064620972,
          1.0579159259796143,
          1.2212865352630615,
          1.1682435274124146,
          1.0052365064620972
         ]
        },
        {
         "line": {
          "color": "black",
          "width": 1
         },
         "mode": "lines",
         "showlegend": false,
         "type": "scatter",
         "x": [
          4.627870559692383,
          4.751469135284424,
          4.750809192657471,
          4.6072678565979,
          4.627870559692383
         ],
         "y": [
          1.0579159259796143,
          1.1083425283432007,
          1.2754547595977783,
          1.2212865352630615,
          1.0579159259796143
         ]
        },
        {
         "line": {
          "color": "black",
          "width": 1
         },
         "mode": "lines",
         "showlegend": false,
         "type": "scatter",
         "x": [
          4.750809192657471,
          4.75515079498291,
          4.602313995361328,
          4.6072678565979,
          4.750809192657471
         ],
         "y": [
          1.2754547595977783,
          1.441074013710022,
          1.392114281654358,
          1.2212865352630615,
          1.2754547595977783
         ]
        },
        {
         "line": {
          "color": "black",
          "width": 1
         },
         "mode": "lines",
         "showlegend": false,
         "type": "scatter",
         "x": [
          4.602313995361328,
          4.43840217590332,
          4.450838565826416,
          4.6072678565979,
          4.602313995361328
         ],
         "y": [
          1.392114281654358,
          1.355120062828064,
          1.1682435274124146,
          1.2212865352630615,
          1.392114281654358
         ]
        },
        {
         "line": {
          "color": "black",
          "width": 1
         },
         "mode": "lines",
         "showlegend": false,
         "type": "scatter",
         "x": [
          0.39051392674446106,
          0.5067894458770752,
          0.6792685985565186,
          0.5910466909408569,
          0.39051392674446106
         ],
         "y": [
          1.07501220703125,
          0.8900513648986816,
          0.916845440864563,
          1.1176680326461792,
          1.07501220703125
         ]
        },
        {
         "line": {
          "color": "black",
          "width": 1
         },
         "mode": "lines",
         "showlegend": false,
         "type": "scatter",
         "x": [
          0.5067894458770752,
          0.578811764717102,
          0.7557174563407898,
          0.6792685985565186,
          0.5067894458770752
         ],
         "y": [
          0.8900513648986816,
          0.7186275720596313,
          0.7230015993118286,
          0.916845440864563,
          0.8900513648986816
         ]
        },
        {
         "line": {
          "color": "black",
          "width": 1
         },
         "mode": "lines",
         "showlegend": false,
         "type": "scatter",
         "x": [
          0.7557174563407898,
          0.9549516439437866,
          0.8842635750770569,
          0.6792685985565186,
          0.7557174563407898
         ],
         "y": [
          0.7230015993118286,
          0.7246973514556885,
          0.9308021068572998,
          0.916845440864563,
          0.7230015993118286
         ]
        },
        {
         "line": {
          "color": "black",
          "width": 1
         },
         "mode": "lines",
         "showlegend": false,
         "type": "scatter",
         "x": [
          0.8842635750770569,
          0.7919260263442993,
          0.5910466909408569,
          0.6792685985565186,
          0.8842635750770569
         ],
         "y": [
          0.9308021068572998,
          1.1481053829193115,
          1.1176680326461792,
          0.916845440864563,
          0.9308021068572998
         ]
        },
        {
         "line": {
          "color": "black",
          "width": 1
         },
         "mode": "lines",
         "showlegend": false,
         "type": "scatter",
         "x": [
          3.713677167892456,
          3.7805893421173096,
          3.994795083999634,
          3.934750556945801,
          3.713677167892456
         ],
         "y": [
          0.8393602967262268,
          0.6332447528839111,
          0.6170737147331238,
          0.844081699848175,
          0.8393602967262268
         ]
        },
        {
         "line": {
          "color": "black",
          "width": 1
         },
         "mode": "lines",
         "showlegend": false,
         "type": "scatter",
         "x": [
          3.7805893421173096,
          3.8486406803131104,
          4.046414375305176,
          3.994795083999634,
          3.7805893421173096
         ],
         "y": [
          0.6332447528839111,
          0.41667866706848145,
          0.39278480410575867,
          0.6170737147331238,
          0.6332447528839111
         ]
        },
        {
         "line": {
          "color": "black",
          "width": 1
         },
         "mode": "lines",
         "showlegend": false,
         "type": "scatter",
         "x": [
          4.046414375305176,
          4.227769374847412,
          4.198951244354248,
          3.994795083999634,
          4.046414375305176
         ],
         "y": [
          0.39278480410575867,
          0.36207443475723267,
          0.578764796257019,
          0.6170737147331238,
          0.39278480410575867
         ]
        },
        {
         "line": {
          "color": "black",
          "width": 1
         },
         "mode": "lines",
         "showlegend": false,
         "type": "scatter",
         "x": [
          4.198951244354248,
          4.184881210327148,
          3.934750556945801,
          3.994795083999634,
          4.198951244354248
         ],
         "y": [
          0.578764796257019,
          0.8321652412414551,
          0.844081699848175,
          0.6170737147331238,
          0.578764796257019
         ]
        },
        {
         "line": {
          "color": "black",
          "width": 1
         },
         "mode": "lines",
         "showlegend": false,
         "type": "scatter",
         "x": [
          0,
          0,
          0.1769266277551651,
          0.16260744631290436,
          0
         ],
         "y": [
          1.528704285621643,
          1.3684204816818237,
          1.3075621128082275,
          1.4665180444717407,
          1.528704285621643
         ]
        },
        {
         "line": {
          "color": "black",
          "width": 1
         },
         "mode": "lines",
         "showlegend": false,
         "type": "scatter",
         "x": [
          0,
          0,
          0.18049459159374237,
          0.1769266277551651,
          0
         ],
         "y": [
          1.3684204816818237,
          1.2081365585327148,
          1.1455439329147339,
          1.3075621128082275,
          1.3684204816818237
         ]
        },
        {
         "line": {
          "color": "black",
          "width": 1
         },
         "mode": "lines",
         "showlegend": false,
         "type": "scatter",
         "x": [
          0.18049459159374237,
          0.39051392674446106,
          0.35635045170783997,
          0.1769266277551651,
          0.18049459159374237
         ],
         "y": [
          1.1455439329147339,
          1.07501220703125,
          1.27205491065979,
          1.3075621128082275,
          1.1455439329147339
         ]
        },
        {
         "line": {
          "color": "black",
          "width": 1
         },
         "mode": "lines",
         "showlegend": false,
         "type": "scatter",
         "x": [
          0.35635045170783997,
          0.31884118914604187,
          0.16260744631290436,
          0.1769266277551651,
          0.35635045170783997
         ],
         "y": [
          1.27205491065979,
          1.4385032653808594,
          1.4665180444717407,
          1.3075621128082275,
          1.27205491065979
         ]
        },
        {
         "line": {
          "color": "black",
          "width": 1
         },
         "mode": "lines",
         "showlegend": false,
         "type": "scatter",
         "x": [
          3.8486406803131104,
          3.7805893421173096,
          3.5577285289764404,
          3.6313064098358154,
          3.8486406803131104
         ],
         "y": [
          0.41667866706848145,
          0.6332447528839111,
          0.6376153230667114,
          0.42857542634010315,
          0.41667866706848145
         ]
        },
        {
         "line": {
          "color": "black",
          "width": 1
         },
         "mode": "lines",
         "showlegend": false,
         "type": "scatter",
         "x": [
          3.7805893421173096,
          3.713677167892456,
          3.4975550174713135,
          3.5577285289764404,
          3.7805893421173096
         ],
         "y": [
          0.6332447528839111,
          0.8393602967262268,
          0.8307721614837646,
          0.6376153230667114,
          0.6332447528839111
         ]
        },
        {
         "line": {
          "color": "black",
          "width": 1
         },
         "mode": "lines",
         "showlegend": false,
         "type": "scatter",
         "x": [
          3.4975550174713135,
          3.2980592250823975,
          3.335306406021118,
          3.5577285289764404,
          3.4975550174713135
         ],
         "y": [
          0.8307721614837646,
          0.8300948143005371,
          0.6434970498085022,
          0.6376153230667114,
          0.8307721614837646
         ]
        },
        {
         "line": {
          "color": "black",
          "width": 1
         },
         "mode": "lines",
         "showlegend": false,
         "type": "scatter",
         "x": [
          3.335306406021118,
          3.407712697982788,
          3.6313064098358154,
          3.5577285289764404,
          3.335306406021118
         ],
         "y": [
          0.6434970498085022,
          0.43622931838035583,
          0.42857542634010315,
          0.6376153230667114,
          0.6434970498085022
         ]
        },
        {
         "line": {
          "color": "black",
          "width": 1
         },
         "mode": "lines",
         "showlegend": false,
         "type": "scatter",
         "x": [
          2.911543130874634,
          2.859443426132202,
          2.5879738330841064,
          2.6302239894866943,
          2.911543130874634
         ],
         "y": [
          1.556293249130249,
          1.7934101819992065,
          1.7887424230575562,
          1.5787913799285889,
          1.556293249130249
         ]
        },
        {
         "line": {
          "color": "black",
          "width": 1
         },
         "mode": "lines",
         "showlegend": false,
         "type": "scatter",
         "x": [
          2.859443426132202,
          2.776355504989624,
          2.5,
          2.5879738330841064,
          2.859443426132202
         ],
         "y": [
          1.7934101819992065,
          2,
          2,
          1.7887424230575562,
          1.7934101819992065
         ]
        },
        {
         "line": {
          "color": "black",
          "width": 1
         },
         "mode": "lines",
         "showlegend": false,
         "type": "scatter",
         "x": [
          2.5,
          2.223644495010376,
          2.3211584091186523,
          2.5879738330841064,
          2.5
         ],
         "y": [
          2,
          2,
          1.7899101972579956,
          1.7887424230575562,
          2
         ]
        },
        {
         "line": {
          "color": "black",
          "width": 1
         },
         "mode": "lines",
         "showlegend": false,
         "type": "scatter",
         "x": [
          2.3211584091186523,
          2.360090732574463,
          2.6302239894866943,
          2.5879738330841064,
          2.3211584091186523
         ],
         "y": [
          1.7899101972579956,
          1.5773155689239502,
          1.5787913799285889,
          1.7887424230575562,
          1.7899101972579956
         ]
        },
        {
         "line": {
          "color": "black",
          "width": 1
         },
         "mode": "lines",
         "showlegend": false,
         "type": "scatter",
         "x": [
          3.473403215408325,
          3.4483723640441895,
          3.2448580265045166,
          3.2691640853881836,
          3.473403215408325
         ],
         "y": [
          1.1742188930511475,
          1.3876214027404785,
          1.4029635190963745,
          1.21808922290802,
          1.1742188930511475
         ]
        },
        {
         "line": {
          "color": "black",
          "width": 1
         },
         "mode": "lines",
         "showlegend": false,
         "type": "scatter",
         "x": [
          3.4483723640441895,
          3.413848876953125,
          3.189321994781494,
          3.2448580265045166,
          3.4483723640441895
         ],
         "y": [
          1.3876214027404785,
          1.5906689167022705,
          1.5956833362579346,
          1.4029635190963745,
          1.3876214027404785
         ]
        },
        {
         "line": {
          "color": "black",
          "width": 1
         },
         "mode": "lines",
         "showlegend": false,
         "type": "scatter",
         "x": [
          3.189321994781494,
          2.911543130874634,
          3.0534119606018066,
          3.2448580265045166,
          3.189321994781494
         ],
         "y": [
          1.5956833362579346,
          1.556293249130249,
          1.3834482431411743,
          1.4029635190963745,
          1.5956833362579346
         ]
        },
        {
         "line": {
          "color": "black",
          "width": 1
         },
         "mode": "lines",
         "showlegend": false,
         "type": "scatter",
         "x": [
          3.0534119606018066,
          3.1177587509155273,
          3.2691640853881836,
          3.2448580265045166,
          3.0534119606018066
         ],
         "y": [
          1.3834482431411743,
          1.2380715608596802,
          1.21808922290802,
          1.4029635190963745,
          1.3834482431411743
         ]
        },
        {
         "line": {
          "color": "black",
          "width": 1
         },
         "mode": "lines",
         "showlegend": false,
         "type": "scatter",
         "x": [
          4.184881210327148,
          4.054696559906006,
          3.830310821533203,
          3.934750556945801,
          4.184881210327148
         ],
         "y": [
          0.8321652412414551,
          1.1092333793640137,
          1.0677576065063477,
          0.844081699848175,
          0.8321652412414551
         ]
        },
        {
         "line": {
          "color": "black",
          "width": 1
         },
         "mode": "lines",
         "showlegend": false,
         "type": "scatter",
         "x": [
          4.054696559906006,
          3.940859079360962,
          3.7114505767822266,
          3.830310821533203,
          4.054696559906006
         ],
         "y": [
          1.1092333793640137,
          1.4175339937210083,
          1.2611958980560303,
          1.0677576065063477,
          1.1092333793640137
         ]
        },
        {
         "line": {
          "color": "black",
          "width": 1
         },
         "mode": "lines",
         "showlegend": false,
         "type": "scatter",
         "x": [
          3.7114505767822266,
          3.473403215408325,
          3.613842725753784,
          3.830310821533203,
          3.7114505767822266
         ],
         "y": [
          1.2611958980560303,
          1.1742188930511475,
          1.0139297246932983,
          1.0677576065063477,
          1.2611958980560303
         ]
        },
        {
         "line": {
          "color": "black",
          "width": 1
         },
         "mode": "lines",
         "showlegend": false,
         "type": "scatter",
         "x": [
          3.613842725753784,
          3.713677167892456,
          3.934750556945801,
          3.830310821533203,
          3.613842725753784
         ],
         "y": [
          1.0139297246932983,
          0.8393602967262268,
          0.844081699848175,
          1.0677576065063477,
          1.0139297246932983
         ]
        },
        {
         "line": {
          "color": "black",
          "width": 1
         },
         "mode": "lines",
         "showlegend": false,
         "type": "scatter",
         "x": [
          2.8966269493103027,
          2.9305195808410645,
          3.1272013187408447,
          3.108921527862549,
          2.8966269493103027
         ],
         "y": [
          0.9135451912879944,
          0.6812463998794556,
          0.6634999513626099,
          0.8663949966430664,
          0.9135451912879944
         ]
        },
        {
         "line": {
          "color": "black",
          "width": 1
         },
         "mode": "lines",
         "showlegend": false,
         "type": "scatter",
         "x": [
          2.9305195808410645,
          2.963808298110962,
          3.1774516105651855,
          3.1272013187408447,
          2.9305195808410645
         ],
         "y": [
          0.6812463998794556,
          0.4604211151599884,
          0.4505905508995056,
          0.6634999513626099,
          0.6812463998794556
         ]
        },
        {
         "line": {
          "color": "black",
          "width": 1
         },
         "mode": "lines",
         "showlegend": false,
         "type": "scatter",
         "x": [
          3.1774516105651855,
          3.407712697982788,
          3.335306406021118,
          3.1272013187408447,
          3.1774516105651855
         ],
         "y": [
          0.4505905508995056,
          0.43622931838035583,
          0.6434970498085022,
          0.6634999513626099,
          0.4505905508995056
         ]
        },
        {
         "line": {
          "color": "black",
          "width": 1
         },
         "mode": "lines",
         "showlegend": false,
         "type": "scatter",
         "x": [
          3.335306406021118,
          3.2980592250823975,
          3.108921527862549,
          3.1272013187408447,
          3.335306406021118
         ],
         "y": [
          0.6434970498085022,
          0.8300948143005371,
          0.8663949966430664,
          0.6634999513626099,
          0.6434970498085022
         ]
        },
        {
         "line": {
          "color": "black",
          "width": 1
         },
         "mode": "lines",
         "showlegend": false,
         "type": "scatter",
         "x": [
          1.6744500398635864,
          1.4251301288604736,
          1.337809681892395,
          1.5456219911575317,
          1.6744500398635864
         ],
         "y": [
          2,
          2,
          1.7983766794204712,
          1.7606996297836304,
          2
         ]
        },
        {
         "line": {
          "color": "black",
          "width": 1
         },
         "mode": "lines",
         "showlegend": false,
         "type": "scatter",
         "x": [
          1.4251301288604736,
          1.1758103370666504,
          1.1089775562286377,
          1.337809681892395,
          1.4251301288604736
         ],
         "y": [
          2,
          2,
          1.7997767925262451,
          1.7983766794204712,
          2
         ]
        },
        {
         "line": {
          "color": "black",
          "width": 1
         },
         "mode": "lines",
         "showlegend": false,
         "type": "scatter",
         "x": [
          1.1089775562286377,
          1.0725041627883911,
          1.2779484987258911,
          1.337809681892395,
          1.1089775562286377
         ],
         "y": [
          1.7997767925262451,
          1.5951138734817505,
          1.5976756811141968,
          1.7983766794204712,
          1.7997767925262451
         ]
        },
        {
         "line": {
          "color": "black",
          "width": 1
         },
         "mode": "lines",
         "showlegend": false,
         "type": "scatter",
         "x": [
          1.2779484987258911,
          1.4594870805740356,
          1.5456219911575317,
          1.337809681892395,
          1.2779484987258911
         ],
         "y": [
          1.5976756811141968,
          1.602929949760437,
          1.7606996297836304,
          1.7983766794204712,
          1.5976756811141968
         ]
        },
        {
         "line": {
          "color": "black",
          "width": 1
         },
         "mode": "lines",
         "showlegend": false,
         "type": "scatter",
         "x": [
          2.8966269493103027,
          3.025653123855591,
          2.9025347232818604,
          2.7521591186523438,
          2.8966269493103027
         ],
         "y": [
          0.9135451912879944,
          1.1079118251800537,
          1.234968900680542,
          1.0736907720565796,
          0.9135451912879944
         ]
        },
        {
         "line": {
          "color": "black",
          "width": 1
         },
         "mode": "lines",
         "showlegend": false,
         "type": "scatter",
         "x": [
          3.025653123855591,
          3.1177587509155273,
          3.0534119606018066,
          2.9025347232818604,
          3.025653123855591
         ],
         "y": [
          1.1079118251800537,
          1.2380715608596802,
          1.3834482431411743,
          1.234968900680542,
          1.1079118251800537
         ]
        },
        {
         "line": {
          "color": "black",
          "width": 1
         },
         "mode": "lines",
         "showlegend": false,
         "type": "scatter",
         "x": [
          3.0534119606018066,
          2.911543130874634,
          2.7669410705566406,
          2.9025347232818604,
          3.0534119606018066
         ],
         "y": [
          1.3834482431411743,
          1.556293249130249,
          1.3507217168807983,
          1.234968900680542,
          1.3834482431411743
         ]
        },
        {
         "line": {
          "color": "black",
          "width": 1
         },
         "mode": "lines",
         "showlegend": false,
         "type": "scatter",
         "x": [
          2.7669410705566406,
          2.6594648361206055,
          2.7521591186523438,
          2.9025347232818604,
          2.7669410705566406
         ],
         "y": [
          1.3507217168807983,
          1.1856552362442017,
          1.0736907720565796,
          1.234968900680542,
          1.3507217168807983
         ]
        },
        {
         "line": {
          "color": "black",
          "width": 1
         },
         "mode": "lines",
         "showlegend": false,
         "type": "scatter",
         "x": [
          3.473403215408325,
          3.2691640853881836,
          3.190035343170166,
          3.3496553897857666,
          3.473403215408325
         ],
         "y": [
          1.1742188930511475,
          1.21808922290802,
          1.043007493019104,
          1.000938892364502,
          1.1742188930511475
         ]
        },
        {
         "line": {
          "color": "black",
          "width": 1
         },
         "mode": "lines",
         "showlegend": false,
         "type": "scatter",
         "x": [
          3.2691640853881836,
          3.1177587509155273,
          3.025653123855591,
          3.190035343170166,
          3.2691640853881836
         ],
         "y": [
          1.21808922290802,
          1.2380715608596802,
          1.1079118251800537,
          1.043007493019104,
          1.21808922290802
         ]
        },
        {
         "line": {
          "color": "black",
          "width": 1
         },
         "mode": "lines",
         "showlegend": false,
         "type": "scatter",
         "x": [
          3.025653123855591,
          2.8966269493103027,
          3.108921527862549,
          3.190035343170166,
          3.025653123855591
         ],
         "y": [
          1.1079118251800537,
          0.9135451912879944,
          0.8663949966430664,
          1.043007493019104,
          1.1079118251800537
         ]
        },
        {
         "line": {
          "color": "black",
          "width": 1
         },
         "mode": "lines",
         "showlegend": false,
         "type": "scatter",
         "x": [
          3.108921527862549,
          3.2980592250823975,
          3.3496553897857666,
          3.190035343170166,
          3.108921527862549
         ],
         "y": [
          0.8663949966430664,
          0.8300948143005371,
          1.000938892364502,
          1.043007493019104,
          0.8663949966430664
         ]
        },
        {
         "line": {
          "color": "black",
          "width": 1
         },
         "mode": "lines",
         "showlegend": false,
         "type": "scatter",
         "x": [
          1.6893349885940552,
          1.8386987447738647,
          1.694443941116333,
          1.5525668859481812,
          1.6893349885940552
         ],
         "y": [
          1.329845905303955,
          1.4585894346237183,
          1.6182851791381836,
          1.4657286405563354,
          1.329845905303955
         ]
        },
        {
         "line": {
          "color": "black",
          "width": 1
         },
         "mode": "lines",
         "showlegend": false,
         "type": "scatter",
         "x": [
          1.8386987447738647,
          1.936989188194275,
          1.8399810791015625,
          1.694443941116333,
          1.8386987447738647
         ],
         "y": [
          1.4585894346237183,
          1.5932351350784302,
          1.7523523569107056,
          1.6182851791381836,
          1.4585894346237183
         ]
        },
        {
         "line": {
          "color": "black",
          "width": 1
         },
         "mode": "lines",
         "showlegend": false,
         "type": "scatter",
         "x": [
          1.8399810791015625,
          1.6744500398635864,
          1.5456219911575317,
          1.694443941116333,
          1.8399810791015625
         ],
         "y": [
          1.7523523569107056,
          2,
          1.7606996297836304,
          1.6182851791381836,
          1.7523523569107056
         ]
        },
        {
         "line": {
          "color": "black",
          "width": 1
         },
         "mode": "lines",
         "showlegend": false,
         "type": "scatter",
         "x": [
          1.5456219911575317,
          1.4594870805740356,
          1.5525668859481812,
          1.694443941116333,
          1.5456219911575317
         ],
         "y": [
          1.7606996297836304,
          1.602929949760437,
          1.4657286405563354,
          1.6182851791381836,
          1.7606996297836304
         ]
        },
        {
         "line": {
          "color": "black",
          "width": 1
         },
         "mode": "lines",
         "showlegend": false,
         "type": "scatter",
         "x": [
          1.6893349885940552,
          1.5525668859481812,
          1.3535499572753906,
          1.4776769876480103,
          1.6893349885940552
         ],
         "y": [
          1.329845905303955,
          1.4657286405563354,
          1.4072434902191162,
          1.2268623113632202,
          1.329845905303955
         ]
        },
        {
         "line": {
          "color": "black",
          "width": 1
         },
         "mode": "lines",
         "showlegend": false,
         "type": "scatter",
         "x": [
          1.5525668859481812,
          1.4594870805740356,
          1.2779484987258911,
          1.3535499572753906,
          1.5525668859481812
         ],
         "y": [
          1.4657286405563354,
          1.602929949760437,
          1.5976756811141968,
          1.4072434902191162,
          1.4657286405563354
         ]
        },
        {
         "line": {
          "color": "black",
          "width": 1
         },
         "mode": "lines",
         "showlegend": false,
         "type": "scatter",
         "x": [
          1.2779484987258911,
          1.0725041627883911,
          1.1273328065872192,
          1.3535499572753906,
          1.2779484987258911
         ],
         "y": [
          1.5976756811141968,
          1.5951138734817505,
          1.381439208984375,
          1.4072434902191162,
          1.5976756811141968
         ]
        },
        {
         "line": {
          "color": "black",
          "width": 1
         },
         "mode": "lines",
         "showlegend": false,
         "type": "scatter",
         "x": [
          1.1273328065872192,
          1.2487528324127197,
          1.4776769876480103,
          1.3535499572753906,
          1.1273328065872192
         ],
         "y": [
          1.381439208984375,
          1.1753369569778442,
          1.2268623113632202,
          1.4072434902191162,
          1.381439208984375
         ]
        },
        {
         "line": {
          "color": "black",
          "width": 1
         },
         "mode": "lines",
         "showlegend": false,
         "type": "scatter",
         "x": [
          2.360090732574463,
          2.3211584091186523,
          2.0579397678375244,
          2.1305150985717773,
          2.360090732574463
         ],
         "y": [
          1.5773155689239502,
          1.7899101972579956,
          1.790798544883728,
          1.583219289779663,
          1.5773155689239502
         ]
        },
        {
         "line": {
          "color": "black",
          "width": 1
         },
         "mode": "lines",
         "showlegend": false,
         "type": "scatter",
         "x": [
          2.3211584091186523,
          2.223644495010376,
          1.9490472078323364,
          2.0579397678375244,
          2.3211584091186523
         ],
         "y": [
          1.7899101972579956,
          2,
          2,
          1.790798544883728,
          1.7899101972579956
         ]
        },
        {
         "line": {
          "color": "black",
          "width": 1
         },
         "mode": "lines",
         "showlegend": false,
         "type": "scatter",
         "x": [
          1.9490472078323364,
          1.6744500398635864,
          1.8399810791015625,
          2.0579397678375244,
          1.9490472078323364
         ],
         "y": [
          2,
          2,
          1.7523523569107056,
          1.790798544883728,
          2
         ]
        },
        {
         "line": {
          "color": "black",
          "width": 1
         },
         "mode": "lines",
         "showlegend": false,
         "type": "scatter",
         "x": [
          1.8399810791015625,
          1.936989188194275,
          2.1305150985717773,
          2.0579397678375244,
          1.8399810791015625
         ],
         "y": [
          1.7523523569107056,
          1.5932351350784302,
          1.583219289779663,
          1.790798544883728,
          1.7523523569107056
         ]
        },
        {
         "line": {
          "color": "black",
          "width": 1
         },
         "mode": "lines",
         "showlegend": false,
         "type": "scatter",
         "x": [
          1.2487528324127197,
          1.1273328065872192,
          0.913159191608429,
          1.0133227109909058,
          1.2487528324127197
         ],
         "y": [
          1.1753369569778442,
          1.381439208984375,
          1.384960651397705,
          1.1578656435012817,
          1.1753369569778442
         ]
        },
        {
         "line": {
          "color": "black",
          "width": 1
         },
         "mode": "lines",
         "showlegend": false,
         "type": "scatter",
         "x": [
          1.1273328065872192,
          1.0725041627883911,
          0.8549940586090088,
          0.913159191608429,
          1.1273328065872192
         ],
         "y": [
          1.381439208984375,
          1.5951138734817505,
          1.6071720123291016,
          1.384960651397705,
          1.381439208984375
         ]
        },
        {
         "line": {
          "color": "black",
          "width": 1
         },
         "mode": "lines",
         "showlegend": false,
         "type": "scatter",
         "x": [
          0.8549940586090088,
          0.6195558905601501,
          0.7032692432403564,
          0.913159191608429,
          0.8549940586090088
         ],
         "y": [
          1.6071720123291016,
          1.6367623805999756,
          1.3785207271575928,
          1.384960651397705,
          1.6071720123291016
         ]
        },
        {
         "line": {
          "color": "black",
          "width": 1
         },
         "mode": "lines",
         "showlegend": false,
         "type": "scatter",
         "x": [
          0.7032692432403564,
          0.7919260263442993,
          1.0133227109909058,
          0.913159191608429,
          0.7032692432403564
         ],
         "y": [
          1.3785207271575928,
          1.1481053829193115,
          1.1578656435012817,
          1.384960651397705,
          1.3785207271575928
         ]
        },
        {
         "line": {
          "color": "black",
          "width": 1
         },
         "mode": "lines",
         "showlegend": false,
         "type": "scatter",
         "x": [
          4.786237716674805,
          4.781370639801025,
          4.655276775360107,
          4.664474964141846,
          4.786237716674805
         ],
         "y": [
          0.19695256650447845,
          0.310759961605072,
          0.34788778424263,
          0.21988070011138916,
          0.19695256650447845
         ]
        },
        {
         "line": {
          "color": "black",
          "width": 1
         },
         "mode": "lines",
         "showlegend": false,
         "type": "scatter",
         "x": [
          4.781370639801025,
          4.777948379516602,
          4.655497074127197,
          4.655276775360107,
          4.781370639801025
         ],
         "y": [
          0.310759961605072,
          0.44183599948883057,
          0.46665915846824646,
          0.34788778424263,
          0.310759961605072
         ]
        },
        {
         "line": {
          "color": "black",
          "width": 1
         },
         "mode": "lines",
         "showlegend": false,
         "type": "scatter",
         "x": [
          4.655497074127197,
          4.529269695281982,
          4.519779205322266,
          4.655276775360107,
          4.655497074127197
         ],
         "y": [
          0.46665915846824646,
          0.5404736399650574,
          0.4059048891067505,
          0.34788778424263,
          0.46665915846824646
         ]
        },
        {
         "line": {
          "color": "black",
          "width": 1
         },
         "mode": "lines",
         "showlegend": false,
         "type": "scatter",
         "x": [
          4.519779205322266,
          4.532685279846191,
          4.664474964141846,
          4.655276775360107,
          4.519779205322266
         ],
         "y": [
          0.4059048891067505,
          0.26613542437553406,
          0.21988070011138916,
          0.34788778424263,
          0.4059048891067505
         ]
        },
        {
         "line": {
          "color": "black",
          "width": 1
         },
         "mode": "lines",
         "showlegend": false,
         "type": "scatter",
         "x": [
          1.3543840646743774,
          1.3669102191925049,
          1.5894502401351929,
          1.5371657609939575,
          1.3543840646743774
         ],
         "y": [
          0.3446437418460846,
          0.16960975527763367,
          0.16295339167118073,
          0.3270001709461212,
          0.3446437418460846
         ]
        },
        {
         "line": {
          "color": "black",
          "width": 1
         },
         "mode": "lines",
         "showlegend": false,
         "type": "scatter",
         "x": [
          1.3669102191925049,
          1.419364094734192,
          1.677985429763794,
          1.5894502401351929,
          1.3669102191925049
         ],
         "y": [
          0.16960975527763367,
          0.0001323938777204603,
          0.00016047399549279362,
          0.16295339167118073,
          0.16960975527763367
         ]
        },
        {
         "line": {
          "color": "black",
          "width": 1
         },
         "mode": "lines",
         "showlegend": false,
         "type": "scatter",
         "x": [
          1.677985429763794,
          1.9366068840026855,
          1.771650791168213,
          1.5894502401351929,
          1.677985429763794
         ],
         "y": [
          0.00016047399549279362,
          0.00018855412781704217,
          0.17057465016841888,
          0.16295339167118073,
          0.00016047399549279362
         ]
        },
        {
         "line": {
          "color": "black",
          "width": 1
         },
         "mode": "lines",
         "showlegend": false,
         "type": "scatter",
         "x": [
          1.771650791168213,
          1.7777091264724731,
          1.5371657609939575,
          1.5894502401351929,
          1.771650791168213
         ],
         "y": [
          0.17057465016841888,
          0.2957989573478699,
          0.3270001709461212,
          0.16295339167118073,
          0.17057465016841888
         ]
        },
        {
         "line": {
          "color": "black",
          "width": 1
         },
         "mode": "lines",
         "showlegend": false,
         "type": "scatter",
         "x": [
          1.9581654071807861,
          1.8069356679916382,
          1.6369144916534424,
          1.7927772998809814,
          1.9581654071807861
         ],
         "y": [
          0.480968713760376,
          0.6288296580314636,
          0.4833543598651886,
          0.4158589541912079,
          0.480968713760376
         ]
        },
        {
         "line": {
          "color": "black",
          "width": 1
         },
         "mode": "lines",
         "showlegend": false,
         "type": "scatter",
         "x": [
          1.8069356679916382,
          1.551755666732788,
          1.4259897470474243,
          1.6369144916534424,
          1.8069356679916382
         ],
         "y": [
          0.6288296580314636,
          0.7565462589263916,
          0.535866379737854,
          0.4833543598651886,
          0.6288296580314636
         ]
        },
        {
         "line": {
          "color": "black",
          "width": 1
         },
         "mode": "lines",
         "showlegend": false,
         "type": "scatter",
         "x": [
          1.4259897470474243,
          1.3543840646743774,
          1.5371657609939575,
          1.6369144916534424,
          1.4259897470474243
         ],
         "y": [
          0.535866379737854,
          0.3446437418460846,
          0.3270001709461212,
          0.4833543598651886,
          0.535866379737854
         ]
        },
        {
         "line": {
          "color": "black",
          "width": 1
         },
         "mode": "lines",
         "showlegend": false,
         "type": "scatter",
         "x": [
          1.5371657609939575,
          1.7777091264724731,
          1.7927772998809814,
          1.6369144916534424,
          1.5371657609939575
         ],
         "y": [
          0.3270001709461212,
          0.2957989573478699,
          0.4158589541912079,
          0.4833543598651886,
          0.3270001709461212
         ]
        },
        {
         "line": {
          "color": "black",
          "width": 1
         },
         "mode": "lines",
         "showlegend": false,
         "type": "scatter",
         "x": [
          0.2351664900779724,
          0.3566628694534302,
          0.40328821539878845,
          0.26024454832077026,
          0.2351664900779724
         ],
         "y": [
          0.16964052617549896,
          0.17079336941242218,
          0.27895694971084595,
          0.2798923850059509,
          0.16964052617549896
         ]
        },
        {
         "line": {
          "color": "black",
          "width": 1
         },
         "mode": "lines",
         "showlegend": false,
         "type": "scatter",
         "x": [
          0.3566628694534302,
          0.44784802198410034,
          0.5283551812171936,
          0.40328821539878845,
          0.3566628694534302
         ],
         "y": [
          0.17079336941242218,
          0.17369678616523743,
          0.25586000084877014,
          0.27895694971084595,
          0.17079336941242218
         ]
        },
        {
         "line": {
          "color": "black",
          "width": 1
         },
         "mode": "lines",
         "showlegend": false,
         "type": "scatter",
         "x": [
          0.5283551812171936,
          0.627141535282135,
          0.4450821578502655,
          0.40328821539878845,
          0.5283551812171936
         ],
         "y": [
          0.25586000084877014,
          0.36488497257232666,
          0.4019414782524109,
          0.27895694971084595,
          0.25586000084877014
         ]
        },
        {
         "line": {
          "color": "black",
          "width": 1
         },
         "mode": "lines",
         "showlegend": false,
         "type": "scatter",
         "x": [
          0.4450821578502655,
          0.2805204391479492,
          0.26024454832077026,
          0.40328821539878845,
          0.4450821578502655
         ],
         "y": [
          0.4019414782524109,
          0.41729649901390076,
          0.2798923850059509,
          0.27895694971084595,
          0.4019414782524109
         ]
        },
        {
         "line": {
          "color": "black",
          "width": 1
         },
         "mode": "lines",
         "showlegend": false,
         "type": "scatter",
         "x": [
          4.532685279846191,
          4.519779205322266,
          4.367013454437256,
          4.388168811798096,
          4.532685279846191
         ],
         "y": [
          0.26613542437553406,
          0.4059048891067505,
          0.49820104241371155,
          0.312896192073822,
          0.26613542437553406
         ]
        },
        {
         "line": {
          "color": "black",
          "width": 1
         },
         "mode": "lines",
         "showlegend": false,
         "type": "scatter",
         "x": [
          4.519779205322266,
          4.529269695281982,
          4.380903720855713,
          4.367013454437256,
          4.519779205322266
         ],
         "y": [
          0.4059048891067505,
          0.5404736399650574,
          0.665602445602417,
          0.49820104241371155,
          0.4059048891067505
         ]
        },
        {
         "line": {
          "color": "black",
          "width": 1
         },
         "mode": "lines",
         "showlegend": false,
         "type": "scatter",
         "x": [
          4.380903720855713,
          4.184881210327148,
          4.198951244354248,
          4.367013454437256,
          4.380903720855713
         ],
         "y": [
          0.665602445602417,
          0.8321652412414551,
          0.578764796257019,
          0.49820104241371155,
          0.665602445602417
         ]
        },
        {
         "line": {
          "color": "black",
          "width": 1
         },
         "mode": "lines",
         "showlegend": false,
         "type": "scatter",
         "x": [
          4.198951244354248,
          4.227769374847412,
          4.388168811798096,
          4.367013454437256,
          4.198951244354248
         ],
         "y": [
          0.578764796257019,
          0.36207443475723267,
          0.312896192073822,
          0.49820104241371155,
          0.578764796257019
         ]
        },
        {
         "line": {
          "color": "black",
          "width": 1
         },
         "mode": "lines",
         "showlegend": false,
         "type": "scatter",
         "x": [
          4.777948379516602,
          4.763580322265625,
          4.676713943481445,
          4.655497074127197,
          4.777948379516602
         ],
         "y": [
          0.44183599948883057,
          0.5851188898086548,
          0.5678136348724365,
          0.46665915846824646,
          0.44183599948883057
         ]
        },
        {
         "line": {
          "color": "black",
          "width": 1
         },
         "mode": "lines",
         "showlegend": false,
         "type": "scatter",
         "x": [
          4.72461462020874,
          4.605403900146484,
          4.676713943481445,
          4.763580322265625,
          4.72461462020874
         ],
         "y": [
          0.7577979564666748,
          0.6484557390213013,
          0.5678136348724365,
          0.5851188898086548,
          0.7577979564666748
         ]
        },
        {
         "line": {
          "color": "black",
          "width": 1
         },
         "mode": "lines",
         "showlegend": false,
         "type": "scatter",
         "x": [
          4.529269695281982,
          4.655497074127197,
          4.676713943481445,
          4.605403900146484,
          4.529269695281982
         ],
         "y": [
          0.5404736399650574,
          0.46665915846824646,
          0.5678136348724365,
          0.6484557390213013,
          0.5404736399650574
         ]
        },
        {
         "line": {
          "color": "black",
          "width": 1
         },
         "mode": "lines",
         "showlegend": false,
         "type": "scatter",
         "x": [
          4.751469135284424,
          4.627870559692383,
          4.6611738204956055,
          4.750705718994141,
          4.751469135284424
         ],
         "y": [
          1.1083425283432007,
          1.0579159259796143,
          0.9445756673812866,
          0.9411253333091736,
          1.1083425283432007
         ]
        },
        {
         "line": {
          "color": "black",
          "width": 1
         },
         "mode": "lines",
         "showlegend": false,
         "type": "scatter",
         "x": [
          4.499637603759766,
          4.598024845123291,
          4.6611738204956055,
          4.627870559692383,
          4.499637603759766
         ],
         "y": [
          1.0052365064620972,
          0.8661877512931824,
          0.9445756673812866,
          1.0579159259796143,
          1.0052365064620972
         ]
        },
        {
         "line": {
          "color": "black",
          "width": 1
         },
         "mode": "lines",
         "showlegend": false,
         "type": "scatter",
         "x": [
          4.72461462020874,
          4.750705718994141,
          4.6611738204956055,
          4.598024845123291,
          4.72461462020874
         ],
         "y": [
          0.7577979564666748,
          0.9411253333091736,
          0.9445756673812866,
          0.8661877512931824,
          0.7577979564666748
         ]
        },
        {
         "line": {
          "color": "black",
          "width": 1
         },
         "mode": "lines",
         "showlegend": false,
         "type": "scatter",
         "x": [
          2.4818246364593506,
          2.7423744201660156,
          2.7789831161499023,
          2.6743946075439453,
          2.4818246364593506
         ],
         "y": [
          0.6158626079559326,
          0.5232980847358704,
          0.6703698039054871,
          0.7902913093566895,
          0.6158626079559326
         ]
        },
        {
         "line": {
          "color": "black",
          "width": 1
         },
         "mode": "lines",
         "showlegend": false,
         "type": "scatter",
         "x": [
          2.963808298110962,
          2.9305195808410645,
          2.7789831161499023,
          2.7423744201660156,
          2.963808298110962
         ],
         "y": [
          0.4604211151599884,
          0.6812463998794556,
          0.6703698039054871,
          0.5232980847358704,
          0.4604211151599884
         ]
        },
        {
         "line": {
          "color": "black",
          "width": 1
         },
         "mode": "lines",
         "showlegend": false,
         "type": "scatter",
         "x": [
          2.8966269493103027,
          2.6743946075439453,
          2.7789831161499023,
          2.9305195808410645,
          2.8966269493103027
         ],
         "y": [
          0.9135451912879944,
          0.7902913093566895,
          0.6703698039054871,
          0.6812463998794556,
          0.9135451912879944
         ]
        },
        {
         "line": {
          "color": "black",
          "width": 1
         },
         "mode": "lines",
         "showlegend": false,
         "type": "scatter",
         "x": [
          3.473403215408325,
          3.3496553897857666,
          3.4812986850738525,
          3.613842725753784,
          3.473403215408325
         ],
         "y": [
          1.1742188930511475,
          1.000938892364502,
          0.9523402452468872,
          1.0139297246932983,
          1.1742188930511475
         ]
        },
        {
         "line": {
          "color": "black",
          "width": 1
         },
         "mode": "lines",
         "showlegend": false,
         "type": "scatter",
         "x": [
          3.2980592250823975,
          3.4975550174713135,
          3.4812986850738525,
          3.3496553897857666,
          3.2980592250823975
         ],
         "y": [
          0.8300948143005371,
          0.8307721614837646,
          0.9523402452468872,
          1.000938892364502,
          0.8300948143005371
         ]
        },
        {
         "line": {
          "color": "black",
          "width": 1
         },
         "mode": "lines",
         "showlegend": false,
         "type": "scatter",
         "x": [
          3.713677167892456,
          3.613842725753784,
          3.4812986850738525,
          3.4975550174713135,
          3.713677167892456
         ],
         "y": [
          0.8393602967262268,
          1.0139297246932983,
          0.9523402452468872,
          0.8307721614837646,
          0.8393602967262268
         ]
        },
        {
         "line": {
          "color": "black",
          "width": 1
         },
         "mode": "lines",
         "showlegend": false,
         "type": "scatter",
         "x": [
          3.413848876953125,
          3.4483723640441895,
          3.6152236461639404,
          3.6525046825408936,
          3.413848876953125
         ],
         "y": [
          1.5906689167022705,
          1.3876214027404785,
          1.388878345489502,
          1.5292885303497314,
          1.5906689167022705
         ]
        },
        {
         "line": {
          "color": "black",
          "width": 1
         },
         "mode": "lines",
         "showlegend": false,
         "type": "scatter",
         "x": [
          3.473403215408325,
          3.7114505767822266,
          3.6152236461639404,
          3.4483723640441895,
          3.473403215408325
         ],
         "y": [
          1.1742188930511475,
          1.2611958980560303,
          1.388878345489502,
          1.3876214027404785,
          1.1742188930511475
         ]
        },
        {
         "line": {
          "color": "black",
          "width": 1
         },
         "mode": "lines",
         "showlegend": false,
         "type": "scatter",
         "x": [
          3.940859079360962,
          3.6525046825408936,
          3.6152236461639404,
          3.7114505767822266,
          3.940859079360962
         ],
         "y": [
          1.4175339937210083,
          1.5292885303497314,
          1.388878345489502,
          1.2611958980560303,
          1.4175339937210083
         ]
        },
        {
         "line": {
          "color": "black",
          "width": 1
         },
         "mode": "lines",
         "showlegend": false,
         "type": "scatter",
         "x": [
          1.7777091264724731,
          1.771650791168213,
          1.9366068840026855,
          1.9901713132858276,
          1.7777091264724731
         ],
         "y": [
          0.2957989573478699,
          0.17057465016841888,
          0.00018855412781704217,
          0.276121586561203,
          0.2957989573478699
         ]
        },
        {
         "line": {
          "color": "black",
          "width": 1
         },
         "mode": "lines",
         "showlegend": false,
         "type": "scatter",
         "x": [
          1.9901713132858276,
          1.9581654071807861,
          1.7927772998809814,
          1.7777091264724731,
          1.9901713132858276
         ],
         "y": [
          0.276121586561203,
          0.480968713760376,
          0.4158589541912079,
          0.2957989573478699,
          0.276121586561203
         ]
        },
        {
         "line": {
          "color": "black",
          "width": 1
         },
         "mode": "lines",
         "showlegend": false,
         "type": "scatter",
         "x": [
          0.4665650427341461,
          0.5224918127059937,
          0.6202309727668762,
          0.6209971308708191,
          0.4665650427341461
         ],
         "y": [
          2,
          1.8436788320541382,
          1.881928563117981,
          2,
          2
         ]
        },
        {
         "line": {
          "color": "black",
          "width": 1
         },
         "mode": "lines",
         "showlegend": false,
         "type": "scatter",
         "x": [
          0.6195558905601501,
          0.7255236506462097,
          0.6202309727668762,
          0.5224918127059937,
          0.6195558905601501
         ],
         "y": [
          1.6367623805999756,
          1.8332324028015137,
          1.881928563117981,
          1.8436788320541382,
          1.6367623805999756
         ]
        },
        {
         "line": {
          "color": "black",
          "width": 1
         },
         "mode": "lines",
         "showlegend": false,
         "type": "scatter",
         "x": [
          0.7830976843833923,
          0.6209971308708191,
          0.6202309727668762,
          0.7255236506462097,
          0.7830976843833923
         ],
         "y": [
          2,
          2,
          1.881928563117981,
          1.8332324028015137,
          2
         ]
        },
        {
         "line": {
          "color": "black",
          "width": 1
         },
         "mode": "lines",
         "showlegend": false,
         "type": "scatter",
         "x": [
          0.26228660345077515,
          0.2859349250793457,
          0.3970043361186981,
          0.4134669601917267,
          0.26228660345077515
         ],
         "y": [
          1.7314345836639404,
          1.5875043869018555,
          1.5976229906082153,
          1.6992977857589722,
          1.7314345836639404
         ]
        },
        {
         "line": {
          "color": "black",
          "width": 1
         },
         "mode": "lines",
         "showlegend": false,
         "type": "scatter",
         "x": [
          0.31884118914604187,
          0.4631172716617584,
          0.3970043361186981,
          0.2859349250793457,
          0.31884118914604187
         ],
         "y": [
          1.4385032653808594,
          1.502655029296875,
          1.5976229906082153,
          1.5875043869018555,
          1.4385032653808594
         ]
        },
        {
         "line": {
          "color": "black",
          "width": 1
         },
         "mode": "lines",
         "showlegend": false,
         "type": "scatter",
         "x": [
          0.6195558905601501,
          0.4134669601917267,
          0.3970043361186981,
          0.4631172716617584,
          0.6195558905601501
         ],
         "y": [
          1.6367623805999756,
          1.6992977857589722,
          1.5976229906082153,
          1.502655029296875,
          1.6367623805999756
         ]
        },
        {
         "line": {
          "color": "black",
          "width": 1
         },
         "mode": "lines",
         "showlegend": false,
         "type": "scatter",
         "x": [
          0.578811764717102,
          0.5067894458770752,
          0.4058176577091217,
          0.415022075176239,
          0.578811764717102
         ],
         "y": [
          0.7186275720596313,
          0.8900513648986816,
          0.8539271354675293,
          0.730919361114502,
          0.7186275720596313
         ]
        },
        {
         "line": {
          "color": "black",
          "width": 1
         },
         "mode": "lines",
         "showlegend": false,
         "type": "scatter",
         "x": [
          0.39051392674446106,
          0.3024592697620392,
          0.4058176577091217,
          0.5067894458770752,
          0.39051392674446106
         ],
         "y": [
          1.07501220703125,
          0.9197574257850647,
          0.8539271354675293,
          0.8900513648986816,
          1.07501220703125
         ]
        },
        {
         "line": {
          "color": "black",
          "width": 1
         },
         "mode": "lines",
         "showlegend": false,
         "type": "scatter",
         "x": [
          0.2587893605232239,
          0.415022075176239,
          0.4058176577091217,
          0.3024592697620392,
          0.2587893605232239
         ],
         "y": [
          0.7632734775543213,
          0.730919361114502,
          0.8539271354675293,
          0.9197574257850647,
          0.7632734775543213
         ]
        },
        {
         "line": {
          "color": "green",
          "dash": "dash",
          "width": 2
         },
         "mode": "lines",
         "showlegend": false,
         "type": "scatter",
         "x": [
          0.1,
          4.9
         ],
         "y": [
          0.1,
          0.1
         ]
        },
        {
         "line": {
          "color": "green",
          "dash": "dash",
          "width": 2
         },
         "mode": "lines",
         "showlegend": false,
         "type": "scatter",
         "x": [
          0.1,
          4.9
         ],
         "y": [
          0.45999999999999996,
          0.45999999999999996
         ]
        },
        {
         "line": {
          "color": "green",
          "dash": "dash",
          "width": 2
         },
         "mode": "lines",
         "showlegend": false,
         "type": "scatter",
         "x": [
          0.1,
          4.9
         ],
         "y": [
          0.82,
          0.82
         ]
        },
        {
         "line": {
          "color": "green",
          "dash": "dash",
          "width": 2
         },
         "mode": "lines",
         "showlegend": false,
         "type": "scatter",
         "x": [
          0.1,
          4.9
         ],
         "y": [
          1.1800000000000002,
          1.1800000000000002
         ]
        },
        {
         "line": {
          "color": "green",
          "dash": "dash",
          "width": 2
         },
         "mode": "lines",
         "showlegend": false,
         "type": "scatter",
         "x": [
          0.1,
          4.9
         ],
         "y": [
          1.54,
          1.54
         ]
        },
        {
         "line": {
          "color": "green",
          "dash": "dash",
          "width": 2
         },
         "mode": "lines",
         "showlegend": false,
         "type": "scatter",
         "x": [
          0.1,
          4.9
         ],
         "y": [
          1.9,
          1.9
         ]
        },
        {
         "line": {
          "color": "green",
          "dash": "dash",
          "width": 2
         },
         "mode": "lines",
         "showlegend": false,
         "type": "scatter",
         "x": [
          0.1,
          0.1
         ],
         "y": [
          0.1,
          1.9
         ]
        },
        {
         "line": {
          "color": "green",
          "dash": "dash",
          "width": 2
         },
         "mode": "lines",
         "showlegend": false,
         "type": "scatter",
         "x": [
          1.0600000000000003,
          1.0600000000000003
         ],
         "y": [
          0.1,
          1.9
         ]
        },
        {
         "line": {
          "color": "green",
          "dash": "dash",
          "width": 2
         },
         "mode": "lines",
         "showlegend": false,
         "type": "scatter",
         "x": [
          2.0200000000000005,
          2.0200000000000005
         ],
         "y": [
          0.1,
          1.9
         ]
        },
        {
         "line": {
          "color": "green",
          "dash": "dash",
          "width": 2
         },
         "mode": "lines",
         "showlegend": false,
         "type": "scatter",
         "x": [
          2.980000000000001,
          2.980000000000001
         ],
         "y": [
          0.1,
          1.9
         ]
        },
        {
         "line": {
          "color": "green",
          "dash": "dash",
          "width": 2
         },
         "mode": "lines",
         "showlegend": false,
         "type": "scatter",
         "x": [
          3.940000000000001,
          3.940000000000001
         ],
         "y": [
          0.1,
          1.9
         ]
        },
        {
         "line": {
          "color": "green",
          "dash": "dash",
          "width": 2
         },
         "mode": "lines",
         "showlegend": false,
         "type": "scatter",
         "x": [
          4.9,
          4.9
         ],
         "y": [
          0.1,
          1.9
         ]
        }
       ],
       "layout": {
        "autosize": true,
        "showlegend": false,
        "template": {
         "data": {
          "bar": [
           {
            "error_x": {
             "color": "#2a3f5f"
            },
            "error_y": {
             "color": "#2a3f5f"
            },
            "marker": {
             "line": {
              "color": "#E5ECF6",
              "width": 0.5
             },
             "pattern": {
              "fillmode": "overlay",
              "size": 10,
              "solidity": 0.2
             }
            },
            "type": "bar"
           }
          ],
          "barpolar": [
           {
            "marker": {
             "line": {
              "color": "#E5ECF6",
              "width": 0.5
             },
             "pattern": {
              "fillmode": "overlay",
              "size": 10,
              "solidity": 0.2
             }
            },
            "type": "barpolar"
           }
          ],
          "carpet": [
           {
            "aaxis": {
             "endlinecolor": "#2a3f5f",
             "gridcolor": "white",
             "linecolor": "white",
             "minorgridcolor": "white",
             "startlinecolor": "#2a3f5f"
            },
            "baxis": {
             "endlinecolor": "#2a3f5f",
             "gridcolor": "white",
             "linecolor": "white",
             "minorgridcolor": "white",
             "startlinecolor": "#2a3f5f"
            },
            "type": "carpet"
           }
          ],
          "choropleth": [
           {
            "colorbar": {
             "outlinewidth": 0,
             "ticks": ""
            },
            "type": "choropleth"
           }
          ],
          "contour": [
           {
            "colorbar": {
             "outlinewidth": 0,
             "ticks": ""
            },
            "colorscale": [
             [
              0,
              "#0d0887"
             ],
             [
              0.1111111111111111,
              "#46039f"
             ],
             [
              0.2222222222222222,
              "#7201a8"
             ],
             [
              0.3333333333333333,
              "#9c179e"
             ],
             [
              0.4444444444444444,
              "#bd3786"
             ],
             [
              0.5555555555555556,
              "#d8576b"
             ],
             [
              0.6666666666666666,
              "#ed7953"
             ],
             [
              0.7777777777777778,
              "#fb9f3a"
             ],
             [
              0.8888888888888888,
              "#fdca26"
             ],
             [
              1,
              "#f0f921"
             ]
            ],
            "type": "contour"
           }
          ],
          "contourcarpet": [
           {
            "colorbar": {
             "outlinewidth": 0,
             "ticks": ""
            },
            "type": "contourcarpet"
           }
          ],
          "heatmap": [
           {
            "colorbar": {
             "outlinewidth": 0,
             "ticks": ""
            },
            "colorscale": [
             [
              0,
              "#0d0887"
             ],
             [
              0.1111111111111111,
              "#46039f"
             ],
             [
              0.2222222222222222,
              "#7201a8"
             ],
             [
              0.3333333333333333,
              "#9c179e"
             ],
             [
              0.4444444444444444,
              "#bd3786"
             ],
             [
              0.5555555555555556,
              "#d8576b"
             ],
             [
              0.6666666666666666,
              "#ed7953"
             ],
             [
              0.7777777777777778,
              "#fb9f3a"
             ],
             [
              0.8888888888888888,
              "#fdca26"
             ],
             [
              1,
              "#f0f921"
             ]
            ],
            "type": "heatmap"
           }
          ],
          "heatmapgl": [
           {
            "colorbar": {
             "outlinewidth": 0,
             "ticks": ""
            },
            "colorscale": [
             [
              0,
              "#0d0887"
             ],
             [
              0.1111111111111111,
              "#46039f"
             ],
             [
              0.2222222222222222,
              "#7201a8"
             ],
             [
              0.3333333333333333,
              "#9c179e"
             ],
             [
              0.4444444444444444,
              "#bd3786"
             ],
             [
              0.5555555555555556,
              "#d8576b"
             ],
             [
              0.6666666666666666,
              "#ed7953"
             ],
             [
              0.7777777777777778,
              "#fb9f3a"
             ],
             [
              0.8888888888888888,
              "#fdca26"
             ],
             [
              1,
              "#f0f921"
             ]
            ],
            "type": "heatmapgl"
           }
          ],
          "histogram": [
           {
            "marker": {
             "pattern": {
              "fillmode": "overlay",
              "size": 10,
              "solidity": 0.2
             }
            },
            "type": "histogram"
           }
          ],
          "histogram2d": [
           {
            "colorbar": {
             "outlinewidth": 0,
             "ticks": ""
            },
            "colorscale": [
             [
              0,
              "#0d0887"
             ],
             [
              0.1111111111111111,
              "#46039f"
             ],
             [
              0.2222222222222222,
              "#7201a8"
             ],
             [
              0.3333333333333333,
              "#9c179e"
             ],
             [
              0.4444444444444444,
              "#bd3786"
             ],
             [
              0.5555555555555556,
              "#d8576b"
             ],
             [
              0.6666666666666666,
              "#ed7953"
             ],
             [
              0.7777777777777778,
              "#fb9f3a"
             ],
             [
              0.8888888888888888,
              "#fdca26"
             ],
             [
              1,
              "#f0f921"
             ]
            ],
            "type": "histogram2d"
           }
          ],
          "histogram2dcontour": [
           {
            "colorbar": {
             "outlinewidth": 0,
             "ticks": ""
            },
            "colorscale": [
             [
              0,
              "#0d0887"
             ],
             [
              0.1111111111111111,
              "#46039f"
             ],
             [
              0.2222222222222222,
              "#7201a8"
             ],
             [
              0.3333333333333333,
              "#9c179e"
             ],
             [
              0.4444444444444444,
              "#bd3786"
             ],
             [
              0.5555555555555556,
              "#d8576b"
             ],
             [
              0.6666666666666666,
              "#ed7953"
             ],
             [
              0.7777777777777778,
              "#fb9f3a"
             ],
             [
              0.8888888888888888,
              "#fdca26"
             ],
             [
              1,
              "#f0f921"
             ]
            ],
            "type": "histogram2dcontour"
           }
          ],
          "mesh3d": [
           {
            "colorbar": {
             "outlinewidth": 0,
             "ticks": ""
            },
            "type": "mesh3d"
           }
          ],
          "parcoords": [
           {
            "line": {
             "colorbar": {
              "outlinewidth": 0,
              "ticks": ""
             }
            },
            "type": "parcoords"
           }
          ],
          "pie": [
           {
            "automargin": true,
            "type": "pie"
           }
          ],
          "scatter": [
           {
            "fillpattern": {
             "fillmode": "overlay",
             "size": 10,
             "solidity": 0.2
            },
            "type": "scatter"
           }
          ],
          "scatter3d": [
           {
            "line": {
             "colorbar": {
              "outlinewidth": 0,
              "ticks": ""
             }
            },
            "marker": {
             "colorbar": {
              "outlinewidth": 0,
              "ticks": ""
             }
            },
            "type": "scatter3d"
           }
          ],
          "scattercarpet": [
           {
            "marker": {
             "colorbar": {
              "outlinewidth": 0,
              "ticks": ""
             }
            },
            "type": "scattercarpet"
           }
          ],
          "scattergeo": [
           {
            "marker": {
             "colorbar": {
              "outlinewidth": 0,
              "ticks": ""
             }
            },
            "type": "scattergeo"
           }
          ],
          "scattergl": [
           {
            "marker": {
             "colorbar": {
              "outlinewidth": 0,
              "ticks": ""
             }
            },
            "type": "scattergl"
           }
          ],
          "scattermapbox": [
           {
            "marker": {
             "colorbar": {
              "outlinewidth": 0,
              "ticks": ""
             }
            },
            "type": "scattermapbox"
           }
          ],
          "scatterpolar": [
           {
            "marker": {
             "colorbar": {
              "outlinewidth": 0,
              "ticks": ""
             }
            },
            "type": "scatterpolar"
           }
          ],
          "scatterpolargl": [
           {
            "marker": {
             "colorbar": {
              "outlinewidth": 0,
              "ticks": ""
             }
            },
            "type": "scatterpolargl"
           }
          ],
          "scatterternary": [
           {
            "marker": {
             "colorbar": {
              "outlinewidth": 0,
              "ticks": ""
             }
            },
            "type": "scatterternary"
           }
          ],
          "surface": [
           {
            "colorbar": {
             "outlinewidth": 0,
             "ticks": ""
            },
            "colorscale": [
             [
              0,
              "#0d0887"
             ],
             [
              0.1111111111111111,
              "#46039f"
             ],
             [
              0.2222222222222222,
              "#7201a8"
             ],
             [
              0.3333333333333333,
              "#9c179e"
             ],
             [
              0.4444444444444444,
              "#bd3786"
             ],
             [
              0.5555555555555556,
              "#d8576b"
             ],
             [
              0.6666666666666666,
              "#ed7953"
             ],
             [
              0.7777777777777778,
              "#fb9f3a"
             ],
             [
              0.8888888888888888,
              "#fdca26"
             ],
             [
              1,
              "#f0f921"
             ]
            ],
            "type": "surface"
           }
          ],
          "table": [
           {
            "cells": {
             "fill": {
              "color": "#EBF0F8"
             },
             "line": {
              "color": "white"
             }
            },
            "header": {
             "fill": {
              "color": "#C8D4E3"
             },
             "line": {
              "color": "white"
             }
            },
            "type": "table"
           }
          ]
         },
         "layout": {
          "annotationdefaults": {
           "arrowcolor": "#2a3f5f",
           "arrowhead": 0,
           "arrowwidth": 1
          },
          "autotypenumbers": "strict",
          "coloraxis": {
           "colorbar": {
            "outlinewidth": 0,
            "ticks": ""
           }
          },
          "colorscale": {
           "diverging": [
            [
             0,
             "#8e0152"
            ],
            [
             0.1,
             "#c51b7d"
            ],
            [
             0.2,
             "#de77ae"
            ],
            [
             0.3,
             "#f1b6da"
            ],
            [
             0.4,
             "#fde0ef"
            ],
            [
             0.5,
             "#f7f7f7"
            ],
            [
             0.6,
             "#e6f5d0"
            ],
            [
             0.7,
             "#b8e186"
            ],
            [
             0.8,
             "#7fbc41"
            ],
            [
             0.9,
             "#4d9221"
            ],
            [
             1,
             "#276419"
            ]
           ],
           "sequential": [
            [
             0,
             "#0d0887"
            ],
            [
             0.1111111111111111,
             "#46039f"
            ],
            [
             0.2222222222222222,
             "#7201a8"
            ],
            [
             0.3333333333333333,
             "#9c179e"
            ],
            [
             0.4444444444444444,
             "#bd3786"
            ],
            [
             0.5555555555555556,
             "#d8576b"
            ],
            [
             0.6666666666666666,
             "#ed7953"
            ],
            [
             0.7777777777777778,
             "#fb9f3a"
            ],
            [
             0.8888888888888888,
             "#fdca26"
            ],
            [
             1,
             "#f0f921"
            ]
           ],
           "sequentialminus": [
            [
             0,
             "#0d0887"
            ],
            [
             0.1111111111111111,
             "#46039f"
            ],
            [
             0.2222222222222222,
             "#7201a8"
            ],
            [
             0.3333333333333333,
             "#9c179e"
            ],
            [
             0.4444444444444444,
             "#bd3786"
            ],
            [
             0.5555555555555556,
             "#d8576b"
            ],
            [
             0.6666666666666666,
             "#ed7953"
            ],
            [
             0.7777777777777778,
             "#fb9f3a"
            ],
            [
             0.8888888888888888,
             "#fdca26"
            ],
            [
             1,
             "#f0f921"
            ]
           ]
          },
          "colorway": [
           "#636efa",
           "#EF553B",
           "#00cc96",
           "#ab63fa",
           "#FFA15A",
           "#19d3f3",
           "#FF6692",
           "#B6E880",
           "#FF97FF",
           "#FECB52"
          ],
          "font": {
           "color": "#2a3f5f"
          },
          "geo": {
           "bgcolor": "white",
           "lakecolor": "white",
           "landcolor": "#E5ECF6",
           "showlakes": true,
           "showland": true,
           "subunitcolor": "white"
          },
          "hoverlabel": {
           "align": "left"
          },
          "hovermode": "closest",
          "mapbox": {
           "style": "light"
          },
          "paper_bgcolor": "white",
          "plot_bgcolor": "#E5ECF6",
          "polar": {
           "angularaxis": {
            "gridcolor": "white",
            "linecolor": "white",
            "ticks": ""
           },
           "bgcolor": "#E5ECF6",
           "radialaxis": {
            "gridcolor": "white",
            "linecolor": "white",
            "ticks": ""
           }
          },
          "scene": {
           "xaxis": {
            "backgroundcolor": "#E5ECF6",
            "gridcolor": "white",
            "gridwidth": 2,
            "linecolor": "white",
            "showbackground": true,
            "ticks": "",
            "zerolinecolor": "white"
           },
           "yaxis": {
            "backgroundcolor": "#E5ECF6",
            "gridcolor": "white",
            "gridwidth": 2,
            "linecolor": "white",
            "showbackground": true,
            "ticks": "",
            "zerolinecolor": "white"
           },
           "zaxis": {
            "backgroundcolor": "#E5ECF6",
            "gridcolor": "white",
            "gridwidth": 2,
            "linecolor": "white",
            "showbackground": true,
            "ticks": "",
            "zerolinecolor": "white"
           }
          },
          "shapedefaults": {
           "line": {
            "color": "#2a3f5f"
           }
          },
          "ternary": {
           "aaxis": {
            "gridcolor": "white",
            "linecolor": "white",
            "ticks": ""
           },
           "baxis": {
            "gridcolor": "white",
            "linecolor": "white",
            "ticks": ""
           },
           "bgcolor": "#E5ECF6",
           "caxis": {
            "gridcolor": "white",
            "linecolor": "white",
            "ticks": ""
           }
          },
          "title": {
           "x": 0.05
          },
          "xaxis": {
           "automargin": true,
           "gridcolor": "white",
           "linecolor": "white",
           "ticks": "",
           "title": {
            "standoff": 15
           },
           "zerolinecolor": "white",
           "zerolinewidth": 2
          },
          "yaxis": {
           "automargin": true,
           "gridcolor": "white",
           "linecolor": "white",
           "ticks": "",
           "title": {
            "standoff": 15
           },
           "zerolinecolor": "white",
           "zerolinewidth": 2
          }
         }
        },
        "title": {
         "text": "Structure with Tirants (View: xy)"
        },
        "xaxis": {
         "scaleanchor": "y",
         "scaleratio": 1,
         "title": {
          "text": "X"
         }
        },
        "yaxis": {
         "scaleanchor": "x",
         "scaleratio": 1,
         "title": {
          "text": "Y"
         }
        }
       }
      }
     },
     "metadata": {},
     "output_type": "display_data"
    },
    {
     "name": "stdout",
     "output_type": "stream",
     "text": [
      "Tirants avec coordonnées des extrémités :\n",
      "((0.1, 0.1), (4.9, 0.1))\n",
      "((0.1, 0.45999999999999996), (4.9, 0.45999999999999996))\n",
      "((0.1, 0.82), (4.9, 0.82))\n",
      "((0.1, 1.1800000000000002), (4.9, 1.1800000000000002))\n",
      "((0.1, 1.54), (4.9, 1.54))\n",
      "((0.1, 1.9), (4.9, 1.9))\n",
      "((0.1, 0.1), (0.1, 1.9))\n",
      "((1.0600000000000003, 0.1), (1.0600000000000003, 1.9))\n",
      "((2.0200000000000005, 0.1), (2.0200000000000005, 1.9))\n",
      "((2.980000000000001, 0.1), (2.980000000000001, 1.9))\n",
      "((3.940000000000001, 0.1), (3.940000000000001, 1.9))\n",
      "((4.9, 0.1), (4.9, 1.9))\n"
     ]
    }
   ],
   "source": [
    "def add_tirants(file_path, dir='y', n=5, m=5):\n",
    "    \"\"\"\n",
    "    Génère la liste des tirants sans afficher la figure.\n",
    "    \n",
    "    :param file_path: Chemin vers le fichier CDB\n",
    "    :param view_axis: Vue sélectionnée ('xy', 'xz', 'yz')\n",
    "    :param n: Nombre de tirants à ajouter en X\n",
    "    :param m: Nombre de tirants à ajouter en Y ou Z\n",
    "    :return: Liste des tirants ajoutés\n",
    "    \"\"\"\n",
    "    # Ouverture de la base de données CDB\n",
    "    cdbStat, Index = open_cdb(file_path)\n",
    "\n",
    "    x=extremites(Index)\n",
    "\n",
    "    # Fermeture de la base de données CDB\n",
    "    close_cdb(cdbStat, Index)\n",
    "\n",
    "    # Initialisation\n",
    "    tirants = []\n",
    "    x_min, y_min, z_min = x[:3]\n",
    "    x_max, y_max, z_max = x[3:]\n",
    "\n",
    "    #Ajout de la marge\n",
    "    margin = 0.1\n",
    "    x_min,y_min,z_min = x_min+margin,y_min+margin,z_min+margin\n",
    "    x_max,y_max,z_max=x_max-margin,y_max-margin,z_max-margin\n",
    "\n",
    "    # Ajout de tirants en fonction des paramètres n et m\n",
    "    tirant_spacing_x = (x_max - x_min) / n\n",
    "    tirant_spacing_y = (y_max - y_min) / m\n",
    "    tirant_spacing_z = (z_max - z_min) / m\n",
    "\n",
    "    \n",
    "    if dir=='y':\n",
    "        # Tirants en X    \n",
    "        for i in range(m + 1):\n",
    "            y = y_min + i * tirant_spacing_y\n",
    "            tirants.append(((x_min, y), (x_max, y)))\n",
    "        # Tirants en Y\n",
    "        for i in range(n + 1):\n",
    "            x = x_min + i * tirant_spacing_x\n",
    "            tirants.append(((x, y_min), (x, y_max)))        \n",
    "    else:\n",
    "        # Tirants en X\n",
    "        for i in range(m + 1):\n",
    "            z = z_min + i * tirant_spacing_z\n",
    "            tirants.append(((x_min, z), (x_max, z)))\n",
    "        # Tirants en Z\n",
    "        for i in range(n + 1):\n",
    "            x = x_min + i * tirant_spacing_x\n",
    "            tirants.append(((x, z_min), (x, z_max)))\n",
    "\n",
    "    # Retourner la liste des tirants\n",
    "    return tirants\n",
    "\n",
    "def add_fig_tirants(fig, file_path, dir='y', n=5, m=5):\n",
    "    \"\"\"\n",
    "    Ajoute les tirants (lignes vertes) à la figure fig en fonction des extrémités extraites de la base de données CDB.\n",
    "    Utilise la fonction add_tirants pour générer les tirants avec une marge de 0.1 m aux bords.\n",
    "    \n",
    "    :param fig: Figure Plotly à laquelle les lignes seront ajoutées\n",
    "    :param file_path: Chemin vers le fichier CDB\n",
    "    :param dir: Direction des tirants ('y' pour le plan XY, 'z' pour le plan XZ)\n",
    "    :param n: Nombre de lignes dans la direction X\n",
    "    :param m: Nombre de lignes dans la direction Y ou Z\n",
    "    :return: Figure mise à jour et liste des tirants avec coordonnées des extrémités\n",
    "    \"\"\"\n",
    "    # Générer les tirants en utilisant la fonction add_tirants\n",
    "    tirants = add_tirants(file_path, dir,n,m)\n",
    "\n",
    "    # Ajouter les tirants à la figure\n",
    "    for tirant in tirants:\n",
    "        # Extraire les coordonnées des extrémités des tirants\n",
    "        (x1, y1), (x2, y2) = tirant\n",
    "        # Ajouter la ligne verte à la figure\n",
    "        fig.add_trace(go.Scatter(\n",
    "            x=[x1, x2], y=[y1, y2], mode='lines',\n",
    "            line=dict(color='green', width=2, dash='dash'),\n",
    "            showlegend=False\n",
    "        ))\n",
    "\n",
    "    # Retourner la figure mise à jour et la liste des tirants\n",
    "    return fig, tirants\n",
    "\n",
    "def plot_structure_with_tirants(file_path, view_axis='xy', n=5, m=5):\n",
    "    \"\"\"\n",
    "    Trace la structure avec les lignes vertes (tirants) et retourne la figure mise à jour avec les tirants.\n",
    "    \n",
    "    :param file_path: Chemin vers le fichier CDB\n",
    "    :param view_axis: Vue sélectionnée ('xy', 'xz', 'yz')\n",
    "    :param n: Nombre de tirants à ajouter dans la direction X\n",
    "    :param m: Nombre de tirants à ajouter dans la direction Y ou Z\n",
    "    :return: Figure Plotly mise à jour avec les tirants et la liste des tirants\n",
    "    \"\"\"\n",
    "    # Ouverture de la base de données CDB\n",
    "    cdbStat, Index = open_cdb(file_path)\n",
    "\n",
    "    # Extraction des coordonnées des nœuds\n",
    "    node_coords = extract_node_coords(Index)\n",
    "\n",
    "    # Extraction des éléments quadrilatéraux\n",
    "    elements,_ = extract_quad_elements(Index)\n",
    "\n",
    "    # Fermeture de la base de données CDB\n",
    "    close_cdb(cdbStat, Index)\n",
    "\n",
    "    # Création d'une figure plotly\n",
    "    fig = go.Figure()\n",
    "\n",
    "    # Définir les axes en fonction de la vue choisie\n",
    "    axis_map = {\n",
    "        'xy': (0, 1),  # Utiliser les axes X et Y\n",
    "        'xz': (0, 2),  # Utiliser les axes X et Z\n",
    "        'yz': (1, 2)   # Utiliser les axes Y et Z\n",
    "    }\n",
    "    ax1, ax2 = axis_map.get(view_axis, (0, 1))  # Par défaut, afficher selon XY\n",
    "\n",
    "    # Tracer le maillage sans valeurs\n",
    "    for element in elements:\n",
    "        quad_coords = np.array([node_coords[node] for node in element])\n",
    "        quad_coords = np.vstack([quad_coords, quad_coords[0]])  # Fermer le quadrilatère\n",
    "        x_coords = quad_coords[:, ax1]\n",
    "        y_coords = quad_coords[:, ax2]\n",
    "\n",
    "        # Ajout du quadrilatère au graphique\n",
    "        fig.add_trace(go.Scatter(\n",
    "            x=x_coords, y=y_coords, mode='lines',\n",
    "            line=dict(color='black', width=1),\n",
    "            showlegend=False\n",
    "        ))\n",
    "\n",
    "    # Utiliser la fonction add_fig_tirants pour ajouter les tirants à la figure\n",
    "    fig, tirants = add_fig_tirants(fig, file_path, dir=view_axis[1], n=n, m=m)\n",
    "\n",
    "    # Configuration du layout pour interactivité\n",
    "    axis_labels = {\n",
    "        'xy': ('X', 'Y'),\n",
    "        'xz': ('X', 'Z'),\n",
    "        'yz': ('Y', 'Z')\n",
    "    }\n",
    "    x_label, y_label = axis_labels.get(view_axis, ('X', 'Y'))\n",
    "\n",
    "    fig.update_layout(\n",
    "        title=f\"Structure with Tirants (View: {view_axis})\",\n",
    "        xaxis_title=x_label,\n",
    "        yaxis_title=y_label,\n",
    "        xaxis=dict(scaleanchor=\"y\", scaleratio=1),  # Forcer l'échelle égale\n",
    "        yaxis=dict(scaleanchor=\"x\", scaleratio=1),\n",
    "        showlegend=False,\n",
    "        autosize=True,\n",
    "    )\n",
    "\n",
    "    # Retourner la figure mise à jour et la liste des tirants\n",
    "    return fig, tirants\n",
    "\n",
    "# Exemple d'utilisation\n",
    "file_path = r\"sofistik_cdb\\b.cdb\"\n",
    "\n",
    "# Générer la figure avec la structure et les tirants dans le plan XY\n",
    "fig, tirants = plot_structure_with_tirants(file_path, view_axis='xy', n=5, m=5)\n",
    "\n",
    "# Afficher la figure (si vous souhaitez afficher après)\n",
    "fig.show()\n",
    "\n",
    "# # Afficher la liste des tirants (coordonnées des extrémités)\n",
    "# print(\"Tirants avec coordonnées des extrémités :\")\n",
    "# for tirant in tirants:\n",
    "#     print(tirant)\n"
   ]
  },
  {
   "cell_type": "code",
   "execution_count": 38,
   "metadata": {},
   "outputs": [
    {
     "name": "stdout",
     "output_type": "stream",
     "text": [
      "CDB opened successfully, CDB Status = 3\n",
      "CDB closed successfully, CDB Status = 0\n",
      "CDB opened successfully, CDB Status = 3\n",
      "CDB closed successfully, CDB Status = 0\n",
      "CDB opened successfully, CDB Status = 3\n",
      "CDB closed successfully, CDB Status = 0\n",
      "CDB opened successfully, CDB Status = 3\n",
      "CDB closed successfully, CDB Status = 0\n"
     ]
    },
    {
     "data": {
      "application/vnd.plotly.v1+json": {
       "config": {
        "plotlyServerURL": "https://plot.ly"
       },
       "data": [
        {
         "line": {
          "color": "black",
          "width": 2
         },
         "mode": "lines",
         "showlegend": false,
         "type": "scatter",
         "x": [
          4.184881210327148,
          4.380903720855713,
          4.484766006469727,
          4.35438346862793,
          4.184881210327148
         ],
         "y": [
          0.8321652412414551,
          0.665602445602417,
          0.7816742062568665,
          0.93611079454422,
          0.8321652412414551
         ]
        },
        {
         "fill": "toself",
         "fillcolor": "rgba(0, 0, 255, 0.2)",
         "line": {
          "color": "black",
          "width": 2
         },
         "mode": "lines",
         "showlegend": false,
         "type": "scatter",
         "x": [
          4.184881210327148,
          4.380903720855713,
          4.484766006469727,
          4.35438346862793,
          4.184881210327148
         ],
         "y": [
          0.8321652412414551,
          0.665602445602417,
          0.7816742062568665,
          0.93611079454422,
          0.8321652412414551
         ]
        },
        {
         "line": {
          "color": "black",
          "width": 2
         },
         "mode": "lines",
         "showlegend": false,
         "type": "scatter",
         "x": [
          4.380903720855713,
          4.529269695281982,
          4.605403900146484,
          4.484766006469727,
          4.380903720855713
         ],
         "y": [
          0.665602445602417,
          0.5404736399650574,
          0.6484557390213013,
          0.7816742062568665,
          0.665602445602417
         ]
        },
        {
         "line": {
          "color": "black",
          "width": 2
         },
         "mode": "lines",
         "showlegend": false,
         "type": "scatter",
         "x": [
          4.605403900146484,
          4.72461462020874,
          4.598024845123291,
          4.484766006469727,
          4.605403900146484
         ],
         "y": [
          0.6484557390213013,
          0.7577979564666748,
          0.8661877512931824,
          0.7816742062568665,
          0.6484557390213013
         ]
        },
        {
         "fill": "toself",
         "fillcolor": "rgba(0, 0, 255, 0.2)",
         "line": {
          "color": "black",
          "width": 2
         },
         "mode": "lines",
         "showlegend": false,
         "type": "scatter",
         "x": [
          4.605403900146484,
          4.72461462020874,
          4.598024845123291,
          4.484766006469727,
          4.605403900146484
         ],
         "y": [
          0.6484557390213013,
          0.7577979564666748,
          0.8661877512931824,
          0.7816742062568665,
          0.6484557390213013
         ]
        },
        {
         "line": {
          "color": "black",
          "width": 2
         },
         "mode": "lines",
         "showlegend": false,
         "type": "scatter",
         "x": [
          4.598024845123291,
          4.499637603759766,
          4.35438346862793,
          4.484766006469727,
          4.598024845123291
         ],
         "y": [
          0.8661877512931824,
          1.0052365064620972,
          0.93611079454422,
          0.7816742062568665,
          0.8661877512931824
         ]
        },
        {
         "fill": "toself",
         "fillcolor": "rgba(0, 0, 255, 0.2)",
         "line": {
          "color": "black",
          "width": 2
         },
         "mode": "lines",
         "showlegend": false,
         "type": "scatter",
         "x": [
          4.598024845123291,
          4.499637603759766,
          4.35438346862793,
          4.484766006469727,
          4.598024845123291
         ],
         "y": [
          0.8661877512931824,
          1.0052365064620972,
          0.93611079454422,
          0.7816742062568665,
          0.8661877512931824
         ]
        },
        {
         "line": {
          "color": "black",
          "width": 2
         },
         "mode": "lines",
         "showlegend": false,
         "type": "scatter",
         "x": [
          1.9366068840026855,
          2.219147205352783,
          2.2291526794433594,
          1.9901713132858276,
          1.9366068840026855
         ],
         "y": [
          0.00018855412781704217,
          0.00021923126769252121,
          0.28612998127937317,
          0.276121586561203,
          0.00018855412781704217
         ]
        },
        {
         "fill": "toself",
         "fillcolor": "rgba(0, 0, 255, 0.2)",
         "line": {
          "color": "black",
          "width": 2
         },
         "mode": "lines",
         "showlegend": false,
         "type": "scatter",
         "x": [
          1.9366068840026855,
          2.219147205352783,
          2.2291526794433594,
          1.9901713132858276,
          1.9366068840026855
         ],
         "y": [
          0.00018855412781704217,
          0.00021923126769252121,
          0.28612998127937317,
          0.276121586561203,
          0.00018855412781704217
         ]
        },
        {
         "line": {
          "color": "black",
          "width": 2
         },
         "mode": "lines",
         "showlegend": false,
         "type": "scatter",
         "x": [
          2.219147205352783,
          2.5016872882843018,
          2.495232343673706,
          2.2291526794433594,
          2.219147205352783
         ],
         "y": [
          0.00021923126769252121,
          0.00024990839301608503,
          0.30192285776138306,
          0.28612998127937317,
          0.00021923126769252121
         ]
        },
        {
         "fill": "toself",
         "fillcolor": "rgba(0, 0, 255, 0.2)",
         "line": {
          "color": "black",
          "width": 2
         },
         "mode": "lines",
         "showlegend": false,
         "type": "scatter",
         "x": [
          2.219147205352783,
          2.5016872882843018,
          2.495232343673706,
          2.2291526794433594,
          2.219147205352783
         ],
         "y": [
          0.00021923126769252121,
          0.00024990839301608503,
          0.30192285776138306,
          0.28612998127937317,
          0.00021923126769252121
         ]
        },
        {
         "line": {
          "color": "black",
          "width": 2
         },
         "mode": "lines",
         "showlegend": false,
         "type": "scatter",
         "x": [
          2.495232343673706,
          2.4818246364593506,
          2.2037031650543213,
          2.2291526794433594,
          2.495232343673706
         ],
         "y": [
          0.30192285776138306,
          0.6158626079559326,
          0.5564764738082886,
          0.28612998127937317,
          0.30192285776138306
         ]
        },
        {
         "fill": "toself",
         "fillcolor": "rgba(0, 0, 255, 0.2)",
         "line": {
          "color": "black",
          "width": 2
         },
         "mode": "lines",
         "showlegend": false,
         "type": "scatter",
         "x": [
          2.495232343673706,
          2.4818246364593506,
          2.2037031650543213,
          2.2291526794433594,
          2.495232343673706
         ],
         "y": [
          0.30192285776138306,
          0.6158626079559326,
          0.5564764738082886,
          0.28612998127937317,
          0.30192285776138306
         ]
        },
        {
         "line": {
          "color": "black",
          "width": 2
         },
         "mode": "lines",
         "showlegend": false,
         "type": "scatter",
         "x": [
          2.2037031650543213,
          1.9581654071807861,
          1.9901713132858276,
          2.2291526794433594,
          2.2037031650543213
         ],
         "y": [
          0.5564764738082886,
          0.480968713760376,
          0.276121586561203,
          0.28612998127937317,
          0.5564764738082886
         ]
        },
        {
         "fill": "toself",
         "fillcolor": "rgba(0, 0, 255, 0.2)",
         "line": {
          "color": "black",
          "width": 2
         },
         "mode": "lines",
         "showlegend": false,
         "type": "scatter",
         "x": [
          2.2037031650543213,
          1.9581654071807861,
          1.9901713132858276,
          2.2291526794433594,
          2.2037031650543213
         ],
         "y": [
          0.5564764738082886,
          0.480968713760376,
          0.276121586561203,
          0.28612998127937317,
          0.5564764738082886
         ]
        },
        {
         "line": {
          "color": "black",
          "width": 2
         },
         "mode": "lines",
         "showlegend": false,
         "type": "scatter",
         "x": [
          0.627141535282135,
          0.5283551812171936,
          0.5565705299377441,
          0.6754037737846375,
          0.627141535282135
         ],
         "y": [
          0.36488497257232666,
          0.25586000084877014,
          0.13838030397891998,
          0.17441172897815704,
          0.36488497257232666
         ]
        },
        {
         "line": {
          "color": "black",
          "width": 2
         },
         "mode": "lines",
         "showlegend": false,
         "type": "scatter",
         "x": [
          0.5283551812171936,
          0.44784802198410034,
          0.4447828233242035,
          0.5565705299377441,
          0.5283551812171936
         ],
         "y": [
          0.25586000084877014,
          0.17369678616523743,
          0.10014267265796661,
          0.13838030397891998,
          0.25586000084877014
         ]
        },
        {
         "line": {
          "color": "black",
          "width": 2
         },
         "mode": "lines",
         "showlegend": false,
         "type": "scatter",
         "x": [
          0.4447828233242035,
          0.4152797758579254,
          0.5458481907844543,
          0.5565705299377441,
          0.4447828233242035
         ],
         "y": [
          0.10014267265796661,
          0.000023374253942165524,
          0.00003755087163881399,
          0.13838030397891998,
          0.10014267265796661
         ]
        },
        {
         "fill": "toself",
         "fillcolor": "rgba(0, 0, 255, 0.2)",
         "line": {
          "color": "black",
          "width": 2
         },
         "mode": "lines",
         "showlegend": false,
         "type": "scatter",
         "x": [
          0.4447828233242035,
          0.4152797758579254,
          0.5458481907844543,
          0.5565705299377441,
          0.4447828233242035
         ],
         "y": [
          0.10014267265796661,
          0.000023374253942165524,
          0.00003755087163881399,
          0.13838030397891998,
          0.10014267265796661
         ]
        },
        {
         "line": {
          "color": "black",
          "width": 2
         },
         "mode": "lines",
         "showlegend": false,
         "type": "scatter",
         "x": [
          0.5458481907844543,
          0.6764165759086609,
          0.6754037737846375,
          0.5565705299377441,
          0.5458481907844543
         ],
         "y": [
          0.00003755087163881399,
          0.00005172748933546245,
          0.17441172897815704,
          0.13838030397891998,
          0.00003755087163881399
         ]
        },
        {
         "fill": "toself",
         "fillcolor": "rgba(0, 0, 255, 0.2)",
         "line": {
          "color": "black",
          "width": 2
         },
         "mode": "lines",
         "showlegend": false,
         "type": "scatter",
         "x": [
          0.5458481907844543,
          0.6764165759086609,
          0.6754037737846375,
          0.5565705299377441,
          0.5458481907844543
         ],
         "y": [
          0.00003755087163881399,
          0.00005172748933546245,
          0.17441172897815704,
          0.13838030397891998,
          0.00003755087163881399
         ]
        },
        {
         "line": {
          "color": "black",
          "width": 2
         },
         "mode": "lines",
         "showlegend": false,
         "type": "scatter",
         "x": [
          0.627141535282135,
          0.6754037737846375,
          0.8145043849945068,
          0.7956831455230713,
          0.627141535282135
         ],
         "y": [
          0.36488497257232666,
          0.17441172897815704,
          0.17493510246276855,
          0.3563489615917206,
          0.36488497257232666
         ]
        },
        {
         "line": {
          "color": "black",
          "width": 2
         },
         "mode": "lines",
         "showlegend": false,
         "type": "scatter",
         "x": [
          0.6754037737846375,
          0.6764165759086609,
          0.8390675187110901,
          0.8145043849945068,
          0.6754037737846375
         ],
         "y": [
          0.17441172897815704,
          0.00005172748933546245,
          0.0000693875044817105,
          0.17493510246276855,
          0.17441172897815704
         ]
        },
        {
         "fill": "toself",
         "fillcolor": "rgba(0, 0, 255, 0.2)",
         "line": {
          "color": "black",
          "width": 2
         },
         "mode": "lines",
         "showlegend": false,
         "type": "scatter",
         "x": [
          0.6754037737846375,
          0.6764165759086609,
          0.8390675187110901,
          0.8145043849945068,
          0.6754037737846375
         ],
         "y": [
          0.17441172897815704,
          0.00005172748933546245,
          0.0000693875044817105,
          0.17493510246276855,
          0.17441172897815704
         ]
        },
        {
         "line": {
          "color": "black",
          "width": 2
         },
         "mode": "lines",
         "showlegend": false,
         "type": "scatter",
         "x": [
          0.8390675187110901,
          1.001718521118164,
          0.9756912589073181,
          0.8145043849945068,
          0.8390675187110901
         ],
         "y": [
          0.0000693875044817105,
          0.00008704751962795854,
          0.16414402425289154,
          0.17493510246276855,
          0.0000693875044817105
         ]
        },
        {
         "fill": "toself",
         "fillcolor": "rgba(0, 0, 255, 0.2)",
         "line": {
          "color": "black",
          "width": 2
         },
         "mode": "lines",
         "showlegend": false,
         "type": "scatter",
         "x": [
          0.8390675187110901,
          1.001718521118164,
          0.9756912589073181,
          0.8145043849945068,
          0.8390675187110901
         ],
         "y": [
          0.0000693875044817105,
          0.00008704751962795854,
          0.16414402425289154,
          0.17493510246276855,
          0.0000693875044817105
         ]
        },
        {
         "line": {
          "color": "black",
          "width": 2
         },
         "mode": "lines",
         "showlegend": false,
         "type": "scatter",
         "x": [
          0.9756912589073181,
          0.9562130570411682,
          0.7956831455230713,
          0.8145043849945068,
          0.9756912589073181
         ],
         "y": [
          0.16414402425289154,
          0.33940842747688293,
          0.3563489615917206,
          0.17493510246276855,
          0.16414402425289154
         ]
        },
        {
         "line": {
          "color": "black",
          "width": 2
         },
         "mode": "lines",
         "showlegend": false,
         "type": "scatter",
         "x": [
          3.940859079360962,
          3.8619019985198975,
          3.6335062980651855,
          3.6525046825408936,
          3.940859079360962
         ],
         "y": [
          1.4175339937210083,
          1.73337984085083,
          1.7517982721328735,
          1.5292885303497314,
          1.4175339937210083
         ]
        },
        {
         "fill": "toself",
         "fillcolor": "rgba(0, 0, 255, 0.2)",
         "line": {
          "color": "black",
          "width": 2
         },
         "mode": "lines",
         "showlegend": false,
         "type": "scatter",
         "x": [
          3.940859079360962,
          3.8619019985198975,
          3.6335062980651855,
          3.6525046825408936,
          3.940859079360962
         ],
         "y": [
          1.4175339937210083,
          1.73337984085083,
          1.7517982721328735,
          1.5292885303497314,
          1.4175339937210083
         ]
        },
        {
         "line": {
          "color": "black",
          "width": 2
         },
         "mode": "lines",
         "showlegend": false,
         "type": "scatter",
         "x": [
          3.8619019985198975,
          3.8241896629333496,
          3.5748698711395264,
          3.6335062980651855,
          3.8619019985198975
         ],
         "y": [
          1.73337984085083,
          2,
          2,
          1.7517982721328735,
          1.73337984085083
         ]
        },
        {
         "fill": "toself",
         "fillcolor": "rgba(0, 0, 255, 0.2)",
         "line": {
          "color": "black",
          "width": 2
         },
         "mode": "lines",
         "showlegend": false,
         "type": "scatter",
         "x": [
          3.8619019985198975,
          3.8241896629333496,
          3.5748698711395264,
          3.6335062980651855,
          3.8619019985198975
         ],
         "y": [
          1.73337984085083,
          2,
          2,
          1.7517982721328735,
          1.73337984085083
         ]
        },
        {
         "line": {
          "color": "black",
          "width": 2
         },
         "mode": "lines",
         "showlegend": false,
         "type": "scatter",
         "x": [
          3.5748698711395264,
          3.325550079345703,
          3.378969192504883,
          3.6335062980651855,
          3.5748698711395264
         ],
         "y": [
          2,
          2,
          1.7909590005874634,
          1.7517982721328735,
          2
         ]
        },
        {
         "fill": "toself",
         "fillcolor": "rgba(0, 0, 255, 0.2)",
         "line": {
          "color": "black",
          "width": 2
         },
         "mode": "lines",
         "showlegend": false,
         "type": "scatter",
         "x": [
          3.5748698711395264,
          3.325550079345703,
          3.378969192504883,
          3.6335062980651855,
          3.5748698711395264
         ],
         "y": [
          2,
          2,
          1.7909590005874634,
          1.7517982721328735,
          2
         ]
        },
        {
         "line": {
          "color": "black",
          "width": 2
         },
         "mode": "lines",
         "showlegend": false,
         "type": "scatter",
         "x": [
          3.378969192504883,
          3.413848876953125,
          3.6525046825408936,
          3.6335062980651855,
          3.378969192504883
         ],
         "y": [
          1.7909590005874634,
          1.5906689167022705,
          1.5292885303497314,
          1.7517982721328735,
          1.7909590005874634
         ]
        },
        {
         "fill": "toself",
         "fillcolor": "rgba(0, 0, 255, 0.2)",
         "line": {
          "color": "black",
          "width": 2
         },
         "mode": "lines",
         "showlegend": false,
         "type": "scatter",
         "x": [
          3.378969192504883,
          3.413848876953125,
          3.6525046825408936,
          3.6335062980651855,
          3.378969192504883
         ],
         "y": [
          1.7909590005874634,
          1.5906689167022705,
          1.5292885303497314,
          1.7517982721328735,
          1.7909590005874634
         ]
        },
        {
         "line": {
          "color": "black",
          "width": 2
         },
         "mode": "lines",
         "showlegend": false,
         "type": "scatter",
         "x": [
          3.940859079360962,
          4.126584529876709,
          4.0474724769592285,
          3.8619019985198975,
          3.940859079360962
         ],
         "y": [
          1.4175339937210083,
          1.5954294204711914,
          1.7833279371261597,
          1.73337984085083,
          1.4175339937210083
         ]
        },
        {
         "fill": "toself",
         "fillcolor": "rgba(0, 0, 255, 0.2)",
         "line": {
          "color": "black",
          "width": 2
         },
         "mode": "lines",
         "showlegend": false,
         "type": "scatter",
         "x": [
          3.940859079360962,
          4.126584529876709,
          4.0474724769592285,
          3.8619019985198975,
          3.940859079360962
         ],
         "y": [
          1.4175339937210083,
          1.5954294204711914,
          1.7833279371261597,
          1.73337984085083,
          1.4175339937210083
         ]
        },
        {
         "line": {
          "color": "black",
          "width": 2
         },
         "mode": "lines",
         "showlegend": false,
         "type": "scatter",
         "x": [
          4.126584529876709,
          4.247294902801514,
          4.224693298339844,
          4.0474724769592285,
          4.126584529876709
         ],
         "y": [
          1.5954294204711914,
          1.7250137329101562,
          1.845983624458313,
          1.7833279371261597,
          1.5954294204711914
         ]
        },
        {
         "line": {
          "color": "black",
          "width": 2
         },
         "mode": "lines",
         "showlegend": false,
         "type": "scatter",
         "x": [
          4.224693298339844,
          4.216902256011963,
          4.020545959472656,
          4.0474724769592285,
          4.224693298339844
         ],
         "y": [
          1.845983624458313,
          2,
          2,
          1.7833279371261597,
          1.845983624458313
         ]
        },
        {
         "fill": "toself",
         "fillcolor": "rgba(0, 0, 255, 0.2)",
         "line": {
          "color": "black",
          "width": 2
         },
         "mode": "lines",
         "showlegend": false,
         "type": "scatter",
         "x": [
          4.224693298339844,
          4.216902256011963,
          4.020545959472656,
          4.0474724769592285,
          4.224693298339844
         ],
         "y": [
          1.845983624458313,
          2,
          2,
          1.7833279371261597,
          1.845983624458313
         ]
        },
        {
         "line": {
          "color": "black",
          "width": 2
         },
         "mode": "lines",
         "showlegend": false,
         "type": "scatter",
         "x": [
          4.020545959472656,
          3.8241896629333496,
          3.8619019985198975,
          4.0474724769592285,
          4.020545959472656
         ],
         "y": [
          2,
          2,
          1.73337984085083,
          1.7833279371261597,
          2
         ]
        },
        {
         "fill": "toself",
         "fillcolor": "rgba(0, 0, 255, 0.2)",
         "line": {
          "color": "black",
          "width": 2
         },
         "mode": "lines",
         "showlegend": false,
         "type": "scatter",
         "x": [
          4.020545959472656,
          3.8241896629333496,
          3.8619019985198975,
          4.0474724769592285,
          4.020545959472656
         ],
         "y": [
          2,
          2,
          1.73337984085083,
          1.7833279371261597,
          2
         ]
        },
        {
         "line": {
          "color": "black",
          "width": 2
         },
         "mode": "lines",
         "showlegend": false,
         "type": "scatter",
         "x": [
          1.551755666732788,
          1.8069356679916382,
          2.0429975986480713,
          1.8455408811569214,
          1.551755666732788
         ],
         "y": [
          0.7565462589263916,
          0.6288296580314636,
          0.7485314011573792,
          0.9179932475090027,
          0.7565462589263916
         ]
        },
        {
         "fill": "toself",
         "fillcolor": "rgba(0, 0, 255, 0.2)",
         "line": {
          "color": "black",
          "width": 2
         },
         "mode": "lines",
         "showlegend": false,
         "type": "scatter",
         "x": [
          1.551755666732788,
          1.8069356679916382,
          2.0429975986480713,
          1.8455408811569214,
          1.551755666732788
         ],
         "y": [
          0.7565462589263916,
          0.6288296580314636,
          0.7485314011573792,
          0.9179932475090027,
          0.7565462589263916
         ]
        },
        {
         "line": {
          "color": "black",
          "width": 2
         },
         "mode": "lines",
         "showlegend": false,
         "type": "scatter",
         "x": [
          1.8069356679916382,
          1.9581654071807861,
          2.2037031650543213,
          2.0429975986480713,
          1.8069356679916382
         ],
         "y": [
          0.6288296580314636,
          0.480968713760376,
          0.5564764738082886,
          0.7485314011573792,
          0.6288296580314636
         ]
        },
        {
         "fill": "toself",
         "fillcolor": "rgba(0, 0, 255, 0.2)",
         "line": {
          "color": "black",
          "width": 2
         },
         "mode": "lines",
         "showlegend": false,
         "type": "scatter",
         "x": [
          1.8069356679916382,
          1.9581654071807861,
          2.2037031650543213,
          2.0429975986480713,
          1.8069356679916382
         ],
         "y": [
          0.6288296580314636,
          0.480968713760376,
          0.5564764738082886,
          0.7485314011573792,
          0.6288296580314636
         ]
        },
        {
         "line": {
          "color": "black",
          "width": 2
         },
         "mode": "lines",
         "showlegend": false,
         "type": "scatter",
         "x": [
          2.2037031650543213,
          2.4818246364593506,
          2.29817271232605,
          2.0429975986480713,
          2.2037031650543213
         ],
         "y": [
          0.5564764738082886,
          0.6158626079559326,
          0.8649904727935791,
          0.7485314011573792,
          0.5564764738082886
         ]
        },
        {
         "fill": "toself",
         "fillcolor": "rgba(0, 0, 255, 0.2)",
         "line": {
          "color": "black",
          "width": 2
         },
         "mode": "lines",
         "showlegend": false,
         "type": "scatter",
         "x": [
          2.2037031650543213,
          2.4818246364593506,
          2.29817271232605,
          2.0429975986480713,
          2.2037031650543213
         ],
         "y": [
          0.5564764738082886,
          0.6158626079559326,
          0.8649904727935791,
          0.7485314011573792,
          0.5564764738082886
         ]
        },
        {
         "line": {
          "color": "black",
          "width": 2
         },
         "mode": "lines",
         "showlegend": false,
         "type": "scatter",
         "x": [
          2.29817271232605,
          2.1369597911834717,
          1.8455408811569214,
          2.0429975986480713,
          2.29817271232605
         ],
         "y": [
          0.8649904727935791,
          1.0944474935531616,
          0.9179932475090027,
          0.7485314011573792,
          0.8649904727935791
         ]
        },
        {
         "fill": "toself",
         "fillcolor": "rgba(0, 0, 255, 0.2)",
         "line": {
          "color": "black",
          "width": 2
         },
         "mode": "lines",
         "showlegend": false,
         "type": "scatter",
         "x": [
          2.29817271232605,
          2.1369597911834717,
          1.8455408811569214,
          2.0429975986480713,
          2.29817271232605
         ],
         "y": [
          0.8649904727935791,
          1.0944474935531616,
          0.9179932475090027,
          0.7485314011573792,
          0.8649904727935791
         ]
        },
        {
         "line": {
          "color": "black",
          "width": 2
         },
         "mode": "lines",
         "showlegend": false,
         "type": "scatter",
         "x": [
          2.1369597911834717,
          1.881170392036438,
          1.6543995141983032,
          1.8455408811569214,
          2.1369597911834717
         ],
         "y": [
          1.0944474935531616,
          1.2007673978805542,
          1.0701322555541992,
          0.9179932475090027,
          1.0944474935531616
         ]
        },
        {
         "fill": "toself",
         "fillcolor": "rgba(0, 0, 255, 0.2)",
         "line": {
          "color": "black",
          "width": 2
         },
         "mode": "lines",
         "showlegend": false,
         "type": "scatter",
         "x": [
          2.1369597911834717,
          1.881170392036438,
          1.6543995141983032,
          1.8455408811569214,
          2.1369597911834717
         ],
         "y": [
          1.0944474935531616,
          1.2007673978805542,
          1.0701322555541992,
          0.9179932475090027,
          1.0944474935531616
         ]
        },
        {
         "line": {
          "color": "black",
          "width": 2
         },
         "mode": "lines",
         "showlegend": false,
         "type": "scatter",
         "x": [
          1.881170392036438,
          1.6893349885940552,
          1.4776769876480103,
          1.6543995141983032,
          1.881170392036438
         ],
         "y": [
          1.2007673978805542,
          1.329845905303955,
          1.2268623113632202,
          1.0701322555541992,
          1.2007673978805542
         ]
        },
        {
         "fill": "toself",
         "fillcolor": "rgba(0, 0, 255, 0.2)",
         "line": {
          "color": "black",
          "width": 2
         },
         "mode": "lines",
         "showlegend": false,
         "type": "scatter",
         "x": [
          1.881170392036438,
          1.6893349885940552,
          1.4776769876480103,
          1.6543995141983032,
          1.881170392036438
         ],
         "y": [
          1.2007673978805542,
          1.329845905303955,
          1.2268623113632202,
          1.0701322555541992,
          1.2007673978805542
         ]
        },
        {
         "line": {
          "color": "black",
          "width": 2
         },
         "mode": "lines",
         "showlegend": false,
         "type": "scatter",
         "x": [
          1.4776769876480103,
          1.2487528324127197,
          1.39943528175354,
          1.6543995141983032,
          1.4776769876480103
         ],
         "y": [
          1.2268623113632202,
          1.1753369569778442,
          0.9716702103614807,
          1.0701322555541992,
          1.2268623113632202
         ]
        },
        {
         "fill": "toself",
         "fillcolor": "rgba(0, 0, 255, 0.2)",
         "line": {
          "color": "black",
          "width": 2
         },
         "mode": "lines",
         "showlegend": false,
         "type": "scatter",
         "x": [
          1.4776769876480103,
          1.2487528324127197,
          1.39943528175354,
          1.6543995141983032,
          1.4776769876480103
         ],
         "y": [
          1.2268623113632202,
          1.1753369569778442,
          0.9716702103614807,
          1.0701322555541992,
          1.2268623113632202
         ]
        },
        {
         "line": {
          "color": "black",
          "width": 2
         },
         "mode": "lines",
         "showlegend": false,
         "type": "scatter",
         "x": [
          1.39943528175354,
          1.551755666732788,
          1.8455408811569214,
          1.6543995141983032,
          1.39943528175354
         ],
         "y": [
          0.9716702103614807,
          0.7565462589263916,
          0.9179932475090027,
          1.0701322555541992,
          0.9716702103614807
         ]
        },
        {
         "fill": "toself",
         "fillcolor": "rgba(0, 0, 255, 0.2)",
         "line": {
          "color": "black",
          "width": 2
         },
         "mode": "lines",
         "showlegend": false,
         "type": "scatter",
         "x": [
          1.39943528175354,
          1.551755666732788,
          1.8455408811569214,
          1.6543995141983032,
          1.39943528175354
         ],
         "y": [
          0.9716702103614807,
          0.7565462589263916,
          0.9179932475090027,
          1.0701322555541992,
          0.9716702103614807
         ]
        },
        {
         "line": {
          "color": "black",
          "width": 2
         },
         "mode": "lines",
         "showlegend": false,
         "type": "scatter",
         "x": [
          1.551755666732788,
          1.2197847366333008,
          1.1891976594924927,
          1.4259897470474243,
          1.551755666732788
         ],
         "y": [
          0.7565462589263916,
          0.7356423735618591,
          0.5400145649909973,
          0.535866379737854,
          0.7565462589263916
         ]
        },
        {
         "line": {
          "color": "black",
          "width": 2
         },
         "mode": "lines",
         "showlegend": false,
         "type": "scatter",
         "x": [
          1.2197847366333008,
          0.9549516439437866,
          0.9622323513031006,
          1.1891976594924927,
          1.2197847366333008
         ],
         "y": [
          0.7356423735618591,
          0.7246973514556885,
          0.5287277102470398,
          0.5400145649909973,
          0.7356423735618591
         ]
        },
        {
         "fill": "toself",
         "fillcolor": "rgba(0, 0, 255, 0.2)",
         "line": {
          "color": "black",
          "width": 2
         },
         "mode": "lines",
         "showlegend": false,
         "type": "scatter",
         "x": [
          1.2197847366333008,
          0.9549516439437866,
          0.9622323513031006,
          1.1891976594924927,
          1.2197847366333008
         ],
         "y": [
          0.7356423735618591,
          0.7246973514556885,
          0.5287277102470398,
          0.5400145649909973,
          0.7356423735618591
         ]
        },
        {
         "line": {
          "color": "black",
          "width": 2
         },
         "mode": "lines",
         "showlegend": false,
         "type": "scatter",
         "x": [
          0.9622323513031006,
          0.9562130570411682,
          1.137257695198059,
          1.1891976594924927,
          0.9622323513031006
         ],
         "y": [
          0.5287277102470398,
          0.33940842747688293,
          0.34151342511177063,
          0.5400145649909973,
          0.5287277102470398
         ]
        },
        {
         "fill": "toself",
         "fillcolor": "rgba(0, 0, 255, 0.2)",
         "line": {
          "color": "black",
          "width": 2
         },
         "mode": "lines",
         "showlegend": false,
         "type": "scatter",
         "x": [
          0.9622323513031006,
          0.9562130570411682,
          1.137257695198059,
          1.1891976594924927,
          0.9622323513031006
         ],
         "y": [
          0.5287277102470398,
          0.33940842747688293,
          0.34151342511177063,
          0.5400145649909973,
          0.5287277102470398
         ]
        },
        {
         "line": {
          "color": "black",
          "width": 2
         },
         "mode": "lines",
         "showlegend": false,
         "type": "scatter",
         "x": [
          1.137257695198059,
          1.3543840646743774,
          1.4259897470474243,
          1.1891976594924927,
          1.137257695198059
         ],
         "y": [
          0.34151342511177063,
          0.3446437418460846,
          0.535866379737854,
          0.5400145649909973,
          0.34151342511177063
         ]
        },
        {
         "fill": "toself",
         "fillcolor": "rgba(0, 0, 255, 0.2)",
         "line": {
          "color": "black",
          "width": 2
         },
         "mode": "lines",
         "showlegend": false,
         "type": "scatter",
         "x": [
          1.137257695198059,
          1.3543840646743774,
          1.4259897470474243,
          1.1891976594924927,
          1.137257695198059
         ],
         "y": [
          0.34151342511177063,
          0.3446437418460846,
          0.535866379737854,
          0.5400145649909973,
          0.34151342511177063
         ]
        },
        {
         "line": {
          "color": "black",
          "width": 2
         },
         "mode": "lines",
         "showlegend": false,
         "type": "scatter",
         "x": [
          1.551755666732788,
          1.39943528175354,
          1.1353398561477661,
          1.2197847366333008,
          1.551755666732788
         ],
         "y": [
          0.7565462589263916,
          0.9716702103614807,
          0.9431365728378296,
          0.7356423735618591,
          0.7565462589263916
         ]
        },
        {
         "fill": "toself",
         "fillcolor": "rgba(0, 0, 255, 0.2)",
         "line": {
          "color": "black",
          "width": 2
         },
         "mode": "lines",
         "showlegend": false,
         "type": "scatter",
         "x": [
          1.551755666732788,
          1.39943528175354,
          1.1353398561477661,
          1.2197847366333008,
          1.551755666732788
         ],
         "y": [
          0.7565462589263916,
          0.9716702103614807,
          0.9431365728378296,
          0.7356423735618591,
          0.7565462589263916
         ]
        },
        {
         "line": {
          "color": "black",
          "width": 2
         },
         "mode": "lines",
         "showlegend": false,
         "type": "scatter",
         "x": [
          1.39943528175354,
          1.2487528324127197,
          1.0133227109909058,
          1.1353398561477661,
          1.39943528175354
         ],
         "y": [
          0.9716702103614807,
          1.1753369569778442,
          1.1578656435012817,
          0.9431365728378296,
          0.9716702103614807
         ]
        },
        {
         "fill": "toself",
         "fillcolor": "rgba(0, 0, 255, 0.2)",
         "line": {
          "color": "black",
          "width": 2
         },
         "mode": "lines",
         "showlegend": false,
         "type": "scatter",
         "x": [
          1.39943528175354,
          1.2487528324127197,
          1.0133227109909058,
          1.1353398561477661,
          1.39943528175354
         ],
         "y": [
          0.9716702103614807,
          1.1753369569778442,
          1.1578656435012817,
          0.9431365728378296,
          0.9716702103614807
         ]
        },
        {
         "line": {
          "color": "black",
          "width": 2
         },
         "mode": "lines",
         "showlegend": false,
         "type": "scatter",
         "x": [
          1.0133227109909058,
          0.7919260263442993,
          0.8842635750770569,
          1.1353398561477661,
          1.0133227109909058
         ],
         "y": [
          1.1578656435012817,
          1.1481053829193115,
          0.9308021068572998,
          0.9431365728378296,
          1.1578656435012817
         ]
        },
        {
         "fill": "toself",
         "fillcolor": "rgba(0, 0, 255, 0.2)",
         "line": {
          "color": "black",
          "width": 2
         },
         "mode": "lines",
         "showlegend": false,
         "type": "scatter",
         "x": [
          1.0133227109909058,
          0.7919260263442993,
          0.8842635750770569,
          1.1353398561477661,
          1.0133227109909058
         ],
         "y": [
          1.1578656435012817,
          1.1481053829193115,
          0.9308021068572998,
          0.9431365728378296,
          1.1578656435012817
         ]
        },
        {
         "line": {
          "color": "black",
          "width": 2
         },
         "mode": "lines",
         "showlegend": false,
         "type": "scatter",
         "x": [
          0.8842635750770569,
          0.9549516439437866,
          1.2197847366333008,
          1.1353398561477661,
          0.8842635750770569
         ],
         "y": [
          0.9308021068572998,
          0.7246973514556885,
          0.7356423735618591,
          0.9431365728378296,
          0.9308021068572998
         ]
        },
        {
         "fill": "toself",
         "fillcolor": "rgba(0, 0, 255, 0.2)",
         "line": {
          "color": "black",
          "width": 2
         },
         "mode": "lines",
         "showlegend": false,
         "type": "scatter",
         "x": [
          0.8842635750770569,
          0.9549516439437866,
          1.2197847366333008,
          1.1353398561477661,
          0.8842635750770569
         ],
         "y": [
          0.9308021068572998,
          0.7246973514556885,
          0.7356423735618591,
          0.9431365728378296,
          0.9308021068572998
         ]
        },
        {
         "line": {
          "color": "black",
          "width": 2
         },
         "mode": "lines",
         "showlegend": false,
         "type": "scatter",
         "x": [
          4.43840217590332,
          4.602313995361328,
          4.631857872009277,
          4.483864784240723,
          4.43840217590332
         ],
         "y": [
          1.355120062828064,
          1.392114281654358,
          1.5589481592178345,
          1.5376546382904053,
          1.355120062828064
         ]
        },
        {
         "fill": "toself",
         "fillcolor": "rgba(0, 0, 255, 0.2)",
         "line": {
          "color": "black",
          "width": 2
         },
         "mode": "lines",
         "showlegend": false,
         "type": "scatter",
         "x": [
          4.43840217590332,
          4.602313995361328,
          4.631857872009277,
          4.483864784240723,
          4.43840217590332
         ],
         "y": [
          1.355120062828064,
          1.392114281654358,
          1.5589481592178345,
          1.5376546382904053,
          1.355120062828064
         ]
        },
        {
         "line": {
          "color": "black",
          "width": 2
         },
         "mode": "lines",
         "showlegend": false,
         "type": "scatter",
         "x": [
          4.602313995361328,
          4.75515079498291,
          4.76946496963501,
          4.631857872009277,
          4.602313995361328
         ],
         "y": [
          1.392114281654358,
          1.441074013710022,
          1.5914140939712524,
          1.5589481592178345,
          1.392114281654358
         ]
        },
        {
         "fill": "toself",
         "fillcolor": "rgba(0, 0, 255, 0.2)",
         "line": {
          "color": "black",
          "width": 2
         },
         "mode": "lines",
         "showlegend": false,
         "type": "scatter",
         "x": [
          4.602313995361328,
          4.75515079498291,
          4.76946496963501,
          4.631857872009277,
          4.602313995361328
         ],
         "y": [
          1.392114281654358,
          1.441074013710022,
          1.5914140939712524,
          1.5589481592178345,
          1.392114281654358
         ]
        },
        {
         "line": {
          "color": "black",
          "width": 2
         },
         "mode": "lines",
         "showlegend": false,
         "type": "scatter",
         "x": [
          4.76946496963501,
          4.782020568847656,
          4.666162967681885,
          4.631857872009277,
          4.76946496963501
         ],
         "y": [
          1.5914140939712524,
          1.734816312789917,
          1.720773696899414,
          1.5589481592178345,
          1.5914140939712524
         ]
        },
        {
         "line": {
          "color": "black",
          "width": 2
         },
         "mode": "lines",
         "showlegend": false,
         "type": "scatter",
         "x": [
          4.666162967681885,
          4.535280227661133,
          4.483864784240723,
          4.631857872009277,
          4.666162967681885
         ],
         "y": [
          1.720773696899414,
          1.7101585865020752,
          1.5376546382904053,
          1.5589481592178345,
          1.720773696899414
         ]
        },
        {
         "fill": "toself",
         "fillcolor": "rgba(0, 0, 255, 0.2)",
         "line": {
          "color": "black",
          "width": 2
         },
         "mode": "lines",
         "showlegend": false,
         "type": "scatter",
         "x": [
          4.666162967681885,
          4.535280227661133,
          4.483864784240723,
          4.631857872009277,
          4.666162967681885
         ],
         "y": [
          1.720773696899414,
          1.7101585865020752,
          1.5376546382904053,
          1.5589481592178345,
          1.720773696899414
         ]
        },
        {
         "line": {
          "color": "black",
          "width": 2
         },
         "mode": "lines",
         "showlegend": false,
         "type": "scatter",
         "x": [
          4.535280227661133,
          4.386842727661133,
          4.300418376922607,
          4.483864784240723,
          4.535280227661133
         ],
         "y": [
          1.7101585865020752,
          1.711348533630371,
          1.5402913093566895,
          1.5376546382904053,
          1.7101585865020752
         ]
        },
        {
         "fill": "toself",
         "fillcolor": "rgba(0, 0, 255, 0.2)",
         "line": {
          "color": "black",
          "width": 2
         },
         "mode": "lines",
         "showlegend": false,
         "type": "scatter",
         "x": [
          4.535280227661133,
          4.386842727661133,
          4.300418376922607,
          4.483864784240723,
          4.535280227661133
         ],
         "y": [
          1.7101585865020752,
          1.711348533630371,
          1.5402913093566895,
          1.5376546382904053,
          1.7101585865020752
         ]
        },
        {
         "line": {
          "color": "black",
          "width": 2
         },
         "mode": "lines",
         "showlegend": false,
         "type": "scatter",
         "x": [
          4.386842727661133,
          4.247294902801514,
          4.126584529876709,
          4.300418376922607,
          4.386842727661133
         ],
         "y": [
          1.711348533630371,
          1.7250137329101562,
          1.5954294204711914,
          1.5402913093566895,
          1.711348533630371
         ]
        },
        {
         "line": {
          "color": "black",
          "width": 2
         },
         "mode": "lines",
         "showlegend": false,
         "type": "scatter",
         "x": [
          4.126584529876709,
          3.940859079360962,
          4.225057601928711,
          4.300418376922607,
          4.126584529876709
         ],
         "y": [
          1.5954294204711914,
          1.4175339937210083,
          1.3516608476638794,
          1.5402913093566895,
          1.5954294204711914
         ]
        },
        {
         "fill": "toself",
         "fillcolor": "rgba(0, 0, 255, 0.2)",
         "line": {
          "color": "black",
          "width": 2
         },
         "mode": "lines",
         "showlegend": false,
         "type": "scatter",
         "x": [
          4.126584529876709,
          3.940859079360962,
          4.225057601928711,
          4.300418376922607,
          4.126584529876709
         ],
         "y": [
          1.5954294204711914,
          1.4175339937210083,
          1.3516608476638794,
          1.5402913093566895,
          1.5954294204711914
         ]
        },
        {
         "line": {
          "color": "black",
          "width": 2
         },
         "mode": "lines",
         "showlegend": false,
         "type": "scatter",
         "x": [
          4.225057601928711,
          4.43840217590332,
          4.483864784240723,
          4.300418376922607,
          4.225057601928711
         ],
         "y": [
          1.3516608476638794,
          1.355120062828064,
          1.5376546382904053,
          1.5402913093566895,
          1.3516608476638794
         ]
        },
        {
         "fill": "toself",
         "fillcolor": "rgba(0, 0, 255, 0.2)",
         "line": {
          "color": "black",
          "width": 2
         },
         "mode": "lines",
         "showlegend": false,
         "type": "scatter",
         "x": [
          4.225057601928711,
          4.43840217590332,
          4.483864784240723,
          4.300418376922607,
          4.225057601928711
         ],
         "y": [
          1.3516608476638794,
          1.355120062828064,
          1.5376546382904053,
          1.5402913093566895,
          1.3516608476638794
         ]
        },
        {
         "line": {
          "color": "black",
          "width": 2
         },
         "mode": "lines",
         "showlegend": false,
         "type": "scatter",
         "x": [
          2.1369597911834717,
          2.4489808082580566,
          2.5336923599243164,
          2.271019458770752,
          2.1369597911834717
         ],
         "y": [
          1.0944474935531616,
          1.1492185592651367,
          1.3594499826431274,
          1.352016568183899,
          1.0944474935531616
         ]
        },
        {
         "fill": "toself",
         "fillcolor": "rgba(0, 0, 255, 0.2)",
         "line": {
          "color": "black",
          "width": 2
         },
         "mode": "lines",
         "showlegend": false,
         "type": "scatter",
         "x": [
          2.1369597911834717,
          2.4489808082580566,
          2.5336923599243164,
          2.271019458770752,
          2.1369597911834717
         ],
         "y": [
          1.0944474935531616,
          1.1492185592651367,
          1.3594499826431274,
          1.352016568183899,
          1.0944474935531616
         ]
        },
        {
         "line": {
          "color": "black",
          "width": 2
         },
         "mode": "lines",
         "showlegend": false,
         "type": "scatter",
         "x": [
          2.4489808082580566,
          2.6594648361206055,
          2.7669410705566406,
          2.5336923599243164,
          2.4489808082580566
         ],
         "y": [
          1.1492185592651367,
          1.1856552362442017,
          1.3507217168807983,
          1.3594499826431274,
          1.1492185592651367
         ]
        },
        {
         "fill": "toself",
         "fillcolor": "rgba(0, 0, 255, 0.2)",
         "line": {
          "color": "black",
          "width": 2
         },
         "mode": "lines",
         "showlegend": false,
         "type": "scatter",
         "x": [
          2.4489808082580566,
          2.6594648361206055,
          2.7669410705566406,
          2.5336923599243164,
          2.4489808082580566
         ],
         "y": [
          1.1492185592651367,
          1.1856552362442017,
          1.3507217168807983,
          1.3594499826431274,
          1.1492185592651367
         ]
        },
        {
         "line": {
          "color": "black",
          "width": 2
         },
         "mode": "lines",
         "showlegend": false,
         "type": "scatter",
         "x": [
          2.7669410705566406,
          2.911543130874634,
          2.6302239894866943,
          2.5336923599243164,
          2.7669410705566406
         ],
         "y": [
          1.3507217168807983,
          1.556293249130249,
          1.5787913799285889,
          1.3594499826431274,
          1.3507217168807983
         ]
        },
        {
         "fill": "toself",
         "fillcolor": "rgba(0, 0, 255, 0.2)",
         "line": {
          "color": "black",
          "width": 2
         },
         "mode": "lines",
         "showlegend": false,
         "type": "scatter",
         "x": [
          2.7669410705566406,
          2.911543130874634,
          2.6302239894866943,
          2.5336923599243164,
          2.7669410705566406
         ],
         "y": [
          1.3507217168807983,
          1.556293249130249,
          1.5787913799285889,
          1.3594499826431274,
          1.3507217168807983
         ]
        },
        {
         "line": {
          "color": "black",
          "width": 2
         },
         "mode": "lines",
         "showlegend": false,
         "type": "scatter",
         "x": [
          2.6302239894866943,
          2.360090732574463,
          2.271019458770752,
          2.5336923599243164,
          2.6302239894866943
         ],
         "y": [
          1.5787913799285889,
          1.5773155689239502,
          1.352016568183899,
          1.3594499826431274,
          1.5787913799285889
         ]
        },
        {
         "fill": "toself",
         "fillcolor": "rgba(0, 0, 255, 0.2)",
         "line": {
          "color": "black",
          "width": 2
         },
         "mode": "lines",
         "showlegend": false,
         "type": "scatter",
         "x": [
          2.6302239894866943,
          2.360090732574463,
          2.271019458770752,
          2.5336923599243164,
          2.6302239894866943
         ],
         "y": [
          1.5787913799285889,
          1.5773155689239502,
          1.352016568183899,
          1.3594499826431274,
          1.5787913799285889
         ]
        },
        {
         "line": {
          "color": "black",
          "width": 2
         },
         "mode": "lines",
         "showlegend": false,
         "type": "scatter",
         "x": [
          2.360090732574463,
          2.1305150985717773,
          2.038115978240967,
          2.271019458770752,
          2.360090732574463
         ],
         "y": [
          1.5773155689239502,
          1.583219289779663,
          1.3851202726364136,
          1.352016568183899,
          1.5773155689239502
         ]
        },
        {
         "fill": "toself",
         "fillcolor": "rgba(0, 0, 255, 0.2)",
         "line": {
          "color": "black",
          "width": 2
         },
         "mode": "lines",
         "showlegend": false,
         "type": "scatter",
         "x": [
          2.360090732574463,
          2.1305150985717773,
          2.038115978240967,
          2.271019458770752,
          2.360090732574463
         ],
         "y": [
          1.5773155689239502,
          1.583219289779663,
          1.3851202726364136,
          1.352016568183899,
          1.5773155689239502
         ]
        },
        {
         "line": {
          "color": "black",
          "width": 2
         },
         "mode": "lines",
         "showlegend": false,
         "type": "scatter",
         "x": [
          2.1305150985717773,
          1.936989188194275,
          1.8386987447738647,
          2.038115978240967,
          2.1305150985717773
         ],
         "y": [
          1.583219289779663,
          1.5932351350784302,
          1.4585894346237183,
          1.3851202726364136,
          1.583219289779663
         ]
        },
        {
         "fill": "toself",
         "fillcolor": "rgba(0, 0, 255, 0.2)",
         "line": {
          "color": "black",
          "width": 2
         },
         "mode": "lines",
         "showlegend": false,
         "type": "scatter",
         "x": [
          2.1305150985717773,
          1.936989188194275,
          1.8386987447738647,
          2.038115978240967,
          2.1305150985717773
         ],
         "y": [
          1.583219289779663,
          1.5932351350784302,
          1.4585894346237183,
          1.3851202726364136,
          1.583219289779663
         ]
        },
        {
         "line": {
          "color": "black",
          "width": 2
         },
         "mode": "lines",
         "showlegend": false,
         "type": "scatter",
         "x": [
          1.8386987447738647,
          1.6893349885940552,
          1.881170392036438,
          2.038115978240967,
          1.8386987447738647
         ],
         "y": [
          1.4585894346237183,
          1.329845905303955,
          1.2007673978805542,
          1.3851202726364136,
          1.4585894346237183
         ]
        },
        {
         "fill": "toself",
         "fillcolor": "rgba(0, 0, 255, 0.2)",
         "line": {
          "color": "black",
          "width": 2
         },
         "mode": "lines",
         "showlegend": false,
         "type": "scatter",
         "x": [
          1.8386987447738647,
          1.6893349885940552,
          1.881170392036438,
          2.038115978240967,
          1.8386987447738647
         ],
         "y": [
          1.4585894346237183,
          1.329845905303955,
          1.2007673978805542,
          1.3851202726364136,
          1.4585894346237183
         ]
        },
        {
         "line": {
          "color": "black",
          "width": 2
         },
         "mode": "lines",
         "showlegend": false,
         "type": "scatter",
         "x": [
          1.881170392036438,
          2.1369597911834717,
          2.271019458770752,
          2.038115978240967,
          1.881170392036438
         ],
         "y": [
          1.2007673978805542,
          1.0944474935531616,
          1.352016568183899,
          1.3851202726364136,
          1.2007673978805542
         ]
        },
        {
         "fill": "toself",
         "fillcolor": "rgba(0, 0, 255, 0.2)",
         "line": {
          "color": "black",
          "width": 2
         },
         "mode": "lines",
         "showlegend": false,
         "type": "scatter",
         "x": [
          1.881170392036438,
          2.1369597911834717,
          2.271019458770752,
          2.038115978240967,
          1.881170392036438
         ],
         "y": [
          1.2007673978805542,
          1.0944474935531616,
          1.352016568183899,
          1.3851202726364136,
          1.2007673978805542
         ]
        },
        {
         "line": {
          "color": "black",
          "width": 2
         },
         "mode": "lines",
         "showlegend": false,
         "type": "scatter",
         "x": [
          5,
          4.893603324890137,
          4.893519878387451,
          5,
          5
         ],
         "y": [
          2,
          2,
          1.8816883563995361,
          1.891655683517456,
          2
         ]
        },
        {
         "fill": "toself",
         "fillcolor": "rgba(0, 0, 255, 0.2)",
         "line": {
          "color": "black",
          "width": 2
         },
         "mode": "lines",
         "showlegend": false,
         "type": "scatter",
         "x": [
          5,
          4.893603324890137,
          4.893519878387451,
          5,
          5
         ],
         "y": [
          2,
          2,
          1.8816883563995361,
          1.891655683517456,
          2
         ]
        },
        {
         "line": {
          "color": "black",
          "width": 2
         },
         "mode": "lines",
         "showlegend": false,
         "type": "scatter",
         "x": [
          4.893603324890137,
          4.787206172943115,
          4.7866692543029785,
          4.893519878387451,
          4.893603324890137
         ],
         "y": [
          2,
          2,
          1.8726979494094849,
          1.8816883563995361,
          2
         ]
        },
        {
         "fill": "toself",
         "fillcolor": "rgba(0, 0, 255, 0.2)",
         "line": {
          "color": "black",
          "width": 2
         },
         "mode": "lines",
         "showlegend": false,
         "type": "scatter",
         "x": [
          4.893603324890137,
          4.787206172943115,
          4.7866692543029785,
          4.893519878387451,
          4.893603324890137
         ],
         "y": [
          2,
          2,
          1.8726979494094849,
          1.8816883563995361,
          2
         ]
        },
        {
         "line": {
          "color": "black",
          "width": 2
         },
         "mode": "lines",
         "showlegend": false,
         "type": "scatter",
         "x": [
          4.7866692543029785,
          4.782020568847656,
          4.895113468170166,
          4.893519878387451,
          4.7866692543029785
         ],
         "y": [
          1.8726979494094849,
          1.734816312789917,
          1.7575656175613403,
          1.8816883563995361,
          1.8726979494094849
         ]
        },
        {
         "line": {
          "color": "black",
          "width": 2
         },
         "mode": "lines",
         "showlegend": false,
         "type": "scatter",
         "x": [
          4.895113468170166,
          5,
          5,
          4.893519878387451,
          4.895113468170166
         ],
         "y": [
          1.7575656175613403,
          1.7833114862442017,
          1.891655683517456,
          1.8816883563995361,
          1.7575656175613403
         ]
        },
        {
         "fill": "toself",
         "fillcolor": "rgba(0, 0, 255, 0.2)",
         "line": {
          "color": "black",
          "width": 2
         },
         "mode": "lines",
         "showlegend": false,
         "type": "scatter",
         "x": [
          4.895113468170166,
          5,
          5,
          4.893519878387451,
          4.895113468170166
         ],
         "y": [
          1.7575656175613403,
          1.7833114862442017,
          1.891655683517456,
          1.8816883563995361,
          1.7575656175613403
         ]
        },
        {
         "line": {
          "color": "black",
          "width": 2
         },
         "mode": "lines",
         "showlegend": false,
         "type": "scatter",
         "x": [
          4.782020568847656,
          4.7866692543029785,
          4.666573524475098,
          4.666162967681885,
          4.782020568847656
         ],
         "y": [
          1.734816312789917,
          1.8726979494094849,
          1.864461898803711,
          1.720773696899414,
          1.734816312789917
         ]
        },
        {
         "line": {
          "color": "black",
          "width": 2
         },
         "mode": "lines",
         "showlegend": false,
         "type": "scatter",
         "x": [
          4.7866692543029785,
          4.787206172943115,
          4.66032075881958,
          4.666573524475098,
          4.7866692543029785
         ],
         "y": [
          1.8726979494094849,
          2,
          2,
          1.864461898803711,
          1.8726979494094849
         ]
        },
        {
         "fill": "toself",
         "fillcolor": "rgba(0, 0, 255, 0.2)",
         "line": {
          "color": "black",
          "width": 2
         },
         "mode": "lines",
         "showlegend": false,
         "type": "scatter",
         "x": [
          4.7866692543029785,
          4.787206172943115,
          4.66032075881958,
          4.666573524475098,
          4.7866692543029785
         ],
         "y": [
          1.8726979494094849,
          2,
          2,
          1.864461898803711,
          1.8726979494094849
         ]
        },
        {
         "line": {
          "color": "black",
          "width": 2
         },
         "mode": "lines",
         "showlegend": false,
         "type": "scatter",
         "x": [
          4.66032075881958,
          4.533434867858887,
          4.543323993682861,
          4.666573524475098,
          4.66032075881958
         ],
         "y": [
          2,
          2,
          1.8604501485824585,
          1.864461898803711,
          2
         ]
        },
        {
         "fill": "toself",
         "fillcolor": "rgba(0, 0, 255, 0.2)",
         "line": {
          "color": "black",
          "width": 2
         },
         "mode": "lines",
         "showlegend": false,
         "type": "scatter",
         "x": [
          4.66032075881958,
          4.533434867858887,
          4.543323993682861,
          4.666573524475098,
          4.66032075881958
         ],
         "y": [
          2,
          2,
          1.8604501485824585,
          1.864461898803711,
          2
         ]
        },
        {
         "line": {
          "color": "black",
          "width": 2
         },
         "mode": "lines",
         "showlegend": false,
         "type": "scatter",
         "x": [
          4.543323993682861,
          4.535280227661133,
          4.666162967681885,
          4.666573524475098,
          4.543323993682861
         ],
         "y": [
          1.8604501485824585,
          1.7101585865020752,
          1.720773696899414,
          1.864461898803711,
          1.8604501485824585
         ]
        },
        {
         "line": {
          "color": "black",
          "width": 2
         },
         "mode": "lines",
         "showlegend": false,
         "type": "scatter",
         "x": [
          4.805062294006348,
          4.902531147003174,
          4.8997273445129395,
          4.793791770935059,
          4.805062294006348
         ],
         "y": [
          0.0005000000237487257,
          0.0002500000118743628,
          0.09949824213981628,
          0.09455347061157227,
          0.0005000000237487257
         ]
        },
        {
         "line": {
          "color": "black",
          "width": 2
         },
         "mode": "lines",
         "showlegend": false,
         "type": "scatter",
         "x": [
          4.902531147003174,
          5,
          5,
          4.8997273445129395,
          4.902531147003174
         ],
         "y": [
          0.0002500000118743628,
          0,
          0.1072549894452095,
          0.09949824213981628,
          0.0002500000118743628
         ]
        },
        {
         "line": {
          "color": "black",
          "width": 2
         },
         "mode": "lines",
         "showlegend": false,
         "type": "scatter",
         "x": [
          5,
          5,
          4.896488189697266,
          4.8997273445129395,
          5
         ],
         "y": [
          0.1072549894452095,
          0.214509978890419,
          0.2028699666261673,
          0.09949824213981628,
          0.1072549894452095
         ]
        },
        {
         "fill": "toself",
         "fillcolor": "rgba(0, 0, 255, 0.2)",
         "line": {
          "color": "black",
          "width": 2
         },
         "mode": "lines",
         "showlegend": false,
         "type": "scatter",
         "x": [
          5,
          5,
          4.896488189697266,
          4.8997273445129395,
          5
         ],
         "y": [
          0.1072549894452095,
          0.214509978890419,
          0.2028699666261673,
          0.09949824213981628,
          0.1072549894452095
         ]
        },
        {
         "line": {
          "color": "black",
          "width": 2
         },
         "mode": "lines",
         "showlegend": false,
         "type": "scatter",
         "x": [
          4.896488189697266,
          4.786237716674805,
          4.793791770935059,
          4.8997273445129395,
          4.896488189697266
         ],
         "y": [
          0.2028699666261673,
          0.19695256650447845,
          0.09455347061157227,
          0.09949824213981628,
          0.2028699666261673
         ]
        },
        {
         "fill": "toself",
         "fillcolor": "rgba(0, 0, 255, 0.2)",
         "line": {
          "color": "black",
          "width": 2
         },
         "mode": "lines",
         "showlegend": false,
         "type": "scatter",
         "x": [
          4.896488189697266,
          4.786237716674805,
          4.793791770935059,
          4.8997273445129395,
          4.896488189697266
         ],
         "y": [
          0.2028699666261673,
          0.19695256650447845,
          0.09455347061157227,
          0.09949824213981628,
          0.2028699666261673
         ]
        },
        {
         "line": {
          "color": "black",
          "width": 2
         },
         "mode": "lines",
         "showlegend": false,
         "type": "scatter",
         "x": [
          0.20000000298023224,
          0.2164989858865738,
          0.10654068738222122,
          0.10000000149011612,
          0.20000000298023224
         ],
         "y": [
          0,
          0.08124599605798721,
          0.09491124004125595,
          0,
          0
         ]
        },
        {
         "line": {
          "color": "black",
          "width": 2
         },
         "mode": "lines",
         "showlegend": false,
         "type": "scatter",
         "x": [
          0.2164989858865738,
          0.2351664900779724,
          0.11642993986606598,
          0.10654068738222122,
          0.2164989858865738
         ],
         "y": [
          0.08124599605798721,
          0.16964052617549896,
          0.19296982884407043,
          0.09491124004125595,
          0.08124599605798721
         ]
        },
        {
         "fill": "toself",
         "fillcolor": "rgba(0, 0, 255, 0.2)",
         "line": {
          "color": "black",
          "width": 2
         },
         "mode": "lines",
         "showlegend": false,
         "type": "scatter",
         "x": [
          0.2164989858865738,
          0.2351664900779724,
          0.11642993986606598,
          0.10654068738222122,
          0.2164989858865738
         ],
         "y": [
          0.08124599605798721,
          0.16964052617549896,
          0.19296982884407043,
          0.09491124004125595,
          0.08124599605798721
         ]
        },
        {
         "line": {
          "color": "black",
          "width": 2
         },
         "mode": "lines",
         "showlegend": false,
         "type": "scatter",
         "x": [
          0.11642993986606598,
          0,
          0,
          0.10654068738222122,
          0.11642993986606598
         ],
         "y": [
          0.19296982884407043,
          0.22043734788894653,
          0.11021867394447327,
          0.09491124004125595,
          0.19296982884407043
         ]
        },
        {
         "fill": "toself",
         "fillcolor": "rgba(0, 0, 255, 0.2)",
         "line": {
          "color": "black",
          "width": 2
         },
         "mode": "lines",
         "showlegend": false,
         "type": "scatter",
         "x": [
          0.11642993986606598,
          0,
          0,
          0.10654068738222122,
          0.11642993986606598
         ],
         "y": [
          0.19296982884407043,
          0.22043734788894653,
          0.11021867394447327,
          0.09491124004125595,
          0.19296982884407043
         ]
        },
        {
         "line": {
          "color": "black",
          "width": 2
         },
         "mode": "lines",
         "showlegend": false,
         "type": "scatter",
         "x": [
          0,
          0,
          0.10000000149011612,
          0.10654068738222122,
          0
         ],
         "y": [
          0.11021867394447327,
          0,
          0,
          0.09491124004125595,
          0.11021867394447327
         ]
        },
        {
         "line": {
          "color": "black",
          "width": 2
         },
         "mode": "lines",
         "showlegend": false,
         "type": "scatter",
         "x": [
          0,
          0,
          0.12069414556026459,
          0.1063968613743782,
          0
         ],
         "y": [
          2,
          1.8927652835845947,
          1.8765873908996582,
          2,
          2
         ]
        },
        {
         "fill": "toself",
         "fillcolor": "rgba(0, 0, 255, 0.2)",
         "line": {
          "color": "black",
          "width": 2
         },
         "mode": "lines",
         "showlegend": false,
         "type": "scatter",
         "x": [
          0,
          0,
          0.12069414556026459,
          0.1063968613743782,
          0
         ],
         "y": [
          2,
          1.8927652835845947,
          1.8765873908996582,
          2,
          2
         ]
        },
        {
         "line": {
          "color": "black",
          "width": 2
         },
         "mode": "lines",
         "showlegend": false,
         "type": "scatter",
         "x": [
          0,
          0,
          0.13206499814987183,
          0.12069414556026459,
          0
         ],
         "y": [
          1.8927652835845947,
          1.785530686378479,
          1.7527475357055664,
          1.8765873908996582,
          1.8927652835845947
         ]
        },
        {
         "fill": "toself",
         "fillcolor": "rgba(0, 0, 255, 0.2)",
         "line": {
          "color": "black",
          "width": 2
         },
         "mode": "lines",
         "showlegend": false,
         "type": "scatter",
         "x": [
          0,
          0,
          0.13206499814987183,
          0.12069414556026459,
          0
         ],
         "y": [
          1.8927652835845947,
          1.785530686378479,
          1.7527475357055664,
          1.8765873908996582,
          1.8927652835845947
         ]
        },
        {
         "line": {
          "color": "black",
          "width": 2
         },
         "mode": "lines",
         "showlegend": false,
         "type": "scatter",
         "x": [
          0.13206499814987183,
          0.26228660345077515,
          0.24429811537265778,
          0.12069414556026459,
          0.13206499814987183
         ],
         "y": [
          1.7527475357055664,
          1.7314345836639404,
          1.8628920316696167,
          1.8765873908996582,
          1.7527475357055664
         ]
        },
        {
         "line": {
          "color": "black",
          "width": 2
         },
         "mode": "lines",
         "showlegend": false,
         "type": "scatter",
         "x": [
          0.24429811537265778,
          0.2127937227487564,
          0.1063968613743782,
          0.12069414556026459,
          0.24429811537265778
         ],
         "y": [
          1.8628920316696167,
          2,
          2,
          1.8765873908996582,
          1.8628920316696167
         ]
        },
        {
         "fill": "toself",
         "fillcolor": "rgba(0, 0, 255, 0.2)",
         "line": {
          "color": "black",
          "width": 2
         },
         "mode": "lines",
         "showlegend": false,
         "type": "scatter",
         "x": [
          0.24429811537265778,
          0.2127937227487564,
          0.1063968613743782,
          0.12069414556026459,
          0.24429811537265778
         ],
         "y": [
          1.8628920316696167,
          2,
          2,
          1.8765873908996582,
          1.8628920316696167
         ]
        },
        {
         "line": {
          "color": "black",
          "width": 2
         },
         "mode": "lines",
         "showlegend": false,
         "type": "scatter",
         "x": [
          4.535280227661133,
          4.543323993682861,
          4.391932487487793,
          4.386842727661133,
          4.535280227661133
         ],
         "y": [
          1.7101585865020752,
          1.8604501485824585,
          1.8600409030914307,
          1.711348533630371,
          1.7101585865020752
         ]
        },
        {
         "line": {
          "color": "black",
          "width": 2
         },
         "mode": "lines",
         "showlegend": false,
         "type": "scatter",
         "x": [
          4.543323993682861,
          4.533434867858887,
          4.375168800354004,
          4.391932487487793,
          4.543323993682861
         ],
         "y": [
          1.8604501485824585,
          2,
          2,
          1.8600409030914307,
          1.8604501485824585
         ]
        },
        {
         "fill": "toself",
         "fillcolor": "rgba(0, 0, 255, 0.2)",
         "line": {
          "color": "black",
          "width": 2
         },
         "mode": "lines",
         "showlegend": false,
         "type": "scatter",
         "x": [
          4.543323993682861,
          4.533434867858887,
          4.375168800354004,
          4.391932487487793,
          4.543323993682861
         ],
         "y": [
          1.8604501485824585,
          2,
          2,
          1.8600409030914307,
          1.8604501485824585
         ]
        },
        {
         "line": {
          "color": "black",
          "width": 2
         },
         "mode": "lines",
         "showlegend": false,
         "type": "scatter",
         "x": [
          4.375168800354004,
          4.216902256011963,
          4.224693298339844,
          4.391932487487793,
          4.375168800354004
         ],
         "y": [
          2,
          2,
          1.845983624458313,
          1.8600409030914307,
          2
         ]
        },
        {
         "fill": "toself",
         "fillcolor": "rgba(0, 0, 255, 0.2)",
         "line": {
          "color": "black",
          "width": 2
         },
         "mode": "lines",
         "showlegend": false,
         "type": "scatter",
         "x": [
          4.375168800354004,
          4.216902256011963,
          4.224693298339844,
          4.391932487487793,
          4.375168800354004
         ],
         "y": [
          2,
          2,
          1.845983624458313,
          1.8600409030914307,
          2
         ]
        },
        {
         "line": {
          "color": "black",
          "width": 2
         },
         "mode": "lines",
         "showlegend": false,
         "type": "scatter",
         "x": [
          4.224693298339844,
          4.247294902801514,
          4.386842727661133,
          4.391932487487793,
          4.224693298339844
         ],
         "y": [
          1.845983624458313,
          1.7250137329101562,
          1.711348533630371,
          1.8600409030914307,
          1.845983624458313
         ]
        },
        {
         "line": {
          "color": "black",
          "width": 2
         },
         "mode": "lines",
         "showlegend": false,
         "type": "scatter",
         "x": [
          0,
          0,
          0.12952397763729095,
          0.13992531597614288,
          0
         ],
         "y": [
          0.49287670850753784,
          0.3566570281982422,
          0.3153744339942932,
          0.45070919394493103,
          0.49287670850753784
         ]
        },
        {
         "fill": "toself",
         "fillcolor": "rgba(0, 0, 255, 0.2)",
         "line": {
          "color": "black",
          "width": 2
         },
         "mode": "lines",
         "showlegend": false,
         "type": "scatter",
         "x": [
          0,
          0,
          0.12952397763729095,
          0.13992531597614288,
          0
         ],
         "y": [
          0.49287670850753784,
          0.3566570281982422,
          0.3153744339942932,
          0.45070919394493103,
          0.49287670850753784
         ]
        },
        {
         "line": {
          "color": "black",
          "width": 2
         },
         "mode": "lines",
         "showlegend": false,
         "type": "scatter",
         "x": [
          0,
          0,
          0.11642993986606598,
          0.12952397763729095,
          0
         ],
         "y": [
          0.3566570281982422,
          0.22043734788894653,
          0.19296982884407043,
          0.3153744339942932,
          0.3566570281982422
         ]
        },
        {
         "fill": "toself",
         "fillcolor": "rgba(0, 0, 255, 0.2)",
         "line": {
          "color": "black",
          "width": 2
         },
         "mode": "lines",
         "showlegend": false,
         "type": "scatter",
         "x": [
          0,
          0,
          0.11642993986606598,
          0.12952397763729095,
          0
         ],
         "y": [
          0.3566570281982422,
          0.22043734788894653,
          0.19296982884407043,
          0.3153744339942932,
          0.3566570281982422
         ]
        },
        {
         "line": {
          "color": "black",
          "width": 2
         },
         "mode": "lines",
         "showlegend": false,
         "type": "scatter",
         "x": [
          0.11642993986606598,
          0.2351664900779724,
          0.26024454832077026,
          0.12952397763729095,
          0.11642993986606598
         ],
         "y": [
          0.19296982884407043,
          0.16964052617549896,
          0.2798923850059509,
          0.3153744339942932,
          0.19296982884407043
         ]
        },
        {
         "line": {
          "color": "black",
          "width": 2
         },
         "mode": "lines",
         "showlegend": false,
         "type": "scatter",
         "x": [
          0.26024454832077026,
          0.2805204391479492,
          0.13992531597614288,
          0.12952397763729095,
          0.26024454832077026
         ],
         "y": [
          0.2798923850059509,
          0.41729649901390076,
          0.45070919394493103,
          0.3153744339942932,
          0.2798923850059509
         ]
        },
        {
         "line": {
          "color": "black",
          "width": 2
         },
         "mode": "lines",
         "showlegend": false,
         "type": "scatter",
         "x": [
          4.786237716674805,
          4.896488189697266,
          4.892703056335449,
          4.781370639801025,
          4.786237716674805
         ],
         "y": [
          0.19695256650447845,
          0.2028699666261673,
          0.32461246848106384,
          0.310759961605072,
          0.19695256650447845
         ]
        },
        {
         "line": {
          "color": "black",
          "width": 2
         },
         "mode": "lines",
         "showlegend": false,
         "type": "scatter",
         "x": [
          4.896488189697266,
          5,
          5,
          4.892703056335449,
          4.896488189697266
         ],
         "y": [
          0.2028699666261673,
          0.214509978890419,
          0.34727853536605835,
          0.32461246848106384,
          0.2028699666261673
         ]
        },
        {
         "fill": "toself",
         "fillcolor": "rgba(0, 0, 255, 0.2)",
         "line": {
          "color": "black",
          "width": 2
         },
         "mode": "lines",
         "showlegend": false,
         "type": "scatter",
         "x": [
          4.896488189697266,
          5,
          5,
          4.892703056335449,
          4.896488189697266
         ],
         "y": [
          0.2028699666261673,
          0.214509978890419,
          0.34727853536605835,
          0.32461246848106384,
          0.2028699666261673
         ]
        },
        {
         "line": {
          "color": "black",
          "width": 2
         },
         "mode": "lines",
         "showlegend": false,
         "type": "scatter",
         "x": [
          5,
          5,
          4.888524055480957,
          4.892703056335449,
          5
         ],
         "y": [
          0.34727853536605835,
          0.4800470769405365,
          0.4602194130420685,
          0.32461246848106384,
          0.34727853536605835
         ]
        },
        {
         "fill": "toself",
         "fillcolor": "rgba(0, 0, 255, 0.2)",
         "line": {
          "color": "black",
          "width": 2
         },
         "mode": "lines",
         "showlegend": false,
         "type": "scatter",
         "x": [
          5,
          5,
          4.888524055480957,
          4.892703056335449,
          5
         ],
         "y": [
          0.34727853536605835,
          0.4800470769405365,
          0.4602194130420685,
          0.32461246848106384,
          0.34727853536605835
         ]
        },
        {
         "line": {
          "color": "black",
          "width": 2
         },
         "mode": "lines",
         "showlegend": false,
         "type": "scatter",
         "x": [
          4.888524055480957,
          4.777948379516602,
          4.781370639801025,
          4.892703056335449,
          4.888524055480957
         ],
         "y": [
          0.4602194130420685,
          0.44183599948883057,
          0.310759961605072,
          0.32461246848106384,
          0.4602194130420685
         ]
        },
        {
         "fill": "toself",
         "fillcolor": "rgba(0, 0, 255, 0.2)",
         "line": {
          "color": "black",
          "width": 2
         },
         "mode": "lines",
         "showlegend": false,
         "type": "scatter",
         "x": [
          4.888524055480957,
          4.777948379516602,
          4.781370639801025,
          4.892703056335449,
          4.888524055480957
         ],
         "y": [
          0.4602194130420685,
          0.44183599948883057,
          0.310759961605072,
          0.32461246848106384,
          0.4602194130420685
         ]
        },
        {
         "line": {
          "color": "black",
          "width": 2
         },
         "mode": "lines",
         "showlegend": false,
         "type": "scatter",
         "x": [
          4.777948379516602,
          4.888524055480957,
          4.87899112701416,
          4.763580322265625,
          4.777948379516602
         ],
         "y": [
          0.44183599948883057,
          0.4602194130420685,
          0.6187060475349426,
          0.5851188898086548,
          0.44183599948883057
         ]
        },
        {
         "fill": "toself",
         "fillcolor": "rgba(0, 0, 255, 0.2)",
         "line": {
          "color": "black",
          "width": 2
         },
         "mode": "lines",
         "showlegend": false,
         "type": "scatter",
         "x": [
          4.777948379516602,
          4.888524055480957,
          4.87899112701416,
          4.763580322265625,
          4.777948379516602
         ],
         "y": [
          0.44183599948883057,
          0.4602194130420685,
          0.6187060475349426,
          0.5851188898086548,
          0.44183599948883057
         ]
        },
        {
         "line": {
          "color": "black",
          "width": 2
         },
         "mode": "lines",
         "showlegend": false,
         "type": "scatter",
         "x": [
          4.888524055480957,
          5,
          5,
          4.87899112701416,
          4.888524055480957
         ],
         "y": [
          0.4602194130420685,
          0.4800470769405365,
          0.6501006484031677,
          0.6187060475349426,
          0.4602194130420685
         ]
        },
        {
         "fill": "toself",
         "fillcolor": "rgba(0, 0, 255, 0.2)",
         "line": {
          "color": "black",
          "width": 2
         },
         "mode": "lines",
         "showlegend": false,
         "type": "scatter",
         "x": [
          4.888524055480957,
          5,
          5,
          4.87899112701416,
          4.888524055480957
         ],
         "y": [
          0.4602194130420685,
          0.4800470769405365,
          0.6501006484031677,
          0.6187060475349426,
          0.4602194130420685
         ]
        },
        {
         "line": {
          "color": "black",
          "width": 2
         },
         "mode": "lines",
         "showlegend": false,
         "type": "scatter",
         "x": [
          5,
          5,
          4.8720526695251465,
          4.87899112701416,
          5
         ],
         "y": [
          0.6501006484031677,
          0.8201542496681213,
          0.7867902517318726,
          0.6187060475349426,
          0.6501006484031677
         ]
        },
        {
         "fill": "toself",
         "fillcolor": "rgba(0, 0, 255, 0.2)",
         "line": {
          "color": "black",
          "width": 2
         },
         "mode": "lines",
         "showlegend": false,
         "type": "scatter",
         "x": [
          5,
          5,
          4.8720526695251465,
          4.87899112701416,
          5
         ],
         "y": [
          0.6501006484031677,
          0.8201542496681213,
          0.7867902517318726,
          0.6187060475349426,
          0.6501006484031677
         ]
        },
        {
         "line": {
          "color": "black",
          "width": 2
         },
         "mode": "lines",
         "showlegend": false,
         "type": "scatter",
         "x": [
          4.8720526695251465,
          4.72461462020874,
          4.763580322265625,
          4.87899112701416,
          4.8720526695251465
         ],
         "y": [
          0.7867902517318726,
          0.7577979564666748,
          0.5851188898086548,
          0.6187060475349426,
          0.7867902517318726
         ]
        },
        {
         "line": {
          "color": "black",
          "width": 2
         },
         "mode": "lines",
         "showlegend": false,
         "type": "scatter",
         "x": [
          0.2587893605232239,
          0.3024592697620392,
          0.15516038239002228,
          0.1318792849779129,
          0.2587893605232239
         ],
         "y": [
          0.7632734775543213,
          0.9197574257850647,
          0.9785031080245972,
          0.8028203248977661,
          0.7632734775543213
         ]
        },
        {
         "fill": "toself",
         "fillcolor": "rgba(0, 0, 255, 0.2)",
         "line": {
          "color": "black",
          "width": 2
         },
         "mode": "lines",
         "showlegend": false,
         "type": "scatter",
         "x": [
          0.2587893605232239,
          0.3024592697620392,
          0.15516038239002228,
          0.1318792849779129,
          0.2587893605232239
         ],
         "y": [
          0.7632734775543213,
          0.9197574257850647,
          0.9785031080245972,
          0.8028203248977661,
          0.7632734775543213
         ]
        },
        {
         "line": {
          "color": "black",
          "width": 2
         },
         "mode": "lines",
         "showlegend": false,
         "type": "scatter",
         "x": [
          0.3024592697620392,
          0.39051392674446106,
          0.18049459159374237,
          0.15516038239002228,
          0.3024592697620392
         ],
         "y": [
          0.9197574257850647,
          1.07501220703125,
          1.1455439329147339,
          0.9785031080245972,
          0.9197574257850647
         ]
        },
        {
         "line": {
          "color": "black",
          "width": 2
         },
         "mode": "lines",
         "showlegend": false,
         "type": "scatter",
         "x": [
          0.18049459159374237,
          0,
          0,
          0.15516038239002228,
          0.18049459159374237
         ],
         "y": [
          1.1455439329147339,
          1.2081365585327148,
          1.0209157466888428,
          0.9785031080245972,
          1.1455439329147339
         ]
        },
        {
         "fill": "toself",
         "fillcolor": "rgba(0, 0, 255, 0.2)",
         "line": {
          "color": "black",
          "width": 2
         },
         "mode": "lines",
         "showlegend": false,
         "type": "scatter",
         "x": [
          0.18049459159374237,
          0,
          0,
          0.15516038239002228,
          0.18049459159374237
         ],
         "y": [
          1.1455439329147339,
          1.2081365585327148,
          1.0209157466888428,
          0.9785031080245972,
          1.1455439329147339
         ]
        },
        {
         "line": {
          "color": "black",
          "width": 2
         },
         "mode": "lines",
         "showlegend": false,
         "type": "scatter",
         "x": [
          0,
          0,
          0.1318792849779129,
          0.15516038239002228,
          0
         ],
         "y": [
          1.0209157466888428,
          0.8336949348449707,
          0.8028203248977661,
          0.9785031080245972,
          1.0209157466888428
         ]
        },
        {
         "fill": "toself",
         "fillcolor": "rgba(0, 0, 255, 0.2)",
         "line": {
          "color": "black",
          "width": 2
         },
         "mode": "lines",
         "showlegend": false,
         "type": "scatter",
         "x": [
          0,
          0,
          0.1318792849779129,
          0.15516038239002228,
          0
         ],
         "y": [
          1.0209157466888428,
          0.8336949348449707,
          0.8028203248977661,
          0.9785031080245972,
          1.0209157466888428
         ]
        },
        {
         "line": {
          "color": "black",
          "width": 2
         },
         "mode": "lines",
         "showlegend": false,
         "type": "scatter",
         "x": [
          4.805062294006348,
          4.793791770935059,
          4.678751468658447,
          4.697822570800781,
          4.805062294006348
         ],
         "y": [
          0.0005000000237487257,
          0.09455347061157227,
          0.10983683168888092,
          0.0004883563378825784,
          0.0005000000237487257
         ]
        },
        {
         "fill": "toself",
         "fillcolor": "rgba(0, 0, 255, 0.2)",
         "line": {
          "color": "black",
          "width": 2
         },
         "mode": "lines",
         "showlegend": false,
         "type": "scatter",
         "x": [
          4.805062294006348,
          4.793791770935059,
          4.678751468658447,
          4.697822570800781,
          4.805062294006348
         ],
         "y": [
          0.0005000000237487257,
          0.09455347061157227,
          0.10983683168888092,
          0.0004883563378825784,
          0.0005000000237487257
         ]
        },
        {
         "line": {
          "color": "black",
          "width": 2
         },
         "mode": "lines",
         "showlegend": false,
         "type": "scatter",
         "x": [
          4.793791770935059,
          4.786237716674805,
          4.664474964141846,
          4.678751468658447,
          4.793791770935059
         ],
         "y": [
          0.09455347061157227,
          0.19695256650447845,
          0.21988070011138916,
          0.10983683168888092,
          0.09455347061157227
         ]
        },
        {
         "fill": "toself",
         "fillcolor": "rgba(0, 0, 255, 0.2)",
         "line": {
          "color": "black",
          "width": 2
         },
         "mode": "lines",
         "showlegend": false,
         "type": "scatter",
         "x": [
          4.793791770935059,
          4.786237716674805,
          4.664474964141846,
          4.678751468658447,
          4.793791770935059
         ],
         "y": [
          0.09455347061157227,
          0.19695256650447845,
          0.21988070011138916,
          0.10983683168888092,
          0.09455347061157227
         ]
        },
        {
         "line": {
          "color": "black",
          "width": 2
         },
         "mode": "lines",
         "showlegend": false,
         "type": "scatter",
         "x": [
          4.664474964141846,
          4.532685279846191,
          4.556674003601074,
          4.678751468658447,
          4.664474964141846
         ],
         "y": [
          0.21988070011138916,
          0.26613542437553406,
          0.12956446409225464,
          0.10983683168888092,
          0.21988070011138916
         ]
        },
        {
         "line": {
          "color": "black",
          "width": 2
         },
         "mode": "lines",
         "showlegend": false,
         "type": "scatter",
         "x": [
          4.556674003601074,
          4.590582847595215,
          4.697822570800781,
          4.678751468658447,
          4.556674003601074
         ],
         "y": [
          0.12956446409225464,
          0.00047671268112026155,
          0.0004883563378825784,
          0.10983683168888092,
          0.12956446409225464
         ]
        },
        {
         "fill": "toself",
         "fillcolor": "rgba(0, 0, 255, 0.2)",
         "line": {
          "color": "black",
          "width": 2
         },
         "mode": "lines",
         "showlegend": false,
         "type": "scatter",
         "x": [
          4.556674003601074,
          4.590582847595215,
          4.697822570800781,
          4.678751468658447,
          4.556674003601074
         ],
         "y": [
          0.12956446409225464,
          0.00047671268112026155,
          0.0004883563378825784,
          0.10983683168888092,
          0.12956446409225464
         ]
        },
        {
         "line": {
          "color": "black",
          "width": 2
         },
         "mode": "lines",
         "showlegend": false,
         "type": "scatter",
         "x": [
          1.419364094734192,
          1.3669102191925049,
          1.164842963218689,
          1.2105412483215332,
          1.419364094734192
         ],
         "y": [
          0.0001323938777204603,
          0.16960975527763367,
          0.16704367101192474,
          0.00010972069867420942,
          0.0001323938777204603
         ]
        },
        {
         "fill": "toself",
         "fillcolor": "rgba(0, 0, 255, 0.2)",
         "line": {
          "color": "black",
          "width": 2
         },
         "mode": "lines",
         "showlegend": false,
         "type": "scatter",
         "x": [
          1.419364094734192,
          1.3669102191925049,
          1.164842963218689,
          1.2105412483215332,
          1.419364094734192
         ],
         "y": [
          0.0001323938777204603,
          0.16960975527763367,
          0.16704367101192474,
          0.00010972069867420942,
          0.0001323938777204603
         ]
        },
        {
         "line": {
          "color": "black",
          "width": 2
         },
         "mode": "lines",
         "showlegend": false,
         "type": "scatter",
         "x": [
          1.3669102191925049,
          1.3543840646743774,
          1.137257695198059,
          1.164842963218689,
          1.3669102191925049
         ],
         "y": [
          0.16960975527763367,
          0.3446437418460846,
          0.34151342511177063,
          0.16704367101192474,
          0.16960975527763367
         ]
        },
        {
         "line": {
          "color": "black",
          "width": 2
         },
         "mode": "lines",
         "showlegend": false,
         "type": "scatter",
         "x": [
          1.137257695198059,
          0.9562130570411682,
          0.9756912589073181,
          1.164842963218689,
          1.137257695198059
         ],
         "y": [
          0.34151342511177063,
          0.33940842747688293,
          0.16414402425289154,
          0.16704367101192474,
          0.34151342511177063
         ]
        },
        {
         "fill": "toself",
         "fillcolor": "rgba(0, 0, 255, 0.2)",
         "line": {
          "color": "black",
          "width": 2
         },
         "mode": "lines",
         "showlegend": false,
         "type": "scatter",
         "x": [
          1.137257695198059,
          0.9562130570411682,
          0.9756912589073181,
          1.164842963218689,
          1.137257695198059
         ],
         "y": [
          0.34151342511177063,
          0.33940842747688293,
          0.16414402425289154,
          0.16704367101192474,
          0.34151342511177063
         ]
        },
        {
         "line": {
          "color": "black",
          "width": 2
         },
         "mode": "lines",
         "showlegend": false,
         "type": "scatter",
         "x": [
          0.9756912589073181,
          1.001718521118164,
          1.2105412483215332,
          1.164842963218689,
          0.9756912589073181
         ],
         "y": [
          0.16414402425289154,
          0.00008704751962795854,
          0.00010972069867420942,
          0.16704367101192474,
          0.16414402425289154
         ]
        },
        {
         "fill": "toself",
         "fillcolor": "rgba(0, 0, 255, 0.2)",
         "line": {
          "color": "black",
          "width": 2
         },
         "mode": "lines",
         "showlegend": false,
         "type": "scatter",
         "x": [
          0.9756912589073181,
          1.001718521118164,
          1.2105412483215332,
          1.164842963218689,
          0.9756912589073181
         ],
         "y": [
          0.16414402425289154,
          0.00008704751962795854,
          0.00010972069867420942,
          0.16704367101192474,
          0.16414402425289154
         ]
        },
        {
         "line": {
          "color": "black",
          "width": 2
         },
         "mode": "lines",
         "showlegend": false,
         "type": "scatter",
         "x": [
          5,
          4.895113468170166,
          4.887653350830078,
          5,
          5
         ],
         "y": [
          1.7833114862442017,
          1.7575656175613403,
          1.6224778890609741,
          1.653494119644165,
          1.7833114862442017
         ]
        },
        {
         "fill": "toself",
         "fillcolor": "rgba(0, 0, 255, 0.2)",
         "line": {
          "color": "black",
          "width": 2
         },
         "mode": "lines",
         "showlegend": false,
         "type": "scatter",
         "x": [
          5,
          4.895113468170166,
          4.887653350830078,
          5,
          5
         ],
         "y": [
          1.7833114862442017,
          1.7575656175613403,
          1.6224778890609741,
          1.653494119644165,
          1.7833114862442017
         ]
        },
        {
         "line": {
          "color": "black",
          "width": 2
         },
         "mode": "lines",
         "showlegend": false,
         "type": "scatter",
         "x": [
          4.895113468170166,
          4.782020568847656,
          4.76946496963501,
          4.887653350830078,
          4.895113468170166
         ],
         "y": [
          1.7575656175613403,
          1.734816312789917,
          1.5914140939712524,
          1.6224778890609741,
          1.7575656175613403
         ]
        },
        {
         "line": {
          "color": "black",
          "width": 2
         },
         "mode": "lines",
         "showlegend": false,
         "type": "scatter",
         "x": [
          4.76946496963501,
          4.75515079498291,
          4.881381988525391,
          4.887653350830078,
          4.76946496963501
         ],
         "y": [
          1.5914140939712524,
          1.441074013710022,
          1.479799509048462,
          1.6224778890609741,
          1.5914140939712524
         ]
        },
        {
         "fill": "toself",
         "fillcolor": "rgba(0, 0, 255, 0.2)",
         "line": {
          "color": "black",
          "width": 2
         },
         "mode": "lines",
         "showlegend": false,
         "type": "scatter",
         "x": [
          4.76946496963501,
          4.75515079498291,
          4.881381988525391,
          4.887653350830078,
          4.76946496963501
         ],
         "y": [
          1.5914140939712524,
          1.441074013710022,
          1.479799509048462,
          1.6224778890609741,
          1.5914140939712524
         ]
        },
        {
         "line": {
          "color": "black",
          "width": 2
         },
         "mode": "lines",
         "showlegend": false,
         "type": "scatter",
         "x": [
          4.881381988525391,
          5,
          5,
          4.887653350830078,
          4.881381988525391
         ],
         "y": [
          1.479799509048462,
          1.5236767530441284,
          1.653494119644165,
          1.6224778890609741,
          1.479799509048462
         ]
        },
        {
         "fill": "toself",
         "fillcolor": "rgba(0, 0, 255, 0.2)",
         "line": {
          "color": "black",
          "width": 2
         },
         "mode": "lines",
         "showlegend": false,
         "type": "scatter",
         "x": [
          4.881381988525391,
          5,
          5,
          4.887653350830078,
          4.881381988525391
         ],
         "y": [
          1.479799509048462,
          1.5236767530441284,
          1.653494119644165,
          1.6224778890609741,
          1.479799509048462
         ]
        },
        {
         "line": {
          "color": "black",
          "width": 2
         },
         "mode": "lines",
         "showlegend": false,
         "type": "scatter",
         "x": [
          0.2587893605232239,
          0.26792219281196594,
          0.43533703684806824,
          0.415022075176239,
          0.2587893605232239
         ],
         "y": [
          0.7632734775543213,
          0.5868734121322632,
          0.5669081807136536,
          0.730919361114502,
          0.7632734775543213
         ]
        },
        {
         "line": {
          "color": "black",
          "width": 2
         },
         "mode": "lines",
         "showlegend": false,
         "type": "scatter",
         "x": [
          0.26792219281196594,
          0.2805204391479492,
          0.4450821578502655,
          0.43533703684806824,
          0.26792219281196594
         ],
         "y": [
          0.5868734121322632,
          0.41729649901390076,
          0.4019414782524109,
          0.5669081807136536,
          0.5868734121322632
         ]
        },
        {
         "fill": "toself",
         "fillcolor": "rgba(0, 0, 255, 0.2)",
         "line": {
          "color": "black",
          "width": 2
         },
         "mode": "lines",
         "showlegend": false,
         "type": "scatter",
         "x": [
          0.26792219281196594,
          0.2805204391479492,
          0.4450821578502655,
          0.43533703684806824,
          0.26792219281196594
         ],
         "y": [
          0.5868734121322632,
          0.41729649901390076,
          0.4019414782524109,
          0.5669081807136536,
          0.5868734121322632
         ]
        },
        {
         "line": {
          "color": "black",
          "width": 2
         },
         "mode": "lines",
         "showlegend": false,
         "type": "scatter",
         "x": [
          0.4450821578502655,
          0.627141535282135,
          0.6105673909187317,
          0.43533703684806824,
          0.4450821578502655
         ],
         "y": [
          0.4019414782524109,
          0.36488497257232666,
          0.5541684627532959,
          0.5669081807136536,
          0.4019414782524109
         ]
        },
        {
         "fill": "toself",
         "fillcolor": "rgba(0, 0, 255, 0.2)",
         "line": {
          "color": "black",
          "width": 2
         },
         "mode": "lines",
         "showlegend": false,
         "type": "scatter",
         "x": [
          0.4450821578502655,
          0.627141535282135,
          0.6105673909187317,
          0.43533703684806824,
          0.4450821578502655
         ],
         "y": [
          0.4019414782524109,
          0.36488497257232666,
          0.5541684627532959,
          0.5669081807136536,
          0.4019414782524109
         ]
        },
        {
         "line": {
          "color": "black",
          "width": 2
         },
         "mode": "lines",
         "showlegend": false,
         "type": "scatter",
         "x": [
          0.6105673909187317,
          0.578811764717102,
          0.415022075176239,
          0.43533703684806824,
          0.6105673909187317
         ],
         "y": [
          0.5541684627532959,
          0.7186275720596313,
          0.730919361114502,
          0.5669081807136536,
          0.5541684627532959
         ]
        },
        {
         "line": {
          "color": "black",
          "width": 2
         },
         "mode": "lines",
         "showlegend": false,
         "type": "scatter",
         "x": [
          4.499637603759766,
          4.450838565826416,
          4.259291648864746,
          4.35438346862793,
          4.499637603759766
         ],
         "y": [
          1.0052365064620972,
          1.1682435274124146,
          1.141577124595642,
          0.93611079454422,
          1.0052365064620972
         ]
        },
        {
         "line": {
          "color": "black",
          "width": 2
         },
         "mode": "lines",
         "showlegend": false,
         "type": "scatter",
         "x": [
          4.450838565826416,
          4.43840217590332,
          4.225057601928711,
          4.259291648864746,
          4.450838565826416
         ],
         "y": [
          1.1682435274124146,
          1.355120062828064,
          1.3516608476638794,
          1.141577124595642,
          1.1682435274124146
         ]
        },
        {
         "fill": "toself",
         "fillcolor": "rgba(0, 0, 255, 0.2)",
         "line": {
          "color": "black",
          "width": 2
         },
         "mode": "lines",
         "showlegend": false,
         "type": "scatter",
         "x": [
          4.450838565826416,
          4.43840217590332,
          4.225057601928711,
          4.259291648864746,
          4.450838565826416
         ],
         "y": [
          1.1682435274124146,
          1.355120062828064,
          1.3516608476638794,
          1.141577124595642,
          1.1682435274124146
         ]
        },
        {
         "line": {
          "color": "black",
          "width": 2
         },
         "mode": "lines",
         "showlegend": false,
         "type": "scatter",
         "x": [
          4.225057601928711,
          3.940859079360962,
          4.054696559906006,
          4.259291648864746,
          4.225057601928711
         ],
         "y": [
          1.3516608476638794,
          1.4175339937210083,
          1.1092333793640137,
          1.141577124595642,
          1.3516608476638794
         ]
        },
        {
         "fill": "toself",
         "fillcolor": "rgba(0, 0, 255, 0.2)",
         "line": {
          "color": "black",
          "width": 2
         },
         "mode": "lines",
         "showlegend": false,
         "type": "scatter",
         "x": [
          4.225057601928711,
          3.940859079360962,
          4.054696559906006,
          4.259291648864746,
          4.225057601928711
         ],
         "y": [
          1.3516608476638794,
          1.4175339937210083,
          1.1092333793640137,
          1.141577124595642,
          1.3516608476638794
         ]
        },
        {
         "line": {
          "color": "black",
          "width": 2
         },
         "mode": "lines",
         "showlegend": false,
         "type": "scatter",
         "x": [
          4.054696559906006,
          4.184881210327148,
          4.35438346862793,
          4.259291648864746,
          4.054696559906006
         ],
         "y": [
          1.1092333793640137,
          0.8321652412414551,
          0.93611079454422,
          1.141577124595642,
          1.1092333793640137
         ]
        },
        {
         "line": {
          "color": "black",
          "width": 2
         },
         "mode": "lines",
         "showlegend": false,
         "type": "scatter",
         "x": [
          3.066767930984497,
          3.0018398761749268,
          2.7488088607788086,
          2.7842276096343994,
          3.066767930984497
         ],
         "y": [
          0.0003112626727670431,
          0.23839102685451508,
          0.27300557494163513,
          0.0002805855474434793,
          0.0003112626727670431
         ]
        },
        {
         "fill": "toself",
         "fillcolor": "rgba(0, 0, 255, 0.2)",
         "line": {
          "color": "black",
          "width": 2
         },
         "mode": "lines",
         "showlegend": false,
         "type": "scatter",
         "x": [
          3.066767930984497,
          3.0018398761749268,
          2.7488088607788086,
          2.7842276096343994,
          3.066767930984497
         ],
         "y": [
          0.0003112626727670431,
          0.23839102685451508,
          0.27300557494163513,
          0.0002805855474434793,
          0.0003112626727670431
         ]
        },
        {
         "line": {
          "color": "black",
          "width": 2
         },
         "mode": "lines",
         "showlegend": false,
         "type": "scatter",
         "x": [
          3.0018398761749268,
          2.963808298110962,
          2.7423744201660156,
          2.7488088607788086,
          3.0018398761749268
         ],
         "y": [
          0.23839102685451508,
          0.4604211151599884,
          0.5232980847358704,
          0.27300557494163513,
          0.23839102685451508
         ]
        },
        {
         "fill": "toself",
         "fillcolor": "rgba(0, 0, 255, 0.2)",
         "line": {
          "color": "black",
          "width": 2
         },
         "mode": "lines",
         "showlegend": false,
         "type": "scatter",
         "x": [
          3.0018398761749268,
          2.963808298110962,
          2.7423744201660156,
          2.7488088607788086,
          3.0018398761749268
         ],
         "y": [
          0.23839102685451508,
          0.4604211151599884,
          0.5232980847358704,
          0.27300557494163513,
          0.23839102685451508
         ]
        },
        {
         "line": {
          "color": "black",
          "width": 2
         },
         "mode": "lines",
         "showlegend": false,
         "type": "scatter",
         "x": [
          2.7423744201660156,
          2.4818246364593506,
          2.495232343673706,
          2.7488088607788086,
          2.7423744201660156
         ],
         "y": [
          0.5232980847358704,
          0.6158626079559326,
          0.30192285776138306,
          0.27300557494163513,
          0.5232980847358704
         ]
        },
        {
         "fill": "toself",
         "fillcolor": "rgba(0, 0, 255, 0.2)",
         "line": {
          "color": "black",
          "width": 2
         },
         "mode": "lines",
         "showlegend": false,
         "type": "scatter",
         "x": [
          2.7423744201660156,
          2.4818246364593506,
          2.495232343673706,
          2.7488088607788086,
          2.7423744201660156
         ],
         "y": [
          0.5232980847358704,
          0.6158626079559326,
          0.30192285776138306,
          0.27300557494163513,
          0.5232980847358704
         ]
        },
        {
         "line": {
          "color": "black",
          "width": 2
         },
         "mode": "lines",
         "showlegend": false,
         "type": "scatter",
         "x": [
          2.495232343673706,
          2.5016872882843018,
          2.7842276096343994,
          2.7488088607788086,
          2.495232343673706
         ],
         "y": [
          0.30192285776138306,
          0.00024990839301608503,
          0.0002805855474434793,
          0.27300557494163513,
          0.30192285776138306
         ]
        },
        {
         "fill": "toself",
         "fillcolor": "rgba(0, 0, 255, 0.2)",
         "line": {
          "color": "black",
          "width": 2
         },
         "mode": "lines",
         "showlegend": false,
         "type": "scatter",
         "x": [
          2.495232343673706,
          2.5016872882843018,
          2.7842276096343994,
          2.7488088607788086,
          2.495232343673706
         ],
         "y": [
          0.30192285776138306,
          0.00024990839301608503,
          0.0002805855474434793,
          0.27300557494163513,
          0.30192285776138306
         ]
        },
        {
         "line": {
          "color": "black",
          "width": 2
         },
         "mode": "lines",
         "showlegend": false,
         "type": "scatter",
         "x": [
          0.39051392674446106,
          0.5910466909408569,
          0.5295422077178955,
          0.35635045170783997,
          0.39051392674446106
         ],
         "y": [
          1.07501220703125,
          1.1176680326461792,
          1.321131706237793,
          1.27205491065979,
          1.07501220703125
         ]
        },
        {
         "fill": "toself",
         "fillcolor": "rgba(0, 0, 255, 0.2)",
         "line": {
          "color": "black",
          "width": 2
         },
         "mode": "lines",
         "showlegend": false,
         "type": "scatter",
         "x": [
          0.39051392674446106,
          0.5910466909408569,
          0.5295422077178955,
          0.35635045170783997,
          0.39051392674446106
         ],
         "y": [
          1.07501220703125,
          1.1176680326461792,
          1.321131706237793,
          1.27205491065979,
          1.07501220703125
         ]
        },
        {
         "line": {
          "color": "black",
          "width": 2
         },
         "mode": "lines",
         "showlegend": false,
         "type": "scatter",
         "x": [
          0.5910466909408569,
          0.7919260263442993,
          0.7032692432403564,
          0.5295422077178955,
          0.5910466909408569
         ],
         "y": [
          1.1176680326461792,
          1.1481053829193115,
          1.3785207271575928,
          1.321131706237793,
          1.1176680326461792
         ]
        },
        {
         "fill": "toself",
         "fillcolor": "rgba(0, 0, 255, 0.2)",
         "line": {
          "color": "black",
          "width": 2
         },
         "mode": "lines",
         "showlegend": false,
         "type": "scatter",
         "x": [
          0.5910466909408569,
          0.7919260263442993,
          0.7032692432403564,
          0.5295422077178955,
          0.5910466909408569
         ],
         "y": [
          1.1176680326461792,
          1.1481053829193115,
          1.3785207271575928,
          1.321131706237793,
          1.1176680326461792
         ]
        },
        {
         "line": {
          "color": "black",
          "width": 2
         },
         "mode": "lines",
         "showlegend": false,
         "type": "scatter",
         "x": [
          0.7032692432403564,
          0.6195558905601501,
          0.4631172716617584,
          0.5295422077178955,
          0.7032692432403564
         ],
         "y": [
          1.3785207271575928,
          1.6367623805999756,
          1.502655029296875,
          1.321131706237793,
          1.3785207271575928
         ]
        },
        {
         "fill": "toself",
         "fillcolor": "rgba(0, 0, 255, 0.2)",
         "line": {
          "color": "black",
          "width": 2
         },
         "mode": "lines",
         "showlegend": false,
         "type": "scatter",
         "x": [
          0.7032692432403564,
          0.6195558905601501,
          0.4631172716617584,
          0.5295422077178955,
          0.7032692432403564
         ],
         "y": [
          1.3785207271575928,
          1.6367623805999756,
          1.502655029296875,
          1.321131706237793,
          1.3785207271575928
         ]
        },
        {
         "line": {
          "color": "black",
          "width": 2
         },
         "mode": "lines",
         "showlegend": false,
         "type": "scatter",
         "x": [
          0.4631172716617584,
          0.31884118914604187,
          0.35635045170783997,
          0.5295422077178955,
          0.4631172716617584
         ],
         "y": [
          1.502655029296875,
          1.4385032653808594,
          1.27205491065979,
          1.321131706237793,
          1.502655029296875
         ]
        },
        {
         "line": {
          "color": "black",
          "width": 2
         },
         "mode": "lines",
         "showlegend": false,
         "type": "scatter",
         "x": [
          0.20000000298023224,
          0.3076398968696594,
          0.3285810053348541,
          0.2164989858865738,
          0.20000000298023224
         ],
         "y": [
          0,
          0.000011687126971082762,
          0.08444027602672577,
          0.08124599605798721,
          0
         ]
        },
        {
         "line": {
          "color": "black",
          "width": 2
         },
         "mode": "lines",
         "showlegend": false,
         "type": "scatter",
         "x": [
          0.3076398968696594,
          0.4152797758579254,
          0.4447828233242035,
          0.3285810053348541,
          0.3076398968696594
         ],
         "y": [
          0.000011687126971082762,
          0.000023374253942165524,
          0.10014267265796661,
          0.08444027602672577,
          0.000011687126971082762
         ]
        },
        {
         "fill": "toself",
         "fillcolor": "rgba(0, 0, 255, 0.2)",
         "line": {
          "color": "black",
          "width": 2
         },
         "mode": "lines",
         "showlegend": false,
         "type": "scatter",
         "x": [
          0.3076398968696594,
          0.4152797758579254,
          0.4447828233242035,
          0.3285810053348541,
          0.3076398968696594
         ],
         "y": [
          0.000011687126971082762,
          0.000023374253942165524,
          0.10014267265796661,
          0.08444027602672577,
          0.000011687126971082762
         ]
        },
        {
         "line": {
          "color": "black",
          "width": 2
         },
         "mode": "lines",
         "showlegend": false,
         "type": "scatter",
         "x": [
          0.4447828233242035,
          0.44784802198410034,
          0.3566628694534302,
          0.3285810053348541,
          0.4447828233242035
         ],
         "y": [
          0.10014267265796661,
          0.17369678616523743,
          0.17079336941242218,
          0.08444027602672577,
          0.10014267265796661
         ]
        },
        {
         "fill": "toself",
         "fillcolor": "rgba(0, 0, 255, 0.2)",
         "line": {
          "color": "black",
          "width": 2
         },
         "mode": "lines",
         "showlegend": false,
         "type": "scatter",
         "x": [
          0.4447828233242035,
          0.44784802198410034,
          0.3566628694534302,
          0.3285810053348541,
          0.4447828233242035
         ],
         "y": [
          0.10014267265796661,
          0.17369678616523743,
          0.17079336941242218,
          0.08444027602672577,
          0.10014267265796661
         ]
        },
        {
         "line": {
          "color": "black",
          "width": 2
         },
         "mode": "lines",
         "showlegend": false,
         "type": "scatter",
         "x": [
          0.3566628694534302,
          0.2351664900779724,
          0.2164989858865738,
          0.3285810053348541,
          0.3566628694534302
         ],
         "y": [
          0.17079336941242218,
          0.16964052617549896,
          0.08124599605798721,
          0.08444027602672577,
          0.17079336941242218
         ]
        },
        {
         "fill": "toself",
         "fillcolor": "rgba(0, 0, 255, 0.2)",
         "line": {
          "color": "black",
          "width": 2
         },
         "mode": "lines",
         "showlegend": false,
         "type": "scatter",
         "x": [
          0.3566628694534302,
          0.2351664900779724,
          0.2164989858865738,
          0.3285810053348541,
          0.3566628694534302
         ],
         "y": [
          0.17079336941242218,
          0.16964052617549896,
          0.08124599605798721,
          0.08444027602672577,
          0.17079336941242218
         ]
        },
        {
         "line": {
          "color": "black",
          "width": 2
         },
         "mode": "lines",
         "showlegend": false,
         "type": "scatter",
         "x": [
          5,
          4.881381988525391,
          4.877037048339844,
          5,
          5
         ],
         "y": [
          1.5236767530441284,
          1.479799509048462,
          1.3179378509521484,
          1.361332654953003,
          1.5236767530441284
         ]
        },
        {
         "fill": "toself",
         "fillcolor": "rgba(0, 0, 255, 0.2)",
         "line": {
          "color": "black",
          "width": 2
         },
         "mode": "lines",
         "showlegend": false,
         "type": "scatter",
         "x": [
          5,
          4.881381988525391,
          4.877037048339844,
          5,
          5
         ],
         "y": [
          1.5236767530441284,
          1.479799509048462,
          1.3179378509521484,
          1.361332654953003,
          1.5236767530441284
         ]
        },
        {
         "line": {
          "color": "black",
          "width": 2
         },
         "mode": "lines",
         "showlegend": false,
         "type": "scatter",
         "x": [
          4.881381988525391,
          4.75515079498291,
          4.750809192657471,
          4.877037048339844,
          4.881381988525391
         ],
         "y": [
          1.479799509048462,
          1.441074013710022,
          1.2754547595977783,
          1.3179378509521484,
          1.479799509048462
         ]
        },
        {
         "line": {
          "color": "black",
          "width": 2
         },
         "mode": "lines",
         "showlegend": false,
         "type": "scatter",
         "x": [
          4.750809192657471,
          4.751469135284424,
          4.875009536743164,
          4.877037048339844,
          4.750809192657471
         ],
         "y": [
          1.2754547595977783,
          1.1083425283432007,
          1.147203803062439,
          1.3179378509521484,
          1.2754547595977783
         ]
        },
        {
         "fill": "toself",
         "fillcolor": "rgba(0, 0, 255, 0.2)",
         "line": {
          "color": "black",
          "width": 2
         },
         "mode": "lines",
         "showlegend": false,
         "type": "scatter",
         "x": [
          4.750809192657471,
          4.751469135284424,
          4.875009536743164,
          4.877037048339844,
          4.750809192657471
         ],
         "y": [
          1.2754547595977783,
          1.1083425283432007,
          1.147203803062439,
          1.3179378509521484,
          1.2754547595977783
         ]
        },
        {
         "line": {
          "color": "black",
          "width": 2
         },
         "mode": "lines",
         "showlegend": false,
         "type": "scatter",
         "x": [
          4.875009536743164,
          5,
          5,
          4.877037048339844,
          4.875009536743164
         ],
         "y": [
          1.147203803062439,
          1.198988437652588,
          1.361332654953003,
          1.3179378509521484,
          1.147203803062439
         ]
        },
        {
         "fill": "toself",
         "fillcolor": "rgba(0, 0, 255, 0.2)",
         "line": {
          "color": "black",
          "width": 2
         },
         "mode": "lines",
         "showlegend": false,
         "type": "scatter",
         "x": [
          4.875009536743164,
          5,
          5,
          4.877037048339844,
          4.875009536743164
         ],
         "y": [
          1.147203803062439,
          1.198988437652588,
          1.361332654953003,
          1.3179378509521484,
          1.147203803062439
         ]
        },
        {
         "line": {
          "color": "black",
          "width": 2
         },
         "mode": "lines",
         "showlegend": false,
         "type": "scatter",
         "x": [
          4.72461462020874,
          4.8720526695251465,
          4.872234344482422,
          4.750705718994141,
          4.72461462020874
         ],
         "y": [
          0.7577979564666748,
          0.7867902517318726,
          0.9658098816871643,
          0.9411253333091736,
          0.7577979564666748
         ]
        },
        {
         "fill": "toself",
         "fillcolor": "rgba(0, 0, 255, 0.2)",
         "line": {
          "color": "black",
          "width": 2
         },
         "mode": "lines",
         "showlegend": false,
         "type": "scatter",
         "x": [
          4.72461462020874,
          4.8720526695251465,
          4.872234344482422,
          4.750705718994141,
          4.72461462020874
         ],
         "y": [
          0.7577979564666748,
          0.7867902517318726,
          0.9658098816871643,
          0.9411253333091736,
          0.7577979564666748
         ]
        },
        {
         "line": {
          "color": "black",
          "width": 2
         },
         "mode": "lines",
         "showlegend": false,
         "type": "scatter",
         "x": [
          4.8720526695251465,
          5,
          5,
          4.872234344482422,
          4.8720526695251465
         ],
         "y": [
          0.7867902517318726,
          0.8201542496681213,
          1.0095713138580322,
          0.9658098816871643,
          0.7867902517318726
         ]
        },
        {
         "fill": "toself",
         "fillcolor": "rgba(0, 0, 255, 0.2)",
         "line": {
          "color": "black",
          "width": 2
         },
         "mode": "lines",
         "showlegend": false,
         "type": "scatter",
         "x": [
          4.8720526695251465,
          5,
          5,
          4.872234344482422,
          4.8720526695251465
         ],
         "y": [
          0.7867902517318726,
          0.8201542496681213,
          1.0095713138580322,
          0.9658098816871643,
          0.7867902517318726
         ]
        },
        {
         "line": {
          "color": "black",
          "width": 2
         },
         "mode": "lines",
         "showlegend": false,
         "type": "scatter",
         "x": [
          5,
          5,
          4.875009536743164,
          4.872234344482422,
          5
         ],
         "y": [
          1.0095713138580322,
          1.198988437652588,
          1.147203803062439,
          0.9658098816871643,
          1.0095713138580322
         ]
        },
        {
         "fill": "toself",
         "fillcolor": "rgba(0, 0, 255, 0.2)",
         "line": {
          "color": "black",
          "width": 2
         },
         "mode": "lines",
         "showlegend": false,
         "type": "scatter",
         "x": [
          5,
          5,
          4.875009536743164,
          4.872234344482422,
          5
         ],
         "y": [
          1.0095713138580322,
          1.198988437652588,
          1.147203803062439,
          0.9658098816871643,
          1.0095713138580322
         ]
        },
        {
         "line": {
          "color": "black",
          "width": 2
         },
         "mode": "lines",
         "showlegend": false,
         "type": "scatter",
         "x": [
          4.875009536743164,
          4.751469135284424,
          4.750705718994141,
          4.872234344482422,
          4.875009536743164
         ],
         "y": [
          1.147203803062439,
          1.1083425283432007,
          0.9411253333091736,
          0.9658098816871643,
          1.147203803062439
         ]
        },
        {
         "line": {
          "color": "black",
          "width": 2
         },
         "mode": "lines",
         "showlegend": false,
         "type": "scatter",
         "x": [
          3.5861027240753174,
          3.4880003929138184,
          3.2483572959899902,
          3.3264353275299072,
          3.5861027240753174
         ],
         "y": [
          0.00036765006370842457,
          0.2196473479270935,
          0.22581638395786285,
          0.00033945636823773384,
          0.00036765006370842457
         ]
        },
        {
         "fill": "toself",
         "fillcolor": "rgba(0, 0, 255, 0.2)",
         "line": {
          "color": "black",
          "width": 2
         },
         "mode": "lines",
         "showlegend": false,
         "type": "scatter",
         "x": [
          3.5861027240753174,
          3.4880003929138184,
          3.2483572959899902,
          3.3264353275299072,
          3.5861027240753174
         ],
         "y": [
          0.00036765006370842457,
          0.2196473479270935,
          0.22581638395786285,
          0.00033945636823773384,
          0.00036765006370842457
         ]
        },
        {
         "line": {
          "color": "black",
          "width": 2
         },
         "mode": "lines",
         "showlegend": false,
         "type": "scatter",
         "x": [
          3.4880003929138184,
          3.407712697982788,
          3.1774516105651855,
          3.2483572959899902,
          3.4880003929138184
         ],
         "y": [
          0.2196473479270935,
          0.43622931838035583,
          0.4505905508995056,
          0.22581638395786285,
          0.2196473479270935
         ]
        },
        {
         "line": {
          "color": "black",
          "width": 2
         },
         "mode": "lines",
         "showlegend": false,
         "type": "scatter",
         "x": [
          3.1774516105651855,
          2.963808298110962,
          3.0018398761749268,
          3.2483572959899902,
          3.1774516105651855
         ],
         "y": [
          0.4505905508995056,
          0.4604211151599884,
          0.23839102685451508,
          0.22581638395786285,
          0.4505905508995056
         ]
        },
        {
         "fill": "toself",
         "fillcolor": "rgba(0, 0, 255, 0.2)",
         "line": {
          "color": "black",
          "width": 2
         },
         "mode": "lines",
         "showlegend": false,
         "type": "scatter",
         "x": [
          3.1774516105651855,
          2.963808298110962,
          3.0018398761749268,
          3.2483572959899902,
          3.1774516105651855
         ],
         "y": [
          0.4505905508995056,
          0.4604211151599884,
          0.23839102685451508,
          0.22581638395786285,
          0.4505905508995056
         ]
        },
        {
         "line": {
          "color": "black",
          "width": 2
         },
         "mode": "lines",
         "showlegend": false,
         "type": "scatter",
         "x": [
          3.0018398761749268,
          3.066767930984497,
          3.3264353275299072,
          3.2483572959899902,
          3.0018398761749268
         ],
         "y": [
          0.23839102685451508,
          0.0003112626727670431,
          0.00033945636823773384,
          0.22581638395786285,
          0.23839102685451508
         ]
        },
        {
         "fill": "toself",
         "fillcolor": "rgba(0, 0, 255, 0.2)",
         "line": {
          "color": "black",
          "width": 2
         },
         "mode": "lines",
         "showlegend": false,
         "type": "scatter",
         "x": [
          3.0018398761749268,
          3.066767930984497,
          3.3264353275299072,
          3.2483572959899902,
          3.0018398761749268
         ],
         "y": [
          0.23839102685451508,
          0.0003112626727670431,
          0.00033945636823773384,
          0.22581638395786285,
          0.23839102685451508
         ]
        },
        {
         "line": {
          "color": "black",
          "width": 2
         },
         "mode": "lines",
         "showlegend": false,
         "type": "scatter",
         "x": [
          4.590582847595215,
          4.556674003601074,
          4.420439720153809,
          4.460107326507568,
          4.590582847595215
         ],
         "y": [
          0.00047671268112026155,
          0.12956446409225464,
          0.15340827405452728,
          0.00046254610060714185,
          0.00047671268112026155
         ]
        },
        {
         "fill": "toself",
         "fillcolor": "rgba(0, 0, 255, 0.2)",
         "line": {
          "color": "black",
          "width": 2
         },
         "mode": "lines",
         "showlegend": false,
         "type": "scatter",
         "x": [
          4.590582847595215,
          4.556674003601074,
          4.420439720153809,
          4.460107326507568,
          4.590582847595215
         ],
         "y": [
          0.00047671268112026155,
          0.12956446409225464,
          0.15340827405452728,
          0.00046254610060714185,
          0.00047671268112026155
         ]
        },
        {
         "line": {
          "color": "black",
          "width": 2
         },
         "mode": "lines",
         "showlegend": false,
         "type": "scatter",
         "x": [
          4.556674003601074,
          4.532685279846191,
          4.388168811798096,
          4.420439720153809,
          4.556674003601074
         ],
         "y": [
          0.12956446409225464,
          0.26613542437553406,
          0.312896192073822,
          0.15340827405452728,
          0.12956446409225464
         ]
        },
        {
         "line": {
          "color": "black",
          "width": 2
         },
         "mode": "lines",
         "showlegend": false,
         "type": "scatter",
         "x": [
          4.388168811798096,
          4.227769374847412,
          4.27320671081543,
          4.420439720153809,
          4.388168811798096
         ],
         "y": [
          0.312896192073822,
          0.36207443475723267,
          0.17595736682415009,
          0.15340827405452728,
          0.312896192073822
         ]
        },
        {
         "line": {
          "color": "black",
          "width": 2
         },
         "mode": "lines",
         "showlegend": false,
         "type": "scatter",
         "x": [
          4.27320671081543,
          4.329631328582764,
          4.460107326507568,
          4.420439720153809,
          4.27320671081543
         ],
         "y": [
          0.17595736682415009,
          0.0004483795491978526,
          0.00046254610060714185,
          0.15340827405452728,
          0.17595736682415009
         ]
        },
        {
         "fill": "toself",
         "fillcolor": "rgba(0, 0, 255, 0.2)",
         "line": {
          "color": "black",
          "width": 2
         },
         "mode": "lines",
         "showlegend": false,
         "type": "scatter",
         "x": [
          4.27320671081543,
          4.329631328582764,
          4.460107326507568,
          4.420439720153809,
          4.27320671081543
         ],
         "y": [
          0.17595736682415009,
          0.0004483795491978526,
          0.00046254610060714185,
          0.15340827405452728,
          0.17595736682415009
         ]
        },
        {
         "line": {
          "color": "black",
          "width": 2
         },
         "mode": "lines",
         "showlegend": false,
         "type": "scatter",
         "x": [
          0.9562130570411682,
          0.9622323513031006,
          0.7805319428443909,
          0.7956831455230713,
          0.9562130570411682
         ],
         "y": [
          0.33940842747688293,
          0.5287277102470398,
          0.5390773415565491,
          0.3563489615917206,
          0.33940842747688293
         ]
        },
        {
         "fill": "toself",
         "fillcolor": "rgba(0, 0, 255, 0.2)",
         "line": {
          "color": "black",
          "width": 2
         },
         "mode": "lines",
         "showlegend": false,
         "type": "scatter",
         "x": [
          0.9562130570411682,
          0.9622323513031006,
          0.7805319428443909,
          0.7956831455230713,
          0.9562130570411682
         ],
         "y": [
          0.33940842747688293,
          0.5287277102470398,
          0.5390773415565491,
          0.3563489615917206,
          0.33940842747688293
         ]
        },
        {
         "line": {
          "color": "black",
          "width": 2
         },
         "mode": "lines",
         "showlegend": false,
         "type": "scatter",
         "x": [
          0.9622323513031006,
          0.9549516439437866,
          0.7557174563407898,
          0.7805319428443909,
          0.9622323513031006
         ],
         "y": [
          0.5287277102470398,
          0.7246973514556885,
          0.7230015993118286,
          0.5390773415565491,
          0.5287277102470398
         ]
        },
        {
         "line": {
          "color": "black",
          "width": 2
         },
         "mode": "lines",
         "showlegend": false,
         "type": "scatter",
         "x": [
          0.7557174563407898,
          0.578811764717102,
          0.6105673909187317,
          0.7805319428443909,
          0.7557174563407898
         ],
         "y": [
          0.7230015993118286,
          0.7186275720596313,
          0.5541684627532959,
          0.5390773415565491,
          0.7230015993118286
         ]
        },
        {
         "line": {
          "color": "black",
          "width": 2
         },
         "mode": "lines",
         "showlegend": false,
         "type": "scatter",
         "x": [
          0.6105673909187317,
          0.627141535282135,
          0.7956831455230713,
          0.7805319428443909,
          0.6105673909187317
         ],
         "y": [
          0.5541684627532959,
          0.36488497257232666,
          0.3563489615917206,
          0.5390773415565491,
          0.5541684627532959
         ]
        },
        {
         "fill": "toself",
         "fillcolor": "rgba(0, 0, 255, 0.2)",
         "line": {
          "color": "black",
          "width": 2
         },
         "mode": "lines",
         "showlegend": false,
         "type": "scatter",
         "x": [
          0.6105673909187317,
          0.627141535282135,
          0.7956831455230713,
          0.7805319428443909,
          0.6105673909187317
         ],
         "y": [
          0.5541684627532959,
          0.36488497257232666,
          0.3563489615917206,
          0.5390773415565491,
          0.5541684627532959
         ]
        },
        {
         "line": {
          "color": "black",
          "width": 2
         },
         "mode": "lines",
         "showlegend": false,
         "type": "scatter",
         "x": [
          4.329631328582764,
          4.27320671081543,
          4.10380220413208,
          4.167333602905273,
          4.329631328582764
         ],
         "y": [
          0.0004483795491978526,
          0.17595736682415009,
          0.1932363510131836,
          0.0004307578783482313,
          0.0004483795491978526
         ]
        },
        {
         "fill": "toself",
         "fillcolor": "rgba(0, 0, 255, 0.2)",
         "line": {
          "color": "black",
          "width": 2
         },
         "mode": "lines",
         "showlegend": false,
         "type": "scatter",
         "x": [
          4.329631328582764,
          4.27320671081543,
          4.10380220413208,
          4.167333602905273,
          4.329631328582764
         ],
         "y": [
          0.0004483795491978526,
          0.17595736682415009,
          0.1932363510131836,
          0.0004307578783482313,
          0.0004483795491978526
         ]
        },
        {
         "line": {
          "color": "black",
          "width": 2
         },
         "mode": "lines",
         "showlegend": false,
         "type": "scatter",
         "x": [
          4.27320671081543,
          4.227769374847412,
          4.046414375305176,
          4.10380220413208,
          4.27320671081543
         ],
         "y": [
          0.17595736682415009,
          0.36207443475723267,
          0.39278480410575867,
          0.1932363510131836,
          0.17595736682415009
         ]
        },
        {
         "line": {
          "color": "black",
          "width": 2
         },
         "mode": "lines",
         "showlegend": false,
         "type": "scatter",
         "x": [
          4.046414375305176,
          3.8486406803131104,
          3.920787811279297,
          4.10380220413208,
          4.046414375305176
         ],
         "y": [
          0.39278480410575867,
          0.41667866706848145,
          0.20669518411159515,
          0.1932363510131836,
          0.39278480410575867
         ]
        },
        {
         "fill": "toself",
         "fillcolor": "rgba(0, 0, 255, 0.2)",
         "line": {
          "color": "black",
          "width": 2
         },
         "mode": "lines",
         "showlegend": false,
         "type": "scatter",
         "x": [
          4.046414375305176,
          3.8486406803131104,
          3.920787811279297,
          4.10380220413208,
          4.046414375305176
         ],
         "y": [
          0.39278480410575867,
          0.41667866706848145,
          0.20669518411159515,
          0.1932363510131836,
          0.39278480410575867
         ]
        },
        {
         "line": {
          "color": "black",
          "width": 2
         },
         "mode": "lines",
         "showlegend": false,
         "type": "scatter",
         "x": [
          3.920787811279297,
          4.005035877227783,
          4.167333602905273,
          4.10380220413208,
          3.920787811279297
         ],
         "y": [
          0.20669518411159515,
          0.00041313620749861,
          0.0004307578783482313,
          0.1932363510131836,
          0.20669518411159515
         ]
        },
        {
         "fill": "toself",
         "fillcolor": "rgba(0, 0, 255, 0.2)",
         "line": {
          "color": "black",
          "width": 2
         },
         "mode": "lines",
         "showlegend": false,
         "type": "scatter",
         "x": [
          3.920787811279297,
          4.005035877227783,
          4.167333602905273,
          4.10380220413208,
          3.920787811279297
         ],
         "y": [
          0.20669518411159515,
          0.00041313620749861,
          0.0004307578783482313,
          0.1932363510131836,
          0.20669518411159515
         ]
        },
        {
         "line": {
          "color": "black",
          "width": 2
         },
         "mode": "lines",
         "showlegend": false,
         "type": "scatter",
         "x": [
          1.1758103370666504,
          0.9794540405273438,
          0.9051526188850403,
          1.1089775562286377,
          1.1758103370666504
         ],
         "y": [
          2,
          2,
          1.8077863454818726,
          1.7997767925262451,
          2
         ]
        },
        {
         "fill": "toself",
         "fillcolor": "rgba(0, 0, 255, 0.2)",
         "line": {
          "color": "black",
          "width": 2
         },
         "mode": "lines",
         "showlegend": false,
         "type": "scatter",
         "x": [
          1.1758103370666504,
          0.9794540405273438,
          0.9051526188850403,
          1.1089775562286377,
          1.1758103370666504
         ],
         "y": [
          2,
          2,
          1.8077863454818726,
          1.7997767925262451,
          2
         ]
        },
        {
         "line": {
          "color": "black",
          "width": 2
         },
         "mode": "lines",
         "showlegend": false,
         "type": "scatter",
         "x": [
          0.9794540405273438,
          0.7830976843833923,
          0.7255236506462097,
          0.9051526188850403,
          0.9794540405273438
         ],
         "y": [
          2,
          2,
          1.8332324028015137,
          1.8077863454818726,
          2
         ]
        },
        {
         "fill": "toself",
         "fillcolor": "rgba(0, 0, 255, 0.2)",
         "line": {
          "color": "black",
          "width": 2
         },
         "mode": "lines",
         "showlegend": false,
         "type": "scatter",
         "x": [
          0.9794540405273438,
          0.7830976843833923,
          0.7255236506462097,
          0.9051526188850403,
          0.9794540405273438
         ],
         "y": [
          2,
          2,
          1.8332324028015137,
          1.8077863454818726,
          2
         ]
        },
        {
         "line": {
          "color": "black",
          "width": 2
         },
         "mode": "lines",
         "showlegend": false,
         "type": "scatter",
         "x": [
          0.7255236506462097,
          0.6195558905601501,
          0.8549940586090088,
          0.9051526188850403,
          0.7255236506462097
         ],
         "y": [
          1.8332324028015137,
          1.6367623805999756,
          1.6071720123291016,
          1.8077863454818726,
          1.8332324028015137
         ]
        },
        {
         "line": {
          "color": "black",
          "width": 2
         },
         "mode": "lines",
         "showlegend": false,
         "type": "scatter",
         "x": [
          0.8549940586090088,
          1.0725041627883911,
          1.1089775562286377,
          0.9051526188850403,
          0.8549940586090088
         ],
         "y": [
          1.6071720123291016,
          1.5951138734817505,
          1.7997767925262451,
          1.8077863454818726,
          1.6071720123291016
         ]
        },
        {
         "fill": "toself",
         "fillcolor": "rgba(0, 0, 255, 0.2)",
         "line": {
          "color": "black",
          "width": 2
         },
         "mode": "lines",
         "showlegend": false,
         "type": "scatter",
         "x": [
          0.8549940586090088,
          1.0725041627883911,
          1.1089775562286377,
          0.9051526188850403,
          0.8549940586090088
         ],
         "y": [
          1.6071720123291016,
          1.5951138734817505,
          1.7997767925262451,
          1.8077863454818726,
          1.6071720123291016
         ]
        },
        {
         "line": {
          "color": "black",
          "width": 2
         },
         "mode": "lines",
         "showlegend": false,
         "type": "scatter",
         "x": [
          2.776355504989624,
          2.859443426132202,
          3.118924379348755,
          3.050952672958374,
          2.776355504989624
         ],
         "y": [
          2,
          1.7934101819992065,
          1.7944393157958984,
          2,
          2
         ]
        },
        {
         "fill": "toself",
         "fillcolor": "rgba(0, 0, 255, 0.2)",
         "line": {
          "color": "black",
          "width": 2
         },
         "mode": "lines",
         "showlegend": false,
         "type": "scatter",
         "x": [
          2.776355504989624,
          2.859443426132202,
          3.118924379348755,
          3.050952672958374,
          2.776355504989624
         ],
         "y": [
          2,
          1.7934101819992065,
          1.7944393157958984,
          2,
          2
         ]
        },
        {
         "line": {
          "color": "black",
          "width": 2
         },
         "mode": "lines",
         "showlegend": false,
         "type": "scatter",
         "x": [
          2.859443426132202,
          2.911543130874634,
          3.189321994781494,
          3.118924379348755,
          2.859443426132202
         ],
         "y": [
          1.7934101819992065,
          1.556293249130249,
          1.5956833362579346,
          1.7944393157958984,
          1.7934101819992065
         ]
        },
        {
         "fill": "toself",
         "fillcolor": "rgba(0, 0, 255, 0.2)",
         "line": {
          "color": "black",
          "width": 2
         },
         "mode": "lines",
         "showlegend": false,
         "type": "scatter",
         "x": [
          2.859443426132202,
          2.911543130874634,
          3.189321994781494,
          3.118924379348755,
          2.859443426132202
         ],
         "y": [
          1.7934101819992065,
          1.556293249130249,
          1.5956833362579346,
          1.7944393157958984,
          1.7934101819992065
         ]
        },
        {
         "line": {
          "color": "black",
          "width": 2
         },
         "mode": "lines",
         "showlegend": false,
         "type": "scatter",
         "x": [
          3.189321994781494,
          3.413848876953125,
          3.378969192504883,
          3.118924379348755,
          3.189321994781494
         ],
         "y": [
          1.5956833362579346,
          1.5906689167022705,
          1.7909590005874634,
          1.7944393157958984,
          1.5956833362579346
         ]
        },
        {
         "line": {
          "color": "black",
          "width": 2
         },
         "mode": "lines",
         "showlegend": false,
         "type": "scatter",
         "x": [
          3.378969192504883,
          3.325550079345703,
          3.050952672958374,
          3.118924379348755,
          3.378969192504883
         ],
         "y": [
          1.7909590005874634,
          2,
          2,
          1.7944393157958984,
          1.7909590005874634
         ]
        },
        {
         "fill": "toself",
         "fillcolor": "rgba(0, 0, 255, 0.2)",
         "line": {
          "color": "black",
          "width": 2
         },
         "mode": "lines",
         "showlegend": false,
         "type": "scatter",
         "x": [
          3.378969192504883,
          3.325550079345703,
          3.050952672958374,
          3.118924379348755,
          3.378969192504883
         ],
         "y": [
          1.7909590005874634,
          2,
          2,
          1.7944393157958984,
          1.7909590005874634
         ]
        },
        {
         "line": {
          "color": "black",
          "width": 2
         },
         "mode": "lines",
         "showlegend": false,
         "type": "scatter",
         "x": [
          2.8966269493103027,
          2.7521591186523438,
          2.536189079284668,
          2.6743946075439453,
          2.8966269493103027
         ],
         "y": [
          0.9135451912879944,
          1.0736907720565796,
          0.9604537487030029,
          0.7902913093566895,
          0.9135451912879944
         ]
        },
        {
         "fill": "toself",
         "fillcolor": "rgba(0, 0, 255, 0.2)",
         "line": {
          "color": "black",
          "width": 2
         },
         "mode": "lines",
         "showlegend": false,
         "type": "scatter",
         "x": [
          2.8966269493103027,
          2.7521591186523438,
          2.536189079284668,
          2.6743946075439453,
          2.8966269493103027
         ],
         "y": [
          0.9135451912879944,
          1.0736907720565796,
          0.9604537487030029,
          0.7902913093566895,
          0.9135451912879944
         ]
        },
        {
         "line": {
          "color": "black",
          "width": 2
         },
         "mode": "lines",
         "showlegend": false,
         "type": "scatter",
         "x": [
          2.7521591186523438,
          2.6594648361206055,
          2.4489808082580566,
          2.536189079284668,
          2.7521591186523438
         ],
         "y": [
          1.0736907720565796,
          1.1856552362442017,
          1.1492185592651367,
          0.9604537487030029,
          1.0736907720565796
         ]
        },
        {
         "fill": "toself",
         "fillcolor": "rgba(0, 0, 255, 0.2)",
         "line": {
          "color": "black",
          "width": 2
         },
         "mode": "lines",
         "showlegend": false,
         "type": "scatter",
         "x": [
          2.7521591186523438,
          2.6594648361206055,
          2.4489808082580566,
          2.536189079284668,
          2.7521591186523438
         ],
         "y": [
          1.0736907720565796,
          1.1856552362442017,
          1.1492185592651367,
          0.9604537487030029,
          1.0736907720565796
         ]
        },
        {
         "line": {
          "color": "black",
          "width": 2
         },
         "mode": "lines",
         "showlegend": false,
         "type": "scatter",
         "x": [
          2.4489808082580566,
          2.1369597911834717,
          2.29817271232605,
          2.536189079284668,
          2.4489808082580566
         ],
         "y": [
          1.1492185592651367,
          1.0944474935531616,
          0.8649904727935791,
          0.9604537487030029,
          1.1492185592651367
         ]
        },
        {
         "line": {
          "color": "black",
          "width": 2
         },
         "mode": "lines",
         "showlegend": false,
         "type": "scatter",
         "x": [
          2.29817271232605,
          2.4818246364593506,
          2.6743946075439453,
          2.536189079284668,
          2.29817271232605
         ],
         "y": [
          0.8649904727935791,
          0.6158626079559326,
          0.7902913093566895,
          0.9604537487030029,
          0.8649904727935791
         ]
        },
        {
         "fill": "toself",
         "fillcolor": "rgba(0, 0, 255, 0.2)",
         "line": {
          "color": "black",
          "width": 2
         },
         "mode": "lines",
         "showlegend": false,
         "type": "scatter",
         "x": [
          2.29817271232605,
          2.4818246364593506,
          2.6743946075439453,
          2.536189079284668,
          2.29817271232605
         ],
         "y": [
          0.8649904727935791,
          0.6158626079559326,
          0.7902913093566895,
          0.9604537487030029,
          0.8649904727935791
         ]
        },
        {
         "line": {
          "color": "black",
          "width": 2
         },
         "mode": "lines",
         "showlegend": false,
         "type": "scatter",
         "x": [
          0,
          0,
          0.1461910754442215,
          0.13206499814987183,
          0
         ],
         "y": [
          1.785530686378479,
          1.657117486000061,
          1.6145169734954834,
          1.7527475357055664,
          1.785530686378479
         ]
        },
        {
         "fill": "toself",
         "fillcolor": "rgba(0, 0, 255, 0.2)",
         "line": {
          "color": "black",
          "width": 2
         },
         "mode": "lines",
         "showlegend": false,
         "type": "scatter",
         "x": [
          0,
          0,
          0.1461910754442215,
          0.13206499814987183,
          0
         ],
         "y": [
          1.785530686378479,
          1.657117486000061,
          1.6145169734954834,
          1.7527475357055664,
          1.785530686378479
         ]
        },
        {
         "line": {
          "color": "black",
          "width": 2
         },
         "mode": "lines",
         "showlegend": false,
         "type": "scatter",
         "x": [
          0,
          0,
          0.16260744631290436,
          0.1461910754442215,
          0
         ],
         "y": [
          1.657117486000061,
          1.528704285621643,
          1.4665180444717407,
          1.6145169734954834,
          1.657117486000061
         ]
        },
        {
         "fill": "toself",
         "fillcolor": "rgba(0, 0, 255, 0.2)",
         "line": {
          "color": "black",
          "width": 2
         },
         "mode": "lines",
         "showlegend": false,
         "type": "scatter",
         "x": [
          0,
          0,
          0.16260744631290436,
          0.1461910754442215,
          0
         ],
         "y": [
          1.657117486000061,
          1.528704285621643,
          1.4665180444717407,
          1.6145169734954834,
          1.657117486000061
         ]
        },
        {
         "line": {
          "color": "black",
          "width": 2
         },
         "mode": "lines",
         "showlegend": false,
         "type": "scatter",
         "x": [
          0.16260744631290436,
          0.31884118914604187,
          0.2859349250793457,
          0.1461910754442215,
          0.16260744631290436
         ],
         "y": [
          1.4665180444717407,
          1.4385032653808594,
          1.5875043869018555,
          1.6145169734954834,
          1.4665180444717407
         ]
        },
        {
         "fill": "toself",
         "fillcolor": "rgba(0, 0, 255, 0.2)",
         "line": {
          "color": "black",
          "width": 2
         },
         "mode": "lines",
         "showlegend": false,
         "type": "scatter",
         "x": [
          0.16260744631290436,
          0.31884118914604187,
          0.2859349250793457,
          0.1461910754442215,
          0.16260744631290436
         ],
         "y": [
          1.4665180444717407,
          1.4385032653808594,
          1.5875043869018555,
          1.6145169734954834,
          1.4665180444717407
         ]
        },
        {
         "line": {
          "color": "black",
          "width": 2
         },
         "mode": "lines",
         "showlegend": false,
         "type": "scatter",
         "x": [
          0.2859349250793457,
          0.26228660345077515,
          0.13206499814987183,
          0.1461910754442215,
          0.2859349250793457
         ],
         "y": [
          1.5875043869018555,
          1.7314345836639404,
          1.7527475357055664,
          1.6145169734954834,
          1.5875043869018555
         ]
        },
        {
         "line": {
          "color": "black",
          "width": 2
         },
         "mode": "lines",
         "showlegend": false,
         "type": "scatter",
         "x": [
          0,
          0,
          0.13378916680812836,
          0.1318792849779129,
          0
         ],
         "y": [
          0.8336949348449707,
          0.6632858514785767,
          0.6220121383666992,
          0.8028203248977661,
          0.8336949348449707
         ]
        },
        {
         "fill": "toself",
         "fillcolor": "rgba(0, 0, 255, 0.2)",
         "line": {
          "color": "black",
          "width": 2
         },
         "mode": "lines",
         "showlegend": false,
         "type": "scatter",
         "x": [
          0,
          0,
          0.13378916680812836,
          0.1318792849779129,
          0
         ],
         "y": [
          0.8336949348449707,
          0.6632858514785767,
          0.6220121383666992,
          0.8028203248977661,
          0.8336949348449707
         ]
        },
        {
         "line": {
          "color": "black",
          "width": 2
         },
         "mode": "lines",
         "showlegend": false,
         "type": "scatter",
         "x": [
          0,
          0,
          0.13992531597614288,
          0.13378916680812836,
          0
         ],
         "y": [
          0.6632858514785767,
          0.49287670850753784,
          0.45070919394493103,
          0.6220121383666992,
          0.6632858514785767
         ]
        },
        {
         "fill": "toself",
         "fillcolor": "rgba(0, 0, 255, 0.2)",
         "line": {
          "color": "black",
          "width": 2
         },
         "mode": "lines",
         "showlegend": false,
         "type": "scatter",
         "x": [
          0,
          0,
          0.13992531597614288,
          0.13378916680812836,
          0
         ],
         "y": [
          0.6632858514785767,
          0.49287670850753784,
          0.45070919394493103,
          0.6220121383666992,
          0.6632858514785767
         ]
        },
        {
         "line": {
          "color": "black",
          "width": 2
         },
         "mode": "lines",
         "showlegend": false,
         "type": "scatter",
         "x": [
          0.13992531597614288,
          0.2805204391479492,
          0.26792219281196594,
          0.13378916680812836,
          0.13992531597614288
         ],
         "y": [
          0.45070919394493103,
          0.41729649901390076,
          0.5868734121322632,
          0.6220121383666992,
          0.45070919394493103
         ]
        },
        {
         "fill": "toself",
         "fillcolor": "rgba(0, 0, 255, 0.2)",
         "line": {
          "color": "black",
          "width": 2
         },
         "mode": "lines",
         "showlegend": false,
         "type": "scatter",
         "x": [
          0.13992531597614288,
          0.2805204391479492,
          0.26792219281196594,
          0.13378916680812836,
          0.13992531597614288
         ],
         "y": [
          0.45070919394493103,
          0.41729649901390076,
          0.5868734121322632,
          0.6220121383666992,
          0.45070919394493103
         ]
        },
        {
         "line": {
          "color": "black",
          "width": 2
         },
         "mode": "lines",
         "showlegend": false,
         "type": "scatter",
         "x": [
          0.26792219281196594,
          0.2587893605232239,
          0.1318792849779129,
          0.13378916680812836,
          0.26792219281196594
         ],
         "y": [
          0.5868734121322632,
          0.7632734775543213,
          0.8028203248977661,
          0.6220121383666992,
          0.5868734121322632
         ]
        },
        {
         "line": {
          "color": "black",
          "width": 2
         },
         "mode": "lines",
         "showlegend": false,
         "type": "scatter",
         "x": [
          0.2127937227487564,
          0.24429811537265778,
          0.38766226172447205,
          0.33967939019203186,
          0.2127937227487564
         ],
         "y": [
          2,
          1.8628920316696167,
          1.84397554397583,
          2,
          2
         ]
        },
        {
         "fill": "toself",
         "fillcolor": "rgba(0, 0, 255, 0.2)",
         "line": {
          "color": "black",
          "width": 2
         },
         "mode": "lines",
         "showlegend": false,
         "type": "scatter",
         "x": [
          0.2127937227487564,
          0.24429811537265778,
          0.38766226172447205,
          0.33967939019203186,
          0.2127937227487564
         ],
         "y": [
          2,
          1.8628920316696167,
          1.84397554397583,
          2,
          2
         ]
        },
        {
         "line": {
          "color": "black",
          "width": 2
         },
         "mode": "lines",
         "showlegend": false,
         "type": "scatter",
         "x": [
          0.24429811537265778,
          0.26228660345077515,
          0.4134669601917267,
          0.38766226172447205,
          0.24429811537265778
         ],
         "y": [
          1.8628920316696167,
          1.7314345836639404,
          1.6992977857589722,
          1.84397554397583,
          1.8628920316696167
         ]
        },
        {
         "line": {
          "color": "black",
          "width": 2
         },
         "mode": "lines",
         "showlegend": false,
         "type": "scatter",
         "x": [
          0.4134669601917267,
          0.6195558905601501,
          0.5224918127059937,
          0.38766226172447205,
          0.4134669601917267
         ],
         "y": [
          1.6992977857589722,
          1.6367623805999756,
          1.8436788320541382,
          1.84397554397583,
          1.6992977857589722
         ]
        },
        {
         "line": {
          "color": "black",
          "width": 2
         },
         "mode": "lines",
         "showlegend": false,
         "type": "scatter",
         "x": [
          0.5224918127059937,
          0.4665650427341461,
          0.33967939019203186,
          0.38766226172447205,
          0.5224918127059937
         ],
         "y": [
          1.8436788320541382,
          2,
          2,
          1.84397554397583,
          1.8436788320541382
         ]
        },
        {
         "fill": "toself",
         "fillcolor": "rgba(0, 0, 255, 0.2)",
         "line": {
          "color": "black",
          "width": 2
         },
         "mode": "lines",
         "showlegend": false,
         "type": "scatter",
         "x": [
          0.5224918127059937,
          0.4665650427341461,
          0.33967939019203186,
          0.38766226172447205,
          0.5224918127059937
         ],
         "y": [
          1.8436788320541382,
          2,
          2,
          1.84397554397583,
          1.8436788320541382
         ]
        },
        {
         "line": {
          "color": "black",
          "width": 2
         },
         "mode": "lines",
         "showlegend": false,
         "type": "scatter",
         "x": [
          4.005035877227783,
          3.920787811279297,
          3.7116761207580566,
          3.7955691814422607,
          4.005035877227783
         ],
         "y": [
          0.00041313620749861,
          0.20669518411159515,
          0.21364304423332214,
          0.0003903931356035173,
          0.00041313620749861
         ]
        },
        {
         "fill": "toself",
         "fillcolor": "rgba(0, 0, 255, 0.2)",
         "line": {
          "color": "black",
          "width": 2
         },
         "mode": "lines",
         "showlegend": false,
         "type": "scatter",
         "x": [
          4.005035877227783,
          3.920787811279297,
          3.7116761207580566,
          3.7955691814422607,
          4.005035877227783
         ],
         "y": [
          0.00041313620749861,
          0.20669518411159515,
          0.21364304423332214,
          0.0003903931356035173,
          0.00041313620749861
         ]
        },
        {
         "line": {
          "color": "black",
          "width": 2
         },
         "mode": "lines",
         "showlegend": false,
         "type": "scatter",
         "x": [
          3.920787811279297,
          3.8486406803131104,
          3.6313064098358154,
          3.7116761207580566,
          3.920787811279297
         ],
         "y": [
          0.20669518411159515,
          0.41667866706848145,
          0.42857542634010315,
          0.21364304423332214,
          0.20669518411159515
         ]
        },
        {
         "line": {
          "color": "black",
          "width": 2
         },
         "mode": "lines",
         "showlegend": false,
         "type": "scatter",
         "x": [
          3.6313064098358154,
          3.407712697982788,
          3.4880003929138184,
          3.7116761207580566,
          3.6313064098358154
         ],
         "y": [
          0.42857542634010315,
          0.43622931838035583,
          0.2196473479270935,
          0.21364304423332214,
          0.42857542634010315
         ]
        },
        {
         "line": {
          "color": "black",
          "width": 2
         },
         "mode": "lines",
         "showlegend": false,
         "type": "scatter",
         "x": [
          3.4880003929138184,
          3.5861027240753174,
          3.7955691814422607,
          3.7116761207580566,
          3.4880003929138184
         ],
         "y": [
          0.2196473479270935,
          0.00036765006370842457,
          0.0003903931356035173,
          0.21364304423332214,
          0.2196473479270935
         ]
        },
        {
         "fill": "toself",
         "fillcolor": "rgba(0, 0, 255, 0.2)",
         "line": {
          "color": "black",
          "width": 2
         },
         "mode": "lines",
         "showlegend": false,
         "type": "scatter",
         "x": [
          3.4880003929138184,
          3.5861027240753174,
          3.7955691814422607,
          3.7116761207580566,
          3.4880003929138184
         ],
         "y": [
          0.2196473479270935,
          0.00036765006370842457,
          0.0003903931356035173,
          0.21364304423332214,
          0.2196473479270935
         ]
        },
        {
         "line": {
          "color": "black",
          "width": 2
         },
         "mode": "lines",
         "showlegend": false,
         "type": "scatter",
         "x": [
          4.499637603759766,
          4.627870559692383,
          4.6072678565979,
          4.450838565826416,
          4.499637603759766
         ],
         "y": [
          1.0052365064620972,
          1.0579159259796143,
          1.2212865352630615,
          1.1682435274124146,
          1.0052365064620972
         ]
        },
        {
         "fill": "toself",
         "fillcolor": "rgba(0, 0, 255, 0.2)",
         "line": {
          "color": "black",
          "width": 2
         },
         "mode": "lines",
         "showlegend": false,
         "type": "scatter",
         "x": [
          4.499637603759766,
          4.627870559692383,
          4.6072678565979,
          4.450838565826416,
          4.499637603759766
         ],
         "y": [
          1.0052365064620972,
          1.0579159259796143,
          1.2212865352630615,
          1.1682435274124146,
          1.0052365064620972
         ]
        },
        {
         "line": {
          "color": "black",
          "width": 2
         },
         "mode": "lines",
         "showlegend": false,
         "type": "scatter",
         "x": [
          4.627870559692383,
          4.751469135284424,
          4.750809192657471,
          4.6072678565979,
          4.627870559692383
         ],
         "y": [
          1.0579159259796143,
          1.1083425283432007,
          1.2754547595977783,
          1.2212865352630615,
          1.0579159259796143
         ]
        },
        {
         "fill": "toself",
         "fillcolor": "rgba(0, 0, 255, 0.2)",
         "line": {
          "color": "black",
          "width": 2
         },
         "mode": "lines",
         "showlegend": false,
         "type": "scatter",
         "x": [
          4.627870559692383,
          4.751469135284424,
          4.750809192657471,
          4.6072678565979,
          4.627870559692383
         ],
         "y": [
          1.0579159259796143,
          1.1083425283432007,
          1.2754547595977783,
          1.2212865352630615,
          1.0579159259796143
         ]
        },
        {
         "line": {
          "color": "black",
          "width": 2
         },
         "mode": "lines",
         "showlegend": false,
         "type": "scatter",
         "x": [
          4.750809192657471,
          4.75515079498291,
          4.602313995361328,
          4.6072678565979,
          4.750809192657471
         ],
         "y": [
          1.2754547595977783,
          1.441074013710022,
          1.392114281654358,
          1.2212865352630615,
          1.2754547595977783
         ]
        },
        {
         "line": {
          "color": "black",
          "width": 2
         },
         "mode": "lines",
         "showlegend": false,
         "type": "scatter",
         "x": [
          4.602313995361328,
          4.43840217590332,
          4.450838565826416,
          4.6072678565979,
          4.602313995361328
         ],
         "y": [
          1.392114281654358,
          1.355120062828064,
          1.1682435274124146,
          1.2212865352630615,
          1.392114281654358
         ]
        },
        {
         "fill": "toself",
         "fillcolor": "rgba(0, 0, 255, 0.2)",
         "line": {
          "color": "black",
          "width": 2
         },
         "mode": "lines",
         "showlegend": false,
         "type": "scatter",
         "x": [
          4.602313995361328,
          4.43840217590332,
          4.450838565826416,
          4.6072678565979,
          4.602313995361328
         ],
         "y": [
          1.392114281654358,
          1.355120062828064,
          1.1682435274124146,
          1.2212865352630615,
          1.392114281654358
         ]
        },
        {
         "line": {
          "color": "black",
          "width": 2
         },
         "mode": "lines",
         "showlegend": false,
         "type": "scatter",
         "x": [
          0.39051392674446106,
          0.5067894458770752,
          0.6792685985565186,
          0.5910466909408569,
          0.39051392674446106
         ],
         "y": [
          1.07501220703125,
          0.8900513648986816,
          0.916845440864563,
          1.1176680326461792,
          1.07501220703125
         ]
        },
        {
         "line": {
          "color": "black",
          "width": 2
         },
         "mode": "lines",
         "showlegend": false,
         "type": "scatter",
         "x": [
          0.5067894458770752,
          0.578811764717102,
          0.7557174563407898,
          0.6792685985565186,
          0.5067894458770752
         ],
         "y": [
          0.8900513648986816,
          0.7186275720596313,
          0.7230015993118286,
          0.916845440864563,
          0.8900513648986816
         ]
        },
        {
         "fill": "toself",
         "fillcolor": "rgba(0, 0, 255, 0.2)",
         "line": {
          "color": "black",
          "width": 2
         },
         "mode": "lines",
         "showlegend": false,
         "type": "scatter",
         "x": [
          0.5067894458770752,
          0.578811764717102,
          0.7557174563407898,
          0.6792685985565186,
          0.5067894458770752
         ],
         "y": [
          0.8900513648986816,
          0.7186275720596313,
          0.7230015993118286,
          0.916845440864563,
          0.8900513648986816
         ]
        },
        {
         "line": {
          "color": "black",
          "width": 2
         },
         "mode": "lines",
         "showlegend": false,
         "type": "scatter",
         "x": [
          0.7557174563407898,
          0.9549516439437866,
          0.8842635750770569,
          0.6792685985565186,
          0.7557174563407898
         ],
         "y": [
          0.7230015993118286,
          0.7246973514556885,
          0.9308021068572998,
          0.916845440864563,
          0.7230015993118286
         ]
        },
        {
         "fill": "toself",
         "fillcolor": "rgba(0, 0, 255, 0.2)",
         "line": {
          "color": "black",
          "width": 2
         },
         "mode": "lines",
         "showlegend": false,
         "type": "scatter",
         "x": [
          0.7557174563407898,
          0.9549516439437866,
          0.8842635750770569,
          0.6792685985565186,
          0.7557174563407898
         ],
         "y": [
          0.7230015993118286,
          0.7246973514556885,
          0.9308021068572998,
          0.916845440864563,
          0.7230015993118286
         ]
        },
        {
         "line": {
          "color": "black",
          "width": 2
         },
         "mode": "lines",
         "showlegend": false,
         "type": "scatter",
         "x": [
          0.8842635750770569,
          0.7919260263442993,
          0.5910466909408569,
          0.6792685985565186,
          0.8842635750770569
         ],
         "y": [
          0.9308021068572998,
          1.1481053829193115,
          1.1176680326461792,
          0.916845440864563,
          0.9308021068572998
         ]
        },
        {
         "line": {
          "color": "black",
          "width": 2
         },
         "mode": "lines",
         "showlegend": false,
         "type": "scatter",
         "x": [
          3.713677167892456,
          3.7805893421173096,
          3.994795083999634,
          3.934750556945801,
          3.713677167892456
         ],
         "y": [
          0.8393602967262268,
          0.6332447528839111,
          0.6170737147331238,
          0.844081699848175,
          0.8393602967262268
         ]
        },
        {
         "fill": "toself",
         "fillcolor": "rgba(0, 0, 255, 0.2)",
         "line": {
          "color": "black",
          "width": 2
         },
         "mode": "lines",
         "showlegend": false,
         "type": "scatter",
         "x": [
          3.713677167892456,
          3.7805893421173096,
          3.994795083999634,
          3.934750556945801,
          3.713677167892456
         ],
         "y": [
          0.8393602967262268,
          0.6332447528839111,
          0.6170737147331238,
          0.844081699848175,
          0.8393602967262268
         ]
        },
        {
         "line": {
          "color": "black",
          "width": 2
         },
         "mode": "lines",
         "showlegend": false,
         "type": "scatter",
         "x": [
          3.7805893421173096,
          3.8486406803131104,
          4.046414375305176,
          3.994795083999634,
          3.7805893421173096
         ],
         "y": [
          0.6332447528839111,
          0.41667866706848145,
          0.39278480410575867,
          0.6170737147331238,
          0.6332447528839111
         ]
        },
        {
         "fill": "toself",
         "fillcolor": "rgba(0, 0, 255, 0.2)",
         "line": {
          "color": "black",
          "width": 2
         },
         "mode": "lines",
         "showlegend": false,
         "type": "scatter",
         "x": [
          3.7805893421173096,
          3.8486406803131104,
          4.046414375305176,
          3.994795083999634,
          3.7805893421173096
         ],
         "y": [
          0.6332447528839111,
          0.41667866706848145,
          0.39278480410575867,
          0.6170737147331238,
          0.6332447528839111
         ]
        },
        {
         "line": {
          "color": "black",
          "width": 2
         },
         "mode": "lines",
         "showlegend": false,
         "type": "scatter",
         "x": [
          4.046414375305176,
          4.227769374847412,
          4.198951244354248,
          3.994795083999634,
          4.046414375305176
         ],
         "y": [
          0.39278480410575867,
          0.36207443475723267,
          0.578764796257019,
          0.6170737147331238,
          0.39278480410575867
         ]
        },
        {
         "fill": "toself",
         "fillcolor": "rgba(0, 0, 255, 0.2)",
         "line": {
          "color": "black",
          "width": 2
         },
         "mode": "lines",
         "showlegend": false,
         "type": "scatter",
         "x": [
          4.046414375305176,
          4.227769374847412,
          4.198951244354248,
          3.994795083999634,
          4.046414375305176
         ],
         "y": [
          0.39278480410575867,
          0.36207443475723267,
          0.578764796257019,
          0.6170737147331238,
          0.39278480410575867
         ]
        },
        {
         "line": {
          "color": "black",
          "width": 2
         },
         "mode": "lines",
         "showlegend": false,
         "type": "scatter",
         "x": [
          4.198951244354248,
          4.184881210327148,
          3.934750556945801,
          3.994795083999634,
          4.198951244354248
         ],
         "y": [
          0.578764796257019,
          0.8321652412414551,
          0.844081699848175,
          0.6170737147331238,
          0.578764796257019
         ]
        },
        {
         "fill": "toself",
         "fillcolor": "rgba(0, 0, 255, 0.2)",
         "line": {
          "color": "black",
          "width": 2
         },
         "mode": "lines",
         "showlegend": false,
         "type": "scatter",
         "x": [
          4.198951244354248,
          4.184881210327148,
          3.934750556945801,
          3.994795083999634,
          4.198951244354248
         ],
         "y": [
          0.578764796257019,
          0.8321652412414551,
          0.844081699848175,
          0.6170737147331238,
          0.578764796257019
         ]
        },
        {
         "line": {
          "color": "black",
          "width": 2
         },
         "mode": "lines",
         "showlegend": false,
         "type": "scatter",
         "x": [
          0,
          0,
          0.1769266277551651,
          0.16260744631290436,
          0
         ],
         "y": [
          1.528704285621643,
          1.3684204816818237,
          1.3075621128082275,
          1.4665180444717407,
          1.528704285621643
         ]
        },
        {
         "fill": "toself",
         "fillcolor": "rgba(0, 0, 255, 0.2)",
         "line": {
          "color": "black",
          "width": 2
         },
         "mode": "lines",
         "showlegend": false,
         "type": "scatter",
         "x": [
          0,
          0,
          0.1769266277551651,
          0.16260744631290436,
          0
         ],
         "y": [
          1.528704285621643,
          1.3684204816818237,
          1.3075621128082275,
          1.4665180444717407,
          1.528704285621643
         ]
        },
        {
         "line": {
          "color": "black",
          "width": 2
         },
         "mode": "lines",
         "showlegend": false,
         "type": "scatter",
         "x": [
          0,
          0,
          0.18049459159374237,
          0.1769266277551651,
          0
         ],
         "y": [
          1.3684204816818237,
          1.2081365585327148,
          1.1455439329147339,
          1.3075621128082275,
          1.3684204816818237
         ]
        },
        {
         "fill": "toself",
         "fillcolor": "rgba(0, 0, 255, 0.2)",
         "line": {
          "color": "black",
          "width": 2
         },
         "mode": "lines",
         "showlegend": false,
         "type": "scatter",
         "x": [
          0,
          0,
          0.18049459159374237,
          0.1769266277551651,
          0
         ],
         "y": [
          1.3684204816818237,
          1.2081365585327148,
          1.1455439329147339,
          1.3075621128082275,
          1.3684204816818237
         ]
        },
        {
         "line": {
          "color": "black",
          "width": 2
         },
         "mode": "lines",
         "showlegend": false,
         "type": "scatter",
         "x": [
          0.18049459159374237,
          0.39051392674446106,
          0.35635045170783997,
          0.1769266277551651,
          0.18049459159374237
         ],
         "y": [
          1.1455439329147339,
          1.07501220703125,
          1.27205491065979,
          1.3075621128082275,
          1.1455439329147339
         ]
        },
        {
         "fill": "toself",
         "fillcolor": "rgba(0, 0, 255, 0.2)",
         "line": {
          "color": "black",
          "width": 2
         },
         "mode": "lines",
         "showlegend": false,
         "type": "scatter",
         "x": [
          0.18049459159374237,
          0.39051392674446106,
          0.35635045170783997,
          0.1769266277551651,
          0.18049459159374237
         ],
         "y": [
          1.1455439329147339,
          1.07501220703125,
          1.27205491065979,
          1.3075621128082275,
          1.1455439329147339
         ]
        },
        {
         "line": {
          "color": "black",
          "width": 2
         },
         "mode": "lines",
         "showlegend": false,
         "type": "scatter",
         "x": [
          0.35635045170783997,
          0.31884118914604187,
          0.16260744631290436,
          0.1769266277551651,
          0.35635045170783997
         ],
         "y": [
          1.27205491065979,
          1.4385032653808594,
          1.4665180444717407,
          1.3075621128082275,
          1.27205491065979
         ]
        },
        {
         "line": {
          "color": "black",
          "width": 2
         },
         "mode": "lines",
         "showlegend": false,
         "type": "scatter",
         "x": [
          3.8486406803131104,
          3.7805893421173096,
          3.5577285289764404,
          3.6313064098358154,
          3.8486406803131104
         ],
         "y": [
          0.41667866706848145,
          0.6332447528839111,
          0.6376153230667114,
          0.42857542634010315,
          0.41667866706848145
         ]
        },
        {
         "fill": "toself",
         "fillcolor": "rgba(0, 0, 255, 0.2)",
         "line": {
          "color": "black",
          "width": 2
         },
         "mode": "lines",
         "showlegend": false,
         "type": "scatter",
         "x": [
          3.8486406803131104,
          3.7805893421173096,
          3.5577285289764404,
          3.6313064098358154,
          3.8486406803131104
         ],
         "y": [
          0.41667866706848145,
          0.6332447528839111,
          0.6376153230667114,
          0.42857542634010315,
          0.41667866706848145
         ]
        },
        {
         "line": {
          "color": "black",
          "width": 2
         },
         "mode": "lines",
         "showlegend": false,
         "type": "scatter",
         "x": [
          3.7805893421173096,
          3.713677167892456,
          3.4975550174713135,
          3.5577285289764404,
          3.7805893421173096
         ],
         "y": [
          0.6332447528839111,
          0.8393602967262268,
          0.8307721614837646,
          0.6376153230667114,
          0.6332447528839111
         ]
        },
        {
         "fill": "toself",
         "fillcolor": "rgba(0, 0, 255, 0.2)",
         "line": {
          "color": "black",
          "width": 2
         },
         "mode": "lines",
         "showlegend": false,
         "type": "scatter",
         "x": [
          3.7805893421173096,
          3.713677167892456,
          3.4975550174713135,
          3.5577285289764404,
          3.7805893421173096
         ],
         "y": [
          0.6332447528839111,
          0.8393602967262268,
          0.8307721614837646,
          0.6376153230667114,
          0.6332447528839111
         ]
        },
        {
         "line": {
          "color": "black",
          "width": 2
         },
         "mode": "lines",
         "showlegend": false,
         "type": "scatter",
         "x": [
          3.4975550174713135,
          3.2980592250823975,
          3.335306406021118,
          3.5577285289764404,
          3.4975550174713135
         ],
         "y": [
          0.8307721614837646,
          0.8300948143005371,
          0.6434970498085022,
          0.6376153230667114,
          0.8307721614837646
         ]
        },
        {
         "fill": "toself",
         "fillcolor": "rgba(0, 0, 255, 0.2)",
         "line": {
          "color": "black",
          "width": 2
         },
         "mode": "lines",
         "showlegend": false,
         "type": "scatter",
         "x": [
          3.4975550174713135,
          3.2980592250823975,
          3.335306406021118,
          3.5577285289764404,
          3.4975550174713135
         ],
         "y": [
          0.8307721614837646,
          0.8300948143005371,
          0.6434970498085022,
          0.6376153230667114,
          0.8307721614837646
         ]
        },
        {
         "line": {
          "color": "black",
          "width": 2
         },
         "mode": "lines",
         "showlegend": false,
         "type": "scatter",
         "x": [
          3.335306406021118,
          3.407712697982788,
          3.6313064098358154,
          3.5577285289764404,
          3.335306406021118
         ],
         "y": [
          0.6434970498085022,
          0.43622931838035583,
          0.42857542634010315,
          0.6376153230667114,
          0.6434970498085022
         ]
        },
        {
         "fill": "toself",
         "fillcolor": "rgba(0, 0, 255, 0.2)",
         "line": {
          "color": "black",
          "width": 2
         },
         "mode": "lines",
         "showlegend": false,
         "type": "scatter",
         "x": [
          3.335306406021118,
          3.407712697982788,
          3.6313064098358154,
          3.5577285289764404,
          3.335306406021118
         ],
         "y": [
          0.6434970498085022,
          0.43622931838035583,
          0.42857542634010315,
          0.6376153230667114,
          0.6434970498085022
         ]
        },
        {
         "line": {
          "color": "black",
          "width": 2
         },
         "mode": "lines",
         "showlegend": false,
         "type": "scatter",
         "x": [
          2.911543130874634,
          2.859443426132202,
          2.5879738330841064,
          2.6302239894866943,
          2.911543130874634
         ],
         "y": [
          1.556293249130249,
          1.7934101819992065,
          1.7887424230575562,
          1.5787913799285889,
          1.556293249130249
         ]
        },
        {
         "line": {
          "color": "black",
          "width": 2
         },
         "mode": "lines",
         "showlegend": false,
         "type": "scatter",
         "x": [
          2.859443426132202,
          2.776355504989624,
          2.5,
          2.5879738330841064,
          2.859443426132202
         ],
         "y": [
          1.7934101819992065,
          2,
          2,
          1.7887424230575562,
          1.7934101819992065
         ]
        },
        {
         "fill": "toself",
         "fillcolor": "rgba(0, 0, 255, 0.2)",
         "line": {
          "color": "black",
          "width": 2
         },
         "mode": "lines",
         "showlegend": false,
         "type": "scatter",
         "x": [
          2.859443426132202,
          2.776355504989624,
          2.5,
          2.5879738330841064,
          2.859443426132202
         ],
         "y": [
          1.7934101819992065,
          2,
          2,
          1.7887424230575562,
          1.7934101819992065
         ]
        },
        {
         "line": {
          "color": "black",
          "width": 2
         },
         "mode": "lines",
         "showlegend": false,
         "type": "scatter",
         "x": [
          2.5,
          2.223644495010376,
          2.3211584091186523,
          2.5879738330841064,
          2.5
         ],
         "y": [
          2,
          2,
          1.7899101972579956,
          1.7887424230575562,
          2
         ]
        },
        {
         "fill": "toself",
         "fillcolor": "rgba(0, 0, 255, 0.2)",
         "line": {
          "color": "black",
          "width": 2
         },
         "mode": "lines",
         "showlegend": false,
         "type": "scatter",
         "x": [
          2.5,
          2.223644495010376,
          2.3211584091186523,
          2.5879738330841064,
          2.5
         ],
         "y": [
          2,
          2,
          1.7899101972579956,
          1.7887424230575562,
          2
         ]
        },
        {
         "line": {
          "color": "black",
          "width": 2
         },
         "mode": "lines",
         "showlegend": false,
         "type": "scatter",
         "x": [
          2.3211584091186523,
          2.360090732574463,
          2.6302239894866943,
          2.5879738330841064,
          2.3211584091186523
         ],
         "y": [
          1.7899101972579956,
          1.5773155689239502,
          1.5787913799285889,
          1.7887424230575562,
          1.7899101972579956
         ]
        },
        {
         "line": {
          "color": "black",
          "width": 2
         },
         "mode": "lines",
         "showlegend": false,
         "type": "scatter",
         "x": [
          3.473403215408325,
          3.4483723640441895,
          3.2448580265045166,
          3.2691640853881836,
          3.473403215408325
         ],
         "y": [
          1.1742188930511475,
          1.3876214027404785,
          1.4029635190963745,
          1.21808922290802,
          1.1742188930511475
         ]
        },
        {
         "fill": "toself",
         "fillcolor": "rgba(0, 0, 255, 0.2)",
         "line": {
          "color": "black",
          "width": 2
         },
         "mode": "lines",
         "showlegend": false,
         "type": "scatter",
         "x": [
          3.473403215408325,
          3.4483723640441895,
          3.2448580265045166,
          3.2691640853881836,
          3.473403215408325
         ],
         "y": [
          1.1742188930511475,
          1.3876214027404785,
          1.4029635190963745,
          1.21808922290802,
          1.1742188930511475
         ]
        },
        {
         "line": {
          "color": "black",
          "width": 2
         },
         "mode": "lines",
         "showlegend": false,
         "type": "scatter",
         "x": [
          3.4483723640441895,
          3.413848876953125,
          3.189321994781494,
          3.2448580265045166,
          3.4483723640441895
         ],
         "y": [
          1.3876214027404785,
          1.5906689167022705,
          1.5956833362579346,
          1.4029635190963745,
          1.3876214027404785
         ]
        },
        {
         "fill": "toself",
         "fillcolor": "rgba(0, 0, 255, 0.2)",
         "line": {
          "color": "black",
          "width": 2
         },
         "mode": "lines",
         "showlegend": false,
         "type": "scatter",
         "x": [
          3.4483723640441895,
          3.413848876953125,
          3.189321994781494,
          3.2448580265045166,
          3.4483723640441895
         ],
         "y": [
          1.3876214027404785,
          1.5906689167022705,
          1.5956833362579346,
          1.4029635190963745,
          1.3876214027404785
         ]
        },
        {
         "line": {
          "color": "black",
          "width": 2
         },
         "mode": "lines",
         "showlegend": false,
         "type": "scatter",
         "x": [
          3.189321994781494,
          2.911543130874634,
          3.0534119606018066,
          3.2448580265045166,
          3.189321994781494
         ],
         "y": [
          1.5956833362579346,
          1.556293249130249,
          1.3834482431411743,
          1.4029635190963745,
          1.5956833362579346
         ]
        },
        {
         "fill": "toself",
         "fillcolor": "rgba(0, 0, 255, 0.2)",
         "line": {
          "color": "black",
          "width": 2
         },
         "mode": "lines",
         "showlegend": false,
         "type": "scatter",
         "x": [
          3.189321994781494,
          2.911543130874634,
          3.0534119606018066,
          3.2448580265045166,
          3.189321994781494
         ],
         "y": [
          1.5956833362579346,
          1.556293249130249,
          1.3834482431411743,
          1.4029635190963745,
          1.5956833362579346
         ]
        },
        {
         "line": {
          "color": "black",
          "width": 2
         },
         "mode": "lines",
         "showlegend": false,
         "type": "scatter",
         "x": [
          3.0534119606018066,
          3.1177587509155273,
          3.2691640853881836,
          3.2448580265045166,
          3.0534119606018066
         ],
         "y": [
          1.3834482431411743,
          1.2380715608596802,
          1.21808922290802,
          1.4029635190963745,
          1.3834482431411743
         ]
        },
        {
         "line": {
          "color": "black",
          "width": 2
         },
         "mode": "lines",
         "showlegend": false,
         "type": "scatter",
         "x": [
          4.184881210327148,
          4.054696559906006,
          3.830310821533203,
          3.934750556945801,
          4.184881210327148
         ],
         "y": [
          0.8321652412414551,
          1.1092333793640137,
          1.0677576065063477,
          0.844081699848175,
          0.8321652412414551
         ]
        },
        {
         "fill": "toself",
         "fillcolor": "rgba(0, 0, 255, 0.2)",
         "line": {
          "color": "black",
          "width": 2
         },
         "mode": "lines",
         "showlegend": false,
         "type": "scatter",
         "x": [
          4.184881210327148,
          4.054696559906006,
          3.830310821533203,
          3.934750556945801,
          4.184881210327148
         ],
         "y": [
          0.8321652412414551,
          1.1092333793640137,
          1.0677576065063477,
          0.844081699848175,
          0.8321652412414551
         ]
        },
        {
         "line": {
          "color": "black",
          "width": 2
         },
         "mode": "lines",
         "showlegend": false,
         "type": "scatter",
         "x": [
          4.054696559906006,
          3.940859079360962,
          3.7114505767822266,
          3.830310821533203,
          4.054696559906006
         ],
         "y": [
          1.1092333793640137,
          1.4175339937210083,
          1.2611958980560303,
          1.0677576065063477,
          1.1092333793640137
         ]
        },
        {
         "fill": "toself",
         "fillcolor": "rgba(0, 0, 255, 0.2)",
         "line": {
          "color": "black",
          "width": 2
         },
         "mode": "lines",
         "showlegend": false,
         "type": "scatter",
         "x": [
          4.054696559906006,
          3.940859079360962,
          3.7114505767822266,
          3.830310821533203,
          4.054696559906006
         ],
         "y": [
          1.1092333793640137,
          1.4175339937210083,
          1.2611958980560303,
          1.0677576065063477,
          1.1092333793640137
         ]
        },
        {
         "line": {
          "color": "black",
          "width": 2
         },
         "mode": "lines",
         "showlegend": false,
         "type": "scatter",
         "x": [
          3.7114505767822266,
          3.473403215408325,
          3.613842725753784,
          3.830310821533203,
          3.7114505767822266
         ],
         "y": [
          1.2611958980560303,
          1.1742188930511475,
          1.0139297246932983,
          1.0677576065063477,
          1.2611958980560303
         ]
        },
        {
         "fill": "toself",
         "fillcolor": "rgba(0, 0, 255, 0.2)",
         "line": {
          "color": "black",
          "width": 2
         },
         "mode": "lines",
         "showlegend": false,
         "type": "scatter",
         "x": [
          3.7114505767822266,
          3.473403215408325,
          3.613842725753784,
          3.830310821533203,
          3.7114505767822266
         ],
         "y": [
          1.2611958980560303,
          1.1742188930511475,
          1.0139297246932983,
          1.0677576065063477,
          1.2611958980560303
         ]
        },
        {
         "line": {
          "color": "black",
          "width": 2
         },
         "mode": "lines",
         "showlegend": false,
         "type": "scatter",
         "x": [
          3.613842725753784,
          3.713677167892456,
          3.934750556945801,
          3.830310821533203,
          3.613842725753784
         ],
         "y": [
          1.0139297246932983,
          0.8393602967262268,
          0.844081699848175,
          1.0677576065063477,
          1.0139297246932983
         ]
        },
        {
         "line": {
          "color": "black",
          "width": 2
         },
         "mode": "lines",
         "showlegend": false,
         "type": "scatter",
         "x": [
          2.8966269493103027,
          2.9305195808410645,
          3.1272013187408447,
          3.108921527862549,
          2.8966269493103027
         ],
         "y": [
          0.9135451912879944,
          0.6812463998794556,
          0.6634999513626099,
          0.8663949966430664,
          0.9135451912879944
         ]
        },
        {
         "fill": "toself",
         "fillcolor": "rgba(0, 0, 255, 0.2)",
         "line": {
          "color": "black",
          "width": 2
         },
         "mode": "lines",
         "showlegend": false,
         "type": "scatter",
         "x": [
          2.8966269493103027,
          2.9305195808410645,
          3.1272013187408447,
          3.108921527862549,
          2.8966269493103027
         ],
         "y": [
          0.9135451912879944,
          0.6812463998794556,
          0.6634999513626099,
          0.8663949966430664,
          0.9135451912879944
         ]
        },
        {
         "line": {
          "color": "black",
          "width": 2
         },
         "mode": "lines",
         "showlegend": false,
         "type": "scatter",
         "x": [
          2.9305195808410645,
          2.963808298110962,
          3.1774516105651855,
          3.1272013187408447,
          2.9305195808410645
         ],
         "y": [
          0.6812463998794556,
          0.4604211151599884,
          0.4505905508995056,
          0.6634999513626099,
          0.6812463998794556
         ]
        },
        {
         "fill": "toself",
         "fillcolor": "rgba(0, 0, 255, 0.2)",
         "line": {
          "color": "black",
          "width": 2
         },
         "mode": "lines",
         "showlegend": false,
         "type": "scatter",
         "x": [
          2.9305195808410645,
          2.963808298110962,
          3.1774516105651855,
          3.1272013187408447,
          2.9305195808410645
         ],
         "y": [
          0.6812463998794556,
          0.4604211151599884,
          0.4505905508995056,
          0.6634999513626099,
          0.6812463998794556
         ]
        },
        {
         "line": {
          "color": "black",
          "width": 2
         },
         "mode": "lines",
         "showlegend": false,
         "type": "scatter",
         "x": [
          3.1774516105651855,
          3.407712697982788,
          3.335306406021118,
          3.1272013187408447,
          3.1774516105651855
         ],
         "y": [
          0.4505905508995056,
          0.43622931838035583,
          0.6434970498085022,
          0.6634999513626099,
          0.4505905508995056
         ]
        },
        {
         "fill": "toself",
         "fillcolor": "rgba(0, 0, 255, 0.2)",
         "line": {
          "color": "black",
          "width": 2
         },
         "mode": "lines",
         "showlegend": false,
         "type": "scatter",
         "x": [
          3.1774516105651855,
          3.407712697982788,
          3.335306406021118,
          3.1272013187408447,
          3.1774516105651855
         ],
         "y": [
          0.4505905508995056,
          0.43622931838035583,
          0.6434970498085022,
          0.6634999513626099,
          0.4505905508995056
         ]
        },
        {
         "line": {
          "color": "black",
          "width": 2
         },
         "mode": "lines",
         "showlegend": false,
         "type": "scatter",
         "x": [
          3.335306406021118,
          3.2980592250823975,
          3.108921527862549,
          3.1272013187408447,
          3.335306406021118
         ],
         "y": [
          0.6434970498085022,
          0.8300948143005371,
          0.8663949966430664,
          0.6634999513626099,
          0.6434970498085022
         ]
        },
        {
         "fill": "toself",
         "fillcolor": "rgba(0, 0, 255, 0.2)",
         "line": {
          "color": "black",
          "width": 2
         },
         "mode": "lines",
         "showlegend": false,
         "type": "scatter",
         "x": [
          3.335306406021118,
          3.2980592250823975,
          3.108921527862549,
          3.1272013187408447,
          3.335306406021118
         ],
         "y": [
          0.6434970498085022,
          0.8300948143005371,
          0.8663949966430664,
          0.6634999513626099,
          0.6434970498085022
         ]
        },
        {
         "line": {
          "color": "black",
          "width": 2
         },
         "mode": "lines",
         "showlegend": false,
         "type": "scatter",
         "x": [
          1.6744500398635864,
          1.4251301288604736,
          1.337809681892395,
          1.5456219911575317,
          1.6744500398635864
         ],
         "y": [
          2,
          2,
          1.7983766794204712,
          1.7606996297836304,
          2
         ]
        },
        {
         "fill": "toself",
         "fillcolor": "rgba(0, 0, 255, 0.2)",
         "line": {
          "color": "black",
          "width": 2
         },
         "mode": "lines",
         "showlegend": false,
         "type": "scatter",
         "x": [
          1.6744500398635864,
          1.4251301288604736,
          1.337809681892395,
          1.5456219911575317,
          1.6744500398635864
         ],
         "y": [
          2,
          2,
          1.7983766794204712,
          1.7606996297836304,
          2
         ]
        },
        {
         "line": {
          "color": "black",
          "width": 2
         },
         "mode": "lines",
         "showlegend": false,
         "type": "scatter",
         "x": [
          1.4251301288604736,
          1.1758103370666504,
          1.1089775562286377,
          1.337809681892395,
          1.4251301288604736
         ],
         "y": [
          2,
          2,
          1.7997767925262451,
          1.7983766794204712,
          2
         ]
        },
        {
         "fill": "toself",
         "fillcolor": "rgba(0, 0, 255, 0.2)",
         "line": {
          "color": "black",
          "width": 2
         },
         "mode": "lines",
         "showlegend": false,
         "type": "scatter",
         "x": [
          1.4251301288604736,
          1.1758103370666504,
          1.1089775562286377,
          1.337809681892395,
          1.4251301288604736
         ],
         "y": [
          2,
          2,
          1.7997767925262451,
          1.7983766794204712,
          2
         ]
        },
        {
         "line": {
          "color": "black",
          "width": 2
         },
         "mode": "lines",
         "showlegend": false,
         "type": "scatter",
         "x": [
          1.1089775562286377,
          1.0725041627883911,
          1.2779484987258911,
          1.337809681892395,
          1.1089775562286377
         ],
         "y": [
          1.7997767925262451,
          1.5951138734817505,
          1.5976756811141968,
          1.7983766794204712,
          1.7997767925262451
         ]
        },
        {
         "line": {
          "color": "black",
          "width": 2
         },
         "mode": "lines",
         "showlegend": false,
         "type": "scatter",
         "x": [
          1.2779484987258911,
          1.4594870805740356,
          1.5456219911575317,
          1.337809681892395,
          1.2779484987258911
         ],
         "y": [
          1.5976756811141968,
          1.602929949760437,
          1.7606996297836304,
          1.7983766794204712,
          1.5976756811141968
         ]
        },
        {
         "line": {
          "color": "black",
          "width": 2
         },
         "mode": "lines",
         "showlegend": false,
         "type": "scatter",
         "x": [
          2.8966269493103027,
          3.025653123855591,
          2.9025347232818604,
          2.7521591186523438,
          2.8966269493103027
         ],
         "y": [
          0.9135451912879944,
          1.1079118251800537,
          1.234968900680542,
          1.0736907720565796,
          0.9135451912879944
         ]
        },
        {
         "fill": "toself",
         "fillcolor": "rgba(0, 0, 255, 0.2)",
         "line": {
          "color": "black",
          "width": 2
         },
         "mode": "lines",
         "showlegend": false,
         "type": "scatter",
         "x": [
          2.8966269493103027,
          3.025653123855591,
          2.9025347232818604,
          2.7521591186523438,
          2.8966269493103027
         ],
         "y": [
          0.9135451912879944,
          1.1079118251800537,
          1.234968900680542,
          1.0736907720565796,
          0.9135451912879944
         ]
        },
        {
         "line": {
          "color": "black",
          "width": 2
         },
         "mode": "lines",
         "showlegend": false,
         "type": "scatter",
         "x": [
          3.025653123855591,
          3.1177587509155273,
          3.0534119606018066,
          2.9025347232818604,
          3.025653123855591
         ],
         "y": [
          1.1079118251800537,
          1.2380715608596802,
          1.3834482431411743,
          1.234968900680542,
          1.1079118251800537
         ]
        },
        {
         "fill": "toself",
         "fillcolor": "rgba(0, 0, 255, 0.2)",
         "line": {
          "color": "black",
          "width": 2
         },
         "mode": "lines",
         "showlegend": false,
         "type": "scatter",
         "x": [
          3.025653123855591,
          3.1177587509155273,
          3.0534119606018066,
          2.9025347232818604,
          3.025653123855591
         ],
         "y": [
          1.1079118251800537,
          1.2380715608596802,
          1.3834482431411743,
          1.234968900680542,
          1.1079118251800537
         ]
        },
        {
         "line": {
          "color": "black",
          "width": 2
         },
         "mode": "lines",
         "showlegend": false,
         "type": "scatter",
         "x": [
          3.0534119606018066,
          2.911543130874634,
          2.7669410705566406,
          2.9025347232818604,
          3.0534119606018066
         ],
         "y": [
          1.3834482431411743,
          1.556293249130249,
          1.3507217168807983,
          1.234968900680542,
          1.3834482431411743
         ]
        },
        {
         "fill": "toself",
         "fillcolor": "rgba(0, 0, 255, 0.2)",
         "line": {
          "color": "black",
          "width": 2
         },
         "mode": "lines",
         "showlegend": false,
         "type": "scatter",
         "x": [
          3.0534119606018066,
          2.911543130874634,
          2.7669410705566406,
          2.9025347232818604,
          3.0534119606018066
         ],
         "y": [
          1.3834482431411743,
          1.556293249130249,
          1.3507217168807983,
          1.234968900680542,
          1.3834482431411743
         ]
        },
        {
         "line": {
          "color": "black",
          "width": 2
         },
         "mode": "lines",
         "showlegend": false,
         "type": "scatter",
         "x": [
          2.7669410705566406,
          2.6594648361206055,
          2.7521591186523438,
          2.9025347232818604,
          2.7669410705566406
         ],
         "y": [
          1.3507217168807983,
          1.1856552362442017,
          1.0736907720565796,
          1.234968900680542,
          1.3507217168807983
         ]
        },
        {
         "fill": "toself",
         "fillcolor": "rgba(0, 0, 255, 0.2)",
         "line": {
          "color": "black",
          "width": 2
         },
         "mode": "lines",
         "showlegend": false,
         "type": "scatter",
         "x": [
          2.7669410705566406,
          2.6594648361206055,
          2.7521591186523438,
          2.9025347232818604,
          2.7669410705566406
         ],
         "y": [
          1.3507217168807983,
          1.1856552362442017,
          1.0736907720565796,
          1.234968900680542,
          1.3507217168807983
         ]
        },
        {
         "line": {
          "color": "black",
          "width": 2
         },
         "mode": "lines",
         "showlegend": false,
         "type": "scatter",
         "x": [
          3.473403215408325,
          3.2691640853881836,
          3.190035343170166,
          3.3496553897857666,
          3.473403215408325
         ],
         "y": [
          1.1742188930511475,
          1.21808922290802,
          1.043007493019104,
          1.000938892364502,
          1.1742188930511475
         ]
        },
        {
         "fill": "toself",
         "fillcolor": "rgba(0, 0, 255, 0.2)",
         "line": {
          "color": "black",
          "width": 2
         },
         "mode": "lines",
         "showlegend": false,
         "type": "scatter",
         "x": [
          3.473403215408325,
          3.2691640853881836,
          3.190035343170166,
          3.3496553897857666,
          3.473403215408325
         ],
         "y": [
          1.1742188930511475,
          1.21808922290802,
          1.043007493019104,
          1.000938892364502,
          1.1742188930511475
         ]
        },
        {
         "line": {
          "color": "black",
          "width": 2
         },
         "mode": "lines",
         "showlegend": false,
         "type": "scatter",
         "x": [
          3.2691640853881836,
          3.1177587509155273,
          3.025653123855591,
          3.190035343170166,
          3.2691640853881836
         ],
         "y": [
          1.21808922290802,
          1.2380715608596802,
          1.1079118251800537,
          1.043007493019104,
          1.21808922290802
         ]
        },
        {
         "fill": "toself",
         "fillcolor": "rgba(0, 0, 255, 0.2)",
         "line": {
          "color": "black",
          "width": 2
         },
         "mode": "lines",
         "showlegend": false,
         "type": "scatter",
         "x": [
          3.2691640853881836,
          3.1177587509155273,
          3.025653123855591,
          3.190035343170166,
          3.2691640853881836
         ],
         "y": [
          1.21808922290802,
          1.2380715608596802,
          1.1079118251800537,
          1.043007493019104,
          1.21808922290802
         ]
        },
        {
         "line": {
          "color": "black",
          "width": 2
         },
         "mode": "lines",
         "showlegend": false,
         "type": "scatter",
         "x": [
          3.025653123855591,
          2.8966269493103027,
          3.108921527862549,
          3.190035343170166,
          3.025653123855591
         ],
         "y": [
          1.1079118251800537,
          0.9135451912879944,
          0.8663949966430664,
          1.043007493019104,
          1.1079118251800537
         ]
        },
        {
         "fill": "toself",
         "fillcolor": "rgba(0, 0, 255, 0.2)",
         "line": {
          "color": "black",
          "width": 2
         },
         "mode": "lines",
         "showlegend": false,
         "type": "scatter",
         "x": [
          3.025653123855591,
          2.8966269493103027,
          3.108921527862549,
          3.190035343170166,
          3.025653123855591
         ],
         "y": [
          1.1079118251800537,
          0.9135451912879944,
          0.8663949966430664,
          1.043007493019104,
          1.1079118251800537
         ]
        },
        {
         "line": {
          "color": "black",
          "width": 2
         },
         "mode": "lines",
         "showlegend": false,
         "type": "scatter",
         "x": [
          3.108921527862549,
          3.2980592250823975,
          3.3496553897857666,
          3.190035343170166,
          3.108921527862549
         ],
         "y": [
          0.8663949966430664,
          0.8300948143005371,
          1.000938892364502,
          1.043007493019104,
          0.8663949966430664
         ]
        },
        {
         "line": {
          "color": "black",
          "width": 2
         },
         "mode": "lines",
         "showlegend": false,
         "type": "scatter",
         "x": [
          1.6893349885940552,
          1.8386987447738647,
          1.694443941116333,
          1.5525668859481812,
          1.6893349885940552
         ],
         "y": [
          1.329845905303955,
          1.4585894346237183,
          1.6182851791381836,
          1.4657286405563354,
          1.329845905303955
         ]
        },
        {
         "fill": "toself",
         "fillcolor": "rgba(0, 0, 255, 0.2)",
         "line": {
          "color": "black",
          "width": 2
         },
         "mode": "lines",
         "showlegend": false,
         "type": "scatter",
         "x": [
          1.6893349885940552,
          1.8386987447738647,
          1.694443941116333,
          1.5525668859481812,
          1.6893349885940552
         ],
         "y": [
          1.329845905303955,
          1.4585894346237183,
          1.6182851791381836,
          1.4657286405563354,
          1.329845905303955
         ]
        },
        {
         "line": {
          "color": "black",
          "width": 2
         },
         "mode": "lines",
         "showlegend": false,
         "type": "scatter",
         "x": [
          1.8386987447738647,
          1.936989188194275,
          1.8399810791015625,
          1.694443941116333,
          1.8386987447738647
         ],
         "y": [
          1.4585894346237183,
          1.5932351350784302,
          1.7523523569107056,
          1.6182851791381836,
          1.4585894346237183
         ]
        },
        {
         "fill": "toself",
         "fillcolor": "rgba(0, 0, 255, 0.2)",
         "line": {
          "color": "black",
          "width": 2
         },
         "mode": "lines",
         "showlegend": false,
         "type": "scatter",
         "x": [
          1.8386987447738647,
          1.936989188194275,
          1.8399810791015625,
          1.694443941116333,
          1.8386987447738647
         ],
         "y": [
          1.4585894346237183,
          1.5932351350784302,
          1.7523523569107056,
          1.6182851791381836,
          1.4585894346237183
         ]
        },
        {
         "line": {
          "color": "black",
          "width": 2
         },
         "mode": "lines",
         "showlegend": false,
         "type": "scatter",
         "x": [
          1.8399810791015625,
          1.6744500398635864,
          1.5456219911575317,
          1.694443941116333,
          1.8399810791015625
         ],
         "y": [
          1.7523523569107056,
          2,
          1.7606996297836304,
          1.6182851791381836,
          1.7523523569107056
         ]
        },
        {
         "fill": "toself",
         "fillcolor": "rgba(0, 0, 255, 0.2)",
         "line": {
          "color": "black",
          "width": 2
         },
         "mode": "lines",
         "showlegend": false,
         "type": "scatter",
         "x": [
          1.8399810791015625,
          1.6744500398635864,
          1.5456219911575317,
          1.694443941116333,
          1.8399810791015625
         ],
         "y": [
          1.7523523569107056,
          2,
          1.7606996297836304,
          1.6182851791381836,
          1.7523523569107056
         ]
        },
        {
         "line": {
          "color": "black",
          "width": 2
         },
         "mode": "lines",
         "showlegend": false,
         "type": "scatter",
         "x": [
          1.5456219911575317,
          1.4594870805740356,
          1.5525668859481812,
          1.694443941116333,
          1.5456219911575317
         ],
         "y": [
          1.7606996297836304,
          1.602929949760437,
          1.4657286405563354,
          1.6182851791381836,
          1.7606996297836304
         ]
        },
        {
         "fill": "toself",
         "fillcolor": "rgba(0, 0, 255, 0.2)",
         "line": {
          "color": "black",
          "width": 2
         },
         "mode": "lines",
         "showlegend": false,
         "type": "scatter",
         "x": [
          1.5456219911575317,
          1.4594870805740356,
          1.5525668859481812,
          1.694443941116333,
          1.5456219911575317
         ],
         "y": [
          1.7606996297836304,
          1.602929949760437,
          1.4657286405563354,
          1.6182851791381836,
          1.7606996297836304
         ]
        },
        {
         "line": {
          "color": "black",
          "width": 2
         },
         "mode": "lines",
         "showlegend": false,
         "type": "scatter",
         "x": [
          1.6893349885940552,
          1.5525668859481812,
          1.3535499572753906,
          1.4776769876480103,
          1.6893349885940552
         ],
         "y": [
          1.329845905303955,
          1.4657286405563354,
          1.4072434902191162,
          1.2268623113632202,
          1.329845905303955
         ]
        },
        {
         "line": {
          "color": "black",
          "width": 2
         },
         "mode": "lines",
         "showlegend": false,
         "type": "scatter",
         "x": [
          1.5525668859481812,
          1.4594870805740356,
          1.2779484987258911,
          1.3535499572753906,
          1.5525668859481812
         ],
         "y": [
          1.4657286405563354,
          1.602929949760437,
          1.5976756811141968,
          1.4072434902191162,
          1.4657286405563354
         ]
        },
        {
         "fill": "toself",
         "fillcolor": "rgba(0, 0, 255, 0.2)",
         "line": {
          "color": "black",
          "width": 2
         },
         "mode": "lines",
         "showlegend": false,
         "type": "scatter",
         "x": [
          1.5525668859481812,
          1.4594870805740356,
          1.2779484987258911,
          1.3535499572753906,
          1.5525668859481812
         ],
         "y": [
          1.4657286405563354,
          1.602929949760437,
          1.5976756811141968,
          1.4072434902191162,
          1.4657286405563354
         ]
        },
        {
         "line": {
          "color": "black",
          "width": 2
         },
         "mode": "lines",
         "showlegend": false,
         "type": "scatter",
         "x": [
          1.2779484987258911,
          1.0725041627883911,
          1.1273328065872192,
          1.3535499572753906,
          1.2779484987258911
         ],
         "y": [
          1.5976756811141968,
          1.5951138734817505,
          1.381439208984375,
          1.4072434902191162,
          1.5976756811141968
         ]
        },
        {
         "fill": "toself",
         "fillcolor": "rgba(0, 0, 255, 0.2)",
         "line": {
          "color": "black",
          "width": 2
         },
         "mode": "lines",
         "showlegend": false,
         "type": "scatter",
         "x": [
          1.2779484987258911,
          1.0725041627883911,
          1.1273328065872192,
          1.3535499572753906,
          1.2779484987258911
         ],
         "y": [
          1.5976756811141968,
          1.5951138734817505,
          1.381439208984375,
          1.4072434902191162,
          1.5976756811141968
         ]
        },
        {
         "line": {
          "color": "black",
          "width": 2
         },
         "mode": "lines",
         "showlegend": false,
         "type": "scatter",
         "x": [
          1.1273328065872192,
          1.2487528324127197,
          1.4776769876480103,
          1.3535499572753906,
          1.1273328065872192
         ],
         "y": [
          1.381439208984375,
          1.1753369569778442,
          1.2268623113632202,
          1.4072434902191162,
          1.381439208984375
         ]
        },
        {
         "fill": "toself",
         "fillcolor": "rgba(0, 0, 255, 0.2)",
         "line": {
          "color": "black",
          "width": 2
         },
         "mode": "lines",
         "showlegend": false,
         "type": "scatter",
         "x": [
          1.1273328065872192,
          1.2487528324127197,
          1.4776769876480103,
          1.3535499572753906,
          1.1273328065872192
         ],
         "y": [
          1.381439208984375,
          1.1753369569778442,
          1.2268623113632202,
          1.4072434902191162,
          1.381439208984375
         ]
        },
        {
         "line": {
          "color": "black",
          "width": 2
         },
         "mode": "lines",
         "showlegend": false,
         "type": "scatter",
         "x": [
          2.360090732574463,
          2.3211584091186523,
          2.0579397678375244,
          2.1305150985717773,
          2.360090732574463
         ],
         "y": [
          1.5773155689239502,
          1.7899101972579956,
          1.790798544883728,
          1.583219289779663,
          1.5773155689239502
         ]
        },
        {
         "line": {
          "color": "black",
          "width": 2
         },
         "mode": "lines",
         "showlegend": false,
         "type": "scatter",
         "x": [
          2.3211584091186523,
          2.223644495010376,
          1.9490472078323364,
          2.0579397678375244,
          2.3211584091186523
         ],
         "y": [
          1.7899101972579956,
          2,
          2,
          1.790798544883728,
          1.7899101972579956
         ]
        },
        {
         "fill": "toself",
         "fillcolor": "rgba(0, 0, 255, 0.2)",
         "line": {
          "color": "black",
          "width": 2
         },
         "mode": "lines",
         "showlegend": false,
         "type": "scatter",
         "x": [
          2.3211584091186523,
          2.223644495010376,
          1.9490472078323364,
          2.0579397678375244,
          2.3211584091186523
         ],
         "y": [
          1.7899101972579956,
          2,
          2,
          1.790798544883728,
          1.7899101972579956
         ]
        },
        {
         "line": {
          "color": "black",
          "width": 2
         },
         "mode": "lines",
         "showlegend": false,
         "type": "scatter",
         "x": [
          1.9490472078323364,
          1.6744500398635864,
          1.8399810791015625,
          2.0579397678375244,
          1.9490472078323364
         ],
         "y": [
          2,
          2,
          1.7523523569107056,
          1.790798544883728,
          2
         ]
        },
        {
         "fill": "toself",
         "fillcolor": "rgba(0, 0, 255, 0.2)",
         "line": {
          "color": "black",
          "width": 2
         },
         "mode": "lines",
         "showlegend": false,
         "type": "scatter",
         "x": [
          1.9490472078323364,
          1.6744500398635864,
          1.8399810791015625,
          2.0579397678375244,
          1.9490472078323364
         ],
         "y": [
          2,
          2,
          1.7523523569107056,
          1.790798544883728,
          2
         ]
        },
        {
         "line": {
          "color": "black",
          "width": 2
         },
         "mode": "lines",
         "showlegend": false,
         "type": "scatter",
         "x": [
          1.8399810791015625,
          1.936989188194275,
          2.1305150985717773,
          2.0579397678375244,
          1.8399810791015625
         ],
         "y": [
          1.7523523569107056,
          1.5932351350784302,
          1.583219289779663,
          1.790798544883728,
          1.7523523569107056
         ]
        },
        {
         "fill": "toself",
         "fillcolor": "rgba(0, 0, 255, 0.2)",
         "line": {
          "color": "black",
          "width": 2
         },
         "mode": "lines",
         "showlegend": false,
         "type": "scatter",
         "x": [
          1.8399810791015625,
          1.936989188194275,
          2.1305150985717773,
          2.0579397678375244,
          1.8399810791015625
         ],
         "y": [
          1.7523523569107056,
          1.5932351350784302,
          1.583219289779663,
          1.790798544883728,
          1.7523523569107056
         ]
        },
        {
         "line": {
          "color": "black",
          "width": 2
         },
         "mode": "lines",
         "showlegend": false,
         "type": "scatter",
         "x": [
          1.2487528324127197,
          1.1273328065872192,
          0.913159191608429,
          1.0133227109909058,
          1.2487528324127197
         ],
         "y": [
          1.1753369569778442,
          1.381439208984375,
          1.384960651397705,
          1.1578656435012817,
          1.1753369569778442
         ]
        },
        {
         "fill": "toself",
         "fillcolor": "rgba(0, 0, 255, 0.2)",
         "line": {
          "color": "black",
          "width": 2
         },
         "mode": "lines",
         "showlegend": false,
         "type": "scatter",
         "x": [
          1.2487528324127197,
          1.1273328065872192,
          0.913159191608429,
          1.0133227109909058,
          1.2487528324127197
         ],
         "y": [
          1.1753369569778442,
          1.381439208984375,
          1.384960651397705,
          1.1578656435012817,
          1.1753369569778442
         ]
        },
        {
         "line": {
          "color": "black",
          "width": 2
         },
         "mode": "lines",
         "showlegend": false,
         "type": "scatter",
         "x": [
          1.1273328065872192,
          1.0725041627883911,
          0.8549940586090088,
          0.913159191608429,
          1.1273328065872192
         ],
         "y": [
          1.381439208984375,
          1.5951138734817505,
          1.6071720123291016,
          1.384960651397705,
          1.381439208984375
         ]
        },
        {
         "fill": "toself",
         "fillcolor": "rgba(0, 0, 255, 0.2)",
         "line": {
          "color": "black",
          "width": 2
         },
         "mode": "lines",
         "showlegend": false,
         "type": "scatter",
         "x": [
          1.1273328065872192,
          1.0725041627883911,
          0.8549940586090088,
          0.913159191608429,
          1.1273328065872192
         ],
         "y": [
          1.381439208984375,
          1.5951138734817505,
          1.6071720123291016,
          1.384960651397705,
          1.381439208984375
         ]
        },
        {
         "line": {
          "color": "black",
          "width": 2
         },
         "mode": "lines",
         "showlegend": false,
         "type": "scatter",
         "x": [
          0.8549940586090088,
          0.6195558905601501,
          0.7032692432403564,
          0.913159191608429,
          0.8549940586090088
         ],
         "y": [
          1.6071720123291016,
          1.6367623805999756,
          1.3785207271575928,
          1.384960651397705,
          1.6071720123291016
         ]
        },
        {
         "fill": "toself",
         "fillcolor": "rgba(0, 0, 255, 0.2)",
         "line": {
          "color": "black",
          "width": 2
         },
         "mode": "lines",
         "showlegend": false,
         "type": "scatter",
         "x": [
          0.8549940586090088,
          0.6195558905601501,
          0.7032692432403564,
          0.913159191608429,
          0.8549940586090088
         ],
         "y": [
          1.6071720123291016,
          1.6367623805999756,
          1.3785207271575928,
          1.384960651397705,
          1.6071720123291016
         ]
        },
        {
         "line": {
          "color": "black",
          "width": 2
         },
         "mode": "lines",
         "showlegend": false,
         "type": "scatter",
         "x": [
          0.7032692432403564,
          0.7919260263442993,
          1.0133227109909058,
          0.913159191608429,
          0.7032692432403564
         ],
         "y": [
          1.3785207271575928,
          1.1481053829193115,
          1.1578656435012817,
          1.384960651397705,
          1.3785207271575928
         ]
        },
        {
         "fill": "toself",
         "fillcolor": "rgba(0, 0, 255, 0.2)",
         "line": {
          "color": "black",
          "width": 2
         },
         "mode": "lines",
         "showlegend": false,
         "type": "scatter",
         "x": [
          0.7032692432403564,
          0.7919260263442993,
          1.0133227109909058,
          0.913159191608429,
          0.7032692432403564
         ],
         "y": [
          1.3785207271575928,
          1.1481053829193115,
          1.1578656435012817,
          1.384960651397705,
          1.3785207271575928
         ]
        },
        {
         "line": {
          "color": "black",
          "width": 2
         },
         "mode": "lines",
         "showlegend": false,
         "type": "scatter",
         "x": [
          4.786237716674805,
          4.781370639801025,
          4.655276775360107,
          4.664474964141846,
          4.786237716674805
         ],
         "y": [
          0.19695256650447845,
          0.310759961605072,
          0.34788778424263,
          0.21988070011138916,
          0.19695256650447845
         ]
        },
        {
         "line": {
          "color": "black",
          "width": 2
         },
         "mode": "lines",
         "showlegend": false,
         "type": "scatter",
         "x": [
          4.781370639801025,
          4.777948379516602,
          4.655497074127197,
          4.655276775360107,
          4.781370639801025
         ],
         "y": [
          0.310759961605072,
          0.44183599948883057,
          0.46665915846824646,
          0.34788778424263,
          0.310759961605072
         ]
        },
        {
         "fill": "toself",
         "fillcolor": "rgba(0, 0, 255, 0.2)",
         "line": {
          "color": "black",
          "width": 2
         },
         "mode": "lines",
         "showlegend": false,
         "type": "scatter",
         "x": [
          4.781370639801025,
          4.777948379516602,
          4.655497074127197,
          4.655276775360107,
          4.781370639801025
         ],
         "y": [
          0.310759961605072,
          0.44183599948883057,
          0.46665915846824646,
          0.34788778424263,
          0.310759961605072
         ]
        },
        {
         "line": {
          "color": "black",
          "width": 2
         },
         "mode": "lines",
         "showlegend": false,
         "type": "scatter",
         "x": [
          4.655497074127197,
          4.529269695281982,
          4.519779205322266,
          4.655276775360107,
          4.655497074127197
         ],
         "y": [
          0.46665915846824646,
          0.5404736399650574,
          0.4059048891067505,
          0.34788778424263,
          0.46665915846824646
         ]
        },
        {
         "fill": "toself",
         "fillcolor": "rgba(0, 0, 255, 0.2)",
         "line": {
          "color": "black",
          "width": 2
         },
         "mode": "lines",
         "showlegend": false,
         "type": "scatter",
         "x": [
          4.655497074127197,
          4.529269695281982,
          4.519779205322266,
          4.655276775360107,
          4.655497074127197
         ],
         "y": [
          0.46665915846824646,
          0.5404736399650574,
          0.4059048891067505,
          0.34788778424263,
          0.46665915846824646
         ]
        },
        {
         "line": {
          "color": "black",
          "width": 2
         },
         "mode": "lines",
         "showlegend": false,
         "type": "scatter",
         "x": [
          4.519779205322266,
          4.532685279846191,
          4.664474964141846,
          4.655276775360107,
          4.519779205322266
         ],
         "y": [
          0.4059048891067505,
          0.26613542437553406,
          0.21988070011138916,
          0.34788778424263,
          0.4059048891067505
         ]
        },
        {
         "line": {
          "color": "black",
          "width": 2
         },
         "mode": "lines",
         "showlegend": false,
         "type": "scatter",
         "x": [
          1.3543840646743774,
          1.3669102191925049,
          1.5894502401351929,
          1.5371657609939575,
          1.3543840646743774
         ],
         "y": [
          0.3446437418460846,
          0.16960975527763367,
          0.16295339167118073,
          0.3270001709461212,
          0.3446437418460846
         ]
        },
        {
         "line": {
          "color": "black",
          "width": 2
         },
         "mode": "lines",
         "showlegend": false,
         "type": "scatter",
         "x": [
          1.3669102191925049,
          1.419364094734192,
          1.677985429763794,
          1.5894502401351929,
          1.3669102191925049
         ],
         "y": [
          0.16960975527763367,
          0.0001323938777204603,
          0.00016047399549279362,
          0.16295339167118073,
          0.16960975527763367
         ]
        },
        {
         "fill": "toself",
         "fillcolor": "rgba(0, 0, 255, 0.2)",
         "line": {
          "color": "black",
          "width": 2
         },
         "mode": "lines",
         "showlegend": false,
         "type": "scatter",
         "x": [
          1.3669102191925049,
          1.419364094734192,
          1.677985429763794,
          1.5894502401351929,
          1.3669102191925049
         ],
         "y": [
          0.16960975527763367,
          0.0001323938777204603,
          0.00016047399549279362,
          0.16295339167118073,
          0.16960975527763367
         ]
        },
        {
         "line": {
          "color": "black",
          "width": 2
         },
         "mode": "lines",
         "showlegend": false,
         "type": "scatter",
         "x": [
          1.677985429763794,
          1.9366068840026855,
          1.771650791168213,
          1.5894502401351929,
          1.677985429763794
         ],
         "y": [
          0.00016047399549279362,
          0.00018855412781704217,
          0.17057465016841888,
          0.16295339167118073,
          0.00016047399549279362
         ]
        },
        {
         "fill": "toself",
         "fillcolor": "rgba(0, 0, 255, 0.2)",
         "line": {
          "color": "black",
          "width": 2
         },
         "mode": "lines",
         "showlegend": false,
         "type": "scatter",
         "x": [
          1.677985429763794,
          1.9366068840026855,
          1.771650791168213,
          1.5894502401351929,
          1.677985429763794
         ],
         "y": [
          0.00016047399549279362,
          0.00018855412781704217,
          0.17057465016841888,
          0.16295339167118073,
          0.00016047399549279362
         ]
        },
        {
         "line": {
          "color": "black",
          "width": 2
         },
         "mode": "lines",
         "showlegend": false,
         "type": "scatter",
         "x": [
          1.771650791168213,
          1.7777091264724731,
          1.5371657609939575,
          1.5894502401351929,
          1.771650791168213
         ],
         "y": [
          0.17057465016841888,
          0.2957989573478699,
          0.3270001709461212,
          0.16295339167118073,
          0.17057465016841888
         ]
        },
        {
         "line": {
          "color": "black",
          "width": 2
         },
         "mode": "lines",
         "showlegend": false,
         "type": "scatter",
         "x": [
          1.9581654071807861,
          1.8069356679916382,
          1.6369144916534424,
          1.7927772998809814,
          1.9581654071807861
         ],
         "y": [
          0.480968713760376,
          0.6288296580314636,
          0.4833543598651886,
          0.4158589541912079,
          0.480968713760376
         ]
        },
        {
         "fill": "toself",
         "fillcolor": "rgba(0, 0, 255, 0.2)",
         "line": {
          "color": "black",
          "width": 2
         },
         "mode": "lines",
         "showlegend": false,
         "type": "scatter",
         "x": [
          1.9581654071807861,
          1.8069356679916382,
          1.6369144916534424,
          1.7927772998809814,
          1.9581654071807861
         ],
         "y": [
          0.480968713760376,
          0.6288296580314636,
          0.4833543598651886,
          0.4158589541912079,
          0.480968713760376
         ]
        },
        {
         "line": {
          "color": "black",
          "width": 2
         },
         "mode": "lines",
         "showlegend": false,
         "type": "scatter",
         "x": [
          1.8069356679916382,
          1.551755666732788,
          1.4259897470474243,
          1.6369144916534424,
          1.8069356679916382
         ],
         "y": [
          0.6288296580314636,
          0.7565462589263916,
          0.535866379737854,
          0.4833543598651886,
          0.6288296580314636
         ]
        },
        {
         "line": {
          "color": "black",
          "width": 2
         },
         "mode": "lines",
         "showlegend": false,
         "type": "scatter",
         "x": [
          1.4259897470474243,
          1.3543840646743774,
          1.5371657609939575,
          1.6369144916534424,
          1.4259897470474243
         ],
         "y": [
          0.535866379737854,
          0.3446437418460846,
          0.3270001709461212,
          0.4833543598651886,
          0.535866379737854
         ]
        },
        {
         "fill": "toself",
         "fillcolor": "rgba(0, 0, 255, 0.2)",
         "line": {
          "color": "black",
          "width": 2
         },
         "mode": "lines",
         "showlegend": false,
         "type": "scatter",
         "x": [
          1.4259897470474243,
          1.3543840646743774,
          1.5371657609939575,
          1.6369144916534424,
          1.4259897470474243
         ],
         "y": [
          0.535866379737854,
          0.3446437418460846,
          0.3270001709461212,
          0.4833543598651886,
          0.535866379737854
         ]
        },
        {
         "line": {
          "color": "black",
          "width": 2
         },
         "mode": "lines",
         "showlegend": false,
         "type": "scatter",
         "x": [
          1.5371657609939575,
          1.7777091264724731,
          1.7927772998809814,
          1.6369144916534424,
          1.5371657609939575
         ],
         "y": [
          0.3270001709461212,
          0.2957989573478699,
          0.4158589541912079,
          0.4833543598651886,
          0.3270001709461212
         ]
        },
        {
         "fill": "toself",
         "fillcolor": "rgba(0, 0, 255, 0.2)",
         "line": {
          "color": "black",
          "width": 2
         },
         "mode": "lines",
         "showlegend": false,
         "type": "scatter",
         "x": [
          1.5371657609939575,
          1.7777091264724731,
          1.7927772998809814,
          1.6369144916534424,
          1.5371657609939575
         ],
         "y": [
          0.3270001709461212,
          0.2957989573478699,
          0.4158589541912079,
          0.4833543598651886,
          0.3270001709461212
         ]
        },
        {
         "line": {
          "color": "black",
          "width": 2
         },
         "mode": "lines",
         "showlegend": false,
         "type": "scatter",
         "x": [
          0.2351664900779724,
          0.3566628694534302,
          0.40328821539878845,
          0.26024454832077026,
          0.2351664900779724
         ],
         "y": [
          0.16964052617549896,
          0.17079336941242218,
          0.27895694971084595,
          0.2798923850059509,
          0.16964052617549896
         ]
        },
        {
         "line": {
          "color": "black",
          "width": 2
         },
         "mode": "lines",
         "showlegend": false,
         "type": "scatter",
         "x": [
          0.3566628694534302,
          0.44784802198410034,
          0.5283551812171936,
          0.40328821539878845,
          0.3566628694534302
         ],
         "y": [
          0.17079336941242218,
          0.17369678616523743,
          0.25586000084877014,
          0.27895694971084595,
          0.17079336941242218
         ]
        },
        {
         "line": {
          "color": "black",
          "width": 2
         },
         "mode": "lines",
         "showlegend": false,
         "type": "scatter",
         "x": [
          0.5283551812171936,
          0.627141535282135,
          0.4450821578502655,
          0.40328821539878845,
          0.5283551812171936
         ],
         "y": [
          0.25586000084877014,
          0.36488497257232666,
          0.4019414782524109,
          0.27895694971084595,
          0.25586000084877014
         ]
        },
        {
         "line": {
          "color": "black",
          "width": 2
         },
         "mode": "lines",
         "showlegend": false,
         "type": "scatter",
         "x": [
          0.4450821578502655,
          0.2805204391479492,
          0.26024454832077026,
          0.40328821539878845,
          0.4450821578502655
         ],
         "y": [
          0.4019414782524109,
          0.41729649901390076,
          0.2798923850059509,
          0.27895694971084595,
          0.4019414782524109
         ]
        },
        {
         "line": {
          "color": "black",
          "width": 2
         },
         "mode": "lines",
         "showlegend": false,
         "type": "scatter",
         "x": [
          4.532685279846191,
          4.519779205322266,
          4.367013454437256,
          4.388168811798096,
          4.532685279846191
         ],
         "y": [
          0.26613542437553406,
          0.4059048891067505,
          0.49820104241371155,
          0.312896192073822,
          0.26613542437553406
         ]
        },
        {
         "fill": "toself",
         "fillcolor": "rgba(0, 0, 255, 0.2)",
         "line": {
          "color": "black",
          "width": 2
         },
         "mode": "lines",
         "showlegend": false,
         "type": "scatter",
         "x": [
          4.532685279846191,
          4.519779205322266,
          4.367013454437256,
          4.388168811798096,
          4.532685279846191
         ],
         "y": [
          0.26613542437553406,
          0.4059048891067505,
          0.49820104241371155,
          0.312896192073822,
          0.26613542437553406
         ]
        },
        {
         "line": {
          "color": "black",
          "width": 2
         },
         "mode": "lines",
         "showlegend": false,
         "type": "scatter",
         "x": [
          4.519779205322266,
          4.529269695281982,
          4.380903720855713,
          4.367013454437256,
          4.519779205322266
         ],
         "y": [
          0.4059048891067505,
          0.5404736399650574,
          0.665602445602417,
          0.49820104241371155,
          0.4059048891067505
         ]
        },
        {
         "fill": "toself",
         "fillcolor": "rgba(0, 0, 255, 0.2)",
         "line": {
          "color": "black",
          "width": 2
         },
         "mode": "lines",
         "showlegend": false,
         "type": "scatter",
         "x": [
          4.519779205322266,
          4.529269695281982,
          4.380903720855713,
          4.367013454437256,
          4.519779205322266
         ],
         "y": [
          0.4059048891067505,
          0.5404736399650574,
          0.665602445602417,
          0.49820104241371155,
          0.4059048891067505
         ]
        },
        {
         "line": {
          "color": "black",
          "width": 2
         },
         "mode": "lines",
         "showlegend": false,
         "type": "scatter",
         "x": [
          4.380903720855713,
          4.184881210327148,
          4.198951244354248,
          4.367013454437256,
          4.380903720855713
         ],
         "y": [
          0.665602445602417,
          0.8321652412414551,
          0.578764796257019,
          0.49820104241371155,
          0.665602445602417
         ]
        },
        {
         "fill": "toself",
         "fillcolor": "rgba(0, 0, 255, 0.2)",
         "line": {
          "color": "black",
          "width": 2
         },
         "mode": "lines",
         "showlegend": false,
         "type": "scatter",
         "x": [
          4.380903720855713,
          4.184881210327148,
          4.198951244354248,
          4.367013454437256,
          4.380903720855713
         ],
         "y": [
          0.665602445602417,
          0.8321652412414551,
          0.578764796257019,
          0.49820104241371155,
          0.665602445602417
         ]
        },
        {
         "line": {
          "color": "black",
          "width": 2
         },
         "mode": "lines",
         "showlegend": false,
         "type": "scatter",
         "x": [
          4.198951244354248,
          4.227769374847412,
          4.388168811798096,
          4.367013454437256,
          4.198951244354248
         ],
         "y": [
          0.578764796257019,
          0.36207443475723267,
          0.312896192073822,
          0.49820104241371155,
          0.578764796257019
         ]
        },
        {
         "fill": "toself",
         "fillcolor": "rgba(0, 0, 255, 0.2)",
         "line": {
          "color": "black",
          "width": 2
         },
         "mode": "lines",
         "showlegend": false,
         "type": "scatter",
         "x": [
          4.198951244354248,
          4.227769374847412,
          4.388168811798096,
          4.367013454437256,
          4.198951244354248
         ],
         "y": [
          0.578764796257019,
          0.36207443475723267,
          0.312896192073822,
          0.49820104241371155,
          0.578764796257019
         ]
        },
        {
         "line": {
          "color": "black",
          "width": 2
         },
         "mode": "lines",
         "showlegend": false,
         "type": "scatter",
         "x": [
          4.777948379516602,
          4.763580322265625,
          4.676713943481445,
          4.655497074127197,
          4.777948379516602
         ],
         "y": [
          0.44183599948883057,
          0.5851188898086548,
          0.5678136348724365,
          0.46665915846824646,
          0.44183599948883057
         ]
        },
        {
         "fill": "toself",
         "fillcolor": "rgba(0, 0, 255, 0.2)",
         "line": {
          "color": "black",
          "width": 2
         },
         "mode": "lines",
         "showlegend": false,
         "type": "scatter",
         "x": [
          4.777948379516602,
          4.763580322265625,
          4.676713943481445,
          4.655497074127197,
          4.777948379516602
         ],
         "y": [
          0.44183599948883057,
          0.5851188898086548,
          0.5678136348724365,
          0.46665915846824646,
          0.44183599948883057
         ]
        },
        {
         "line": {
          "color": "black",
          "width": 2
         },
         "mode": "lines",
         "showlegend": false,
         "type": "scatter",
         "x": [
          4.72461462020874,
          4.605403900146484,
          4.676713943481445,
          4.763580322265625,
          4.72461462020874
         ],
         "y": [
          0.7577979564666748,
          0.6484557390213013,
          0.5678136348724365,
          0.5851188898086548,
          0.7577979564666748
         ]
        },
        {
         "line": {
          "color": "black",
          "width": 2
         },
         "mode": "lines",
         "showlegend": false,
         "type": "scatter",
         "x": [
          4.529269695281982,
          4.655497074127197,
          4.676713943481445,
          4.605403900146484,
          4.529269695281982
         ],
         "y": [
          0.5404736399650574,
          0.46665915846824646,
          0.5678136348724365,
          0.6484557390213013,
          0.5404736399650574
         ]
        },
        {
         "line": {
          "color": "black",
          "width": 2
         },
         "mode": "lines",
         "showlegend": false,
         "type": "scatter",
         "x": [
          4.751469135284424,
          4.627870559692383,
          4.6611738204956055,
          4.750705718994141,
          4.751469135284424
         ],
         "y": [
          1.1083425283432007,
          1.0579159259796143,
          0.9445756673812866,
          0.9411253333091736,
          1.1083425283432007
         ]
        },
        {
         "line": {
          "color": "black",
          "width": 2
         },
         "mode": "lines",
         "showlegend": false,
         "type": "scatter",
         "x": [
          4.499637603759766,
          4.598024845123291,
          4.6611738204956055,
          4.627870559692383,
          4.499637603759766
         ],
         "y": [
          1.0052365064620972,
          0.8661877512931824,
          0.9445756673812866,
          1.0579159259796143,
          1.0052365064620972
         ]
        },
        {
         "line": {
          "color": "black",
          "width": 2
         },
         "mode": "lines",
         "showlegend": false,
         "type": "scatter",
         "x": [
          4.72461462020874,
          4.750705718994141,
          4.6611738204956055,
          4.598024845123291,
          4.72461462020874
         ],
         "y": [
          0.7577979564666748,
          0.9411253333091736,
          0.9445756673812866,
          0.8661877512931824,
          0.7577979564666748
         ]
        },
        {
         "fill": "toself",
         "fillcolor": "rgba(0, 0, 255, 0.2)",
         "line": {
          "color": "black",
          "width": 2
         },
         "mode": "lines",
         "showlegend": false,
         "type": "scatter",
         "x": [
          4.72461462020874,
          4.750705718994141,
          4.6611738204956055,
          4.598024845123291,
          4.72461462020874
         ],
         "y": [
          0.7577979564666748,
          0.9411253333091736,
          0.9445756673812866,
          0.8661877512931824,
          0.7577979564666748
         ]
        },
        {
         "line": {
          "color": "black",
          "width": 2
         },
         "mode": "lines",
         "showlegend": false,
         "type": "scatter",
         "x": [
          2.4818246364593506,
          2.7423744201660156,
          2.7789831161499023,
          2.6743946075439453,
          2.4818246364593506
         ],
         "y": [
          0.6158626079559326,
          0.5232980847358704,
          0.6703698039054871,
          0.7902913093566895,
          0.6158626079559326
         ]
        },
        {
         "line": {
          "color": "black",
          "width": 2
         },
         "mode": "lines",
         "showlegend": false,
         "type": "scatter",
         "x": [
          2.963808298110962,
          2.9305195808410645,
          2.7789831161499023,
          2.7423744201660156,
          2.963808298110962
         ],
         "y": [
          0.4604211151599884,
          0.6812463998794556,
          0.6703698039054871,
          0.5232980847358704,
          0.4604211151599884
         ]
        },
        {
         "line": {
          "color": "black",
          "width": 2
         },
         "mode": "lines",
         "showlegend": false,
         "type": "scatter",
         "x": [
          2.8966269493103027,
          2.6743946075439453,
          2.7789831161499023,
          2.9305195808410645,
          2.8966269493103027
         ],
         "y": [
          0.9135451912879944,
          0.7902913093566895,
          0.6703698039054871,
          0.6812463998794556,
          0.9135451912879944
         ]
        },
        {
         "fill": "toself",
         "fillcolor": "rgba(0, 0, 255, 0.2)",
         "line": {
          "color": "black",
          "width": 2
         },
         "mode": "lines",
         "showlegend": false,
         "type": "scatter",
         "x": [
          2.8966269493103027,
          2.6743946075439453,
          2.7789831161499023,
          2.9305195808410645,
          2.8966269493103027
         ],
         "y": [
          0.9135451912879944,
          0.7902913093566895,
          0.6703698039054871,
          0.6812463998794556,
          0.9135451912879944
         ]
        },
        {
         "line": {
          "color": "black",
          "width": 2
         },
         "mode": "lines",
         "showlegend": false,
         "type": "scatter",
         "x": [
          3.473403215408325,
          3.3496553897857666,
          3.4812986850738525,
          3.613842725753784,
          3.473403215408325
         ],
         "y": [
          1.1742188930511475,
          1.000938892364502,
          0.9523402452468872,
          1.0139297246932983,
          1.1742188930511475
         ]
        },
        {
         "line": {
          "color": "black",
          "width": 2
         },
         "mode": "lines",
         "showlegend": false,
         "type": "scatter",
         "x": [
          3.2980592250823975,
          3.4975550174713135,
          3.4812986850738525,
          3.3496553897857666,
          3.2980592250823975
         ],
         "y": [
          0.8300948143005371,
          0.8307721614837646,
          0.9523402452468872,
          1.000938892364502,
          0.8300948143005371
         ]
        },
        {
         "line": {
          "color": "black",
          "width": 2
         },
         "mode": "lines",
         "showlegend": false,
         "type": "scatter",
         "x": [
          3.713677167892456,
          3.613842725753784,
          3.4812986850738525,
          3.4975550174713135,
          3.713677167892456
         ],
         "y": [
          0.8393602967262268,
          1.0139297246932983,
          0.9523402452468872,
          0.8307721614837646,
          0.8393602967262268
         ]
        },
        {
         "line": {
          "color": "black",
          "width": 2
         },
         "mode": "lines",
         "showlegend": false,
         "type": "scatter",
         "x": [
          3.413848876953125,
          3.4483723640441895,
          3.6152236461639404,
          3.6525046825408936,
          3.413848876953125
         ],
         "y": [
          1.5906689167022705,
          1.3876214027404785,
          1.388878345489502,
          1.5292885303497314,
          1.5906689167022705
         ]
        },
        {
         "fill": "toself",
         "fillcolor": "rgba(0, 0, 255, 0.2)",
         "line": {
          "color": "black",
          "width": 2
         },
         "mode": "lines",
         "showlegend": false,
         "type": "scatter",
         "x": [
          3.413848876953125,
          3.4483723640441895,
          3.6152236461639404,
          3.6525046825408936,
          3.413848876953125
         ],
         "y": [
          1.5906689167022705,
          1.3876214027404785,
          1.388878345489502,
          1.5292885303497314,
          1.5906689167022705
         ]
        },
        {
         "line": {
          "color": "black",
          "width": 2
         },
         "mode": "lines",
         "showlegend": false,
         "type": "scatter",
         "x": [
          3.473403215408325,
          3.7114505767822266,
          3.6152236461639404,
          3.4483723640441895,
          3.473403215408325
         ],
         "y": [
          1.1742188930511475,
          1.2611958980560303,
          1.388878345489502,
          1.3876214027404785,
          1.1742188930511475
         ]
        },
        {
         "fill": "toself",
         "fillcolor": "rgba(0, 0, 255, 0.2)",
         "line": {
          "color": "black",
          "width": 2
         },
         "mode": "lines",
         "showlegend": false,
         "type": "scatter",
         "x": [
          3.473403215408325,
          3.7114505767822266,
          3.6152236461639404,
          3.4483723640441895,
          3.473403215408325
         ],
         "y": [
          1.1742188930511475,
          1.2611958980560303,
          1.388878345489502,
          1.3876214027404785,
          1.1742188930511475
         ]
        },
        {
         "line": {
          "color": "black",
          "width": 2
         },
         "mode": "lines",
         "showlegend": false,
         "type": "scatter",
         "x": [
          3.940859079360962,
          3.6525046825408936,
          3.6152236461639404,
          3.7114505767822266,
          3.940859079360962
         ],
         "y": [
          1.4175339937210083,
          1.5292885303497314,
          1.388878345489502,
          1.2611958980560303,
          1.4175339937210083
         ]
        },
        {
         "fill": "toself",
         "fillcolor": "rgba(0, 0, 255, 0.2)",
         "line": {
          "color": "black",
          "width": 2
         },
         "mode": "lines",
         "showlegend": false,
         "type": "scatter",
         "x": [
          3.940859079360962,
          3.6525046825408936,
          3.6152236461639404,
          3.7114505767822266,
          3.940859079360962
         ],
         "y": [
          1.4175339937210083,
          1.5292885303497314,
          1.388878345489502,
          1.2611958980560303,
          1.4175339937210083
         ]
        },
        {
         "line": {
          "color": "black",
          "width": 2
         },
         "mode": "lines",
         "showlegend": false,
         "type": "scatter",
         "x": [
          1.7777091264724731,
          1.771650791168213,
          1.9366068840026855,
          1.9901713132858276,
          1.7777091264724731
         ],
         "y": [
          0.2957989573478699,
          0.17057465016841888,
          0.00018855412781704217,
          0.276121586561203,
          0.2957989573478699
         ]
        },
        {
         "fill": "toself",
         "fillcolor": "rgba(0, 0, 255, 0.2)",
         "line": {
          "color": "black",
          "width": 2
         },
         "mode": "lines",
         "showlegend": false,
         "type": "scatter",
         "x": [
          1.7777091264724731,
          1.771650791168213,
          1.9366068840026855,
          1.9901713132858276,
          1.7777091264724731
         ],
         "y": [
          0.2957989573478699,
          0.17057465016841888,
          0.00018855412781704217,
          0.276121586561203,
          0.2957989573478699
         ]
        },
        {
         "line": {
          "color": "black",
          "width": 2
         },
         "mode": "lines",
         "showlegend": false,
         "type": "scatter",
         "x": [
          1.9901713132858276,
          1.9581654071807861,
          1.7927772998809814,
          1.7777091264724731,
          1.9901713132858276
         ],
         "y": [
          0.276121586561203,
          0.480968713760376,
          0.4158589541912079,
          0.2957989573478699,
          0.276121586561203
         ]
        },
        {
         "fill": "toself",
         "fillcolor": "rgba(0, 0, 255, 0.2)",
         "line": {
          "color": "black",
          "width": 2
         },
         "mode": "lines",
         "showlegend": false,
         "type": "scatter",
         "x": [
          1.9901713132858276,
          1.9581654071807861,
          1.7927772998809814,
          1.7777091264724731,
          1.9901713132858276
         ],
         "y": [
          0.276121586561203,
          0.480968713760376,
          0.4158589541912079,
          0.2957989573478699,
          0.276121586561203
         ]
        },
        {
         "line": {
          "color": "black",
          "width": 2
         },
         "mode": "lines",
         "showlegend": false,
         "type": "scatter",
         "x": [
          0.4665650427341461,
          0.5224918127059937,
          0.6202309727668762,
          0.6209971308708191,
          0.4665650427341461
         ],
         "y": [
          2,
          1.8436788320541382,
          1.881928563117981,
          2,
          2
         ]
        },
        {
         "fill": "toself",
         "fillcolor": "rgba(0, 0, 255, 0.2)",
         "line": {
          "color": "black",
          "width": 2
         },
         "mode": "lines",
         "showlegend": false,
         "type": "scatter",
         "x": [
          0.4665650427341461,
          0.5224918127059937,
          0.6202309727668762,
          0.6209971308708191,
          0.4665650427341461
         ],
         "y": [
          2,
          1.8436788320541382,
          1.881928563117981,
          2,
          2
         ]
        },
        {
         "line": {
          "color": "black",
          "width": 2
         },
         "mode": "lines",
         "showlegend": false,
         "type": "scatter",
         "x": [
          0.6195558905601501,
          0.7255236506462097,
          0.6202309727668762,
          0.5224918127059937,
          0.6195558905601501
         ],
         "y": [
          1.6367623805999756,
          1.8332324028015137,
          1.881928563117981,
          1.8436788320541382,
          1.6367623805999756
         ]
        },
        {
         "line": {
          "color": "black",
          "width": 2
         },
         "mode": "lines",
         "showlegend": false,
         "type": "scatter",
         "x": [
          0.7830976843833923,
          0.6209971308708191,
          0.6202309727668762,
          0.7255236506462097,
          0.7830976843833923
         ],
         "y": [
          2,
          2,
          1.881928563117981,
          1.8332324028015137,
          2
         ]
        },
        {
         "fill": "toself",
         "fillcolor": "rgba(0, 0, 255, 0.2)",
         "line": {
          "color": "black",
          "width": 2
         },
         "mode": "lines",
         "showlegend": false,
         "type": "scatter",
         "x": [
          0.7830976843833923,
          0.6209971308708191,
          0.6202309727668762,
          0.7255236506462097,
          0.7830976843833923
         ],
         "y": [
          2,
          2,
          1.881928563117981,
          1.8332324028015137,
          2
         ]
        },
        {
         "line": {
          "color": "black",
          "width": 2
         },
         "mode": "lines",
         "showlegend": false,
         "type": "scatter",
         "x": [
          0.26228660345077515,
          0.2859349250793457,
          0.3970043361186981,
          0.4134669601917267,
          0.26228660345077515
         ],
         "y": [
          1.7314345836639404,
          1.5875043869018555,
          1.5976229906082153,
          1.6992977857589722,
          1.7314345836639404
         ]
        },
        {
         "line": {
          "color": "black",
          "width": 2
         },
         "mode": "lines",
         "showlegend": false,
         "type": "scatter",
         "x": [
          0.31884118914604187,
          0.4631172716617584,
          0.3970043361186981,
          0.2859349250793457,
          0.31884118914604187
         ],
         "y": [
          1.4385032653808594,
          1.502655029296875,
          1.5976229906082153,
          1.5875043869018555,
          1.4385032653808594
         ]
        },
        {
         "fill": "toself",
         "fillcolor": "rgba(0, 0, 255, 0.2)",
         "line": {
          "color": "black",
          "width": 2
         },
         "mode": "lines",
         "showlegend": false,
         "type": "scatter",
         "x": [
          0.31884118914604187,
          0.4631172716617584,
          0.3970043361186981,
          0.2859349250793457,
          0.31884118914604187
         ],
         "y": [
          1.4385032653808594,
          1.502655029296875,
          1.5976229906082153,
          1.5875043869018555,
          1.4385032653808594
         ]
        },
        {
         "line": {
          "color": "black",
          "width": 2
         },
         "mode": "lines",
         "showlegend": false,
         "type": "scatter",
         "x": [
          0.6195558905601501,
          0.4134669601917267,
          0.3970043361186981,
          0.4631172716617584,
          0.6195558905601501
         ],
         "y": [
          1.6367623805999756,
          1.6992977857589722,
          1.5976229906082153,
          1.502655029296875,
          1.6367623805999756
         ]
        },
        {
         "fill": "toself",
         "fillcolor": "rgba(0, 0, 255, 0.2)",
         "line": {
          "color": "black",
          "width": 2
         },
         "mode": "lines",
         "showlegend": false,
         "type": "scatter",
         "x": [
          0.6195558905601501,
          0.4134669601917267,
          0.3970043361186981,
          0.4631172716617584,
          0.6195558905601501
         ],
         "y": [
          1.6367623805999756,
          1.6992977857589722,
          1.5976229906082153,
          1.502655029296875,
          1.6367623805999756
         ]
        },
        {
         "line": {
          "color": "black",
          "width": 2
         },
         "mode": "lines",
         "showlegend": false,
         "type": "scatter",
         "x": [
          0.578811764717102,
          0.5067894458770752,
          0.4058176577091217,
          0.415022075176239,
          0.578811764717102
         ],
         "y": [
          0.7186275720596313,
          0.8900513648986816,
          0.8539271354675293,
          0.730919361114502,
          0.7186275720596313
         ]
        },
        {
         "fill": "toself",
         "fillcolor": "rgba(0, 0, 255, 0.2)",
         "line": {
          "color": "black",
          "width": 2
         },
         "mode": "lines",
         "showlegend": false,
         "type": "scatter",
         "x": [
          0.578811764717102,
          0.5067894458770752,
          0.4058176577091217,
          0.415022075176239,
          0.578811764717102
         ],
         "y": [
          0.7186275720596313,
          0.8900513648986816,
          0.8539271354675293,
          0.730919361114502,
          0.7186275720596313
         ]
        },
        {
         "line": {
          "color": "black",
          "width": 2
         },
         "mode": "lines",
         "showlegend": false,
         "type": "scatter",
         "x": [
          0.39051392674446106,
          0.3024592697620392,
          0.4058176577091217,
          0.5067894458770752,
          0.39051392674446106
         ],
         "y": [
          1.07501220703125,
          0.9197574257850647,
          0.8539271354675293,
          0.8900513648986816,
          1.07501220703125
         ]
        },
        {
         "line": {
          "color": "black",
          "width": 2
         },
         "mode": "lines",
         "showlegend": false,
         "type": "scatter",
         "x": [
          0.2587893605232239,
          0.415022075176239,
          0.4058176577091217,
          0.3024592697620392,
          0.2587893605232239
         ],
         "y": [
          0.7632734775543213,
          0.730919361114502,
          0.8539271354675293,
          0.9197574257850647,
          0.7632734775543213
         ]
        },
        {
         "fill": "toself",
         "fillcolor": "rgba(0, 0, 255, 0.2)",
         "line": {
          "color": "black",
          "width": 2
         },
         "mode": "lines",
         "showlegend": false,
         "type": "scatter",
         "x": [
          0.2587893605232239,
          0.415022075176239,
          0.4058176577091217,
          0.3024592697620392,
          0.2587893605232239
         ],
         "y": [
          0.7632734775543213,
          0.730919361114502,
          0.8539271354675293,
          0.9197574257850647,
          0.7632734775543213
         ]
        },
        {
         "line": {
          "color": "green",
          "dash": "dash",
          "width": 2
         },
         "mode": "lines",
         "showlegend": false,
         "type": "scatter",
         "x": [
          0.1,
          4.9
         ],
         "y": [
          0.1,
          0.1
         ]
        },
        {
         "line": {
          "color": "green",
          "dash": "dash",
          "width": 2
         },
         "mode": "lines",
         "showlegend": false,
         "type": "scatter",
         "x": [
          0.1,
          4.9
         ],
         "y": [
          0.45999999999999996,
          0.45999999999999996
         ]
        },
        {
         "line": {
          "color": "green",
          "dash": "dash",
          "width": 2
         },
         "mode": "lines",
         "showlegend": false,
         "type": "scatter",
         "x": [
          0.1,
          4.9
         ],
         "y": [
          0.82,
          0.82
         ]
        },
        {
         "line": {
          "color": "green",
          "dash": "dash",
          "width": 2
         },
         "mode": "lines",
         "showlegend": false,
         "type": "scatter",
         "x": [
          0.1,
          4.9
         ],
         "y": [
          1.1800000000000002,
          1.1800000000000002
         ]
        },
        {
         "line": {
          "color": "green",
          "dash": "dash",
          "width": 2
         },
         "mode": "lines",
         "showlegend": false,
         "type": "scatter",
         "x": [
          0.1,
          4.9
         ],
         "y": [
          1.54,
          1.54
         ]
        },
        {
         "line": {
          "color": "green",
          "dash": "dash",
          "width": 2
         },
         "mode": "lines",
         "showlegend": false,
         "type": "scatter",
         "x": [
          0.1,
          4.9
         ],
         "y": [
          1.9,
          1.9
         ]
        },
        {
         "line": {
          "color": "green",
          "dash": "dash",
          "width": 2
         },
         "mode": "lines",
         "showlegend": false,
         "type": "scatter",
         "x": [
          0.1,
          0.1
         ],
         "y": [
          0.1,
          1.9
         ]
        },
        {
         "line": {
          "color": "green",
          "dash": "dash",
          "width": 2
         },
         "mode": "lines",
         "showlegend": false,
         "type": "scatter",
         "x": [
          1.0600000000000003,
          1.0600000000000003
         ],
         "y": [
          0.1,
          1.9
         ]
        },
        {
         "line": {
          "color": "green",
          "dash": "dash",
          "width": 2
         },
         "mode": "lines",
         "showlegend": false,
         "type": "scatter",
         "x": [
          2.0200000000000005,
          2.0200000000000005
         ],
         "y": [
          0.1,
          1.9
         ]
        },
        {
         "line": {
          "color": "green",
          "dash": "dash",
          "width": 2
         },
         "mode": "lines",
         "showlegend": false,
         "type": "scatter",
         "x": [
          2.980000000000001,
          2.980000000000001
         ],
         "y": [
          0.1,
          1.9
         ]
        },
        {
         "line": {
          "color": "green",
          "dash": "dash",
          "width": 2
         },
         "mode": "lines",
         "showlegend": false,
         "type": "scatter",
         "x": [
          3.940000000000001,
          3.940000000000001
         ],
         "y": [
          0.1,
          1.9
         ]
        },
        {
         "line": {
          "color": "green",
          "dash": "dash",
          "width": 2
         },
         "mode": "lines",
         "showlegend": false,
         "type": "scatter",
         "x": [
          4.9,
          4.9
         ],
         "y": [
          0.1,
          1.9
         ]
        }
       ],
       "layout": {
        "autosize": true,
        "showlegend": false,
        "template": {
         "data": {
          "bar": [
           {
            "error_x": {
             "color": "#2a3f5f"
            },
            "error_y": {
             "color": "#2a3f5f"
            },
            "marker": {
             "line": {
              "color": "#E5ECF6",
              "width": 0.5
             },
             "pattern": {
              "fillmode": "overlay",
              "size": 10,
              "solidity": 0.2
             }
            },
            "type": "bar"
           }
          ],
          "barpolar": [
           {
            "marker": {
             "line": {
              "color": "#E5ECF6",
              "width": 0.5
             },
             "pattern": {
              "fillmode": "overlay",
              "size": 10,
              "solidity": 0.2
             }
            },
            "type": "barpolar"
           }
          ],
          "carpet": [
           {
            "aaxis": {
             "endlinecolor": "#2a3f5f",
             "gridcolor": "white",
             "linecolor": "white",
             "minorgridcolor": "white",
             "startlinecolor": "#2a3f5f"
            },
            "baxis": {
             "endlinecolor": "#2a3f5f",
             "gridcolor": "white",
             "linecolor": "white",
             "minorgridcolor": "white",
             "startlinecolor": "#2a3f5f"
            },
            "type": "carpet"
           }
          ],
          "choropleth": [
           {
            "colorbar": {
             "outlinewidth": 0,
             "ticks": ""
            },
            "type": "choropleth"
           }
          ],
          "contour": [
           {
            "colorbar": {
             "outlinewidth": 0,
             "ticks": ""
            },
            "colorscale": [
             [
              0,
              "#0d0887"
             ],
             [
              0.1111111111111111,
              "#46039f"
             ],
             [
              0.2222222222222222,
              "#7201a8"
             ],
             [
              0.3333333333333333,
              "#9c179e"
             ],
             [
              0.4444444444444444,
              "#bd3786"
             ],
             [
              0.5555555555555556,
              "#d8576b"
             ],
             [
              0.6666666666666666,
              "#ed7953"
             ],
             [
              0.7777777777777778,
              "#fb9f3a"
             ],
             [
              0.8888888888888888,
              "#fdca26"
             ],
             [
              1,
              "#f0f921"
             ]
            ],
            "type": "contour"
           }
          ],
          "contourcarpet": [
           {
            "colorbar": {
             "outlinewidth": 0,
             "ticks": ""
            },
            "type": "contourcarpet"
           }
          ],
          "heatmap": [
           {
            "colorbar": {
             "outlinewidth": 0,
             "ticks": ""
            },
            "colorscale": [
             [
              0,
              "#0d0887"
             ],
             [
              0.1111111111111111,
              "#46039f"
             ],
             [
              0.2222222222222222,
              "#7201a8"
             ],
             [
              0.3333333333333333,
              "#9c179e"
             ],
             [
              0.4444444444444444,
              "#bd3786"
             ],
             [
              0.5555555555555556,
              "#d8576b"
             ],
             [
              0.6666666666666666,
              "#ed7953"
             ],
             [
              0.7777777777777778,
              "#fb9f3a"
             ],
             [
              0.8888888888888888,
              "#fdca26"
             ],
             [
              1,
              "#f0f921"
             ]
            ],
            "type": "heatmap"
           }
          ],
          "heatmapgl": [
           {
            "colorbar": {
             "outlinewidth": 0,
             "ticks": ""
            },
            "colorscale": [
             [
              0,
              "#0d0887"
             ],
             [
              0.1111111111111111,
              "#46039f"
             ],
             [
              0.2222222222222222,
              "#7201a8"
             ],
             [
              0.3333333333333333,
              "#9c179e"
             ],
             [
              0.4444444444444444,
              "#bd3786"
             ],
             [
              0.5555555555555556,
              "#d8576b"
             ],
             [
              0.6666666666666666,
              "#ed7953"
             ],
             [
              0.7777777777777778,
              "#fb9f3a"
             ],
             [
              0.8888888888888888,
              "#fdca26"
             ],
             [
              1,
              "#f0f921"
             ]
            ],
            "type": "heatmapgl"
           }
          ],
          "histogram": [
           {
            "marker": {
             "pattern": {
              "fillmode": "overlay",
              "size": 10,
              "solidity": 0.2
             }
            },
            "type": "histogram"
           }
          ],
          "histogram2d": [
           {
            "colorbar": {
             "outlinewidth": 0,
             "ticks": ""
            },
            "colorscale": [
             [
              0,
              "#0d0887"
             ],
             [
              0.1111111111111111,
              "#46039f"
             ],
             [
              0.2222222222222222,
              "#7201a8"
             ],
             [
              0.3333333333333333,
              "#9c179e"
             ],
             [
              0.4444444444444444,
              "#bd3786"
             ],
             [
              0.5555555555555556,
              "#d8576b"
             ],
             [
              0.6666666666666666,
              "#ed7953"
             ],
             [
              0.7777777777777778,
              "#fb9f3a"
             ],
             [
              0.8888888888888888,
              "#fdca26"
             ],
             [
              1,
              "#f0f921"
             ]
            ],
            "type": "histogram2d"
           }
          ],
          "histogram2dcontour": [
           {
            "colorbar": {
             "outlinewidth": 0,
             "ticks": ""
            },
            "colorscale": [
             [
              0,
              "#0d0887"
             ],
             [
              0.1111111111111111,
              "#46039f"
             ],
             [
              0.2222222222222222,
              "#7201a8"
             ],
             [
              0.3333333333333333,
              "#9c179e"
             ],
             [
              0.4444444444444444,
              "#bd3786"
             ],
             [
              0.5555555555555556,
              "#d8576b"
             ],
             [
              0.6666666666666666,
              "#ed7953"
             ],
             [
              0.7777777777777778,
              "#fb9f3a"
             ],
             [
              0.8888888888888888,
              "#fdca26"
             ],
             [
              1,
              "#f0f921"
             ]
            ],
            "type": "histogram2dcontour"
           }
          ],
          "mesh3d": [
           {
            "colorbar": {
             "outlinewidth": 0,
             "ticks": ""
            },
            "type": "mesh3d"
           }
          ],
          "parcoords": [
           {
            "line": {
             "colorbar": {
              "outlinewidth": 0,
              "ticks": ""
             }
            },
            "type": "parcoords"
           }
          ],
          "pie": [
           {
            "automargin": true,
            "type": "pie"
           }
          ],
          "scatter": [
           {
            "fillpattern": {
             "fillmode": "overlay",
             "size": 10,
             "solidity": 0.2
            },
            "type": "scatter"
           }
          ],
          "scatter3d": [
           {
            "line": {
             "colorbar": {
              "outlinewidth": 0,
              "ticks": ""
             }
            },
            "marker": {
             "colorbar": {
              "outlinewidth": 0,
              "ticks": ""
             }
            },
            "type": "scatter3d"
           }
          ],
          "scattercarpet": [
           {
            "marker": {
             "colorbar": {
              "outlinewidth": 0,
              "ticks": ""
             }
            },
            "type": "scattercarpet"
           }
          ],
          "scattergeo": [
           {
            "marker": {
             "colorbar": {
              "outlinewidth": 0,
              "ticks": ""
             }
            },
            "type": "scattergeo"
           }
          ],
          "scattergl": [
           {
            "marker": {
             "colorbar": {
              "outlinewidth": 0,
              "ticks": ""
             }
            },
            "type": "scattergl"
           }
          ],
          "scattermapbox": [
           {
            "marker": {
             "colorbar": {
              "outlinewidth": 0,
              "ticks": ""
             }
            },
            "type": "scattermapbox"
           }
          ],
          "scatterpolar": [
           {
            "marker": {
             "colorbar": {
              "outlinewidth": 0,
              "ticks": ""
             }
            },
            "type": "scatterpolar"
           }
          ],
          "scatterpolargl": [
           {
            "marker": {
             "colorbar": {
              "outlinewidth": 0,
              "ticks": ""
             }
            },
            "type": "scatterpolargl"
           }
          ],
          "scatterternary": [
           {
            "marker": {
             "colorbar": {
              "outlinewidth": 0,
              "ticks": ""
             }
            },
            "type": "scatterternary"
           }
          ],
          "surface": [
           {
            "colorbar": {
             "outlinewidth": 0,
             "ticks": ""
            },
            "colorscale": [
             [
              0,
              "#0d0887"
             ],
             [
              0.1111111111111111,
              "#46039f"
             ],
             [
              0.2222222222222222,
              "#7201a8"
             ],
             [
              0.3333333333333333,
              "#9c179e"
             ],
             [
              0.4444444444444444,
              "#bd3786"
             ],
             [
              0.5555555555555556,
              "#d8576b"
             ],
             [
              0.6666666666666666,
              "#ed7953"
             ],
             [
              0.7777777777777778,
              "#fb9f3a"
             ],
             [
              0.8888888888888888,
              "#fdca26"
             ],
             [
              1,
              "#f0f921"
             ]
            ],
            "type": "surface"
           }
          ],
          "table": [
           {
            "cells": {
             "fill": {
              "color": "#EBF0F8"
             },
             "line": {
              "color": "white"
             }
            },
            "header": {
             "fill": {
              "color": "#C8D4E3"
             },
             "line": {
              "color": "white"
             }
            },
            "type": "table"
           }
          ]
         },
         "layout": {
          "annotationdefaults": {
           "arrowcolor": "#2a3f5f",
           "arrowhead": 0,
           "arrowwidth": 1
          },
          "autotypenumbers": "strict",
          "coloraxis": {
           "colorbar": {
            "outlinewidth": 0,
            "ticks": ""
           }
          },
          "colorscale": {
           "diverging": [
            [
             0,
             "#8e0152"
            ],
            [
             0.1,
             "#c51b7d"
            ],
            [
             0.2,
             "#de77ae"
            ],
            [
             0.3,
             "#f1b6da"
            ],
            [
             0.4,
             "#fde0ef"
            ],
            [
             0.5,
             "#f7f7f7"
            ],
            [
             0.6,
             "#e6f5d0"
            ],
            [
             0.7,
             "#b8e186"
            ],
            [
             0.8,
             "#7fbc41"
            ],
            [
             0.9,
             "#4d9221"
            ],
            [
             1,
             "#276419"
            ]
           ],
           "sequential": [
            [
             0,
             "#0d0887"
            ],
            [
             0.1111111111111111,
             "#46039f"
            ],
            [
             0.2222222222222222,
             "#7201a8"
            ],
            [
             0.3333333333333333,
             "#9c179e"
            ],
            [
             0.4444444444444444,
             "#bd3786"
            ],
            [
             0.5555555555555556,
             "#d8576b"
            ],
            [
             0.6666666666666666,
             "#ed7953"
            ],
            [
             0.7777777777777778,
             "#fb9f3a"
            ],
            [
             0.8888888888888888,
             "#fdca26"
            ],
            [
             1,
             "#f0f921"
            ]
           ],
           "sequentialminus": [
            [
             0,
             "#0d0887"
            ],
            [
             0.1111111111111111,
             "#46039f"
            ],
            [
             0.2222222222222222,
             "#7201a8"
            ],
            [
             0.3333333333333333,
             "#9c179e"
            ],
            [
             0.4444444444444444,
             "#bd3786"
            ],
            [
             0.5555555555555556,
             "#d8576b"
            ],
            [
             0.6666666666666666,
             "#ed7953"
            ],
            [
             0.7777777777777778,
             "#fb9f3a"
            ],
            [
             0.8888888888888888,
             "#fdca26"
            ],
            [
             1,
             "#f0f921"
            ]
           ]
          },
          "colorway": [
           "#636efa",
           "#EF553B",
           "#00cc96",
           "#ab63fa",
           "#FFA15A",
           "#19d3f3",
           "#FF6692",
           "#B6E880",
           "#FF97FF",
           "#FECB52"
          ],
          "font": {
           "color": "#2a3f5f"
          },
          "geo": {
           "bgcolor": "white",
           "lakecolor": "white",
           "landcolor": "#E5ECF6",
           "showlakes": true,
           "showland": true,
           "subunitcolor": "white"
          },
          "hoverlabel": {
           "align": "left"
          },
          "hovermode": "closest",
          "mapbox": {
           "style": "light"
          },
          "paper_bgcolor": "white",
          "plot_bgcolor": "#E5ECF6",
          "polar": {
           "angularaxis": {
            "gridcolor": "white",
            "linecolor": "white",
            "ticks": ""
           },
           "bgcolor": "#E5ECF6",
           "radialaxis": {
            "gridcolor": "white",
            "linecolor": "white",
            "ticks": ""
           }
          },
          "scene": {
           "xaxis": {
            "backgroundcolor": "#E5ECF6",
            "gridcolor": "white",
            "gridwidth": 2,
            "linecolor": "white",
            "showbackground": true,
            "ticks": "",
            "zerolinecolor": "white"
           },
           "yaxis": {
            "backgroundcolor": "#E5ECF6",
            "gridcolor": "white",
            "gridwidth": 2,
            "linecolor": "white",
            "showbackground": true,
            "ticks": "",
            "zerolinecolor": "white"
           },
           "zaxis": {
            "backgroundcolor": "#E5ECF6",
            "gridcolor": "white",
            "gridwidth": 2,
            "linecolor": "white",
            "showbackground": true,
            "ticks": "",
            "zerolinecolor": "white"
           }
          },
          "shapedefaults": {
           "line": {
            "color": "#2a3f5f"
           }
          },
          "ternary": {
           "aaxis": {
            "gridcolor": "white",
            "linecolor": "white",
            "ticks": ""
           },
           "baxis": {
            "gridcolor": "white",
            "linecolor": "white",
            "ticks": ""
           },
           "bgcolor": "#E5ECF6",
           "caxis": {
            "gridcolor": "white",
            "linecolor": "white",
            "ticks": ""
           }
          },
          "title": {
           "x": 0.05
          },
          "xaxis": {
           "automargin": true,
           "gridcolor": "white",
           "linecolor": "white",
           "ticks": "",
           "title": {
            "standoff": 15
           },
           "zerolinecolor": "white",
           "zerolinewidth": 2
          },
          "yaxis": {
           "automargin": true,
           "gridcolor": "white",
           "linecolor": "white",
           "ticks": "",
           "title": {
            "standoff": 15
           },
           "zerolinecolor": "white",
           "zerolinewidth": 2
          }
         }
        },
        "title": {
         "text": "Structure with Hachured Elements and Tirants"
        },
        "xaxis": {
         "scaleanchor": "y",
         "scaleratio": 1,
         "title": {
          "text": "X"
         }
        },
        "yaxis": {
         "scaleanchor": "x",
         "scaleratio": 1,
         "title": {
          "text": "Y"
         }
        }
       }
      }
     },
     "metadata": {},
     "output_type": "display_data"
    }
   ],
   "source": [
    "# Fonction pour vérifier si un tirant traverse un élément du maillage\n",
    "def find_elements_crossed_by_tirant_optimized(tirant, node_coords, elements, tol=0.01): \n",
    "    \"\"\"\n",
    "    Retourne les éléments du maillage traversés par un tirant, avec optimisation par filtrage spatial.\n",
    "    \n",
    "    :param tirant: Tuple de deux points (x1, y1), (x2, y2) représentant un tirant\n",
    "    :param node_coords: Dictionnaire des coordonnées des nœuds\n",
    "    :param elements: Liste des éléments du maillage, chaque élément est une liste de nœuds\n",
    "    :param tol: Tolérance ajoutée autour du tirant pour la boîte de filtrage spatiale\n",
    "    :return: Liste des éléments (quadrilatères) traversés par le tirant\n",
    "    \"\"\"\n",
    "    tirant_line = LineString([tirant[0], tirant[1]])\n",
    "    min_x, min_y, max_x, max_y = tirant_line.bounds\n",
    "    bounding_box = box(min_x - tol, min_y - tol, max_x + tol, max_y + tol)\n",
    "\n",
    "    crossed_elements = []\n",
    "\n",
    "    for element in elements:\n",
    "        quad_coords = np.array([node_coords[node] for node in element])\n",
    "        quad_polygon = Polygon(quad_coords)\n",
    "\n",
    "        if bounding_box.intersects(quad_polygon):\n",
    "            if tirant_line.intersects(quad_polygon):\n",
    "                crossed_elements.append(tuple(element))  # Ajout de l'élément traversé\n",
    "\n",
    "    return crossed_elements\n",
    "\n",
    "# Fonction pour tracer la structure, hachurer les éléments traversés, et afficher les tirants\n",
    "\n",
    "# Fonction pour tracer la structure, hachurer les éléments traversés, et afficher les tirants\n",
    "def plot_structure_with_hachured_elements(file_path, crossed_elements, tirants, view_axis='xy'):\n",
    "    \"\"\"\n",
    "    Trace la structure, hachure les éléments traversés en bleu, et affiche les tirants.\n",
    "    \n",
    "    :param file_path: Chemin vers le fichier CDB\n",
    "    :param crossed_elements: Liste des éléments traversés\n",
    "    :param tirants: Liste des tirants (lignes vertes)\n",
    "    :param view_axis: Plan de visualisation ('xy', 'xz', 'yz')\n",
    "    \"\"\"\n",
    "    # Ouverture de la base de données CDB\n",
    "    cdbStat, Index = open_cdb(file_path)\n",
    "\n",
    "    # Extraction des coordonnées des nœuds\n",
    "    node_coords = extract_node_coords(Index)\n",
    "\n",
    "    # Extraction des éléments quadrilatéraux\n",
    "    elements,_ = extract_quad_elements(Index)\n",
    "\n",
    "    # Fermeture de la base de données CDB\n",
    "    close_cdb(cdbStat, Index)\n",
    "\n",
    "    # Création d'une figure plotly\n",
    "    fig = go.Figure()\n",
    "\n",
    "    # Définir les axes en fonction de la vue choisie\n",
    "    axis_map = {'xy': (0, 1), 'xz': (0, 2), 'yz': (1, 2)}\n",
    "    ax1, ax2 = axis_map.get(view_axis, (0, 1))\n",
    "\n",
    "    crossed_elements_set = set(crossed_elements)  # Utiliser un set pour accélérer la recherche\n",
    "\n",
    "    # Tracer le maillage avec arêtes noires et hachurer les éléments traversés\n",
    "    for element in elements:\n",
    "        quad_coords = np.array([node_coords[node] for node in element])\n",
    "        quad_coords = np.vstack([quad_coords, quad_coords[0]])  # Fermer le quadrilatère\n",
    "        x_coords = quad_coords[:, ax1]\n",
    "        y_coords = quad_coords[:, ax2]\n",
    "\n",
    "        # Tracer les arêtes en noir\n",
    "        fig.add_trace(go.Scatter(\n",
    "            x=x_coords, y=y_coords, mode='lines',\n",
    "            line=dict(color='black', width=2),\n",
    "            showlegend=False\n",
    "        ))\n",
    "\n",
    "        # Si l'élément est traversé, le hachurer en bleu\n",
    "        if tuple(element) in crossed_elements_set:\n",
    "            # Remplir l'élément avec une couleur translucide bleue\n",
    "            fig.add_trace(go.Scatter(\n",
    "                x=x_coords, y=y_coords, mode='lines', fill='toself',\n",
    "                fillcolor='rgba(0, 0, 255, 0.2)',  # Bleu translucide\n",
    "                line=dict(color='black', width=2),\n",
    "                showlegend=False\n",
    "            ))\n",
    "\n",
    "    # Ajouter les tirants verts à la figure\n",
    "    for tirant in tirants:\n",
    "        tirant_coords = np.array(tirant)\n",
    "        x_tirant = tirant_coords[:, ax1]\n",
    "        y_tirant = tirant_coords[:, ax2]\n",
    "\n",
    "        fig.add_trace(go.Scatter(\n",
    "            x=x_tirant, y=y_tirant, mode='lines',\n",
    "            line=dict(color='green', width=2, dash='dash'),\n",
    "            showlegend=False\n",
    "        ))\n",
    "\n",
    "    # Configuration du layout pour interactivité\n",
    "    fig.update_layout(\n",
    "        title=\"Structure with Hachured Elements and Tirants\",\n",
    "        xaxis_title='X',\n",
    "        yaxis_title='Y',\n",
    "        xaxis=dict(scaleanchor=\"y\", scaleratio=1),\n",
    "        yaxis=dict(scaleanchor=\"x\", scaleratio=1),\n",
    "        showlegend=False,\n",
    "        autosize=True,\n",
    "    )\n",
    "\n",
    "    # Affichage interactif\n",
    "    fig.show()\n",
    "\n",
    "# Exemple d'utilisation\n",
    "file_path = r\"sofistik_cdb\\b.cdb\"\n",
    "fig,tirants = plot_structure_with_tirants(file_path, view_axis='xy', n=5, m=5)\n",
    "\n",
    "cdbStat, Index = open_cdb(file_path)\n",
    "node_coords = extract_node_coords(Index)\n",
    "elements,_ = extract_quad_elements(Index)\n",
    "close_cdb(cdbStat, Index)\n",
    "\n",
    "# Trouver les éléments traversés\n",
    "all_crossed_elements = []\n",
    "for tirant in tirants:\n",
    "    crossed_elements = find_elements_crossed_by_tirant_optimized(tirant, node_coords, elements)\n",
    "    all_crossed_elements.extend(crossed_elements)\n",
    "\n",
    "all_crossed_elements = list(set(all_crossed_elements))  # Éliminer les doublons\n",
    "\n",
    "# Tracer la structure avec les éléments traversés hachurés en bleu et les tirants verts\n",
    "plot_structure_with_hachured_elements(file_path, all_crossed_elements, tirants, view_axis='xy')\n"
   ]
  },
  {
   "cell_type": "markdown",
   "metadata": {},
   "source": [
    "## IV. Optimiser les tirants"
   ]
  }
 ],
 "metadata": {
  "kernelspec": {
   "display_name": "Python 3",
   "language": "python",
   "name": "python3"
  },
  "language_info": {
   "codemirror_mode": {
    "name": "ipython",
    "version": 3
   },
   "file_extension": ".py",
   "mimetype": "text/x-python",
   "name": "python",
   "nbconvert_exporter": "python",
   "pygments_lexer": "ipython3",
   "version": "3.11.9"
  }
 },
 "nbformat": 4,
 "nbformat_minor": 2
}
