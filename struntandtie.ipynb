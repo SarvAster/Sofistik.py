²²²{
 "cells": [
  {
   "cell_type": "markdown",
   "metadata": {},
   "source": [
    "## Strunt and Tie generation using Sofistik"
   ]
  },
  {
   "cell_type": "markdown",
   "metadata": {},
   "source": [
    "### I. Connection to the CDB"
   ]
  },
  {
   "cell_type": "markdown",
   "metadata": {},
   "source": [
    "Use Sofistik library : https://docs.sofistik.com/2024/en/cdb_interfaces/python/examples/python_example1.html"
   ]
  },
  {
   "cell_type": "code",
   "execution_count": 1,
   "metadata": {},
   "outputs": [
    {
     "name": "stdout",
     "output_type": "stream",
     "text": [
      "The path variable= c:\\Users\\Utilisateur\\AppData\\Local\\Microsoft\\WindowsApps;c:\\Users\\Utilisateur\\AppData\\Local\\Packages\\PythonSoftwareFoundation.Python.3.11_qbz5n2kfra8p0\\LocalCache\\local-packages\\Python311\\Scripts;C:\\windows\\system32;C:\\windows;C:\\windows\\System32\\Wbem;C:\\windows\\System32\\WindowsPowerShell\\v1.0\\;C:\\windows\\System32\\OpenSSH\\;C:\\Program Files (x86)\\NVIDIA Corporation\\PhysX\\Common;C:\\Program Files\\NVIDIA Corporation\\NVIDIA NvDLISR;C:\\Program Files\\dotnet\\;C:\\WINDOWS\\system32;C:\\WINDOWS;C:\\WINDOWS\\System32\\Wbem;C:\\WINDOWS\\System32\\WindowsPowerShell\\v1.0\\;C:\\WINDOWS\\System32\\OpenSSH\\;C:\\Program Files\\Git\\cmd;C:\\Users\\Utilisateur\\AppData\\Local\\Microsoft\\WindowsApps;C:\\Users\\Utilisateur\\AppData\\Local\\Programs\\Microsoft VS Code\\bin;C:\\Users\\Utilisateur\\AppData\\Local\\GitHubDesktop\\bin;C:\\windows\\system32;C:\\windows;C:\\windows\\System32\\Wbem;C:\\windows\\System32\\WindowsPowerShell\\v1.0\\;C:\\windows\\System32\\OpenSSH\\;C:\\Program Files (x86)\\NVIDIA Corporation\\PhysX\\Common;C:\\Program Files\\NVIDIA Corporation\\NVIDIA NvDLISR;C:\\Program Files\\dotnet\\;C:\\WINDOWS\\system32;C:\\WINDOWS;C:\\WINDOWS\\System32\\Wbem;C:\\WINDOWS\\System32\\WindowsPowerShell\\v1.0\\;C:\\WINDOWS\\System32\\OpenSSH\\;C:\\Program Files\\Git\\cmd;C:\\Users\\Utilisateur\\AppData\\Local\\Microsoft\\WindowsApps;C:\\Users\\Utilisateur\\AppData\\Local\\Programs\\Microsoft VS Code\\bin;C:\\Users\\Utilisateur\\AppData\\Local\\GitHubDesktop\\bin\n",
      "Python architecture= ('64bit', 'WindowsPE')\n",
      "Hint: 64bit DLLs are used\n",
      "CDB Status: 1\n",
      "CDB closed successfully, status = 0\n"
     ]
    }
   ],
   "source": [
    "# +============================================================================+\n",
    "# | Company:   SOFiSTiK AG                                                     |\n",
    "# | Version:   SOFiSTIK 2024                                                   |\n",
    "# +============================================================================+\n",
    "\n",
    "import os               # for the environment variable necessary, this is a great tool\n",
    "import platform         # checks the python platform\n",
    "import string\n",
    "from ctypes import *    # read the functions from the cdb\n",
    "\n",
    "# This example has been tested with Python 3.7 (64-bit)\n",
    "print (\"The path variable=\", os.environ[\"Path\"])\n",
    "\n",
    "# Check the python platform (32bit or 64bit)\n",
    "print (\"Python architecture=\", platform.architecture())\n",
    "sofPlatform = str(platform.architecture())\n",
    "\n",
    "# Get the DLLs (32bit or 64bit DLL)\n",
    "if sofPlatform.find(\"32Bit\") < 0:\n",
    "    # Set environment variable for the dll files\n",
    "    print (\"Hint: 64bit DLLs are used\")\n",
    "\n",
    "    # Set DLL dir path - new in PY 3.8 for ctypes\n",
    "    # See: https://docs.python.org/3/whatsnew/3.8.html#ctypes\n",
    "    os.add_dll_directory(r\"C:\\Program Files\\SOFiSTiK\\2024\\SOFiSTiK 2024\\interfaces\\64bit\")\n",
    "    os.add_dll_directory(r\"C:\\Program Files\\SOFiSTiK\\2024\\SOFiSTiK 2024\")\n",
    "\n",
    "    # Get the DLL functions\n",
    "    myDLL = cdll.LoadLibrary(\"sof_cdb_w-2024.dll\")\n",
    "    py_sof_cdb_get = cdll.LoadLibrary(\"sof_cdb_w-2024.dll\").sof_cdb_get\n",
    "    py_sof_cdb_get.restype = c_int\n",
    "\n",
    "    py_sof_cdb_kenq = cdll.LoadLibrary(\"sof_cdb_w-2024.dll\").sof_cdb_kenq_ex\n",
    "else:\n",
    "    # Set environment variable for the DLL files\n",
    "    print (\"Hint: 32bit DLLs are used\")\n",
    "\n",
    "    # Set DLL dir path - new in PY 3.8 for ctypes\n",
    "    # See: https://docs.python.org/3/whatsnew/3.8.html#ctypes\n",
    "    os.add_dll_directory(r\"C:\\Program Files\\SOFiSTiK\\2024\\SOFiSTiK 2024\\interfaces\\32bit\")\n",
    "    os.add_dll_directory(r\"C:\\Program Files\\SOFiSTiK\\2024\\SOFiSTiK 2024\")\n",
    "\n",
    "    # Get the DLL functions\n",
    "    myDLL = cdll.LoadLibrary(\"cdb_w31.dll\")\n",
    "    py_sof_cdb_get = cdll.LoadLibrary(\"cdb_w31.dll\").sof_cdb_get\n",
    "    py_sof_cdb_get.restype = c_int\n",
    "\n",
    "    py_sof_cdb_kenq = cdll.LoadLibrary(\"cdb_w31.dll\").sof_cdb_kenq_ex\n",
    "\n",
    "# Connect to CDB\n",
    "Index = c_int()\n",
    "cdbIndex = 99\n",
    "\n",
    "# input the cdb path here\n",
    "fileName = r\"C:\\Users\\Côme Delecourt\\Desktop\\TESTS\\Sophistik\\tunneltest.cdb\"\n",
    "\n",
    "# important: Unicode call!\n",
    "Index.value = myDLL.sof_cdb_init(fileName.encode('utf8'), cdbIndex)\n",
    "\n",
    "# get the CDB status\n",
    "cdbStat = c_int()\n",
    "cdbStat.value = myDLL.sof_cdb_status(Index.value)\n",
    "\n",
    "# Print the Status of the CDB\n",
    "print (\"CDB Status:\", cdbStat.value)\n",
    "\n",
    "# Close the CDB, 0 - will close all the files\n",
    "myDLL.sof_cdb_close(0)\n",
    "\n",
    "# Print again the status of the CDB, if status = 0 -> CDB Closed successfully\n",
    "cdbStat.value = myDLL.sof_cdb_status(Index.value)\n",
    "if cdbStat.value == 0:\n",
    "    print (\"CDB closed successfully, status = 0\")"
   ]
  },
  {
   "cell_type": "code",
   "execution_count": null,
   "metadata": {},
   "outputs": [],
   "source": []
  }
 ],
 "metadata": {
  "kernelspec": {
   "display_name": "Python 3",
   "language": "python",
   "name": "python3"
  },
  "language_info": {
   "codemirror_mode": {
    "name": "ipython",
    "version": 3
   },
   "file_extension": ".py",
   "mimetype": "text/x-python",
   "name": "python",
   "nbconvert_exporter": "python",
   "pygments_lexer": "ipython3",
   "version": "3.11.9"
  }
 },
 "nbformat": 4,
 "nbformat_minor": 2
}
